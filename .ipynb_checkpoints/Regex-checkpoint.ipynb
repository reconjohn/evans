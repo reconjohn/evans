{
 "cells": [
  {
   "cell_type": "code",
   "execution_count": 6,
   "metadata": {},
   "outputs": [
    {
     "name": "stdout",
     "output_type": "stream",
     "text": [
      "YES! We have a match!\n"
     ]
    }
   ],
   "source": [
    "import re\n",
    "\n",
    "txt = \"The rain in Spain\"\n",
    "x = re.search(\"^The.*Spain$\", txt)\n",
    "\n",
    "if (x):\n",
    "  print(\"YES! We have a match!\")\n",
    "else:\n",
    "  print(\"No match\")"
   ]
  },
  {
   "cell_type": "code",
   "execution_count": 3,
   "metadata": {},
   "outputs": [
    {
     "name": "stdout",
     "output_type": "stream",
     "text": [
      "['h', 'e', 'a', 'i', 'i', 'a', 'i']\n"
     ]
    }
   ],
   "source": [
    "str = \"The rain in Spain\"\n",
    "\n",
    "#Find all lower case characters alphabetically between \"a\" and \"m\":\n",
    "\n",
    "x = re.findall(\"[a-m]\", str)\n",
    "print(x)"
   ]
  },
  {
   "cell_type": "code",
   "execution_count": 4,
   "metadata": {},
   "outputs": [
    {
     "name": "stdout",
     "output_type": "stream",
     "text": [
      "['5', '9']\n"
     ]
    }
   ],
   "source": [
    "str = \"That will be 59 dollars\"\n",
    "\n",
    "#Find all digit characters:\n",
    "\n",
    "x = re.findall(\"\\d\", str)\n",
    "print(x)"
   ]
  },
  {
   "cell_type": "code",
   "execution_count": 8,
   "metadata": {},
   "outputs": [
    {
     "name": "stdout",
     "output_type": "stream",
     "text": [
      "['hello']\n"
     ]
    }
   ],
   "source": [
    "str = \"hello world\"\n",
    "\n",
    "#Search for a sequence that starts with \"he\", followed by two (any) characters, and an \"o\":\n",
    "\n",
    "x = re.findall(\"he..o\", str)\n",
    "print(x)"
   ]
  },
  {
   "cell_type": "code",
   "execution_count": 9,
   "metadata": {},
   "outputs": [
    {
     "name": "stdout",
     "output_type": "stream",
     "text": [
      "['ai', 'ai', 'ai', 'ai']\n",
      "Yes, there is at least one match!\n"
     ]
    }
   ],
   "source": [
    "str = \"The rain in Spain falls mainly in the plain!\"\n",
    "\n",
    "#Check if the string contains \"ai\" followed by 0 or more \"x\" characters:\n",
    "\n",
    "x = re.findall(\"aix*\", str)\n",
    "\n",
    "print(x)\n",
    "\n",
    "if (x):\n",
    "  print(\"Yes, there is at least one match!\")\n",
    "else:\n",
    "  print(\"No match\")\n"
   ]
  },
  {
   "cell_type": "code",
   "execution_count": 10,
   "metadata": {},
   "outputs": [
    {
     "name": "stdout",
     "output_type": "stream",
     "text": [
      "[]\n",
      "No match\n"
     ]
    }
   ],
   "source": [
    "str = \"The rain in Spain falls mainly in the plain!\"\n",
    "\n",
    "#Check if the string contains \"ai\" followed by 1 or more \"x\" characters:\n",
    "\n",
    "x = re.findall(\"aix+\", str)\n",
    "\n",
    "print(x)\n",
    "\n",
    "if (x):\n",
    "  print(\"Yes, there is at least one match!\")\n",
    "else:\n",
    "  print(\"No match\")"
   ]
  },
  {
   "cell_type": "code",
   "execution_count": 11,
   "metadata": {},
   "outputs": [
    {
     "name": "stdout",
     "output_type": "stream",
     "text": [
      "['all']\n",
      "Yes, there is at least one match!\n"
     ]
    }
   ],
   "source": [
    "str = \"The rain in Spain falls mainly in the plain!\"\n",
    "\n",
    "#Check if the string contains \"a\" followed by exactly two \"l\" characters:\n",
    "\n",
    "x = re.findall(\"al{2}\", str)\n",
    "\n",
    "print(x)\n",
    "\n",
    "if (x):\n",
    "  print(\"Yes, there is at least one match!\")\n",
    "else:\n",
    "  print(\"No match\")"
   ]
  },
  {
   "cell_type": "code",
   "execution_count": 12,
   "metadata": {},
   "outputs": [
    {
     "name": "stdout",
     "output_type": "stream",
     "text": [
      "['falls']\n",
      "Yes, there is at least one match!\n"
     ]
    }
   ],
   "source": [
    "str = \"The rain in Spain falls mainly in the plain!\"\n",
    "\n",
    "#Check if the string contains either \"falls\" or \"stays\":\n",
    "\n",
    "x = re.findall(\"falls|stays\", str)\n",
    "\n",
    "print(x)\n",
    "\n",
    "if (x):\n",
    "  print(\"Yes, there is at least one match!\")\n",
    "else:\n",
    "  print(\"No match\")\n"
   ]
  },
  {
   "cell_type": "code",
   "execution_count": 13,
   "metadata": {},
   "outputs": [
    {
     "name": "stdout",
     "output_type": "stream",
     "text": [
      "['The', 'rain', 'in', 'Spain']\n"
     ]
    }
   ],
   "source": [
    "str = \"The rain in Spain\"\n",
    "x = re.split(\"\\s\", str)\n",
    "print(x)"
   ]
  },
  {
   "cell_type": "code",
   "execution_count": 14,
   "metadata": {},
   "outputs": [
    {
     "name": "stdout",
     "output_type": "stream",
     "text": [
      "['The', 'rain in Spain']\n"
     ]
    }
   ],
   "source": [
    "str = \"The rain in Spain\"\n",
    "x = re.split(\"\\s\", str, 1)\n",
    "print(x)"
   ]
  },
  {
   "cell_type": "code",
   "execution_count": 15,
   "metadata": {},
   "outputs": [
    {
     "name": "stdout",
     "output_type": "stream",
     "text": [
      "The9rain9in9Spain\n"
     ]
    }
   ],
   "source": [
    "str = \"The rain in Spain\"\n",
    "x = re.sub(\"\\s\", \"9\", str)\n",
    "print(x)"
   ]
  },
  {
   "cell_type": "code",
   "execution_count": 16,
   "metadata": {},
   "outputs": [
    {
     "name": "stdout",
     "output_type": "stream",
     "text": [
      "The9rain9in Spain\n"
     ]
    }
   ],
   "source": [
    "str = \"The rain in Spain\"\n",
    "x = re.sub(\"\\s\", \"9\", str, 2)\n",
    "print(x)"
   ]
  },
  {
   "cell_type": "code",
   "execution_count": 17,
   "metadata": {},
   "outputs": [
    {
     "name": "stdout",
     "output_type": "stream",
     "text": [
      "<re.Match object; span=(5, 7), match='ai'>\n"
     ]
    }
   ],
   "source": [
    "str = \"The rain in Spain\"\n",
    "x = re.search(\"ai\", str)\n",
    "print(x) #this will print an object"
   ]
  },
  {
   "cell_type": "code",
   "execution_count": 22,
   "metadata": {},
   "outputs": [
    {
     "name": "stdout",
     "output_type": "stream",
     "text": [
      "<re.Match object; span=(12, 17), match='Spain'>\n",
      "(12, 17)\n",
      "The rain in Spain\n",
      "Spain\n"
     ]
    }
   ],
   "source": [
    "str = \"The rain in Spain\"\n",
    "x = re.search(r\"\\bS\\w+\", str)\n",
    "print(x)\n",
    "print(x.span())\n",
    "print(x.string)\n",
    "print(x.group())"
   ]
  },
  {
   "cell_type": "code",
   "execution_count": null,
   "metadata": {},
   "outputs": [],
   "source": []
  }
 ],
 "metadata": {
  "kernelspec": {
   "display_name": "Python 3",
   "language": "python",
   "name": "python3"
  },
  "language_info": {
   "codemirror_mode": {
    "name": "ipython",
    "version": 3
   },
   "file_extension": ".py",
   "mimetype": "text/x-python",
   "name": "python",
   "nbconvert_exporter": "python",
   "pygments_lexer": "ipython3",
   "version": "3.7.2"
  }
 },
 "nbformat": 4,
 "nbformat_minor": 2
}
