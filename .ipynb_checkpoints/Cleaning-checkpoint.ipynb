{
 "cells": [
  {
   "cell_type": "code",
   "execution_count": 1,
   "metadata": {},
   "outputs": [
    {
     "data": {
      "text/html": [
       "\n",
       "        <iframe\n",
       "            width=\"900\"\n",
       "            height=\"500\"\n",
       "            src=\"https://en.wikipedia.org/wiki/List_of_freedom_indices\"\n",
       "            frameborder=\"0\"\n",
       "            allowfullscreen\n",
       "        ></iframe>\n",
       "        "
      ],
      "text/plain": [
       "<IPython.lib.display.IFrame at 0x25909fe9748>"
      ]
     },
     "execution_count": 1,
     "metadata": {},
     "output_type": "execute_result"
    }
   ],
   "source": [
    "from IPython.display import IFrame  \n",
    "wikiLink=\"https://en.wikipedia.org/wiki/List_of_freedom_indices\" \n",
    "IFrame(wikiLink, width=900, height=500)"
   ]
  },
  {
   "cell_type": "code",
   "execution_count": 2,
   "metadata": {},
   "outputs": [],
   "source": [
    "import pandas as pd\n",
    "\n",
    "wikiTables=pd.read_html(wikiLink, # link\n",
    "                        header=0, # where is the header?\n",
    "                        flavor='bs4', # helper to translate html\n",
    "                        attrs={'class': 'wikitable sortable'}) # specific element(s)"
   ]
  },
  {
   "cell_type": "code",
   "execution_count": 3,
   "metadata": {},
   "outputs": [
    {
     "data": {
      "text/plain": [
       "(list, 1)"
      ]
     },
     "execution_count": 3,
     "metadata": {},
     "output_type": "execute_result"
    }
   ],
   "source": [
    "# What do I have? / How many?\n",
    "type(wikiTables), len(wikiTables)"
   ]
  },
  {
   "cell_type": "code",
   "execution_count": 4,
   "metadata": {},
   "outputs": [
    {
     "data": {
      "text/plain": [
       "pandas.core.frame.DataFrame"
      ]
     },
     "execution_count": 4,
     "metadata": {},
     "output_type": "execute_result"
    }
   ],
   "source": [
    "DF=wikiTables[0]\n",
    "\n",
    "#what is it?\n",
    "type(DF)"
   ]
  },
  {
   "cell_type": "code",
   "execution_count": 5,
   "metadata": {},
   "outputs": [
    {
     "data": {
      "text/html": [
       "<div>\n",
       "<style scoped>\n",
       "    .dataframe tbody tr th:only-of-type {\n",
       "        vertical-align: middle;\n",
       "    }\n",
       "\n",
       "    .dataframe tbody tr th {\n",
       "        vertical-align: top;\n",
       "    }\n",
       "\n",
       "    .dataframe thead th {\n",
       "        text-align: right;\n",
       "    }\n",
       "</style>\n",
       "<table border=\"1\" class=\"dataframe\">\n",
       "  <thead>\n",
       "    <tr style=\"text-align: right;\">\n",
       "      <th></th>\n",
       "      <th>Country</th>\n",
       "      <th>Freedom in the World 2019[10]</th>\n",
       "      <th>2019 Index of Economic Freedom[11]</th>\n",
       "      <th>2019 Press Freedom Index[3]</th>\n",
       "      <th>2018 Democracy Index[14]</th>\n",
       "    </tr>\n",
       "  </thead>\n",
       "  <tbody>\n",
       "    <tr>\n",
       "      <th>0</th>\n",
       "      <td>Afghanistan</td>\n",
       "      <td>not free</td>\n",
       "      <td>mostly unfree</td>\n",
       "      <td>difficult situation</td>\n",
       "      <td>authoritarian regime</td>\n",
       "    </tr>\n",
       "    <tr>\n",
       "      <th>1</th>\n",
       "      <td>Albania</td>\n",
       "      <td>partly free</td>\n",
       "      <td>moderately free</td>\n",
       "      <td>noticeable problems</td>\n",
       "      <td>hybrid regime</td>\n",
       "    </tr>\n",
       "    <tr>\n",
       "      <th>2</th>\n",
       "      <td>Algeria</td>\n",
       "      <td>not free</td>\n",
       "      <td>repressed</td>\n",
       "      <td>difficult situation</td>\n",
       "      <td>authoritarian regime</td>\n",
       "    </tr>\n",
       "    <tr>\n",
       "      <th>3</th>\n",
       "      <td>Andorra</td>\n",
       "      <td>free</td>\n",
       "      <td>NaN</td>\n",
       "      <td>satisfactory situation</td>\n",
       "      <td>NaN</td>\n",
       "    </tr>\n",
       "    <tr>\n",
       "      <th>4</th>\n",
       "      <td>Angola</td>\n",
       "      <td>not free</td>\n",
       "      <td>mostly unfree</td>\n",
       "      <td>noticeable problems</td>\n",
       "      <td>authoritarian regime</td>\n",
       "    </tr>\n",
       "  </tbody>\n",
       "</table>\n",
       "</div>"
      ],
      "text/plain": [
       "       Country Freedom in the World 2019[10]  \\\n",
       "0  Afghanistan                      not free   \n",
       "1      Albania                   partly free   \n",
       "2      Algeria                      not free   \n",
       "3      Andorra                          free   \n",
       "4       Angola                      not free   \n",
       "\n",
       "  2019 Index of Economic Freedom[11] 2019 Press Freedom Index[3]  \\\n",
       "0                      mostly unfree         difficult situation   \n",
       "1                    moderately free         noticeable problems   \n",
       "2                          repressed         difficult situation   \n",
       "3                                NaN      satisfactory situation   \n",
       "4                      mostly unfree         noticeable problems   \n",
       "\n",
       "  2018 Democracy Index[14]  \n",
       "0     authoritarian regime  \n",
       "1            hybrid regime  \n",
       "2     authoritarian regime  \n",
       "3                      NaN  \n",
       "4     authoritarian regime  "
      ]
     },
     "execution_count": 5,
     "metadata": {},
     "output_type": "execute_result"
    }
   ],
   "source": [
    "DF.head()"
   ]
  },
  {
   "cell_type": "code",
   "execution_count": 6,
   "metadata": {},
   "outputs": [],
   "source": [
    "DFTest=DF.copy() # working with a copy..."
   ]
  },
  {
   "cell_type": "code",
   "execution_count": 7,
   "metadata": {},
   "outputs": [
    {
     "data": {
      "text/html": [
       "<div>\n",
       "<style scoped>\n",
       "    .dataframe tbody tr th:only-of-type {\n",
       "        vertical-align: middle;\n",
       "    }\n",
       "\n",
       "    .dataframe tbody tr th {\n",
       "        vertical-align: top;\n",
       "    }\n",
       "\n",
       "    .dataframe thead th {\n",
       "        text-align: right;\n",
       "    }\n",
       "</style>\n",
       "<table border=\"1\" class=\"dataframe\">\n",
       "  <thead>\n",
       "    <tr style=\"text-align: right;\">\n",
       "      <th></th>\n",
       "      <th>Country</th>\n",
       "      <th>FreedomintheWorld</th>\n",
       "      <th>IndexofEconomicFreedom</th>\n",
       "      <th>PressFreedomIndex</th>\n",
       "      <th>DemocracyIndex</th>\n",
       "    </tr>\n",
       "  </thead>\n",
       "  <tbody>\n",
       "    <tr>\n",
       "      <th>0</th>\n",
       "      <td>Afghanistan</td>\n",
       "      <td>not free</td>\n",
       "      <td>mostly unfree</td>\n",
       "      <td>difficult situation</td>\n",
       "      <td>authoritarian regime</td>\n",
       "    </tr>\n",
       "    <tr>\n",
       "      <th>1</th>\n",
       "      <td>Albania</td>\n",
       "      <td>partly free</td>\n",
       "      <td>moderately free</td>\n",
       "      <td>noticeable problems</td>\n",
       "      <td>hybrid regime</td>\n",
       "    </tr>\n",
       "    <tr>\n",
       "      <th>2</th>\n",
       "      <td>Algeria</td>\n",
       "      <td>not free</td>\n",
       "      <td>repressed</td>\n",
       "      <td>difficult situation</td>\n",
       "      <td>authoritarian regime</td>\n",
       "    </tr>\n",
       "    <tr>\n",
       "      <th>3</th>\n",
       "      <td>Andorra</td>\n",
       "      <td>free</td>\n",
       "      <td>NaN</td>\n",
       "      <td>satisfactory situation</td>\n",
       "      <td>NaN</td>\n",
       "    </tr>\n",
       "    <tr>\n",
       "      <th>4</th>\n",
       "      <td>Angola</td>\n",
       "      <td>not free</td>\n",
       "      <td>mostly unfree</td>\n",
       "      <td>noticeable problems</td>\n",
       "      <td>authoritarian regime</td>\n",
       "    </tr>\n",
       "  </tbody>\n",
       "</table>\n",
       "</div>"
      ],
      "text/plain": [
       "       Country FreedomintheWorld IndexofEconomicFreedom  \\\n",
       "0  Afghanistan          not free          mostly unfree   \n",
       "1      Albania       partly free        moderately free   \n",
       "2      Algeria          not free              repressed   \n",
       "3      Andorra              free                    NaN   \n",
       "4       Angola          not free          mostly unfree   \n",
       "\n",
       "        PressFreedomIndex        DemocracyIndex  \n",
       "0     difficult situation  authoritarian regime  \n",
       "1     noticeable problems         hybrid regime  \n",
       "2     difficult situation  authoritarian regime  \n",
       "3  satisfactory situation                   NaN  \n",
       "4     noticeable problems  authoritarian regime  "
      ]
     },
     "execution_count": 7,
     "metadata": {},
     "output_type": "execute_result"
    }
   ],
   "source": [
    "# all columns\n",
    "DFTest.columns=['Country', 'FreedomintheWorld', 'IndexofEconomicFreedom', \n",
    "                       'PressFreedomIndex', 'DemocracyIndex']\n",
    "#final result:\n",
    "DFTest.head()"
   ]
  },
  {
   "cell_type": "code",
   "execution_count": 7,
   "metadata": {},
   "outputs": [
    {
     "data": {
      "text/plain": [
       "Index(['Country', 'Freedom in the World 2019[10]',\n",
       "       '2019 Index of Economic Freedom[11]', '2019 Press Freedom Index[3]',\n",
       "       '2018 Democracy Index[14]'],\n",
       "      dtype='object')"
      ]
     },
     "execution_count": 7,
     "metadata": {},
     "output_type": "execute_result"
    }
   ],
   "source": [
    "DF.columns"
   ]
  },
  {
   "cell_type": "code",
   "execution_count": 8,
   "metadata": {},
   "outputs": [],
   "source": [
    "import re"
   ]
  },
  {
   "cell_type": "code",
   "execution_count": 9,
   "metadata": {},
   "outputs": [],
   "source": [
    "textExample=\"text1 text2   text3[2]\""
   ]
  },
  {
   "cell_type": "code",
   "execution_count": 10,
   "metadata": {},
   "outputs": [
    {
     "data": {
      "text/plain": [
       "'text1text2text3[2]'"
      ]
     },
     "execution_count": 10,
     "metadata": {},
     "output_type": "execute_result"
    }
   ],
   "source": [
    "re.sub('\\\\s',\"\",textExample)"
   ]
  },
  {
   "cell_type": "code",
   "execution_count": 11,
   "metadata": {},
   "outputs": [
    {
     "data": {
      "text/plain": [
       "'text text   text[]'"
      ]
     },
     "execution_count": 11,
     "metadata": {},
     "output_type": "execute_result"
    }
   ],
   "source": [
    "re.sub('\\\\d',\"\",textExample)"
   ]
  },
  {
   "cell_type": "code",
   "execution_count": 12,
   "metadata": {},
   "outputs": [
    {
     "data": {
      "text/plain": [
       "'text1 text2   text32]'"
      ]
     },
     "execution_count": 12,
     "metadata": {},
     "output_type": "execute_result"
    }
   ],
   "source": [
    "re.sub('\\\\[',\"\",textExample)"
   ]
  },
  {
   "cell_type": "code",
   "execution_count": 13,
   "metadata": {},
   "outputs": [
    {
     "data": {
      "text/plain": [
       "'texttexttext'"
      ]
     },
     "execution_count": 13,
     "metadata": {},
     "output_type": "execute_result"
    }
   ],
   "source": [
    "# one or more blanks: \\\\s+\n",
    "# one or more numbers: \\\\d+\n",
    "# find opening bracket : \\\\[\n",
    "# find closing bracket: \\\\]\n",
    "\n",
    "# You can combine using '|' (or):\n",
    "pattern='\\\\s+|\\\\d+|\\\\[|\\\\]'\n",
    "nothing=''\n",
    "\n",
    "# use it:\n",
    "re.sub(pattern,nothing,textExample)"
   ]
  },
  {
   "cell_type": "code",
   "execution_count": 14,
   "metadata": {},
   "outputs": [
    {
     "ename": "TypeError",
     "evalue": "expected string or bytes-like object",
     "output_type": "error",
     "traceback": [
      "\u001b[1;31m---------------------------------------------------------------------------\u001b[0m",
      "\u001b[1;31mTypeError\u001b[0m                                 Traceback (most recent call last)",
      "\u001b[1;32m<ipython-input-14-5b64adefef8f>\u001b[0m in \u001b[0;36m<module>\u001b[1;34m()\u001b[0m\n\u001b[1;32m----> 1\u001b[1;33m \u001b[0mre\u001b[0m\u001b[1;33m.\u001b[0m\u001b[0msub\u001b[0m\u001b[1;33m(\u001b[0m\u001b[0mpattern\u001b[0m\u001b[1;33m,\u001b[0m\u001b[0mnothing\u001b[0m\u001b[1;33m,\u001b[0m\u001b[0mDF\u001b[0m\u001b[1;33m.\u001b[0m\u001b[0mcolumns\u001b[0m\u001b[1;33m)\u001b[0m\u001b[1;33m\u001b[0m\u001b[1;33m\u001b[0m\u001b[0m\n\u001b[0m",
      "\u001b[1;32m~\\Anaconda3\\lib\\re.py\u001b[0m in \u001b[0;36msub\u001b[1;34m(pattern, repl, string, count, flags)\u001b[0m\n\u001b[0;32m    190\u001b[0m     \u001b[0ma\u001b[0m \u001b[0mcallable\u001b[0m\u001b[1;33m,\u001b[0m \u001b[0mit\u001b[0m\u001b[0;31m'\u001b[0m\u001b[0ms\u001b[0m \u001b[0mpassed\u001b[0m \u001b[0mthe\u001b[0m \u001b[0mMatch\u001b[0m \u001b[0mobject\u001b[0m \u001b[1;32mand\u001b[0m \u001b[0mmust\u001b[0m \u001b[1;32mreturn\u001b[0m\u001b[1;33m\u001b[0m\u001b[1;33m\u001b[0m\u001b[0m\n\u001b[0;32m    191\u001b[0m     a replacement string to be used.\"\"\"\n\u001b[1;32m--> 192\u001b[1;33m     \u001b[1;32mreturn\u001b[0m \u001b[0m_compile\u001b[0m\u001b[1;33m(\u001b[0m\u001b[0mpattern\u001b[0m\u001b[1;33m,\u001b[0m \u001b[0mflags\u001b[0m\u001b[1;33m)\u001b[0m\u001b[1;33m.\u001b[0m\u001b[0msub\u001b[0m\u001b[1;33m(\u001b[0m\u001b[0mrepl\u001b[0m\u001b[1;33m,\u001b[0m \u001b[0mstring\u001b[0m\u001b[1;33m,\u001b[0m \u001b[0mcount\u001b[0m\u001b[1;33m)\u001b[0m\u001b[1;33m\u001b[0m\u001b[1;33m\u001b[0m\u001b[0m\n\u001b[0m\u001b[0;32m    193\u001b[0m \u001b[1;33m\u001b[0m\u001b[0m\n\u001b[0;32m    194\u001b[0m \u001b[1;32mdef\u001b[0m \u001b[0msubn\u001b[0m\u001b[1;33m(\u001b[0m\u001b[0mpattern\u001b[0m\u001b[1;33m,\u001b[0m \u001b[0mrepl\u001b[0m\u001b[1;33m,\u001b[0m \u001b[0mstring\u001b[0m\u001b[1;33m,\u001b[0m \u001b[0mcount\u001b[0m\u001b[1;33m=\u001b[0m\u001b[1;36m0\u001b[0m\u001b[1;33m,\u001b[0m \u001b[0mflags\u001b[0m\u001b[1;33m=\u001b[0m\u001b[1;36m0\u001b[0m\u001b[1;33m)\u001b[0m\u001b[1;33m:\u001b[0m\u001b[1;33m\u001b[0m\u001b[1;33m\u001b[0m\u001b[0m\n",
      "\u001b[1;31mTypeError\u001b[0m: expected string or bytes-like object"
     ]
    }
   ],
   "source": [
    "re.sub(pattern,nothing,DF.columns)"
   ]
  },
  {
   "cell_type": "code",
   "execution_count": 15,
   "metadata": {},
   "outputs": [
    {
     "data": {
      "text/plain": [
       "Index(['Country', 'FreedomintheWorld', 'IndexofEconomicFreedom',\n",
       "       'PressFreedomIndex', 'DemocracyIndex'],\n",
       "      dtype='object')"
      ]
     },
     "execution_count": 15,
     "metadata": {},
     "output_type": "execute_result"
    }
   ],
   "source": [
    "DF.columns.str.replace(pattern,nothing)"
   ]
  },
  {
   "cell_type": "code",
   "execution_count": 16,
   "metadata": {},
   "outputs": [],
   "source": [
    "newNames1=[] #empty list\n",
    "for text in DF.columns: # for each element \n",
    "    # do this:\n",
    "    newNames1.append(re.sub(pattern,nothing,text)) # filling in the list"
   ]
  },
  {
   "cell_type": "code",
   "execution_count": 17,
   "metadata": {},
   "outputs": [
    {
     "data": {
      "text/plain": [
       "['Country',\n",
       " 'FreedomintheWorld',\n",
       " 'IndexofEconomicFreedom',\n",
       " 'PressFreedomIndex',\n",
       " 'DemocracyIndex']"
      ]
     },
     "execution_count": 17,
     "metadata": {},
     "output_type": "execute_result"
    }
   ],
   "source": [
    "#Take a look:\n",
    "newNames1"
   ]
  },
  {
   "cell_type": "code",
   "execution_count": 18,
   "metadata": {},
   "outputs": [],
   "source": [
    "# \"lambda\" style function\n",
    "# name of function is 'cleaner'\n",
    "# function transforms INPUT\n",
    "# lambda x: f(x)\n",
    "\n",
    "cleaner = lambda INPUT: re.sub(pattern,nothing,INPUT)"
   ]
  },
  {
   "cell_type": "code",
   "execution_count": 19,
   "metadata": {},
   "outputs": [
    {
     "data": {
      "text/plain": [
       "['Country',\n",
       " 'FreedomintheWorld',\n",
       " 'IndexofEconomicFreedom',\n",
       " 'PressFreedomIndex',\n",
       " 'DemocracyIndex']"
      ]
     },
     "execution_count": 19,
     "metadata": {},
     "output_type": "execute_result"
    }
   ],
   "source": [
    "# mapping the function to every element:\n",
    "\n",
    "NewNames2=list(map(cleaner,DF.columns))\n",
    "NewNames2"
   ]
  },
  {
   "cell_type": "code",
   "execution_count": 20,
   "metadata": {},
   "outputs": [
    {
     "data": {
      "text/plain": [
       "['Country',\n",
       " 'FreedomintheWorld',\n",
       " 'IndexofEconomicFreedom',\n",
       " 'PressFreedomIndex',\n",
       " 'DemocracyIndex']"
      ]
     },
     "execution_count": 20,
     "metadata": {},
     "output_type": "execute_result"
    }
   ],
   "source": [
    "NewNames3=[cleaner(TEXT) for TEXT in DF.columns] #new list on the run\n",
    "\n",
    "# You get:\n",
    "NewNames3"
   ]
  },
  {
   "cell_type": "code",
   "execution_count": 21,
   "metadata": {},
   "outputs": [
    {
     "data": {
      "text/plain": [
       "['Country',\n",
       " 'FreedomintheWorld',\n",
       " 'IndexofEconomicFreedom',\n",
       " 'PressFreedomIndex',\n",
       " 'DemocracyIndex']"
      ]
     },
     "execution_count": 21,
     "metadata": {},
     "output_type": "execute_result"
    }
   ],
   "source": [
    "NewNames4=[re.sub(pattern,nothing,TEXT) for TEXT in DF.columns]\n",
    "\n",
    "# You get:\n",
    "NewNames4"
   ]
  },
  {
   "cell_type": "code",
   "execution_count": 22,
   "metadata": {},
   "outputs": [
    {
     "data": {
      "text/plain": [
       "Index(['Freedom in the World 2019[10]', '2019 Index of Economic Freedom[11]',\n",
       "       '2019 Press Freedom Index[3]', '2018 Democracy Index[14]'],\n",
       "      dtype='object')"
      ]
     },
     "execution_count": 22,
     "metadata": {},
     "output_type": "execute_result"
    }
   ],
   "source": [
    "DF.iloc[:,1::].columns"
   ]
  },
  {
   "cell_type": "code",
   "execution_count": 23,
   "metadata": {},
   "outputs": [
    {
     "data": {
      "text/plain": [
       "Index(['FreedomintheWorld', 'IndexofEconomicFreedom', 'PressFreedomIndex',\n",
       "       'DemocracyIndex'],\n",
       "      dtype='object')"
      ]
     },
     "execution_count": 23,
     "metadata": {},
     "output_type": "execute_result"
    }
   ],
   "source": [
    "DF.iloc[:,1::].columns.str.replace(pattern,nothing)"
   ]
  },
  {
   "cell_type": "code",
   "execution_count": 24,
   "metadata": {},
   "outputs": [
    {
     "data": {
      "text/plain": [
       "Index(['FreedomintheWorld', 'IndexofEconomicFreedom', 'PressFreedomIndex',\n",
       "       'DemocracyIndex'],\n",
       "      dtype='object')"
      ]
     },
     "execution_count": 24,
     "metadata": {},
     "output_type": "execute_result"
    }
   ],
   "source": [
    "# saving result :\n",
    "someNewNames=DF.iloc[:,1::].columns.str.replace(pattern,nothing)\n",
    "# which are:\n",
    "someNewNames"
   ]
  },
  {
   "cell_type": "code",
   "execution_count": 25,
   "metadata": {},
   "outputs": [
    {
     "data": {
      "text/plain": [
       "[('Freedom in the World 2019[10]', 'FreedomintheWorld'),\n",
       " ('2019 Index of Economic Freedom[11]', 'IndexofEconomicFreedom'),\n",
       " ('2019 Press Freedom Index[3]', 'PressFreedomIndex'),\n",
       " ('2018 Democracy Index[14]', 'DemocracyIndex')]"
      ]
     },
     "execution_count": 25,
     "metadata": {},
     "output_type": "execute_result"
    }
   ],
   "source": [
    "# using 'zip()':\n",
    "list(zip(DF.iloc[:,1::].columns,someNewNames))"
   ]
  },
  {
   "cell_type": "code",
   "execution_count": 26,
   "metadata": {},
   "outputs": [
    {
     "data": {
      "text/plain": [
       "{'Freedom in the World 2019[10]': 'FreedomintheWorld',\n",
       " '2019 Index of Economic Freedom[11]': 'IndexofEconomicFreedom',\n",
       " '2019 Press Freedom Index[3]': 'PressFreedomIndex',\n",
       " '2018 Democracy Index[14]': 'DemocracyIndex'}"
      ]
     },
     "execution_count": 26,
     "metadata": {},
     "output_type": "execute_result"
    }
   ],
   "source": [
    "changes={old:new for old,new in zip(DF.iloc[:,1::].columns,someNewNames)}\n",
    "# you have\n",
    "changes"
   ]
  },
  {
   "cell_type": "code",
   "execution_count": 27,
   "metadata": {},
   "outputs": [],
   "source": [
    "DF.rename(columns=changes,inplace=True)"
   ]
  },
  {
   "cell_type": "code",
   "execution_count": 28,
   "metadata": {},
   "outputs": [
    {
     "data": {
      "text/html": [
       "<div>\n",
       "<style scoped>\n",
       "    .dataframe tbody tr th:only-of-type {\n",
       "        vertical-align: middle;\n",
       "    }\n",
       "\n",
       "    .dataframe tbody tr th {\n",
       "        vertical-align: top;\n",
       "    }\n",
       "\n",
       "    .dataframe thead th {\n",
       "        text-align: right;\n",
       "    }\n",
       "</style>\n",
       "<table border=\"1\" class=\"dataframe\">\n",
       "  <thead>\n",
       "    <tr style=\"text-align: right;\">\n",
       "      <th></th>\n",
       "      <th>Country</th>\n",
       "      <th>FreedomintheWorld</th>\n",
       "      <th>IndexofEconomicFreedom</th>\n",
       "      <th>PressFreedomIndex</th>\n",
       "      <th>DemocracyIndex</th>\n",
       "    </tr>\n",
       "  </thead>\n",
       "  <tbody>\n",
       "    <tr>\n",
       "      <th>0</th>\n",
       "      <td>Afghanistan</td>\n",
       "      <td>not free</td>\n",
       "      <td>mostly unfree</td>\n",
       "      <td>difficult situation</td>\n",
       "      <td>authoritarian regime</td>\n",
       "    </tr>\n",
       "    <tr>\n",
       "      <th>1</th>\n",
       "      <td>Albania</td>\n",
       "      <td>partly free</td>\n",
       "      <td>moderately free</td>\n",
       "      <td>noticeable problems</td>\n",
       "      <td>hybrid regime</td>\n",
       "    </tr>\n",
       "    <tr>\n",
       "      <th>2</th>\n",
       "      <td>Algeria</td>\n",
       "      <td>not free</td>\n",
       "      <td>repressed</td>\n",
       "      <td>difficult situation</td>\n",
       "      <td>authoritarian regime</td>\n",
       "    </tr>\n",
       "    <tr>\n",
       "      <th>3</th>\n",
       "      <td>Andorra</td>\n",
       "      <td>free</td>\n",
       "      <td>NaN</td>\n",
       "      <td>satisfactory situation</td>\n",
       "      <td>NaN</td>\n",
       "    </tr>\n",
       "    <tr>\n",
       "      <th>4</th>\n",
       "      <td>Angola</td>\n",
       "      <td>not free</td>\n",
       "      <td>mostly unfree</td>\n",
       "      <td>noticeable problems</td>\n",
       "      <td>authoritarian regime</td>\n",
       "    </tr>\n",
       "  </tbody>\n",
       "</table>\n",
       "</div>"
      ],
      "text/plain": [
       "       Country FreedomintheWorld IndexofEconomicFreedom  \\\n",
       "0  Afghanistan          not free          mostly unfree   \n",
       "1      Albania       partly free        moderately free   \n",
       "2      Algeria          not free              repressed   \n",
       "3      Andorra              free                    NaN   \n",
       "4       Angola          not free          mostly unfree   \n",
       "\n",
       "        PressFreedomIndex        DemocracyIndex  \n",
       "0     difficult situation  authoritarian regime  \n",
       "1     noticeable problems         hybrid regime  \n",
       "2     difficult situation  authoritarian regime  \n",
       "3  satisfactory situation                   NaN  \n",
       "4     noticeable problems  authoritarian regime  "
      ]
     },
     "execution_count": 28,
     "metadata": {},
     "output_type": "execute_result"
    }
   ],
   "source": [
    "DF.head()"
   ]
  },
  {
   "cell_type": "code",
   "execution_count": 29,
   "metadata": {},
   "outputs": [
    {
     "data": {
      "text/plain": [
       "['Freedom in the World 2019[10]',\n",
       " '2019 Index of Economic Freedom[11]',\n",
       " '2019 Press Freedom Index[3]',\n",
       " '2018 Democracy Index[14]']"
      ]
     },
     "execution_count": 29,
     "metadata": {},
     "output_type": "execute_result"
    }
   ],
   "source": [
    "bad=list(changes.keys())\n",
    "# old ones\n",
    "bad"
   ]
  },
  {
   "cell_type": "code",
   "execution_count": 32,
   "metadata": {},
   "outputs": [
    {
     "data": {
      "text/plain": [
       "[['Freedom in the World 2019', '10]'],\n",
       " ['2019 Index of Economic Freedom', '11]'],\n",
       " ['2019 Press Freedom Index', '3]'],\n",
       " ['2018 Democracy Index', '14]']]"
      ]
     },
     "execution_count": 32,
     "metadata": {},
     "output_type": "execute_result"
    }
   ],
   "source": [
    "# split the text when you find '['\n",
    "notSoBad=[TEXT.split(\"[\") for TEXT in bad]\n",
    "# see:\n",
    "notSoBad"
   ]
  },
  {
   "cell_type": "code",
   "execution_count": 33,
   "metadata": {},
   "outputs": [
    {
     "data": {
      "text/plain": [
       "['Freedom in the World 2019',\n",
       " '2019 Index of Economic Freedom',\n",
       " '2019 Press Freedom Index',\n",
       " '2018 Democracy Index']"
      ]
     },
     "execution_count": 33,
     "metadata": {},
     "output_type": "execute_result"
    }
   ],
   "source": [
    "# split the text when you find '['and keep first element:\n",
    "notSoBad=[TEXT.split(\"[\")[0] for TEXT in bad]\n",
    "# see:\n",
    "notSoBad"
   ]
  },
  {
   "cell_type": "code",
   "execution_count": 34,
   "metadata": {},
   "outputs": [
    {
     "data": {
      "text/plain": [
       "[['Freedom', 'in', 'the', 'World', '2019'],\n",
       " ['2019', 'Index', 'of', 'Economic', 'Freedom'],\n",
       " ['2019', 'Press', 'Freedom', 'Index'],\n",
       " ['2018', 'Democracy', 'Index']]"
      ]
     },
     "execution_count": 34,
     "metadata": {},
     "output_type": "execute_result"
    }
   ],
   "source": [
    "#split using the blanks\n",
    "goodEnough=[TEXT.split(\" \") for TEXT in notSoBad]\n",
    "# see:\n",
    "goodEnough"
   ]
  },
  {
   "cell_type": "code",
   "execution_count": 35,
   "metadata": {},
   "outputs": [
    {
     "data": {
      "text/plain": [
       "['FreedomintheWorld2019',\n",
       " '2019IndexofEconomicFreedom',\n",
       " '2019PressFreedomIndex',\n",
       " '2018DemocracyIndex']"
      ]
     },
     "execution_count": 35,
     "metadata": {},
     "output_type": "execute_result"
    }
   ],
   "source": [
    "#split using the blanks and them concatenate using \"join()\":\n",
    "betterThanBad=[\"\".join(TEXT.split(\" \")) for TEXT in notSoBad]\n",
    "# see:\n",
    "betterThanBad"
   ]
  },
  {
   "cell_type": "code",
   "execution_count": 36,
   "metadata": {},
   "outputs": [
    {
     "data": {
      "text/plain": [
       "['Freedom', 'in', 'the', 'World', '2019']"
      ]
     },
     "execution_count": 36,
     "metadata": {},
     "output_type": "execute_result"
    }
   ],
   "source": [
    "#original:\n",
    "goodEnough[0]"
   ]
  },
  {
   "cell_type": "code",
   "execution_count": 37,
   "metadata": {},
   "outputs": [
    {
     "data": {
      "text/plain": [
       "['2019', 'Freedom', 'in', 'the', 'World']"
      ]
     },
     "execution_count": 37,
     "metadata": {},
     "output_type": "execute_result"
    }
   ],
   "source": [
    "# pop will give you the last value\n",
    "# and will shrink the list.\n",
    "# that value goes to first position of the old list\n",
    "# DO NOT RUN TWICE:\n",
    "goodEnough[0].insert(0,goodEnough[0].pop())\n",
    "#\n",
    "goodEnough[0]"
   ]
  },
  {
   "cell_type": "code",
   "execution_count": 38,
   "metadata": {},
   "outputs": [
    {
     "data": {
      "text/plain": [
       "[['2019', 'Freedom', 'in', 'the', 'World'],\n",
       " ['2019', 'Index', 'of', 'Economic', 'Freedom'],\n",
       " ['2019', 'Press', 'Freedom', 'Index'],\n",
       " ['2018', 'Democracy', 'Index']]"
      ]
     },
     "execution_count": 38,
     "metadata": {},
     "output_type": "execute_result"
    }
   ],
   "source": [
    "goodEnough"
   ]
  },
  {
   "cell_type": "code",
   "execution_count": 39,
   "metadata": {},
   "outputs": [
    {
     "data": {
      "text/plain": [
       "['2019', 'Freedom', 'in', 'the', 'World']"
      ]
     },
     "execution_count": 39,
     "metadata": {},
     "output_type": "execute_result"
    }
   ],
   "source": [
    "goodEnough[0]"
   ]
  },
  {
   "cell_type": "code",
   "execution_count": 40,
   "metadata": {},
   "outputs": [
    {
     "data": {
      "text/plain": [
       "['FreedomintheWorld',\n",
       " 'IndexofEconomicFreedom',\n",
       " 'PressFreedomIndex',\n",
       " 'DemocracyIndex']"
      ]
     },
     "execution_count": 40,
     "metadata": {},
     "output_type": "execute_result"
    }
   ],
   "source": [
    "# you join everything after position 1:\n",
    "betterThanBad=[\"\".join(TEXT[1::]) for TEXT in goodEnough]\n",
    "# see:\n",
    "betterThanBad"
   ]
  },
  {
   "cell_type": "code",
   "execution_count": 41,
   "metadata": {},
   "outputs": [
    {
     "data": {
      "text/html": [
       "<div>\n",
       "<style scoped>\n",
       "    .dataframe tbody tr th:only-of-type {\n",
       "        vertical-align: middle;\n",
       "    }\n",
       "\n",
       "    .dataframe tbody tr th {\n",
       "        vertical-align: top;\n",
       "    }\n",
       "\n",
       "    .dataframe thead th {\n",
       "        text-align: right;\n",
       "    }\n",
       "</style>\n",
       "<table border=\"1\" class=\"dataframe\">\n",
       "  <thead>\n",
       "    <tr style=\"text-align: right;\">\n",
       "      <th></th>\n",
       "      <th>Country</th>\n",
       "      <th>FreedomintheWorld</th>\n",
       "      <th>IndexofEconomicFreedom</th>\n",
       "      <th>PressFreedomIndex</th>\n",
       "      <th>DemocracyIndex</th>\n",
       "    </tr>\n",
       "  </thead>\n",
       "  <tbody>\n",
       "    <tr>\n",
       "      <th>200</th>\n",
       "      <td>West Bank</td>\n",
       "      <td>not free</td>\n",
       "      <td>NaN</td>\n",
       "      <td>difficult situation</td>\n",
       "      <td>NaN</td>\n",
       "    </tr>\n",
       "    <tr>\n",
       "      <th>201</th>\n",
       "      <td>Western Sahara</td>\n",
       "      <td>not free</td>\n",
       "      <td>NaN</td>\n",
       "      <td>NaN</td>\n",
       "      <td>NaN</td>\n",
       "    </tr>\n",
       "    <tr>\n",
       "      <th>202</th>\n",
       "      <td>Yemen</td>\n",
       "      <td>not free</td>\n",
       "      <td>NaN</td>\n",
       "      <td>very serious situation</td>\n",
       "      <td>authoritarian regime</td>\n",
       "    </tr>\n",
       "    <tr>\n",
       "      <th>203</th>\n",
       "      <td>Zambia</td>\n",
       "      <td>partly free</td>\n",
       "      <td>mostly unfree</td>\n",
       "      <td>difficult situation</td>\n",
       "      <td>hybrid regime</td>\n",
       "    </tr>\n",
       "    <tr>\n",
       "      <th>204</th>\n",
       "      <td>Zimbabwe</td>\n",
       "      <td>partly free</td>\n",
       "      <td>repressed</td>\n",
       "      <td>difficult situation</td>\n",
       "      <td>authoritarian regime</td>\n",
       "    </tr>\n",
       "  </tbody>\n",
       "</table>\n",
       "</div>"
      ],
      "text/plain": [
       "            Country FreedomintheWorld IndexofEconomicFreedom  \\\n",
       "200       West Bank          not free                    NaN   \n",
       "201  Western Sahara          not free                    NaN   \n",
       "202           Yemen          not free                    NaN   \n",
       "203          Zambia       partly free          mostly unfree   \n",
       "204        Zimbabwe       partly free              repressed   \n",
       "\n",
       "          PressFreedomIndex        DemocracyIndex  \n",
       "200     difficult situation                   NaN  \n",
       "201                     NaN                   NaN  \n",
       "202  very serious situation  authoritarian regime  \n",
       "203     difficult situation         hybrid regime  \n",
       "204     difficult situation  authoritarian regime  "
      ]
     },
     "execution_count": 41,
     "metadata": {},
     "output_type": "execute_result"
    }
   ],
   "source": [
    "DF.tail()"
   ]
  },
  {
   "cell_type": "code",
   "execution_count": 42,
   "metadata": {},
   "outputs": [
    {
     "data": {
      "text/html": [
       "<div>\n",
       "<style scoped>\n",
       "    .dataframe tbody tr th:only-of-type {\n",
       "        vertical-align: middle;\n",
       "    }\n",
       "\n",
       "    .dataframe tbody tr th {\n",
       "        vertical-align: top;\n",
       "    }\n",
       "\n",
       "    .dataframe thead th {\n",
       "        text-align: right;\n",
       "    }\n",
       "</style>\n",
       "<table border=\"1\" class=\"dataframe\">\n",
       "  <thead>\n",
       "    <tr style=\"text-align: right;\">\n",
       "      <th></th>\n",
       "      <th>Country</th>\n",
       "      <th>FreedomintheWorld</th>\n",
       "      <th>IndexofEconomicFreedom</th>\n",
       "      <th>PressFreedomIndex</th>\n",
       "      <th>DemocracyIndex</th>\n",
       "    </tr>\n",
       "  </thead>\n",
       "  <tbody>\n",
       "    <tr>\n",
       "      <th>count</th>\n",
       "      <td>205</td>\n",
       "      <td>204</td>\n",
       "      <td>180</td>\n",
       "      <td>189</td>\n",
       "      <td>167</td>\n",
       "    </tr>\n",
       "    <tr>\n",
       "      <th>unique</th>\n",
       "      <td>205</td>\n",
       "      <td>3</td>\n",
       "      <td>5</td>\n",
       "      <td>5</td>\n",
       "      <td>4</td>\n",
       "    </tr>\n",
       "    <tr>\n",
       "      <th>top</th>\n",
       "      <td>Norway</td>\n",
       "      <td>free</td>\n",
       "      <td>mostly unfree</td>\n",
       "      <td>noticeable problems</td>\n",
       "      <td>flawed democracy</td>\n",
       "    </tr>\n",
       "    <tr>\n",
       "      <th>freq</th>\n",
       "      <td>1</td>\n",
       "      <td>87</td>\n",
       "      <td>64</td>\n",
       "      <td>73</td>\n",
       "      <td>55</td>\n",
       "    </tr>\n",
       "  </tbody>\n",
       "</table>\n",
       "</div>"
      ],
      "text/plain": [
       "       Country FreedomintheWorld IndexofEconomicFreedom    PressFreedomIndex  \\\n",
       "count      205               204                    180                  189   \n",
       "unique     205                 3                      5                    5   \n",
       "top     Norway              free          mostly unfree  noticeable problems   \n",
       "freq         1                87                     64                   73   \n",
       "\n",
       "          DemocracyIndex  \n",
       "count                167  \n",
       "unique                 4  \n",
       "top     flawed democracy  \n",
       "freq                  55  "
      ]
     },
     "execution_count": 42,
     "metadata": {},
     "output_type": "execute_result"
    }
   ],
   "source": [
    "DF.describe()"
   ]
  },
  {
   "cell_type": "code",
   "execution_count": 44,
   "metadata": {},
   "outputs": [
    {
     "data": {
      "text/plain": [
       "free           87\n",
       "partly free    62\n",
       "not free       55\n",
       "Name: FreedomintheWorld, dtype: int64"
      ]
     },
     "execution_count": 44,
     "metadata": {},
     "output_type": "execute_result"
    }
   ],
   "source": [
    "DF.FreedomintheWorld.value_counts()"
   ]
  },
  {
   "cell_type": "code",
   "execution_count": 47,
   "metadata": {},
   "outputs": [
    {
     "data": {
      "text/plain": [
       "FreedomintheWorld                        {nan, free, not free, partly free}\n",
       "IndexofEconomicFreedom    {nan, repressed, free, mostly unfree, mostly f...\n",
       "PressFreedomIndex         {nan, noticeable problems, difficult situation...\n",
       "DemocracyIndex            {nan, full democracy, hybrid regime, flawed de...\n",
       "dtype: object"
      ]
     },
     "execution_count": 47,
     "metadata": {},
     "output_type": "execute_result"
    }
   ],
   "source": [
    "# DF.iloc[:,1::] all columns but the first one\n",
    "# apply(set)  apply fucntion set per column\n",
    "DF.iloc[:,1::].apply(set)"
   ]
  },
  {
   "cell_type": "code",
   "execution_count": 48,
   "metadata": {},
   "outputs": [
    {
     "data": {
      "text/plain": [
       "pandas.core.series.Series"
      ]
     },
     "execution_count": 48,
     "metadata": {},
     "output_type": "execute_result"
    }
   ],
   "source": [
    "type(DF.iloc[:,1::].apply(set))"
   ]
  },
  {
   "cell_type": "code",
   "execution_count": 49,
   "metadata": {},
   "outputs": [
    {
     "data": {
      "text/plain": [
       "[{'free', nan, 'not free', 'partly free'},\n",
       " {'free', 'moderately free', 'mostly free', 'mostly unfree', nan, 'repressed'},\n",
       " {'difficult situation',\n",
       "  'good situation',\n",
       "  nan,\n",
       "  'noticeable problems',\n",
       "  'satisfactory situation',\n",
       "  'very serious situation'},\n",
       " {'authoritarian regime',\n",
       "  'flawed democracy',\n",
       "  'full democracy',\n",
       "  'hybrid regime',\n",
       "  nan}]"
      ]
     },
     "execution_count": 49,
     "metadata": {},
     "output_type": "execute_result"
    }
   ],
   "source": [
    "#easier to see\n",
    "DF.iloc[:,1::].apply(set).tolist()"
   ]
  },
  {
   "cell_type": "code",
   "execution_count": 50,
   "metadata": {},
   "outputs": [
    {
     "data": {
      "text/plain": [
       "Country                   object\n",
       "FreedomintheWorld         object\n",
       "IndexofEconomicFreedom    object\n",
       "PressFreedomIndex         object\n",
       "DemocracyIndex            object\n",
       "dtype: object"
      ]
     },
     "execution_count": 50,
     "metadata": {},
     "output_type": "execute_result"
    }
   ],
   "source": [
    "DF.dtypes"
   ]
  },
  {
   "cell_type": "markdown",
   "metadata": {},
   "source": [
    "### Exercise 4"
   ]
  },
  {
   "cell_type": "code",
   "execution_count": 51,
   "metadata": {},
   "outputs": [
    {
     "data": {
      "text/html": [
       "\n",
       "        <iframe\n",
       "            width=\"700\"\n",
       "            height=\"300\"\n",
       "            src=\"https://en.wikipedia.org/wiki/Democracy_Index\"\n",
       "            frameborder=\"0\"\n",
       "            allowfullscreen\n",
       "        ></iframe>\n",
       "        "
      ],
      "text/plain": [
       "<IPython.lib.display.IFrame at 0x2591aecfe10>"
      ]
     },
     "execution_count": 51,
     "metadata": {},
     "output_type": "execute_result"
    }
   ],
   "source": [
    "Link=\"https://en.wikipedia.org/wiki/Democracy_Index\" \n",
    "IFrame(Link, width=700, height=300)"
   ]
  },
  {
   "cell_type": "code",
   "execution_count": 104,
   "metadata": {},
   "outputs": [
    {
     "data": {
      "text/plain": [
       "list"
      ]
     },
     "execution_count": 104,
     "metadata": {},
     "output_type": "execute_result"
    }
   ],
   "source": [
    "DFs=pd.read_html(Link,header=0,flavor='bs4',attrs={'class': 'wikitable sortable'})\n",
    "type(DFs)"
   ]
  },
  {
   "cell_type": "code",
   "execution_count": 120,
   "metadata": {},
   "outputs": [
    {
     "data": {
      "text/plain": [
       "1"
      ]
     },
     "execution_count": 120,
     "metadata": {},
     "output_type": "execute_result"
    }
   ],
   "source": [
    "len(DFs)"
   ]
  },
  {
   "cell_type": "code",
   "execution_count": 106,
   "metadata": {},
   "outputs": [
    {
     "data": {
      "text/html": [
       "<div>\n",
       "<style scoped>\n",
       "    .dataframe tbody tr th:only-of-type {\n",
       "        vertical-align: middle;\n",
       "    }\n",
       "\n",
       "    .dataframe tbody tr th {\n",
       "        vertical-align: top;\n",
       "    }\n",
       "\n",
       "    .dataframe thead th {\n",
       "        text-align: right;\n",
       "    }\n",
       "</style>\n",
       "<table border=\"1\" class=\"dataframe\">\n",
       "  <thead>\n",
       "    <tr style=\"text-align: right;\">\n",
       "      <th></th>\n",
       "      <th>Rank</th>\n",
       "      <th>Country</th>\n",
       "      <th>Score</th>\n",
       "      <th>Electoral processand pluralism</th>\n",
       "      <th>Functioning ofgovernment</th>\n",
       "      <th>Politicalparticipation</th>\n",
       "      <th>Politicalculture</th>\n",
       "      <th>Civilliberties</th>\n",
       "      <th>Regimetype</th>\n",
       "      <th>Continent</th>\n",
       "    </tr>\n",
       "  </thead>\n",
       "  <tbody>\n",
       "    <tr>\n",
       "      <th>0</th>\n",
       "      <td>1</td>\n",
       "      <td>Norway</td>\n",
       "      <td>9.87</td>\n",
       "      <td>10.00</td>\n",
       "      <td>9.64</td>\n",
       "      <td>10.00</td>\n",
       "      <td>10.00</td>\n",
       "      <td>9.71</td>\n",
       "      <td>Full democracy</td>\n",
       "      <td>Europe</td>\n",
       "    </tr>\n",
       "    <tr>\n",
       "      <th>1</th>\n",
       "      <td>2</td>\n",
       "      <td>Iceland</td>\n",
       "      <td>9.58</td>\n",
       "      <td>10.00</td>\n",
       "      <td>9.29</td>\n",
       "      <td>8.89</td>\n",
       "      <td>10.00</td>\n",
       "      <td>9.71</td>\n",
       "      <td>Full democracy</td>\n",
       "      <td>Europe</td>\n",
       "    </tr>\n",
       "    <tr>\n",
       "      <th>2</th>\n",
       "      <td>3</td>\n",
       "      <td>Sweden</td>\n",
       "      <td>9.39</td>\n",
       "      <td>9.58</td>\n",
       "      <td>9.64</td>\n",
       "      <td>8.33</td>\n",
       "      <td>10.00</td>\n",
       "      <td>9.41</td>\n",
       "      <td>Full democracy</td>\n",
       "      <td>Europe</td>\n",
       "    </tr>\n",
       "    <tr>\n",
       "      <th>3</th>\n",
       "      <td>4</td>\n",
       "      <td>New Zealand</td>\n",
       "      <td>9.26</td>\n",
       "      <td>10.00</td>\n",
       "      <td>9.29</td>\n",
       "      <td>8.89</td>\n",
       "      <td>8.13</td>\n",
       "      <td>10.00</td>\n",
       "      <td>Full democracy</td>\n",
       "      <td>Oceania</td>\n",
       "    </tr>\n",
       "    <tr>\n",
       "      <th>4</th>\n",
       "      <td>5</td>\n",
       "      <td>Denmark</td>\n",
       "      <td>9.22</td>\n",
       "      <td>10.00</td>\n",
       "      <td>9.29</td>\n",
       "      <td>8.33</td>\n",
       "      <td>9.38</td>\n",
       "      <td>9.12</td>\n",
       "      <td>Full democracy</td>\n",
       "      <td>Europe</td>\n",
       "    </tr>\n",
       "  </tbody>\n",
       "</table>\n",
       "</div>"
      ],
      "text/plain": [
       "  Rank      Country Score Electoral processand pluralism  \\\n",
       "0    1       Norway  9.87                          10.00   \n",
       "1    2      Iceland  9.58                          10.00   \n",
       "2    3       Sweden  9.39                           9.58   \n",
       "3    4  New Zealand  9.26                          10.00   \n",
       "4    5      Denmark  9.22                          10.00   \n",
       "\n",
       "  Functioning ofgovernment Politicalparticipation Politicalculture  \\\n",
       "0                     9.64                  10.00            10.00   \n",
       "1                     9.29                   8.89            10.00   \n",
       "2                     9.64                   8.33            10.00   \n",
       "3                     9.29                   8.89             8.13   \n",
       "4                     9.29                   8.33             9.38   \n",
       "\n",
       "  Civilliberties      Regimetype Continent  \n",
       "0           9.71  Full democracy    Europe  \n",
       "1           9.71  Full democracy    Europe  \n",
       "2           9.41  Full democracy    Europe  \n",
       "3          10.00  Full democracy   Oceania  \n",
       "4           9.12  Full democracy    Europe  "
      ]
     },
     "execution_count": 106,
     "metadata": {},
     "output_type": "execute_result"
    }
   ],
   "source": [
    "DFs[0].head()"
   ]
  },
  {
   "cell_type": "code",
   "execution_count": 107,
   "metadata": {},
   "outputs": [
    {
     "data": {
      "text/html": [
       "<div>\n",
       "<style scoped>\n",
       "    .dataframe tbody tr th:only-of-type {\n",
       "        vertical-align: middle;\n",
       "    }\n",
       "\n",
       "    .dataframe tbody tr th {\n",
       "        vertical-align: top;\n",
       "    }\n",
       "\n",
       "    .dataframe thead th {\n",
       "        text-align: right;\n",
       "    }\n",
       "</style>\n",
       "<table border=\"1\" class=\"dataframe\">\n",
       "  <thead>\n",
       "    <tr style=\"text-align: right;\">\n",
       "      <th></th>\n",
       "      <th>Rank</th>\n",
       "      <th>Country</th>\n",
       "      <th>Score</th>\n",
       "      <th>Electoral processand pluralism</th>\n",
       "      <th>Functioning ofgovernment</th>\n",
       "      <th>Politicalparticipation</th>\n",
       "      <th>Politicalculture</th>\n",
       "      <th>Civilliberties</th>\n",
       "      <th>Regimetype</th>\n",
       "      <th>Continent</th>\n",
       "    </tr>\n",
       "  </thead>\n",
       "  <tbody>\n",
       "    <tr>\n",
       "      <th>163</th>\n",
       "      <td>164</td>\n",
       "      <td>Central African Republic</td>\n",
       "      <td>1.52</td>\n",
       "      <td>2.25</td>\n",
       "      <td>0.00</td>\n",
       "      <td>1.11</td>\n",
       "      <td>1.88</td>\n",
       "      <td>2.35</td>\n",
       "      <td>Authoritarian</td>\n",
       "      <td>Africa</td>\n",
       "    </tr>\n",
       "    <tr>\n",
       "      <th>164</th>\n",
       "      <td>165</td>\n",
       "      <td>Democratic Republic of the Congo</td>\n",
       "      <td>1.49</td>\n",
       "      <td>0.50</td>\n",
       "      <td>0.71</td>\n",
       "      <td>2.22</td>\n",
       "      <td>3.13</td>\n",
       "      <td>0.88</td>\n",
       "      <td>Authoritarian</td>\n",
       "      <td>Africa</td>\n",
       "    </tr>\n",
       "    <tr>\n",
       "      <th>165</th>\n",
       "      <td>166</td>\n",
       "      <td>Syria</td>\n",
       "      <td>1.43</td>\n",
       "      <td>0.00</td>\n",
       "      <td>0.00</td>\n",
       "      <td>2.78</td>\n",
       "      <td>4.38</td>\n",
       "      <td>0.00</td>\n",
       "      <td>Authoritarian</td>\n",
       "      <td>Asia</td>\n",
       "    </tr>\n",
       "    <tr>\n",
       "      <th>166</th>\n",
       "      <td>167</td>\n",
       "      <td>North Korea</td>\n",
       "      <td>1.08</td>\n",
       "      <td>0.00</td>\n",
       "      <td>2.50</td>\n",
       "      <td>1.67</td>\n",
       "      <td>1.25</td>\n",
       "      <td>0.00</td>\n",
       "      <td>Authoritarian</td>\n",
       "      <td>Asia</td>\n",
       "    </tr>\n",
       "    <tr>\n",
       "      <th>167</th>\n",
       "      <td>Rank</td>\n",
       "      <td>Country</td>\n",
       "      <td>Score</td>\n",
       "      <td>Electoral processand pluralism</td>\n",
       "      <td>Functioning ofgovernment</td>\n",
       "      <td>Politicalparticipation</td>\n",
       "      <td>Politicalculture</td>\n",
       "      <td>Civilliberties</td>\n",
       "      <td>Regimetype</td>\n",
       "      <td>Continent</td>\n",
       "    </tr>\n",
       "  </tbody>\n",
       "</table>\n",
       "</div>"
      ],
      "text/plain": [
       "     Rank                           Country  Score  \\\n",
       "163   164          Central African Republic   1.52   \n",
       "164   165  Democratic Republic of the Congo   1.49   \n",
       "165   166                             Syria   1.43   \n",
       "166   167                       North Korea   1.08   \n",
       "167  Rank                           Country  Score   \n",
       "\n",
       "     Electoral processand pluralism  Functioning ofgovernment  \\\n",
       "163                            2.25                      0.00   \n",
       "164                            0.50                      0.71   \n",
       "165                            0.00                      0.00   \n",
       "166                            0.00                      2.50   \n",
       "167  Electoral processand pluralism  Functioning ofgovernment   \n",
       "\n",
       "     Politicalparticipation  Politicalculture  Civilliberties     Regimetype  \\\n",
       "163                    1.11              1.88            2.35  Authoritarian   \n",
       "164                    2.22              3.13            0.88  Authoritarian   \n",
       "165                    2.78              4.38            0.00  Authoritarian   \n",
       "166                    1.67              1.25            0.00  Authoritarian   \n",
       "167  Politicalparticipation  Politicalculture  Civilliberties     Regimetype   \n",
       "\n",
       "     Continent  \n",
       "163     Africa  \n",
       "164     Africa  \n",
       "165       Asia  \n",
       "166       Asia  \n",
       "167  Continent  "
      ]
     },
     "execution_count": 107,
     "metadata": {},
     "output_type": "execute_result"
    }
   ],
   "source": [
    "DFs[0].tail()"
   ]
  },
  {
   "cell_type": "code",
   "execution_count": 108,
   "metadata": {},
   "outputs": [],
   "source": [
    "DF=DFs[0].copy()"
   ]
  },
  {
   "cell_type": "code",
   "execution_count": 110,
   "metadata": {},
   "outputs": [
    {
     "data": {
      "text/plain": [
       "Index(['Electoral processand pluralism', 'Functioning ofgovernment'], dtype='object')"
      ]
     },
     "execution_count": 110,
     "metadata": {},
     "output_type": "execute_result"
    }
   ],
   "source": [
    "DF.iloc[:, [3,4]].columns"
   ]
  },
  {
   "cell_type": "markdown",
   "metadata": {},
   "source": [
    "# All the spaces in column name to be removed "
   ]
  },
  {
   "cell_type": "code",
   "execution_count": 111,
   "metadata": {},
   "outputs": [],
   "source": [
    "pattern='\\\\s+'\n",
    "nothing=''\n",
    "\n",
    "someNewNames=DF.columns.str.replace(pattern,nothing)"
   ]
  },
  {
   "cell_type": "code",
   "execution_count": 112,
   "metadata": {},
   "outputs": [
    {
     "data": {
      "text/plain": [
       "{'Rank': 'Rank',\n",
       " 'Country': 'Country',\n",
       " 'Score': 'Score',\n",
       " 'Electoral processand pluralism': 'Electoralprocessandpluralism',\n",
       " 'Functioning ofgovernment': 'Functioningofgovernment',\n",
       " 'Politicalparticipation': 'Politicalparticipation',\n",
       " 'Politicalculture': 'Politicalculture',\n",
       " 'Civilliberties': 'Civilliberties',\n",
       " 'Regimetype': 'Regimetype',\n",
       " 'Continent': 'Continent'}"
      ]
     },
     "execution_count": 112,
     "metadata": {},
     "output_type": "execute_result"
    }
   ],
   "source": [
    "changes={old:new for old,new in zip(DF.columns,someNewNames)}\n",
    "\n",
    "changes"
   ]
  },
  {
   "cell_type": "code",
   "execution_count": 113,
   "metadata": {},
   "outputs": [],
   "source": [
    "DF.rename(columns=changes,inplace=True)"
   ]
  },
  {
   "cell_type": "code",
   "execution_count": 114,
   "metadata": {},
   "outputs": [
    {
     "data": {
      "text/plain": [
       "Index(['Rank', 'Country', 'Score', 'Electoralprocessandpluralism',\n",
       "       'Functioningofgovernment', 'Politicalparticipation', 'Politicalculture',\n",
       "       'Civilliberties', 'Regimetype', 'Continent'],\n",
       "      dtype='object')"
      ]
     },
     "execution_count": 114,
     "metadata": {},
     "output_type": "execute_result"
    }
   ],
   "source": [
    "DF.columns"
   ]
  },
  {
   "cell_type": "code",
   "execution_count": 115,
   "metadata": {},
   "outputs": [
    {
     "data": {
      "text/html": [
       "<div>\n",
       "<style scoped>\n",
       "    .dataframe tbody tr th:only-of-type {\n",
       "        vertical-align: middle;\n",
       "    }\n",
       "\n",
       "    .dataframe tbody tr th {\n",
       "        vertical-align: top;\n",
       "    }\n",
       "\n",
       "    .dataframe thead th {\n",
       "        text-align: right;\n",
       "    }\n",
       "</style>\n",
       "<table border=\"1\" class=\"dataframe\">\n",
       "  <thead>\n",
       "    <tr style=\"text-align: right;\">\n",
       "      <th></th>\n",
       "      <th>Rank</th>\n",
       "      <th>Country</th>\n",
       "      <th>Score</th>\n",
       "      <th>Electoralprocessandpluralism</th>\n",
       "      <th>Functioningofgovernment</th>\n",
       "      <th>Politicalparticipation</th>\n",
       "      <th>Politicalculture</th>\n",
       "      <th>Civilliberties</th>\n",
       "      <th>Regimetype</th>\n",
       "      <th>Continent</th>\n",
       "    </tr>\n",
       "  </thead>\n",
       "  <tbody>\n",
       "    <tr>\n",
       "      <th>0</th>\n",
       "      <td>1</td>\n",
       "      <td>Norway</td>\n",
       "      <td>9.87</td>\n",
       "      <td>10.00</td>\n",
       "      <td>9.64</td>\n",
       "      <td>10.00</td>\n",
       "      <td>10.00</td>\n",
       "      <td>9.71</td>\n",
       "      <td>Full democracy</td>\n",
       "      <td>Europe</td>\n",
       "    </tr>\n",
       "    <tr>\n",
       "      <th>1</th>\n",
       "      <td>2</td>\n",
       "      <td>Iceland</td>\n",
       "      <td>9.58</td>\n",
       "      <td>10.00</td>\n",
       "      <td>9.29</td>\n",
       "      <td>8.89</td>\n",
       "      <td>10.00</td>\n",
       "      <td>9.71</td>\n",
       "      <td>Full democracy</td>\n",
       "      <td>Europe</td>\n",
       "    </tr>\n",
       "    <tr>\n",
       "      <th>2</th>\n",
       "      <td>3</td>\n",
       "      <td>Sweden</td>\n",
       "      <td>9.39</td>\n",
       "      <td>9.58</td>\n",
       "      <td>9.64</td>\n",
       "      <td>8.33</td>\n",
       "      <td>10.00</td>\n",
       "      <td>9.41</td>\n",
       "      <td>Full democracy</td>\n",
       "      <td>Europe</td>\n",
       "    </tr>\n",
       "    <tr>\n",
       "      <th>3</th>\n",
       "      <td>4</td>\n",
       "      <td>New Zealand</td>\n",
       "      <td>9.26</td>\n",
       "      <td>10.00</td>\n",
       "      <td>9.29</td>\n",
       "      <td>8.89</td>\n",
       "      <td>8.13</td>\n",
       "      <td>10.00</td>\n",
       "      <td>Full democracy</td>\n",
       "      <td>Oceania</td>\n",
       "    </tr>\n",
       "    <tr>\n",
       "      <th>4</th>\n",
       "      <td>5</td>\n",
       "      <td>Denmark</td>\n",
       "      <td>9.22</td>\n",
       "      <td>10.00</td>\n",
       "      <td>9.29</td>\n",
       "      <td>8.33</td>\n",
       "      <td>9.38</td>\n",
       "      <td>9.12</td>\n",
       "      <td>Full democracy</td>\n",
       "      <td>Europe</td>\n",
       "    </tr>\n",
       "  </tbody>\n",
       "</table>\n",
       "</div>"
      ],
      "text/plain": [
       "  Rank      Country Score Electoralprocessandpluralism  \\\n",
       "0    1       Norway  9.87                        10.00   \n",
       "1    2      Iceland  9.58                        10.00   \n",
       "2    3       Sweden  9.39                         9.58   \n",
       "3    4  New Zealand  9.26                        10.00   \n",
       "4    5      Denmark  9.22                        10.00   \n",
       "\n",
       "  Functioningofgovernment Politicalparticipation Politicalculture  \\\n",
       "0                    9.64                  10.00            10.00   \n",
       "1                    9.29                   8.89            10.00   \n",
       "2                    9.64                   8.33            10.00   \n",
       "3                    9.29                   8.89             8.13   \n",
       "4                    9.29                   8.33             9.38   \n",
       "\n",
       "  Civilliberties      Regimetype Continent  \n",
       "0           9.71  Full democracy    Europe  \n",
       "1           9.71  Full democracy    Europe  \n",
       "2           9.41  Full democracy    Europe  \n",
       "3          10.00  Full democracy   Oceania  \n",
       "4           9.12  Full democracy    Europe  "
      ]
     },
     "execution_count": 115,
     "metadata": {},
     "output_type": "execute_result"
    }
   ],
   "source": [
    "DF.head()"
   ]
  },
  {
   "cell_type": "code",
   "execution_count": 116,
   "metadata": {},
   "outputs": [
    {
     "data": {
      "text/html": [
       "<div>\n",
       "<style scoped>\n",
       "    .dataframe tbody tr th:only-of-type {\n",
       "        vertical-align: middle;\n",
       "    }\n",
       "\n",
       "    .dataframe tbody tr th {\n",
       "        vertical-align: top;\n",
       "    }\n",
       "\n",
       "    .dataframe thead th {\n",
       "        text-align: right;\n",
       "    }\n",
       "</style>\n",
       "<table border=\"1\" class=\"dataframe\">\n",
       "  <thead>\n",
       "    <tr style=\"text-align: right;\">\n",
       "      <th></th>\n",
       "      <th>Rank</th>\n",
       "      <th>Country</th>\n",
       "      <th>Score</th>\n",
       "      <th>Electoralprocessandpluralism</th>\n",
       "      <th>Functioningofgovernment</th>\n",
       "      <th>Politicalparticipation</th>\n",
       "      <th>Politicalculture</th>\n",
       "      <th>Civilliberties</th>\n",
       "      <th>Regimetype</th>\n",
       "      <th>Continent</th>\n",
       "    </tr>\n",
       "  </thead>\n",
       "  <tbody>\n",
       "    <tr>\n",
       "      <th>163</th>\n",
       "      <td>164</td>\n",
       "      <td>Central African Republic</td>\n",
       "      <td>1.52</td>\n",
       "      <td>2.25</td>\n",
       "      <td>0.00</td>\n",
       "      <td>1.11</td>\n",
       "      <td>1.88</td>\n",
       "      <td>2.35</td>\n",
       "      <td>Authoritarian</td>\n",
       "      <td>Africa</td>\n",
       "    </tr>\n",
       "    <tr>\n",
       "      <th>164</th>\n",
       "      <td>165</td>\n",
       "      <td>Democratic Republic of the Congo</td>\n",
       "      <td>1.49</td>\n",
       "      <td>0.50</td>\n",
       "      <td>0.71</td>\n",
       "      <td>2.22</td>\n",
       "      <td>3.13</td>\n",
       "      <td>0.88</td>\n",
       "      <td>Authoritarian</td>\n",
       "      <td>Africa</td>\n",
       "    </tr>\n",
       "    <tr>\n",
       "      <th>165</th>\n",
       "      <td>166</td>\n",
       "      <td>Syria</td>\n",
       "      <td>1.43</td>\n",
       "      <td>0.00</td>\n",
       "      <td>0.00</td>\n",
       "      <td>2.78</td>\n",
       "      <td>4.38</td>\n",
       "      <td>0.00</td>\n",
       "      <td>Authoritarian</td>\n",
       "      <td>Asia</td>\n",
       "    </tr>\n",
       "    <tr>\n",
       "      <th>166</th>\n",
       "      <td>167</td>\n",
       "      <td>North Korea</td>\n",
       "      <td>1.08</td>\n",
       "      <td>0.00</td>\n",
       "      <td>2.50</td>\n",
       "      <td>1.67</td>\n",
       "      <td>1.25</td>\n",
       "      <td>0.00</td>\n",
       "      <td>Authoritarian</td>\n",
       "      <td>Asia</td>\n",
       "    </tr>\n",
       "    <tr>\n",
       "      <th>167</th>\n",
       "      <td>Rank</td>\n",
       "      <td>Country</td>\n",
       "      <td>Score</td>\n",
       "      <td>Electoral processand pluralism</td>\n",
       "      <td>Functioning ofgovernment</td>\n",
       "      <td>Politicalparticipation</td>\n",
       "      <td>Politicalculture</td>\n",
       "      <td>Civilliberties</td>\n",
       "      <td>Regimetype</td>\n",
       "      <td>Continent</td>\n",
       "    </tr>\n",
       "  </tbody>\n",
       "</table>\n",
       "</div>"
      ],
      "text/plain": [
       "     Rank                           Country  Score  \\\n",
       "163   164          Central African Republic   1.52   \n",
       "164   165  Democratic Republic of the Congo   1.49   \n",
       "165   166                             Syria   1.43   \n",
       "166   167                       North Korea   1.08   \n",
       "167  Rank                           Country  Score   \n",
       "\n",
       "       Electoralprocessandpluralism   Functioningofgovernment  \\\n",
       "163                            2.25                      0.00   \n",
       "164                            0.50                      0.71   \n",
       "165                            0.00                      0.00   \n",
       "166                            0.00                      2.50   \n",
       "167  Electoral processand pluralism  Functioning ofgovernment   \n",
       "\n",
       "     Politicalparticipation  Politicalculture  Civilliberties     Regimetype  \\\n",
       "163                    1.11              1.88            2.35  Authoritarian   \n",
       "164                    2.22              3.13            0.88  Authoritarian   \n",
       "165                    2.78              4.38            0.00  Authoritarian   \n",
       "166                    1.67              1.25            0.00  Authoritarian   \n",
       "167  Politicalparticipation  Politicalculture  Civilliberties     Regimetype   \n",
       "\n",
       "     Continent  \n",
       "163     Africa  \n",
       "164     Africa  \n",
       "165       Asia  \n",
       "166       Asia  \n",
       "167  Continent  "
      ]
     },
     "execution_count": 116,
     "metadata": {},
     "output_type": "execute_result"
    }
   ],
   "source": [
    "DF.tail()"
   ]
  },
  {
   "cell_type": "markdown",
   "metadata": {},
   "source": [
    "# Last row to be removed"
   ]
  },
  {
   "cell_type": "code",
   "execution_count": 117,
   "metadata": {},
   "outputs": [],
   "source": [
    "DF_new=DF.iloc[:-1, ].copy()\n",
    "# DF_new=DF.drop[-1, Axis=0, Inplace=True].copy()"
   ]
  },
  {
   "cell_type": "code",
   "execution_count": 119,
   "metadata": {},
   "outputs": [
    {
     "data": {
      "text/html": [
       "<div>\n",
       "<style scoped>\n",
       "    .dataframe tbody tr th:only-of-type {\n",
       "        vertical-align: middle;\n",
       "    }\n",
       "\n",
       "    .dataframe tbody tr th {\n",
       "        vertical-align: top;\n",
       "    }\n",
       "\n",
       "    .dataframe thead th {\n",
       "        text-align: right;\n",
       "    }\n",
       "</style>\n",
       "<table border=\"1\" class=\"dataframe\">\n",
       "  <thead>\n",
       "    <tr style=\"text-align: right;\">\n",
       "      <th></th>\n",
       "      <th>Rank</th>\n",
       "      <th>Country</th>\n",
       "      <th>Score</th>\n",
       "      <th>Electoralprocessandpluralism</th>\n",
       "      <th>Functioningofgovernment</th>\n",
       "      <th>Politicalparticipation</th>\n",
       "      <th>Politicalculture</th>\n",
       "      <th>Civilliberties</th>\n",
       "      <th>Regimetype</th>\n",
       "      <th>Continent</th>\n",
       "    </tr>\n",
       "  </thead>\n",
       "  <tbody>\n",
       "    <tr>\n",
       "      <th>162</th>\n",
       "      <td>163</td>\n",
       "      <td>Chad</td>\n",
       "      <td>1.61</td>\n",
       "      <td>0.00</td>\n",
       "      <td>0.00</td>\n",
       "      <td>1.67</td>\n",
       "      <td>3.75</td>\n",
       "      <td>2.65</td>\n",
       "      <td>Authoritarian</td>\n",
       "      <td>Africa</td>\n",
       "    </tr>\n",
       "    <tr>\n",
       "      <th>163</th>\n",
       "      <td>164</td>\n",
       "      <td>Central African Republic</td>\n",
       "      <td>1.52</td>\n",
       "      <td>2.25</td>\n",
       "      <td>0.00</td>\n",
       "      <td>1.11</td>\n",
       "      <td>1.88</td>\n",
       "      <td>2.35</td>\n",
       "      <td>Authoritarian</td>\n",
       "      <td>Africa</td>\n",
       "    </tr>\n",
       "    <tr>\n",
       "      <th>164</th>\n",
       "      <td>165</td>\n",
       "      <td>Democratic Republic of the Congo</td>\n",
       "      <td>1.49</td>\n",
       "      <td>0.50</td>\n",
       "      <td>0.71</td>\n",
       "      <td>2.22</td>\n",
       "      <td>3.13</td>\n",
       "      <td>0.88</td>\n",
       "      <td>Authoritarian</td>\n",
       "      <td>Africa</td>\n",
       "    </tr>\n",
       "    <tr>\n",
       "      <th>165</th>\n",
       "      <td>166</td>\n",
       "      <td>Syria</td>\n",
       "      <td>1.43</td>\n",
       "      <td>0.00</td>\n",
       "      <td>0.00</td>\n",
       "      <td>2.78</td>\n",
       "      <td>4.38</td>\n",
       "      <td>0.00</td>\n",
       "      <td>Authoritarian</td>\n",
       "      <td>Asia</td>\n",
       "    </tr>\n",
       "    <tr>\n",
       "      <th>166</th>\n",
       "      <td>167</td>\n",
       "      <td>North Korea</td>\n",
       "      <td>1.08</td>\n",
       "      <td>0.00</td>\n",
       "      <td>2.50</td>\n",
       "      <td>1.67</td>\n",
       "      <td>1.25</td>\n",
       "      <td>0.00</td>\n",
       "      <td>Authoritarian</td>\n",
       "      <td>Asia</td>\n",
       "    </tr>\n",
       "  </tbody>\n",
       "</table>\n",
       "</div>"
      ],
      "text/plain": [
       "    Rank                           Country Score Electoralprocessandpluralism  \\\n",
       "162  163                              Chad  1.61                         0.00   \n",
       "163  164          Central African Republic  1.52                         2.25   \n",
       "164  165  Democratic Republic of the Congo  1.49                         0.50   \n",
       "165  166                             Syria  1.43                         0.00   \n",
       "166  167                       North Korea  1.08                         0.00   \n",
       "\n",
       "    Functioningofgovernment Politicalparticipation Politicalculture  \\\n",
       "162                    0.00                   1.67             3.75   \n",
       "163                    0.00                   1.11             1.88   \n",
       "164                    0.71                   2.22             3.13   \n",
       "165                    0.00                   2.78             4.38   \n",
       "166                    2.50                   1.67             1.25   \n",
       "\n",
       "    Civilliberties     Regimetype Continent  \n",
       "162           2.65  Authoritarian    Africa  \n",
       "163           2.35  Authoritarian    Africa  \n",
       "164           0.88  Authoritarian    Africa  \n",
       "165           0.00  Authoritarian      Asia  \n",
       "166           0.00  Authoritarian      Asia  "
      ]
     },
     "execution_count": 119,
     "metadata": {},
     "output_type": "execute_result"
    }
   ],
   "source": [
    "DF_new.tail()"
   ]
  },
  {
   "cell_type": "markdown",
   "metadata": {},
   "source": [
    "### Excercise 5"
   ]
  },
  {
   "cell_type": "code",
   "execution_count": 77,
   "metadata": {},
   "outputs": [],
   "source": [
    "import requests\n",
    "\n",
    "url = \"https://data.wa.gov/resource/2cup-2fnu.json?year=2014\"\n",
    "response = requests.get(url)\n",
    "\n",
    "if response.status_code == 200:\n",
    "    medicare = response.json()\n",
    "\n",
    "medicare2014 = pd.DataFrame(medicare)"
   ]
  },
  {
   "cell_type": "code",
   "execution_count": 78,
   "metadata": {},
   "outputs": [
    {
     "data": {
      "text/html": [
       "<div>\n",
       "<style scoped>\n",
       "    .dataframe tbody tr th:only-of-type {\n",
       "        vertical-align: middle;\n",
       "    }\n",
       "\n",
       "    .dataframe tbody tr th {\n",
       "        vertical-align: top;\n",
       "    }\n",
       "\n",
       "    .dataframe thead th {\n",
       "        text-align: right;\n",
       "    }\n",
       "</style>\n",
       "<table border=\"1\" class=\"dataframe\">\n",
       "  <thead>\n",
       "    <tr style=\"text-align: right;\">\n",
       "      <th></th>\n",
       "      <th>county</th>\n",
       "      <th>to_sort_by_county_and_year</th>\n",
       "      <th>to_sort_by_year_and_county</th>\n",
       "      <th>year</th>\n",
       "      <th>state_and_county_fips_code</th>\n",
       "      <th>beneficiaries_with_part_a_and_part_b</th>\n",
       "      <th>ffs_beneficiaries</th>\n",
       "      <th>ma_beneficiaries</th>\n",
       "      <th>ma_participation_rate</th>\n",
       "      <th>average_age</th>\n",
       "      <th>percent_female</th>\n",
       "      <th>percent_male</th>\n",
       "      <th>percent_non_hispanic_white</th>\n",
       "      <th>percent_african_american</th>\n",
       "      <th>percent_hispanic</th>\n",
       "      <th>percent_other_unknown</th>\n",
       "      <th>percent_eligible_for_medicaid</th>\n",
       "      <th>average_hcc_score</th>\n",
       "    </tr>\n",
       "  </thead>\n",
       "  <tbody>\n",
       "    <tr>\n",
       "      <th>0</th>\n",
       "      <td>STATE TOTAL</td>\n",
       "      <td>0.2014</td>\n",
       "      <td>2014</td>\n",
       "      <td>2014</td>\n",
       "      <td>.</td>\n",
       "      <td>1098715</td>\n",
       "      <td>739717</td>\n",
       "      <td>358998</td>\n",
       "      <td>32.7</td>\n",
       "      <td>71.0</td>\n",
       "      <td>53.2</td>\n",
       "      <td>46.9</td>\n",
       "      <td>86.3</td>\n",
       "      <td>2.6</td>\n",
       "      <td>3.4</td>\n",
       "      <td>7.7</td>\n",
       "      <td>19.1</td>\n",
       "      <td>0.90</td>\n",
       "    </tr>\n",
       "    <tr>\n",
       "      <th>1</th>\n",
       "      <td>ADAMS</td>\n",
       "      <td>530012014</td>\n",
       "      <td>201453001</td>\n",
       "      <td>2014</td>\n",
       "      <td>53001</td>\n",
       "      <td>1557</td>\n",
       "      <td>1333</td>\n",
       "      <td>224</td>\n",
       "      <td>14.4</td>\n",
       "      <td>73.0</td>\n",
       "      <td>51.2</td>\n",
       "      <td>48.8</td>\n",
       "      <td>NaN</td>\n",
       "      <td>NaN</td>\n",
       "      <td>NaN</td>\n",
       "      <td>NaN</td>\n",
       "      <td>15.6</td>\n",
       "      <td>0.86</td>\n",
       "    </tr>\n",
       "    <tr>\n",
       "      <th>2</th>\n",
       "      <td>ASOTIN</td>\n",
       "      <td>530032014</td>\n",
       "      <td>201453003</td>\n",
       "      <td>2014</td>\n",
       "      <td>53003</td>\n",
       "      <td>5426</td>\n",
       "      <td>4515</td>\n",
       "      <td>911</td>\n",
       "      <td>16.8</td>\n",
       "      <td>71.0</td>\n",
       "      <td>51.8</td>\n",
       "      <td>48.2</td>\n",
       "      <td>NaN</td>\n",
       "      <td>NaN</td>\n",
       "      <td>NaN</td>\n",
       "      <td>NaN</td>\n",
       "      <td>18.5</td>\n",
       "      <td>0.93</td>\n",
       "    </tr>\n",
       "    <tr>\n",
       "      <th>3</th>\n",
       "      <td>BENTON</td>\n",
       "      <td>530052014</td>\n",
       "      <td>201453005</td>\n",
       "      <td>2014</td>\n",
       "      <td>53005</td>\n",
       "      <td>28303</td>\n",
       "      <td>24054</td>\n",
       "      <td>4249</td>\n",
       "      <td>15.0</td>\n",
       "      <td>71.0</td>\n",
       "      <td>53.8</td>\n",
       "      <td>46.2</td>\n",
       "      <td>90.0</td>\n",
       "      <td>0.8</td>\n",
       "      <td>5.1</td>\n",
       "      <td>4.1</td>\n",
       "      <td>15.5</td>\n",
       "      <td>0.92</td>\n",
       "    </tr>\n",
       "    <tr>\n",
       "      <th>4</th>\n",
       "      <td>CHELAN</td>\n",
       "      <td>530072014</td>\n",
       "      <td>201453007</td>\n",
       "      <td>2014</td>\n",
       "      <td>53007</td>\n",
       "      <td>11040</td>\n",
       "      <td>8884</td>\n",
       "      <td>2156</td>\n",
       "      <td>19.5</td>\n",
       "      <td>72.0</td>\n",
       "      <td>51.3</td>\n",
       "      <td>48.7</td>\n",
       "      <td>91.7</td>\n",
       "      <td>0.2</td>\n",
       "      <td>5.4</td>\n",
       "      <td>2.7</td>\n",
       "      <td>20.2</td>\n",
       "      <td>0.86</td>\n",
       "    </tr>\n",
       "  </tbody>\n",
       "</table>\n",
       "</div>"
      ],
      "text/plain": [
       "        county to_sort_by_county_and_year to_sort_by_year_and_county  year  \\\n",
       "0  STATE TOTAL                     0.2014                       2014  2014   \n",
       "1        ADAMS                  530012014                  201453001  2014   \n",
       "2       ASOTIN                  530032014                  201453003  2014   \n",
       "3       BENTON                  530052014                  201453005  2014   \n",
       "4       CHELAN                  530072014                  201453007  2014   \n",
       "\n",
       "  state_and_county_fips_code beneficiaries_with_part_a_and_part_b  \\\n",
       "0                          .                              1098715   \n",
       "1                      53001                                 1557   \n",
       "2                      53003                                 5426   \n",
       "3                      53005                                28303   \n",
       "4                      53007                                11040   \n",
       "\n",
       "  ffs_beneficiaries ma_beneficiaries ma_participation_rate average_age  \\\n",
       "0            739717           358998                  32.7        71.0   \n",
       "1              1333              224                  14.4        73.0   \n",
       "2              4515              911                  16.8        71.0   \n",
       "3             24054             4249                  15.0        71.0   \n",
       "4              8884             2156                  19.5        72.0   \n",
       "\n",
       "  percent_female percent_male percent_non_hispanic_white  \\\n",
       "0           53.2         46.9                       86.3   \n",
       "1           51.2         48.8                        NaN   \n",
       "2           51.8         48.2                        NaN   \n",
       "3           53.8         46.2                       90.0   \n",
       "4           51.3         48.7                       91.7   \n",
       "\n",
       "  percent_african_american percent_hispanic percent_other_unknown  \\\n",
       "0                      2.6              3.4                   7.7   \n",
       "1                      NaN              NaN                   NaN   \n",
       "2                      NaN              NaN                   NaN   \n",
       "3                      0.8              5.1                   4.1   \n",
       "4                      0.2              5.4                   2.7   \n",
       "\n",
       "  percent_eligible_for_medicaid average_hcc_score  \n",
       "0                          19.1              0.90  \n",
       "1                          15.6              0.86  \n",
       "2                          18.5              0.93  \n",
       "3                          15.5              0.92  \n",
       "4                          20.2              0.86  "
      ]
     },
     "execution_count": 78,
     "metadata": {},
     "output_type": "execute_result"
    }
   ],
   "source": [
    "medicare2014.head()"
   ]
  },
  {
   "cell_type": "markdown",
   "metadata": {},
   "source": [
    "### Excercise 6"
   ]
  },
  {
   "cell_type": "code",
   "execution_count": null,
   "metadata": {},
   "outputs": [],
   "source": [
    "Link=\"https://www.cia.gov/library/publications/resources/the-world-factbook/fields/274.html\" \n",
    "IFrame(Link, width=700, height=300)"
   ]
  },
  {
   "cell_type": "code",
   "execution_count": null,
   "metadata": {},
   "outputs": [],
   "source": [
    "### Excercise 7"
   ]
  },
  {
   "cell_type": "code",
   "execution_count": null,
   "metadata": {},
   "outputs": [],
   "source": [
    "link=\"https://docs.google.com/spreadsheets/d/e/2PACX-1vTSP3WQhryCkQsoUSVapHTPhqcbt5CVU-2tM8GVGACsq8oqY9mxXMMTffwqItZAOCliycnICRi8OlC4/pub?gid=39157977&single=true&output=csv\" \n",
    "fromGoogle=pd.read_csv(link)\n",
    "\n",
    "fromGoogle.head()"
   ]
  },
  {
   "cell_type": "markdown",
   "metadata": {},
   "source": [
    "### Another example"
   ]
  },
  {
   "cell_type": "code",
   "execution_count": 52,
   "metadata": {},
   "outputs": [],
   "source": [
    "dataFile='https://github.com/UWDataScience2020/data/raw/master/wapubs.xlsx'\n",
    "schoolPub=pd.read_excel(dataFile) "
   ]
  },
  {
   "cell_type": "code",
   "execution_count": 54,
   "metadata": {},
   "outputs": [
    {
     "data": {
      "text/html": [
       "<div>\n",
       "<style scoped>\n",
       "    .dataframe tbody tr th:only-of-type {\n",
       "        vertical-align: middle;\n",
       "    }\n",
       "\n",
       "    .dataframe tbody tr th {\n",
       "        vertical-align: top;\n",
       "    }\n",
       "\n",
       "    .dataframe thead th {\n",
       "        text-align: right;\n",
       "    }\n",
       "</style>\n",
       "<table border=\"1\" class=\"dataframe\">\n",
       "  <thead>\n",
       "    <tr style=\"text-align: right;\">\n",
       "      <th></th>\n",
       "      <th>National Center for Education Statistics</th>\n",
       "      <th>Unnamed: 1</th>\n",
       "      <th>Unnamed: 2</th>\n",
       "      <th>Unnamed: 3</th>\n",
       "      <th>Unnamed: 4</th>\n",
       "      <th>Unnamed: 5</th>\n",
       "      <th>Unnamed: 6</th>\n",
       "      <th>Unnamed: 7</th>\n",
       "      <th>Unnamed: 8</th>\n",
       "      <th>Unnamed: 9</th>\n",
       "      <th>...</th>\n",
       "      <th>Unnamed: 16</th>\n",
       "      <th>Unnamed: 17</th>\n",
       "      <th>Unnamed: 18</th>\n",
       "      <th>Unnamed: 19</th>\n",
       "      <th>Unnamed: 20</th>\n",
       "      <th>Unnamed: 21</th>\n",
       "      <th>Unnamed: 22</th>\n",
       "      <th>Unnamed: 23</th>\n",
       "      <th>Unnamed: 24</th>\n",
       "      <th>Unnamed: 25</th>\n",
       "    </tr>\n",
       "  </thead>\n",
       "  <tbody>\n",
       "    <tr>\n",
       "      <th>0</th>\n",
       "      <td>CCD public school data 2014-2015 school year</td>\n",
       "      <td>NaN</td>\n",
       "      <td>NaN</td>\n",
       "      <td>NaN</td>\n",
       "      <td>NaN</td>\n",
       "      <td>NaN</td>\n",
       "      <td>NaN</td>\n",
       "      <td>NaN</td>\n",
       "      <td>NaN</td>\n",
       "      <td>NaN</td>\n",
       "      <td>...</td>\n",
       "      <td>NaN</td>\n",
       "      <td>NaN</td>\n",
       "      <td>NaN</td>\n",
       "      <td>NaN</td>\n",
       "      <td>NaN</td>\n",
       "      <td>NaN</td>\n",
       "      <td>NaN</td>\n",
       "      <td>NaN</td>\n",
       "      <td>NaN</td>\n",
       "      <td>NaN</td>\n",
       "    </tr>\n",
       "    <tr>\n",
       "      <th>1</th>\n",
       "      <td>The file contains (2398) records based on your...</td>\n",
       "      <td>NaN</td>\n",
       "      <td>NaN</td>\n",
       "      <td>NaN</td>\n",
       "      <td>NaN</td>\n",
       "      <td>NaN</td>\n",
       "      <td>NaN</td>\n",
       "      <td>NaN</td>\n",
       "      <td>NaN</td>\n",
       "      <td>NaN</td>\n",
       "      <td>...</td>\n",
       "      <td>NaN</td>\n",
       "      <td>NaN</td>\n",
       "      <td>NaN</td>\n",
       "      <td>NaN</td>\n",
       "      <td>NaN</td>\n",
       "      <td>NaN</td>\n",
       "      <td>NaN</td>\n",
       "      <td>NaN</td>\n",
       "      <td>NaN</td>\n",
       "      <td>NaN</td>\n",
       "    </tr>\n",
       "    <tr>\n",
       "      <th>2</th>\n",
       "      <td>NOTES:</td>\n",
       "      <td>NaN</td>\n",
       "      <td>NaN</td>\n",
       "      <td>NaN</td>\n",
       "      <td>NaN</td>\n",
       "      <td>NaN</td>\n",
       "      <td>NaN</td>\n",
       "      <td>NaN</td>\n",
       "      <td>NaN</td>\n",
       "      <td>NaN</td>\n",
       "      <td>...</td>\n",
       "      <td>NaN</td>\n",
       "      <td>NaN</td>\n",
       "      <td>NaN</td>\n",
       "      <td>NaN</td>\n",
       "      <td>NaN</td>\n",
       "      <td>NaN</td>\n",
       "      <td>NaN</td>\n",
       "      <td>NaN</td>\n",
       "      <td>NaN</td>\n",
       "      <td>NaN</td>\n",
       "    </tr>\n",
       "    <tr>\n",
       "      <th>3</th>\n",
       "      <td>NaN</td>\n",
       "      <td>NaN</td>\n",
       "      <td>NaN</td>\n",
       "      <td>NaN</td>\n",
       "      <td>NaN</td>\n",
       "      <td>NaN</td>\n",
       "      <td>NaN</td>\n",
       "      <td>NaN</td>\n",
       "      <td>NaN</td>\n",
       "      <td>NaN</td>\n",
       "      <td>...</td>\n",
       "      <td>NaN</td>\n",
       "      <td>NaN</td>\n",
       "      <td>NaN</td>\n",
       "      <td>NaN</td>\n",
       "      <td>NaN</td>\n",
       "      <td>NaN</td>\n",
       "      <td>NaN</td>\n",
       "      <td>NaN</td>\n",
       "      <td>NaN</td>\n",
       "      <td>NaN</td>\n",
       "    </tr>\n",
       "    <tr>\n",
       "      <th>4</th>\n",
       "      <td>[ † ] indicates that the data are not applicable.</td>\n",
       "      <td>NaN</td>\n",
       "      <td>NaN</td>\n",
       "      <td>NaN</td>\n",
       "      <td>NaN</td>\n",
       "      <td>NaN</td>\n",
       "      <td>NaN</td>\n",
       "      <td>NaN</td>\n",
       "      <td>NaN</td>\n",
       "      <td>NaN</td>\n",
       "      <td>...</td>\n",
       "      <td>NaN</td>\n",
       "      <td>NaN</td>\n",
       "      <td>NaN</td>\n",
       "      <td>NaN</td>\n",
       "      <td>NaN</td>\n",
       "      <td>NaN</td>\n",
       "      <td>NaN</td>\n",
       "      <td>NaN</td>\n",
       "      <td>NaN</td>\n",
       "      <td>NaN</td>\n",
       "    </tr>\n",
       "    <tr>\n",
       "      <th>5</th>\n",
       "      <td>[ – ] indicates that the data are missing.</td>\n",
       "      <td>NaN</td>\n",
       "      <td>NaN</td>\n",
       "      <td>NaN</td>\n",
       "      <td>NaN</td>\n",
       "      <td>NaN</td>\n",
       "      <td>NaN</td>\n",
       "      <td>NaN</td>\n",
       "      <td>NaN</td>\n",
       "      <td>NaN</td>\n",
       "      <td>...</td>\n",
       "      <td>NaN</td>\n",
       "      <td>NaN</td>\n",
       "      <td>NaN</td>\n",
       "      <td>NaN</td>\n",
       "      <td>NaN</td>\n",
       "      <td>NaN</td>\n",
       "      <td>NaN</td>\n",
       "      <td>NaN</td>\n",
       "      <td>NaN</td>\n",
       "      <td>NaN</td>\n",
       "    </tr>\n",
       "    <tr>\n",
       "      <th>6</th>\n",
       "      <td>[ ‡ ] indicates that the data do not meet NCES...</td>\n",
       "      <td>NaN</td>\n",
       "      <td>NaN</td>\n",
       "      <td>NaN</td>\n",
       "      <td>NaN</td>\n",
       "      <td>NaN</td>\n",
       "      <td>NaN</td>\n",
       "      <td>NaN</td>\n",
       "      <td>NaN</td>\n",
       "      <td>NaN</td>\n",
       "      <td>...</td>\n",
       "      <td>NaN</td>\n",
       "      <td>NaN</td>\n",
       "      <td>NaN</td>\n",
       "      <td>NaN</td>\n",
       "      <td>NaN</td>\n",
       "      <td>NaN</td>\n",
       "      <td>NaN</td>\n",
       "      <td>NaN</td>\n",
       "      <td>NaN</td>\n",
       "      <td>NaN</td>\n",
       "    </tr>\n",
       "    <tr>\n",
       "      <th>7</th>\n",
       "      <td>NaN</td>\n",
       "      <td>NaN</td>\n",
       "      <td>NaN</td>\n",
       "      <td>NaN</td>\n",
       "      <td>NaN</td>\n",
       "      <td>NaN</td>\n",
       "      <td>NaN</td>\n",
       "      <td>NaN</td>\n",
       "      <td>NaN</td>\n",
       "      <td>NaN</td>\n",
       "      <td>...</td>\n",
       "      <td>NaN</td>\n",
       "      <td>NaN</td>\n",
       "      <td>NaN</td>\n",
       "      <td>NaN</td>\n",
       "      <td>NaN</td>\n",
       "      <td>NaN</td>\n",
       "      <td>NaN</td>\n",
       "      <td>NaN</td>\n",
       "      <td>NaN</td>\n",
       "      <td>NaN</td>\n",
       "    </tr>\n",
       "    <tr>\n",
       "      <th>8</th>\n",
       "      <td>SEARCH CRITERIA: State: \"Washington\" - School ...</td>\n",
       "      <td>NaN</td>\n",
       "      <td>NaN</td>\n",
       "      <td>NaN</td>\n",
       "      <td>NaN</td>\n",
       "      <td>NaN</td>\n",
       "      <td>NaN</td>\n",
       "      <td>NaN</td>\n",
       "      <td>NaN</td>\n",
       "      <td>NaN</td>\n",
       "      <td>...</td>\n",
       "      <td>NaN</td>\n",
       "      <td>NaN</td>\n",
       "      <td>NaN</td>\n",
       "      <td>NaN</td>\n",
       "      <td>NaN</td>\n",
       "      <td>NaN</td>\n",
       "      <td>NaN</td>\n",
       "      <td>NaN</td>\n",
       "      <td>NaN</td>\n",
       "      <td>NaN</td>\n",
       "    </tr>\n",
       "    <tr>\n",
       "      <th>9</th>\n",
       "      <td>NCES is not responsible for the manner in whic...</td>\n",
       "      <td>NaN</td>\n",
       "      <td>NaN</td>\n",
       "      <td>NaN</td>\n",
       "      <td>NaN</td>\n",
       "      <td>NaN</td>\n",
       "      <td>NaN</td>\n",
       "      <td>NaN</td>\n",
       "      <td>NaN</td>\n",
       "      <td>NaN</td>\n",
       "      <td>...</td>\n",
       "      <td>NaN</td>\n",
       "      <td>NaN</td>\n",
       "      <td>NaN</td>\n",
       "      <td>NaN</td>\n",
       "      <td>NaN</td>\n",
       "      <td>NaN</td>\n",
       "      <td>NaN</td>\n",
       "      <td>NaN</td>\n",
       "      <td>NaN</td>\n",
       "      <td>NaN</td>\n",
       "    </tr>\n",
       "    <tr>\n",
       "      <th>10</th>\n",
       "      <td>NCES School ID</td>\n",
       "      <td>State School ID</td>\n",
       "      <td>NCES District ID</td>\n",
       "      <td>State District ID</td>\n",
       "      <td>Low Grade*</td>\n",
       "      <td>High Grade*</td>\n",
       "      <td>School Name</td>\n",
       "      <td>District</td>\n",
       "      <td>County Name*</td>\n",
       "      <td>Street Address</td>\n",
       "      <td>...</td>\n",
       "      <td>Locale*</td>\n",
       "      <td>Charter</td>\n",
       "      <td>Magnet*</td>\n",
       "      <td>Title I School*</td>\n",
       "      <td>Title 1 School Wide*</td>\n",
       "      <td>Students*</td>\n",
       "      <td>Teachers*</td>\n",
       "      <td>Student Teacher Ratio*</td>\n",
       "      <td>Free Lunch*</td>\n",
       "      <td>Reduced Lunch*</td>\n",
       "    </tr>\n",
       "    <tr>\n",
       "      <th>11</th>\n",
       "      <td>530486002475</td>\n",
       "      <td>1656</td>\n",
       "      <td>5304860</td>\n",
       "      <td>31025</td>\n",
       "      <td>06</td>\n",
       "      <td>08</td>\n",
       "      <td>10TH STREET SCHOOL</td>\n",
       "      <td>MARYSVILLE SCHOOL DISTRICT</td>\n",
       "      <td>SNOHOMISH COUNTY</td>\n",
       "      <td>7204 27TH AVE NE</td>\n",
       "      <td>...</td>\n",
       "      <td>Suburb: Midsize</td>\n",
       "      <td>No</td>\n",
       "      <td>–</td>\n",
       "      <td>No</td>\n",
       "      <td>†</td>\n",
       "      <td>167.00000</td>\n",
       "      <td>7.30000</td>\n",
       "      <td>22.9000000</td>\n",
       "      <td>20.00000</td>\n",
       "      <td>7.00000</td>\n",
       "    </tr>\n",
       "  </tbody>\n",
       "</table>\n",
       "<p>12 rows × 26 columns</p>\n",
       "</div>"
      ],
      "text/plain": [
       "             National Center for Education Statistics       Unnamed: 1  \\\n",
       "0        CCD public school data 2014-2015 school year              NaN   \n",
       "1   The file contains (2398) records based on your...              NaN   \n",
       "2                                              NOTES:              NaN   \n",
       "3                                                 NaN              NaN   \n",
       "4   [ † ] indicates that the data are not applicable.              NaN   \n",
       "5          [ – ] indicates that the data are missing.              NaN   \n",
       "6   [ ‡ ] indicates that the data do not meet NCES...              NaN   \n",
       "7                                                 NaN              NaN   \n",
       "8   SEARCH CRITERIA: State: \"Washington\" - School ...              NaN   \n",
       "9   NCES is not responsible for the manner in whic...              NaN   \n",
       "10                                     NCES School ID  State School ID   \n",
       "11                                       530486002475             1656   \n",
       "\n",
       "          Unnamed: 2         Unnamed: 3  Unnamed: 4   Unnamed: 5  \\\n",
       "0                NaN                NaN         NaN          NaN   \n",
       "1                NaN                NaN         NaN          NaN   \n",
       "2                NaN                NaN         NaN          NaN   \n",
       "3                NaN                NaN         NaN          NaN   \n",
       "4                NaN                NaN         NaN          NaN   \n",
       "5                NaN                NaN         NaN          NaN   \n",
       "6                NaN                NaN         NaN          NaN   \n",
       "7                NaN                NaN         NaN          NaN   \n",
       "8                NaN                NaN         NaN          NaN   \n",
       "9                NaN                NaN         NaN          NaN   \n",
       "10  NCES District ID  State District ID  Low Grade*  High Grade*   \n",
       "11           5304860              31025          06           08   \n",
       "\n",
       "            Unnamed: 6                  Unnamed: 7        Unnamed: 8  \\\n",
       "0                  NaN                         NaN               NaN   \n",
       "1                  NaN                         NaN               NaN   \n",
       "2                  NaN                         NaN               NaN   \n",
       "3                  NaN                         NaN               NaN   \n",
       "4                  NaN                         NaN               NaN   \n",
       "5                  NaN                         NaN               NaN   \n",
       "6                  NaN                         NaN               NaN   \n",
       "7                  NaN                         NaN               NaN   \n",
       "8                  NaN                         NaN               NaN   \n",
       "9                  NaN                         NaN               NaN   \n",
       "10         School Name                    District      County Name*   \n",
       "11  10TH STREET SCHOOL  MARYSVILLE SCHOOL DISTRICT  SNOHOMISH COUNTY   \n",
       "\n",
       "          Unnamed: 9  ...      Unnamed: 16 Unnamed: 17 Unnamed: 18  \\\n",
       "0                NaN  ...              NaN         NaN         NaN   \n",
       "1                NaN  ...              NaN         NaN         NaN   \n",
       "2                NaN  ...              NaN         NaN         NaN   \n",
       "3                NaN  ...              NaN         NaN         NaN   \n",
       "4                NaN  ...              NaN         NaN         NaN   \n",
       "5                NaN  ...              NaN         NaN         NaN   \n",
       "6                NaN  ...              NaN         NaN         NaN   \n",
       "7                NaN  ...              NaN         NaN         NaN   \n",
       "8                NaN  ...              NaN         NaN         NaN   \n",
       "9                NaN  ...              NaN         NaN         NaN   \n",
       "10    Street Address  ...          Locale*     Charter     Magnet*   \n",
       "11  7204 27TH AVE NE  ...  Suburb: Midsize          No           –   \n",
       "\n",
       "        Unnamed: 19           Unnamed: 20 Unnamed: 21 Unnamed: 22  \\\n",
       "0               NaN                   NaN         NaN         NaN   \n",
       "1               NaN                   NaN         NaN         NaN   \n",
       "2               NaN                   NaN         NaN         NaN   \n",
       "3               NaN                   NaN         NaN         NaN   \n",
       "4               NaN                   NaN         NaN         NaN   \n",
       "5               NaN                   NaN         NaN         NaN   \n",
       "6               NaN                   NaN         NaN         NaN   \n",
       "7               NaN                   NaN         NaN         NaN   \n",
       "8               NaN                   NaN         NaN         NaN   \n",
       "9               NaN                   NaN         NaN         NaN   \n",
       "10  Title I School*  Title 1 School Wide*   Students*   Teachers*   \n",
       "11               No                     †   167.00000     7.30000   \n",
       "\n",
       "               Unnamed: 23  Unnamed: 24     Unnamed: 25  \n",
       "0                      NaN          NaN             NaN  \n",
       "1                      NaN          NaN             NaN  \n",
       "2                      NaN          NaN             NaN  \n",
       "3                      NaN          NaN             NaN  \n",
       "4                      NaN          NaN             NaN  \n",
       "5                      NaN          NaN             NaN  \n",
       "6                      NaN          NaN             NaN  \n",
       "7                      NaN          NaN             NaN  \n",
       "8                      NaN          NaN             NaN  \n",
       "9                      NaN          NaN             NaN  \n",
       "10  Student Teacher Ratio*  Free Lunch*  Reduced Lunch*  \n",
       "11              22.9000000     20.00000         7.00000  \n",
       "\n",
       "[12 rows x 26 columns]"
      ]
     },
     "execution_count": 54,
     "metadata": {},
     "output_type": "execute_result"
    }
   ],
   "source": [
    "schoolPub.head(12)"
   ]
  },
  {
   "cell_type": "code",
   "execution_count": 55,
   "metadata": {},
   "outputs": [
    {
     "data": {
      "text/plain": [
       "['NCES School ID',\n",
       " 'State School ID',\n",
       " 'NCES District ID',\n",
       " 'State District ID',\n",
       " 'Low Grade*',\n",
       " 'High Grade*',\n",
       " 'School Name',\n",
       " 'District',\n",
       " 'County Name*',\n",
       " 'Street Address',\n",
       " 'City',\n",
       " 'State',\n",
       " 'ZIP',\n",
       " 'ZIP 4-digit',\n",
       " 'Phone',\n",
       " 'Locale Code*',\n",
       " 'Locale*',\n",
       " 'Charter',\n",
       " 'Magnet*',\n",
       " 'Title I School*',\n",
       " 'Title 1 School Wide*',\n",
       " 'Students*',\n",
       " 'Teachers*',\n",
       " 'Student Teacher Ratio*',\n",
       " 'Free Lunch*',\n",
       " 'Reduced Lunch*']"
      ]
     },
     "execution_count": 55,
     "metadata": {},
     "output_type": "execute_result"
    }
   ],
   "source": [
    "# this is easier:\n",
    "# schoolPub=pd.read_excel(dataFile,skiprows=11)\n",
    "\n",
    "# let's take another way:\n",
    "##\n",
    "# get headers:\n",
    "\n",
    "Headers=schoolPub.iloc[10,:].tolist()\n",
    "Headers"
   ]
  },
  {
   "cell_type": "code",
   "execution_count": 57,
   "metadata": {},
   "outputs": [
    {
     "data": {
      "text/html": [
       "<div>\n",
       "<style scoped>\n",
       "    .dataframe tbody tr th:only-of-type {\n",
       "        vertical-align: middle;\n",
       "    }\n",
       "\n",
       "    .dataframe tbody tr th {\n",
       "        vertical-align: top;\n",
       "    }\n",
       "\n",
       "    .dataframe thead th {\n",
       "        text-align: right;\n",
       "    }\n",
       "</style>\n",
       "<table border=\"1\" class=\"dataframe\">\n",
       "  <thead>\n",
       "    <tr style=\"text-align: right;\">\n",
       "      <th></th>\n",
       "      <th>National Center for Education Statistics</th>\n",
       "      <th>Unnamed: 1</th>\n",
       "      <th>Unnamed: 2</th>\n",
       "      <th>Unnamed: 3</th>\n",
       "      <th>Unnamed: 4</th>\n",
       "      <th>Unnamed: 5</th>\n",
       "      <th>Unnamed: 6</th>\n",
       "      <th>Unnamed: 7</th>\n",
       "      <th>Unnamed: 8</th>\n",
       "      <th>Unnamed: 9</th>\n",
       "      <th>...</th>\n",
       "      <th>Unnamed: 16</th>\n",
       "      <th>Unnamed: 17</th>\n",
       "      <th>Unnamed: 18</th>\n",
       "      <th>Unnamed: 19</th>\n",
       "      <th>Unnamed: 20</th>\n",
       "      <th>Unnamed: 21</th>\n",
       "      <th>Unnamed: 22</th>\n",
       "      <th>Unnamed: 23</th>\n",
       "      <th>Unnamed: 24</th>\n",
       "      <th>Unnamed: 25</th>\n",
       "    </tr>\n",
       "  </thead>\n",
       "  <tbody>\n",
       "    <tr>\n",
       "      <th>11</th>\n",
       "      <td>530486002475</td>\n",
       "      <td>1656</td>\n",
       "      <td>5304860</td>\n",
       "      <td>31025</td>\n",
       "      <td>06</td>\n",
       "      <td>08</td>\n",
       "      <td>10TH STREET SCHOOL</td>\n",
       "      <td>MARYSVILLE SCHOOL DISTRICT</td>\n",
       "      <td>SNOHOMISH COUNTY</td>\n",
       "      <td>7204 27TH AVE NE</td>\n",
       "      <td>...</td>\n",
       "      <td>Suburb: Midsize</td>\n",
       "      <td>No</td>\n",
       "      <td>–</td>\n",
       "      <td>No</td>\n",
       "      <td>†</td>\n",
       "      <td>167.00000</td>\n",
       "      <td>7.30000</td>\n",
       "      <td>22.9000000</td>\n",
       "      <td>20.00000</td>\n",
       "      <td>7.00000</td>\n",
       "    </tr>\n",
       "    <tr>\n",
       "      <th>12</th>\n",
       "      <td>530270001270</td>\n",
       "      <td>1646</td>\n",
       "      <td>5302700</td>\n",
       "      <td>06114</td>\n",
       "      <td>KG</td>\n",
       "      <td>12</td>\n",
       "      <td>49TH STREET ACADEMY</td>\n",
       "      <td>EVERGREEN SCHOOL DISTRICT (CLARK)</td>\n",
       "      <td>CLARK COUNTY</td>\n",
       "      <td>14619B NE 49TH STREET</td>\n",
       "      <td>...</td>\n",
       "      <td>City: Midsize</td>\n",
       "      <td>No</td>\n",
       "      <td>–</td>\n",
       "      <td>Yes</td>\n",
       "      <td>Yes</td>\n",
       "      <td>123.00000</td>\n",
       "      <td>10.10000</td>\n",
       "      <td>12.2000000</td>\n",
       "      <td>75.00000</td>\n",
       "      <td>7.00000</td>\n",
       "    </tr>\n",
       "    <tr>\n",
       "      <th>13</th>\n",
       "      <td>530910002602</td>\n",
       "      <td>4500</td>\n",
       "      <td>5309100</td>\n",
       "      <td>34033</td>\n",
       "      <td>09</td>\n",
       "      <td>12</td>\n",
       "      <td>A G WEST BLACK HILLS HIGH SCHOOL</td>\n",
       "      <td>TUMWATER SCHOOL DISTRICT</td>\n",
       "      <td>THURSTON COUNTY</td>\n",
       "      <td>7741 LITTLEROCK ROAD SW</td>\n",
       "      <td>...</td>\n",
       "      <td>City: Small</td>\n",
       "      <td>No</td>\n",
       "      <td>–</td>\n",
       "      <td>No</td>\n",
       "      <td>†</td>\n",
       "      <td>867.00000</td>\n",
       "      <td>41.19000</td>\n",
       "      <td>21.0000000</td>\n",
       "      <td>189.00000</td>\n",
       "      <td>45.00000</td>\n",
       "    </tr>\n",
       "    <tr>\n",
       "      <th>14</th>\n",
       "      <td>530003000001</td>\n",
       "      <td>2834</td>\n",
       "      <td>5300030</td>\n",
       "      <td>14005</td>\n",
       "      <td>PK</td>\n",
       "      <td>06</td>\n",
       "      <td>A J WEST ELEMENTARY</td>\n",
       "      <td>ABERDEEN SCHOOL DISTRICT</td>\n",
       "      <td>GRAYS HARBOR COUNTY</td>\n",
       "      <td>1801 BAY AVE.</td>\n",
       "      <td>...</td>\n",
       "      <td>Town: Remote</td>\n",
       "      <td>No</td>\n",
       "      <td>–</td>\n",
       "      <td>Yes</td>\n",
       "      <td>Yes</td>\n",
       "      <td>410.00000</td>\n",
       "      <td>27.63000</td>\n",
       "      <td>14.8000000</td>\n",
       "      <td>330.00000</td>\n",
       "      <td>21.00000</td>\n",
       "    </tr>\n",
       "    <tr>\n",
       "      <th>15</th>\n",
       "      <td>530825002361</td>\n",
       "      <td>1533</td>\n",
       "      <td>5308250</td>\n",
       "      <td>32081</td>\n",
       "      <td>09</td>\n",
       "      <td>12</td>\n",
       "      <td>A-3 MULTIAGENCY ADOLESCENT PROG</td>\n",
       "      <td>SPOKANE SCHOOL DISTRICT</td>\n",
       "      <td>SPOKANE COUNTY</td>\n",
       "      <td>610 E NORTHFOOTHILLS DRIVE</td>\n",
       "      <td>...</td>\n",
       "      <td>City: Midsize</td>\n",
       "      <td>No</td>\n",
       "      <td>–</td>\n",
       "      <td>No</td>\n",
       "      <td>†</td>\n",
       "      <td>22.00000</td>\n",
       "      <td>3.10000</td>\n",
       "      <td>7.1000000</td>\n",
       "      <td>16.00000</td>\n",
       "      <td>3.00000</td>\n",
       "    </tr>\n",
       "  </tbody>\n",
       "</table>\n",
       "<p>5 rows × 26 columns</p>\n",
       "</div>"
      ],
      "text/plain": [
       "   National Center for Education Statistics Unnamed: 1 Unnamed: 2 Unnamed: 3  \\\n",
       "11                             530486002475       1656    5304860      31025   \n",
       "12                             530270001270       1646    5302700      06114   \n",
       "13                             530910002602       4500    5309100      34033   \n",
       "14                             530003000001       2834    5300030      14005   \n",
       "15                             530825002361       1533    5308250      32081   \n",
       "\n",
       "   Unnamed: 4 Unnamed: 5                        Unnamed: 6  \\\n",
       "11         06         08                10TH STREET SCHOOL   \n",
       "12         KG         12               49TH STREET ACADEMY   \n",
       "13         09         12  A G WEST BLACK HILLS HIGH SCHOOL   \n",
       "14         PK         06               A J WEST ELEMENTARY   \n",
       "15         09         12   A-3 MULTIAGENCY ADOLESCENT PROG   \n",
       "\n",
       "                           Unnamed: 7           Unnamed: 8  \\\n",
       "11         MARYSVILLE SCHOOL DISTRICT     SNOHOMISH COUNTY   \n",
       "12  EVERGREEN SCHOOL DISTRICT (CLARK)         CLARK COUNTY   \n",
       "13           TUMWATER SCHOOL DISTRICT      THURSTON COUNTY   \n",
       "14           ABERDEEN SCHOOL DISTRICT  GRAYS HARBOR COUNTY   \n",
       "15            SPOKANE SCHOOL DISTRICT       SPOKANE COUNTY   \n",
       "\n",
       "                    Unnamed: 9  ...      Unnamed: 16 Unnamed: 17 Unnamed: 18  \\\n",
       "11            7204 27TH AVE NE  ...  Suburb: Midsize          No           –   \n",
       "12       14619B NE 49TH STREET  ...    City: Midsize          No           –   \n",
       "13     7741 LITTLEROCK ROAD SW  ...      City: Small          No           –   \n",
       "14               1801 BAY AVE.  ...     Town: Remote          No           –   \n",
       "15  610 E NORTHFOOTHILLS DRIVE  ...    City: Midsize          No           –   \n",
       "\n",
       "   Unnamed: 19 Unnamed: 20 Unnamed: 21 Unnamed: 22 Unnamed: 23 Unnamed: 24  \\\n",
       "11          No           †   167.00000     7.30000  22.9000000    20.00000   \n",
       "12         Yes         Yes   123.00000    10.10000  12.2000000    75.00000   \n",
       "13          No           †   867.00000    41.19000  21.0000000   189.00000   \n",
       "14         Yes         Yes   410.00000    27.63000  14.8000000   330.00000   \n",
       "15          No           †    22.00000     3.10000   7.1000000    16.00000   \n",
       "\n",
       "   Unnamed: 25  \n",
       "11     7.00000  \n",
       "12     7.00000  \n",
       "13    45.00000  \n",
       "14    21.00000  \n",
       "15     3.00000  \n",
       "\n",
       "[5 rows x 26 columns]"
      ]
     },
     "execution_count": 57,
     "metadata": {},
     "output_type": "execute_result"
    }
   ],
   "source": [
    "#get data\n",
    "Data=schoolPub.iloc[11:,]\n",
    "Data.head()"
   ]
  },
  {
   "cell_type": "code",
   "execution_count": 58,
   "metadata": {},
   "outputs": [],
   "source": [
    "#Then\n",
    "schoolPub=Data\n",
    "schoolPub.columns=Headers"
   ]
  },
  {
   "cell_type": "code",
   "execution_count": 59,
   "metadata": {},
   "outputs": [
    {
     "data": {
      "text/html": [
       "<div>\n",
       "<style scoped>\n",
       "    .dataframe tbody tr th:only-of-type {\n",
       "        vertical-align: middle;\n",
       "    }\n",
       "\n",
       "    .dataframe tbody tr th {\n",
       "        vertical-align: top;\n",
       "    }\n",
       "\n",
       "    .dataframe thead th {\n",
       "        text-align: right;\n",
       "    }\n",
       "</style>\n",
       "<table border=\"1\" class=\"dataframe\">\n",
       "  <thead>\n",
       "    <tr style=\"text-align: right;\">\n",
       "      <th></th>\n",
       "      <th>NCES School ID</th>\n",
       "      <th>State School ID</th>\n",
       "      <th>NCES District ID</th>\n",
       "      <th>State District ID</th>\n",
       "      <th>Low Grade*</th>\n",
       "      <th>High Grade*</th>\n",
       "      <th>School Name</th>\n",
       "      <th>District</th>\n",
       "      <th>County Name*</th>\n",
       "      <th>Street Address</th>\n",
       "      <th>...</th>\n",
       "      <th>Locale*</th>\n",
       "      <th>Charter</th>\n",
       "      <th>Magnet*</th>\n",
       "      <th>Title I School*</th>\n",
       "      <th>Title 1 School Wide*</th>\n",
       "      <th>Students*</th>\n",
       "      <th>Teachers*</th>\n",
       "      <th>Student Teacher Ratio*</th>\n",
       "      <th>Free Lunch*</th>\n",
       "      <th>Reduced Lunch*</th>\n",
       "    </tr>\n",
       "  </thead>\n",
       "  <tbody>\n",
       "    <tr>\n",
       "      <th>11</th>\n",
       "      <td>530486002475</td>\n",
       "      <td>1656</td>\n",
       "      <td>5304860</td>\n",
       "      <td>31025</td>\n",
       "      <td>06</td>\n",
       "      <td>08</td>\n",
       "      <td>10TH STREET SCHOOL</td>\n",
       "      <td>MARYSVILLE SCHOOL DISTRICT</td>\n",
       "      <td>SNOHOMISH COUNTY</td>\n",
       "      <td>7204 27TH AVE NE</td>\n",
       "      <td>...</td>\n",
       "      <td>Suburb: Midsize</td>\n",
       "      <td>No</td>\n",
       "      <td>–</td>\n",
       "      <td>No</td>\n",
       "      <td>†</td>\n",
       "      <td>167.00000</td>\n",
       "      <td>7.30000</td>\n",
       "      <td>22.9000000</td>\n",
       "      <td>20.00000</td>\n",
       "      <td>7.00000</td>\n",
       "    </tr>\n",
       "    <tr>\n",
       "      <th>12</th>\n",
       "      <td>530270001270</td>\n",
       "      <td>1646</td>\n",
       "      <td>5302700</td>\n",
       "      <td>06114</td>\n",
       "      <td>KG</td>\n",
       "      <td>12</td>\n",
       "      <td>49TH STREET ACADEMY</td>\n",
       "      <td>EVERGREEN SCHOOL DISTRICT (CLARK)</td>\n",
       "      <td>CLARK COUNTY</td>\n",
       "      <td>14619B NE 49TH STREET</td>\n",
       "      <td>...</td>\n",
       "      <td>City: Midsize</td>\n",
       "      <td>No</td>\n",
       "      <td>–</td>\n",
       "      <td>Yes</td>\n",
       "      <td>Yes</td>\n",
       "      <td>123.00000</td>\n",
       "      <td>10.10000</td>\n",
       "      <td>12.2000000</td>\n",
       "      <td>75.00000</td>\n",
       "      <td>7.00000</td>\n",
       "    </tr>\n",
       "    <tr>\n",
       "      <th>13</th>\n",
       "      <td>530910002602</td>\n",
       "      <td>4500</td>\n",
       "      <td>5309100</td>\n",
       "      <td>34033</td>\n",
       "      <td>09</td>\n",
       "      <td>12</td>\n",
       "      <td>A G WEST BLACK HILLS HIGH SCHOOL</td>\n",
       "      <td>TUMWATER SCHOOL DISTRICT</td>\n",
       "      <td>THURSTON COUNTY</td>\n",
       "      <td>7741 LITTLEROCK ROAD SW</td>\n",
       "      <td>...</td>\n",
       "      <td>City: Small</td>\n",
       "      <td>No</td>\n",
       "      <td>–</td>\n",
       "      <td>No</td>\n",
       "      <td>†</td>\n",
       "      <td>867.00000</td>\n",
       "      <td>41.19000</td>\n",
       "      <td>21.0000000</td>\n",
       "      <td>189.00000</td>\n",
       "      <td>45.00000</td>\n",
       "    </tr>\n",
       "    <tr>\n",
       "      <th>14</th>\n",
       "      <td>530003000001</td>\n",
       "      <td>2834</td>\n",
       "      <td>5300030</td>\n",
       "      <td>14005</td>\n",
       "      <td>PK</td>\n",
       "      <td>06</td>\n",
       "      <td>A J WEST ELEMENTARY</td>\n",
       "      <td>ABERDEEN SCHOOL DISTRICT</td>\n",
       "      <td>GRAYS HARBOR COUNTY</td>\n",
       "      <td>1801 BAY AVE.</td>\n",
       "      <td>...</td>\n",
       "      <td>Town: Remote</td>\n",
       "      <td>No</td>\n",
       "      <td>–</td>\n",
       "      <td>Yes</td>\n",
       "      <td>Yes</td>\n",
       "      <td>410.00000</td>\n",
       "      <td>27.63000</td>\n",
       "      <td>14.8000000</td>\n",
       "      <td>330.00000</td>\n",
       "      <td>21.00000</td>\n",
       "    </tr>\n",
       "    <tr>\n",
       "      <th>15</th>\n",
       "      <td>530825002361</td>\n",
       "      <td>1533</td>\n",
       "      <td>5308250</td>\n",
       "      <td>32081</td>\n",
       "      <td>09</td>\n",
       "      <td>12</td>\n",
       "      <td>A-3 MULTIAGENCY ADOLESCENT PROG</td>\n",
       "      <td>SPOKANE SCHOOL DISTRICT</td>\n",
       "      <td>SPOKANE COUNTY</td>\n",
       "      <td>610 E NORTHFOOTHILLS DRIVE</td>\n",
       "      <td>...</td>\n",
       "      <td>City: Midsize</td>\n",
       "      <td>No</td>\n",
       "      <td>–</td>\n",
       "      <td>No</td>\n",
       "      <td>†</td>\n",
       "      <td>22.00000</td>\n",
       "      <td>3.10000</td>\n",
       "      <td>7.1000000</td>\n",
       "      <td>16.00000</td>\n",
       "      <td>3.00000</td>\n",
       "    </tr>\n",
       "  </tbody>\n",
       "</table>\n",
       "<p>5 rows × 26 columns</p>\n",
       "</div>"
      ],
      "text/plain": [
       "   NCES School ID State School ID NCES District ID State District ID  \\\n",
       "11   530486002475            1656          5304860             31025   \n",
       "12   530270001270            1646          5302700             06114   \n",
       "13   530910002602            4500          5309100             34033   \n",
       "14   530003000001            2834          5300030             14005   \n",
       "15   530825002361            1533          5308250             32081   \n",
       "\n",
       "   Low Grade* High Grade*                       School Name  \\\n",
       "11         06          08                10TH STREET SCHOOL   \n",
       "12         KG          12               49TH STREET ACADEMY   \n",
       "13         09          12  A G WEST BLACK HILLS HIGH SCHOOL   \n",
       "14         PK          06               A J WEST ELEMENTARY   \n",
       "15         09          12   A-3 MULTIAGENCY ADOLESCENT PROG   \n",
       "\n",
       "                             District         County Name*  \\\n",
       "11         MARYSVILLE SCHOOL DISTRICT     SNOHOMISH COUNTY   \n",
       "12  EVERGREEN SCHOOL DISTRICT (CLARK)         CLARK COUNTY   \n",
       "13           TUMWATER SCHOOL DISTRICT      THURSTON COUNTY   \n",
       "14           ABERDEEN SCHOOL DISTRICT  GRAYS HARBOR COUNTY   \n",
       "15            SPOKANE SCHOOL DISTRICT       SPOKANE COUNTY   \n",
       "\n",
       "                Street Address  ...          Locale* Charter Magnet*  \\\n",
       "11            7204 27TH AVE NE  ...  Suburb: Midsize      No       –   \n",
       "12       14619B NE 49TH STREET  ...    City: Midsize      No       –   \n",
       "13     7741 LITTLEROCK ROAD SW  ...      City: Small      No       –   \n",
       "14               1801 BAY AVE.  ...     Town: Remote      No       –   \n",
       "15  610 E NORTHFOOTHILLS DRIVE  ...    City: Midsize      No       –   \n",
       "\n",
       "   Title I School* Title 1 School Wide*  Students* Teachers*  \\\n",
       "11              No                    †  167.00000   7.30000   \n",
       "12             Yes                  Yes  123.00000  10.10000   \n",
       "13              No                    †  867.00000  41.19000   \n",
       "14             Yes                  Yes  410.00000  27.63000   \n",
       "15              No                    †   22.00000   3.10000   \n",
       "\n",
       "   Student Teacher Ratio* Free Lunch* Reduced Lunch*  \n",
       "11             22.9000000    20.00000        7.00000  \n",
       "12             12.2000000    75.00000        7.00000  \n",
       "13             21.0000000   189.00000       45.00000  \n",
       "14             14.8000000   330.00000       21.00000  \n",
       "15              7.1000000    16.00000        3.00000  \n",
       "\n",
       "[5 rows x 26 columns]"
      ]
     },
     "execution_count": 59,
     "metadata": {},
     "output_type": "execute_result"
    }
   ],
   "source": [
    "schoolPub.head()"
   ]
  },
  {
   "cell_type": "code",
   "execution_count": 60,
   "metadata": {},
   "outputs": [],
   "source": [
    "schoolPub.reset_index(drop=True, inplace=True)"
   ]
  },
  {
   "cell_type": "code",
   "execution_count": 61,
   "metadata": {},
   "outputs": [
    {
     "data": {
      "text/html": [
       "<div>\n",
       "<style scoped>\n",
       "    .dataframe tbody tr th:only-of-type {\n",
       "        vertical-align: middle;\n",
       "    }\n",
       "\n",
       "    .dataframe tbody tr th {\n",
       "        vertical-align: top;\n",
       "    }\n",
       "\n",
       "    .dataframe thead th {\n",
       "        text-align: right;\n",
       "    }\n",
       "</style>\n",
       "<table border=\"1\" class=\"dataframe\">\n",
       "  <thead>\n",
       "    <tr style=\"text-align: right;\">\n",
       "      <th></th>\n",
       "      <th>NCES School ID</th>\n",
       "      <th>State School ID</th>\n",
       "      <th>NCES District ID</th>\n",
       "      <th>State District ID</th>\n",
       "      <th>Low Grade*</th>\n",
       "      <th>High Grade*</th>\n",
       "      <th>School Name</th>\n",
       "      <th>District</th>\n",
       "      <th>County Name*</th>\n",
       "      <th>Street Address</th>\n",
       "      <th>...</th>\n",
       "      <th>Locale*</th>\n",
       "      <th>Charter</th>\n",
       "      <th>Magnet*</th>\n",
       "      <th>Title I School*</th>\n",
       "      <th>Title 1 School Wide*</th>\n",
       "      <th>Students*</th>\n",
       "      <th>Teachers*</th>\n",
       "      <th>Student Teacher Ratio*</th>\n",
       "      <th>Free Lunch*</th>\n",
       "      <th>Reduced Lunch*</th>\n",
       "    </tr>\n",
       "  </thead>\n",
       "  <tbody>\n",
       "    <tr>\n",
       "      <th>0</th>\n",
       "      <td>530486002475</td>\n",
       "      <td>1656</td>\n",
       "      <td>5304860</td>\n",
       "      <td>31025</td>\n",
       "      <td>06</td>\n",
       "      <td>08</td>\n",
       "      <td>10TH STREET SCHOOL</td>\n",
       "      <td>MARYSVILLE SCHOOL DISTRICT</td>\n",
       "      <td>SNOHOMISH COUNTY</td>\n",
       "      <td>7204 27TH AVE NE</td>\n",
       "      <td>...</td>\n",
       "      <td>Suburb: Midsize</td>\n",
       "      <td>No</td>\n",
       "      <td>–</td>\n",
       "      <td>No</td>\n",
       "      <td>†</td>\n",
       "      <td>167.00000</td>\n",
       "      <td>7.30000</td>\n",
       "      <td>22.9000000</td>\n",
       "      <td>20.00000</td>\n",
       "      <td>7.00000</td>\n",
       "    </tr>\n",
       "    <tr>\n",
       "      <th>1</th>\n",
       "      <td>530270001270</td>\n",
       "      <td>1646</td>\n",
       "      <td>5302700</td>\n",
       "      <td>06114</td>\n",
       "      <td>KG</td>\n",
       "      <td>12</td>\n",
       "      <td>49TH STREET ACADEMY</td>\n",
       "      <td>EVERGREEN SCHOOL DISTRICT (CLARK)</td>\n",
       "      <td>CLARK COUNTY</td>\n",
       "      <td>14619B NE 49TH STREET</td>\n",
       "      <td>...</td>\n",
       "      <td>City: Midsize</td>\n",
       "      <td>No</td>\n",
       "      <td>–</td>\n",
       "      <td>Yes</td>\n",
       "      <td>Yes</td>\n",
       "      <td>123.00000</td>\n",
       "      <td>10.10000</td>\n",
       "      <td>12.2000000</td>\n",
       "      <td>75.00000</td>\n",
       "      <td>7.00000</td>\n",
       "    </tr>\n",
       "    <tr>\n",
       "      <th>2</th>\n",
       "      <td>530910002602</td>\n",
       "      <td>4500</td>\n",
       "      <td>5309100</td>\n",
       "      <td>34033</td>\n",
       "      <td>09</td>\n",
       "      <td>12</td>\n",
       "      <td>A G WEST BLACK HILLS HIGH SCHOOL</td>\n",
       "      <td>TUMWATER SCHOOL DISTRICT</td>\n",
       "      <td>THURSTON COUNTY</td>\n",
       "      <td>7741 LITTLEROCK ROAD SW</td>\n",
       "      <td>...</td>\n",
       "      <td>City: Small</td>\n",
       "      <td>No</td>\n",
       "      <td>–</td>\n",
       "      <td>No</td>\n",
       "      <td>†</td>\n",
       "      <td>867.00000</td>\n",
       "      <td>41.19000</td>\n",
       "      <td>21.0000000</td>\n",
       "      <td>189.00000</td>\n",
       "      <td>45.00000</td>\n",
       "    </tr>\n",
       "    <tr>\n",
       "      <th>3</th>\n",
       "      <td>530003000001</td>\n",
       "      <td>2834</td>\n",
       "      <td>5300030</td>\n",
       "      <td>14005</td>\n",
       "      <td>PK</td>\n",
       "      <td>06</td>\n",
       "      <td>A J WEST ELEMENTARY</td>\n",
       "      <td>ABERDEEN SCHOOL DISTRICT</td>\n",
       "      <td>GRAYS HARBOR COUNTY</td>\n",
       "      <td>1801 BAY AVE.</td>\n",
       "      <td>...</td>\n",
       "      <td>Town: Remote</td>\n",
       "      <td>No</td>\n",
       "      <td>–</td>\n",
       "      <td>Yes</td>\n",
       "      <td>Yes</td>\n",
       "      <td>410.00000</td>\n",
       "      <td>27.63000</td>\n",
       "      <td>14.8000000</td>\n",
       "      <td>330.00000</td>\n",
       "      <td>21.00000</td>\n",
       "    </tr>\n",
       "    <tr>\n",
       "      <th>4</th>\n",
       "      <td>530825002361</td>\n",
       "      <td>1533</td>\n",
       "      <td>5308250</td>\n",
       "      <td>32081</td>\n",
       "      <td>09</td>\n",
       "      <td>12</td>\n",
       "      <td>A-3 MULTIAGENCY ADOLESCENT PROG</td>\n",
       "      <td>SPOKANE SCHOOL DISTRICT</td>\n",
       "      <td>SPOKANE COUNTY</td>\n",
       "      <td>610 E NORTHFOOTHILLS DRIVE</td>\n",
       "      <td>...</td>\n",
       "      <td>City: Midsize</td>\n",
       "      <td>No</td>\n",
       "      <td>–</td>\n",
       "      <td>No</td>\n",
       "      <td>†</td>\n",
       "      <td>22.00000</td>\n",
       "      <td>3.10000</td>\n",
       "      <td>7.1000000</td>\n",
       "      <td>16.00000</td>\n",
       "      <td>3.00000</td>\n",
       "    </tr>\n",
       "  </tbody>\n",
       "</table>\n",
       "<p>5 rows × 26 columns</p>\n",
       "</div>"
      ],
      "text/plain": [
       "  NCES School ID State School ID NCES District ID State District ID  \\\n",
       "0   530486002475            1656          5304860             31025   \n",
       "1   530270001270            1646          5302700             06114   \n",
       "2   530910002602            4500          5309100             34033   \n",
       "3   530003000001            2834          5300030             14005   \n",
       "4   530825002361            1533          5308250             32081   \n",
       "\n",
       "  Low Grade* High Grade*                       School Name  \\\n",
       "0         06          08                10TH STREET SCHOOL   \n",
       "1         KG          12               49TH STREET ACADEMY   \n",
       "2         09          12  A G WEST BLACK HILLS HIGH SCHOOL   \n",
       "3         PK          06               A J WEST ELEMENTARY   \n",
       "4         09          12   A-3 MULTIAGENCY ADOLESCENT PROG   \n",
       "\n",
       "                            District         County Name*  \\\n",
       "0         MARYSVILLE SCHOOL DISTRICT     SNOHOMISH COUNTY   \n",
       "1  EVERGREEN SCHOOL DISTRICT (CLARK)         CLARK COUNTY   \n",
       "2           TUMWATER SCHOOL DISTRICT      THURSTON COUNTY   \n",
       "3           ABERDEEN SCHOOL DISTRICT  GRAYS HARBOR COUNTY   \n",
       "4            SPOKANE SCHOOL DISTRICT       SPOKANE COUNTY   \n",
       "\n",
       "               Street Address  ...          Locale* Charter Magnet*  \\\n",
       "0            7204 27TH AVE NE  ...  Suburb: Midsize      No       –   \n",
       "1       14619B NE 49TH STREET  ...    City: Midsize      No       –   \n",
       "2     7741 LITTLEROCK ROAD SW  ...      City: Small      No       –   \n",
       "3               1801 BAY AVE.  ...     Town: Remote      No       –   \n",
       "4  610 E NORTHFOOTHILLS DRIVE  ...    City: Midsize      No       –   \n",
       "\n",
       "  Title I School* Title 1 School Wide*  Students* Teachers*  \\\n",
       "0              No                    †  167.00000   7.30000   \n",
       "1             Yes                  Yes  123.00000  10.10000   \n",
       "2              No                    †  867.00000  41.19000   \n",
       "3             Yes                  Yes  410.00000  27.63000   \n",
       "4              No                    †   22.00000   3.10000   \n",
       "\n",
       "  Student Teacher Ratio* Free Lunch* Reduced Lunch*  \n",
       "0             22.9000000    20.00000        7.00000  \n",
       "1             12.2000000    75.00000        7.00000  \n",
       "2             21.0000000   189.00000       45.00000  \n",
       "3             14.8000000   330.00000       21.00000  \n",
       "4              7.1000000    16.00000        3.00000  \n",
       "\n",
       "[5 rows x 26 columns]"
      ]
     },
     "execution_count": 61,
     "metadata": {},
     "output_type": "execute_result"
    }
   ],
   "source": [
    "schoolPub.head()"
   ]
  },
  {
   "cell_type": "code",
   "execution_count": 62,
   "metadata": {},
   "outputs": [
    {
     "data": {
      "text/html": [
       "<div>\n",
       "<style scoped>\n",
       "    .dataframe tbody tr th:only-of-type {\n",
       "        vertical-align: middle;\n",
       "    }\n",
       "\n",
       "    .dataframe tbody tr th {\n",
       "        vertical-align: top;\n",
       "    }\n",
       "\n",
       "    .dataframe thead th {\n",
       "        text-align: right;\n",
       "    }\n",
       "</style>\n",
       "<table border=\"1\" class=\"dataframe\">\n",
       "  <thead>\n",
       "    <tr style=\"text-align: right;\">\n",
       "      <th></th>\n",
       "      <th>NCES School ID</th>\n",
       "      <th>State School ID</th>\n",
       "      <th>NCES District ID</th>\n",
       "      <th>State District ID</th>\n",
       "      <th>Low Grade*</th>\n",
       "      <th>High Grade*</th>\n",
       "      <th>School Name</th>\n",
       "      <th>District</th>\n",
       "      <th>County Name*</th>\n",
       "      <th>Street Address</th>\n",
       "      <th>...</th>\n",
       "      <th>Locale*</th>\n",
       "      <th>Charter</th>\n",
       "      <th>Magnet*</th>\n",
       "      <th>Title I School*</th>\n",
       "      <th>Title 1 School Wide*</th>\n",
       "      <th>Students*</th>\n",
       "      <th>Teachers*</th>\n",
       "      <th>Student Teacher Ratio*</th>\n",
       "      <th>Free Lunch*</th>\n",
       "      <th>Reduced Lunch*</th>\n",
       "    </tr>\n",
       "  </thead>\n",
       "  <tbody>\n",
       "    <tr>\n",
       "      <th>2393</th>\n",
       "      <td>530813003439</td>\n",
       "      <td>5315</td>\n",
       "      <td>5308130</td>\n",
       "      <td>17406</td>\n",
       "      <td>09</td>\n",
       "      <td>12</td>\n",
       "      <td>YOUTHSOURCE</td>\n",
       "      <td>TUKWILA SCHOOL DISTRICT</td>\n",
       "      <td>KING COUNTY</td>\n",
       "      <td>TUKWILA SCHOOL DISTRICT</td>\n",
       "      <td>...</td>\n",
       "      <td>City: Small</td>\n",
       "      <td>No</td>\n",
       "      <td>–</td>\n",
       "      <td>†</td>\n",
       "      <td>†</td>\n",
       "      <td>0.00000</td>\n",
       "      <td>–</td>\n",
       "      <td>†</td>\n",
       "      <td>0.00000</td>\n",
       "      <td>0.00000</td>\n",
       "    </tr>\n",
       "    <tr>\n",
       "      <th>2394</th>\n",
       "      <td>530696002530</td>\n",
       "      <td>4496</td>\n",
       "      <td>5306960</td>\n",
       "      <td>27003</td>\n",
       "      <td>PK</td>\n",
       "      <td>06</td>\n",
       "      <td>ZEIGER ELEMENTARY</td>\n",
       "      <td>PUYALLUP SCHOOL DISTRICT</td>\n",
       "      <td>PIERCE COUNTY</td>\n",
       "      <td>13008 94TH AVE E</td>\n",
       "      <td>...</td>\n",
       "      <td>Suburb: Large</td>\n",
       "      <td>No</td>\n",
       "      <td>–</td>\n",
       "      <td>No</td>\n",
       "      <td>†</td>\n",
       "      <td>823.00000</td>\n",
       "      <td>44.53000</td>\n",
       "      <td>18.5000000</td>\n",
       "      <td>221.00000</td>\n",
       "      <td>58.00000</td>\n",
       "    </tr>\n",
       "    <tr>\n",
       "      <th>2395</th>\n",
       "      <td>531017001719</td>\n",
       "      <td>2240</td>\n",
       "      <td>5310170</td>\n",
       "      <td>39205</td>\n",
       "      <td>09</td>\n",
       "      <td>12</td>\n",
       "      <td>ZILLAH HIGH SCHOOL</td>\n",
       "      <td>ZILLAH SCHOOL DISTRICT</td>\n",
       "      <td>YAKIMA COUNTY</td>\n",
       "      <td>1602 SECOND AVENUE</td>\n",
       "      <td>...</td>\n",
       "      <td>Town: Distant</td>\n",
       "      <td>No</td>\n",
       "      <td>–</td>\n",
       "      <td>Yes</td>\n",
       "      <td>Yes</td>\n",
       "      <td>441.00000</td>\n",
       "      <td>21.95000</td>\n",
       "      <td>20.1000000</td>\n",
       "      <td>169.00000</td>\n",
       "      <td>49.00000</td>\n",
       "    </tr>\n",
       "    <tr>\n",
       "      <th>2396</th>\n",
       "      <td>531017001896</td>\n",
       "      <td>4221</td>\n",
       "      <td>5310170</td>\n",
       "      <td>39205</td>\n",
       "      <td>04</td>\n",
       "      <td>06</td>\n",
       "      <td>ZILLAH INTERMEDIATE SCHOOL</td>\n",
       "      <td>ZILLAH SCHOOL DISTRICT</td>\n",
       "      <td>YAKIMA COUNTY</td>\n",
       "      <td>303 SECOND AVENUE</td>\n",
       "      <td>...</td>\n",
       "      <td>Town: Distant</td>\n",
       "      <td>No</td>\n",
       "      <td>–</td>\n",
       "      <td>Yes</td>\n",
       "      <td>Yes</td>\n",
       "      <td>319.00000</td>\n",
       "      <td>20.38000</td>\n",
       "      <td>15.7000000</td>\n",
       "      <td>145.00000</td>\n",
       "      <td>42.00000</td>\n",
       "    </tr>\n",
       "    <tr>\n",
       "      <th>2397</th>\n",
       "      <td>531017002502</td>\n",
       "      <td>4481</td>\n",
       "      <td>5310170</td>\n",
       "      <td>39205</td>\n",
       "      <td>07</td>\n",
       "      <td>08</td>\n",
       "      <td>ZILLAH MIDDLE SCHOOL</td>\n",
       "      <td>ZILLAH SCHOOL DISTRICT</td>\n",
       "      <td>YAKIMA COUNTY</td>\n",
       "      <td>1301 CUTLER WAY</td>\n",
       "      <td>...</td>\n",
       "      <td>Rural: Fringe</td>\n",
       "      <td>No</td>\n",
       "      <td>–</td>\n",
       "      <td>Yes</td>\n",
       "      <td>Yes</td>\n",
       "      <td>196.00000</td>\n",
       "      <td>12.65000</td>\n",
       "      <td>15.5000000</td>\n",
       "      <td>91.00000</td>\n",
       "      <td>19.00000</td>\n",
       "    </tr>\n",
       "  </tbody>\n",
       "</table>\n",
       "<p>5 rows × 26 columns</p>\n",
       "</div>"
      ],
      "text/plain": [
       "     NCES School ID State School ID NCES District ID State District ID  \\\n",
       "2393   530813003439            5315          5308130             17406   \n",
       "2394   530696002530            4496          5306960             27003   \n",
       "2395   531017001719            2240          5310170             39205   \n",
       "2396   531017001896            4221          5310170             39205   \n",
       "2397   531017002502            4481          5310170             39205   \n",
       "\n",
       "     Low Grade* High Grade*                 School Name  \\\n",
       "2393         09          12                 YOUTHSOURCE   \n",
       "2394         PK          06           ZEIGER ELEMENTARY   \n",
       "2395         09          12          ZILLAH HIGH SCHOOL   \n",
       "2396         04          06  ZILLAH INTERMEDIATE SCHOOL   \n",
       "2397         07          08        ZILLAH MIDDLE SCHOOL   \n",
       "\n",
       "                      District   County Name*           Street Address  ...  \\\n",
       "2393   TUKWILA SCHOOL DISTRICT    KING COUNTY  TUKWILA SCHOOL DISTRICT  ...   \n",
       "2394  PUYALLUP SCHOOL DISTRICT  PIERCE COUNTY         13008 94TH AVE E  ...   \n",
       "2395    ZILLAH SCHOOL DISTRICT  YAKIMA COUNTY       1602 SECOND AVENUE  ...   \n",
       "2396    ZILLAH SCHOOL DISTRICT  YAKIMA COUNTY        303 SECOND AVENUE  ...   \n",
       "2397    ZILLAH SCHOOL DISTRICT  YAKIMA COUNTY          1301 CUTLER WAY  ...   \n",
       "\n",
       "            Locale* Charter Magnet* Title I School* Title 1 School Wide*  \\\n",
       "2393    City: Small      No       –               †                    †   \n",
       "2394  Suburb: Large      No       –              No                    †   \n",
       "2395  Town: Distant      No       –             Yes                  Yes   \n",
       "2396  Town: Distant      No       –             Yes                  Yes   \n",
       "2397  Rural: Fringe      No       –             Yes                  Yes   \n",
       "\n",
       "      Students* Teachers* Student Teacher Ratio* Free Lunch* Reduced Lunch*  \n",
       "2393    0.00000         –                      †     0.00000        0.00000  \n",
       "2394  823.00000  44.53000             18.5000000   221.00000       58.00000  \n",
       "2395  441.00000  21.95000             20.1000000   169.00000       49.00000  \n",
       "2396  319.00000  20.38000             15.7000000   145.00000       42.00000  \n",
       "2397  196.00000  12.65000             15.5000000    91.00000       19.00000  \n",
       "\n",
       "[5 rows x 26 columns]"
      ]
     },
     "execution_count": 62,
     "metadata": {},
     "output_type": "execute_result"
    }
   ],
   "source": [
    "schoolPub.tail()"
   ]
  },
  {
   "cell_type": "code",
   "execution_count": 63,
   "metadata": {},
   "outputs": [
    {
     "data": {
      "text/plain": [
       "Index(['NCES School ID', 'State School ID', 'NCES District ID',\n",
       "       'State District ID', 'Low Grade*', 'High Grade*', 'School Name',\n",
       "       'District', 'County Name*', 'Street Address', 'City', 'State', 'ZIP',\n",
       "       'ZIP 4-digit', 'Phone', 'Locale Code*', 'Locale*', 'Charter', 'Magnet*',\n",
       "       'Title I School*', 'Title 1 School Wide*', 'Students*', 'Teachers*',\n",
       "       'Student Teacher Ratio*', 'Free Lunch*', 'Reduced Lunch*'],\n",
       "      dtype='object')"
      ]
     },
     "execution_count": 63,
     "metadata": {},
     "output_type": "execute_result"
    }
   ],
   "source": [
    "schoolPub.columns"
   ]
  },
  {
   "cell_type": "code",
   "execution_count": 65,
   "metadata": {},
   "outputs": [
    {
     "data": {
      "text/plain": [
       "Index(['NCESSchoolID', 'StateSchoolID', 'NCESDistrictID', 'StateDistrictID',\n",
       "       'LowGrade', 'HighGrade', 'SchoolName', 'District', 'CountyName',\n",
       "       'StreetAddress', 'City', 'State', 'ZIP', 'ZIP4-digit', 'Phone',\n",
       "       'LocaleCode', 'Locale', 'Charter', 'Magnet', 'TitleISchool',\n",
       "       'Title1SchoolWide', 'Students', 'Teachers', 'StudentTeacherRatio',\n",
       "       'FreeLunch', 'ReducedLunch'],\n",
       "      dtype='object')"
      ]
     },
     "execution_count": 65,
     "metadata": {},
     "output_type": "execute_result"
    }
   ],
   "source": [
    "#cleaning column names:\n",
    "\n",
    "pattern='\\\\*|\\\\s+'\n",
    "nothing=''\n",
    "schoolPub.columns=[re.sub(pattern,nothing,columnName) for columnName in schoolPub.columns]\n",
    "###\n",
    "schoolPub.columns"
   ]
  },
  {
   "cell_type": "code",
   "execution_count": 66,
   "metadata": {},
   "outputs": [
    {
     "data": {
      "text/plain": [
       "TitleISchool        {No, †, Yes}\n",
       "Title1SchoolWide    {No, †, Yes}\n",
       "dtype: object"
      ]
     },
     "execution_count": 66,
     "metadata": {},
     "output_type": "execute_result"
    }
   ],
   "source": [
    "schoolPub.iloc[:,[19,20]].apply(set)"
   ]
  },
  {
   "cell_type": "code",
   "execution_count": 67,
   "metadata": {},
   "outputs": [
    {
     "name": "stdout",
     "output_type": "stream",
     "text": [
      "found: †\n"
     ]
    }
   ],
   "source": [
    "# try to do something (turn into a 'float\")\n",
    "try:\n",
    "    for i in schoolPub.StudentTeacherRatio:\n",
    "        float(i)\n",
    "# if you het an error:\n",
    "except:\n",
    "    print(\"found:\",i)"
   ]
  },
  {
   "cell_type": "code",
   "execution_count": 68,
   "metadata": {},
   "outputs": [
    {
     "name": "stdout",
     "output_type": "stream",
     "text": [
      "found: –\n"
     ]
    }
   ],
   "source": [
    "try:\n",
    "    for i in schoolPub.Teachers:\n",
    "        float(i)\n",
    "except:\n",
    "    print(\"found:\",i)"
   ]
  },
  {
   "cell_type": "code",
   "execution_count": 69,
   "metadata": {},
   "outputs": [],
   "source": [
    "badSymbols=[]\n",
    "try:\n",
    "    for i in schoolPub.StudentTeacherRatio:\n",
    "        float(i)\n",
    "# if you het an error:\n",
    "except:\n",
    "    badSymbols.append(i)\n",
    "    \n",
    "try:\n",
    "    for i in schoolPub.Teachers:\n",
    "        float(i)\n",
    "except:\n",
    "    badSymbols.append(i)"
   ]
  },
  {
   "cell_type": "code",
   "execution_count": 70,
   "metadata": {},
   "outputs": [
    {
     "data": {
      "text/plain": [
       "['†', '–']"
      ]
     },
     "execution_count": 70,
     "metadata": {},
     "output_type": "execute_result"
    }
   ],
   "source": [
    "# you got:\n",
    "badSymbols"
   ]
  },
  {
   "cell_type": "code",
   "execution_count": 71,
   "metadata": {},
   "outputs": [],
   "source": [
    "toNA=['†','‡','–',\" \"] # last one 'just in case'\n",
    "\n",
    "import numpy as np  #numpy manages the missing values for pandas\n",
    "schoolPub.replace(to_replace=toNA,value=np.nan,inplace=True) # in the whole data frame!!"
   ]
  },
  {
   "cell_type": "code",
   "execution_count": 72,
   "metadata": {},
   "outputs": [
    {
     "data": {
      "text/plain": [
       "Yes    1599\n",
       "No      714\n",
       "Name: TitleISchool, dtype: int64"
      ]
     },
     "execution_count": 72,
     "metadata": {},
     "output_type": "execute_result"
    }
   ],
   "source": [
    "# any missing?\n",
    "\n",
    "schoolPub.TitleISchool.value_counts()"
   ]
  },
  {
   "cell_type": "code",
   "execution_count": 73,
   "metadata": {},
   "outputs": [
    {
     "data": {
      "text/plain": [
       "NCESSchoolID            object\n",
       "StateSchoolID           object\n",
       "NCESDistrictID          object\n",
       "StateDistrictID         object\n",
       "LowGrade                object\n",
       "HighGrade               object\n",
       "SchoolName              object\n",
       "District                object\n",
       "CountyName              object\n",
       "StreetAddress           object\n",
       "City                    object\n",
       "State                   object\n",
       "ZIP                     object\n",
       "ZIP4-digit              object\n",
       "Phone                   object\n",
       "LocaleCode              object\n",
       "Locale                  object\n",
       "Charter                 object\n",
       "Magnet                 float64\n",
       "TitleISchool            object\n",
       "Title1SchoolWide        object\n",
       "Students                object\n",
       "Teachers                object\n",
       "StudentTeacherRatio     object\n",
       "FreeLunch               object\n",
       "ReducedLunch            object\n",
       "dtype: object"
      ]
     },
     "execution_count": 73,
     "metadata": {},
     "output_type": "execute_result"
    }
   ],
   "source": [
    "schoolPub.dtypes"
   ]
  },
  {
   "cell_type": "code",
   "execution_count": null,
   "metadata": {},
   "outputs": [],
   "source": []
  }
 ],
 "metadata": {
  "kernelspec": {
   "display_name": "Python 3",
   "language": "python",
   "name": "python3"
  },
  "language_info": {
   "codemirror_mode": {
    "name": "ipython",
    "version": 3
   },
   "file_extension": ".py",
   "mimetype": "text/x-python",
   "name": "python",
   "nbconvert_exporter": "python",
   "pygments_lexer": "ipython3",
   "version": "3.7.2"
  }
 },
 "nbformat": 4,
 "nbformat_minor": 2
}
