{
 "cells": [
  {
   "cell_type": "markdown",
   "metadata": {
    "colab_type": "text",
    "id": "U69y4X3OO5eF"
   },
   "source": [
    "<br> \n",
    "<center><img src=\"https://i.imgur.com/hkb7Bq7.png\" width=\"500\"></center>\n",
    "\n",
    "\n",
    "### Prof. José Manuel Magallanes, PhD\n",
    "\n",
    "* Associate Professor, Departamento de Ciencias Sociales, Pontificia Universidad Católica del Perú, [jmagallanes@pucp.edu.pe](mailto:jmagallanes@pucp.edu.pe)\n",
    "\n",
    "* Visiting Associate Professor, Evans School of Public Policy and Governance / Senior Data Science Fellow, eScience Institute, University of Washington, [magajm@uw.edu](mailto:magajm@uw.edu)\n",
    "_____\n",
    "\n",
    "_____"
   ]
  },
  {
   "cell_type": "markdown",
   "metadata": {
    "colab_type": "text",
    "id": "xP9ypTyoO5eH"
   },
   "source": [
    "\n",
    "# Session 1: Introduction to Python - EXERCISES"
   ]
  },
  {
   "cell_type": "markdown",
   "metadata": {
    "colab_type": "text",
    "id": "vuhc7CnVO5eI"
   },
   "source": [
    "## CASE 1: HDI"
   ]
  },
  {
   "cell_type": "markdown",
   "metadata": {
    "colab_type": "text",
    "id": "M0MYQbslO5eJ"
   },
   "source": [
    "Link from Google:"
   ]
  },
  {
   "cell_type": "code",
   "execution_count": null,
   "metadata": {
    "colab": {},
    "colab_type": "code",
    "id": "25cQ9ZkNO5eJ"
   },
   "outputs": [],
   "source": [
    "link1=\"https://docs.google.com/spreadsheets/d/e/2PACX-1vSNMpr1Dz3tvMqEAnmGAjaQi19zcsEiLZQn6f5ZM6ap4tzNy6bQUXtctNebCL4OyEN6UODUc0U7B9pf/pub?gid=1506000439&single=true&output=csv\""
   ]
  },
  {
   "cell_type": "markdown",
   "metadata": {
    "colab_type": "text",
    "id": "vBVGpc2KO5eM"
   },
   "source": [
    "Collecting the data with the link from Google:"
   ]
  },
  {
   "cell_type": "code",
   "execution_count": null,
   "metadata": {
    "colab": {},
    "colab_type": "code",
    "id": "gQ0iCw3zO5eN"
   },
   "outputs": [],
   "source": [
    "# need to call pandas:\n",
    "\n",
    "import pandas as pd\n",
    "\n",
    "hdi=pd.read_csv(link1)"
   ]
  },
  {
   "cell_type": "markdown",
   "metadata": {
    "colab_type": "text",
    "id": "oj1EpsisO5eO"
   },
   "source": [
    "### -  Cleaning"
   ]
  },
  {
   "cell_type": "markdown",
   "metadata": {
    "colab_type": "text",
    "id": "pia3m1euO5eP"
   },
   "source": [
    "Keep only data for data frame"
   ]
  },
  {
   "cell_type": "markdown",
   "metadata": {
    "colab_type": "text",
    "id": "79yefpxeO5eP"
   },
   "source": [
    "#### * Check first rows"
   ]
  },
  {
   "cell_type": "code",
   "execution_count": 34,
   "metadata": {
    "colab": {
     "base_uri": "https://localhost:8080/",
     "height": 583
    },
    "colab_type": "code",
    "executionInfo": {
     "elapsed": 1109,
     "status": "ok",
     "timestamp": 1580490683838,
     "user": {
      "displayName": "Jose Manuel Magallanes",
      "photoUrl": "https://lh3.googleusercontent.com/a-/AAuE7mCXsJWaI0Fauk0qdvkv46Br9ZNIbhNI2_qdmZt9=s64",
      "userId": "12963200192719698170"
     },
     "user_tz": 480
    },
    "id": "wj_mRHMSO5eQ",
    "outputId": "aeb735d0-bbba-4de3-d69f-b503d674914e"
   },
   "outputs": [
    {
     "data": {
      "text/html": [
       "<div>\n",
       "<style scoped>\n",
       "    .dataframe tbody tr th:only-of-type {\n",
       "        vertical-align: middle;\n",
       "    }\n",
       "\n",
       "    .dataframe tbody tr th {\n",
       "        vertical-align: top;\n",
       "    }\n",
       "\n",
       "    .dataframe thead th {\n",
       "        text-align: right;\n",
       "    }\n",
       "</style>\n",
       "<table border=\"1\" class=\"dataframe\">\n",
       "  <thead>\n",
       "    <tr style=\"text-align: right;\">\n",
       "      <th></th>\n",
       "      <th>Unnamed: 0</th>\n",
       "      <th>Table 1. Human Development Index and its components</th>\n",
       "      <th>Unnamed: 2</th>\n",
       "      <th>Unnamed: 3</th>\n",
       "      <th>Unnamed: 4</th>\n",
       "      <th>Unnamed: 5</th>\n",
       "      <th>Unnamed: 6</th>\n",
       "      <th>Unnamed: 7</th>\n",
       "      <th>Unnamed: 8</th>\n",
       "      <th>Unnamed: 9</th>\n",
       "      <th>Unnamed: 10</th>\n",
       "      <th>Unnamed: 11</th>\n",
       "      <th>Unnamed: 12</th>\n",
       "      <th>Unnamed: 13</th>\n",
       "      <th>Unnamed: 14</th>\n",
       "    </tr>\n",
       "  </thead>\n",
       "  <tbody>\n",
       "    <tr>\n",
       "      <th>0</th>\n",
       "      <td>NaN</td>\n",
       "      <td>NaN</td>\n",
       "      <td>NaN</td>\n",
       "      <td>NaN</td>\n",
       "      <td>NaN</td>\n",
       "      <td>NaN</td>\n",
       "      <td>NaN</td>\n",
       "      <td>NaN</td>\n",
       "      <td>NaN</td>\n",
       "      <td>NaN</td>\n",
       "      <td>NaN</td>\n",
       "      <td>NaN</td>\n",
       "      <td>NaN</td>\n",
       "      <td>NaN</td>\n",
       "      <td>NaN</td>\n",
       "    </tr>\n",
       "    <tr>\n",
       "      <th>1</th>\n",
       "      <td>NaN</td>\n",
       "      <td>NaN</td>\n",
       "      <td>NaN</td>\n",
       "      <td>NaN</td>\n",
       "      <td>SDG3</td>\n",
       "      <td>NaN</td>\n",
       "      <td>SDG4.3</td>\n",
       "      <td>NaN</td>\n",
       "      <td>SDG4.6</td>\n",
       "      <td>NaN</td>\n",
       "      <td>SDG8.5</td>\n",
       "      <td>NaN</td>\n",
       "      <td>NaN</td>\n",
       "      <td>NaN</td>\n",
       "      <td>NaN</td>\n",
       "    </tr>\n",
       "    <tr>\n",
       "      <th>2</th>\n",
       "      <td>NaN</td>\n",
       "      <td>NaN</td>\n",
       "      <td>NaN</td>\n",
       "      <td>NaN</td>\n",
       "      <td>NaN</td>\n",
       "      <td>NaN</td>\n",
       "      <td>NaN</td>\n",
       "      <td>NaN</td>\n",
       "      <td>NaN</td>\n",
       "      <td>NaN</td>\n",
       "      <td>NaN</td>\n",
       "      <td>NaN</td>\n",
       "      <td>NaN</td>\n",
       "      <td>NaN</td>\n",
       "      <td>NaN</td>\n",
       "    </tr>\n",
       "    <tr>\n",
       "      <th>3</th>\n",
       "      <td>NaN</td>\n",
       "      <td>NaN</td>\n",
       "      <td>Human development index (HDI)</td>\n",
       "      <td>NaN</td>\n",
       "      <td>Life expectancy at birth</td>\n",
       "      <td>NaN</td>\n",
       "      <td>Expected years of schooling</td>\n",
       "      <td>NaN</td>\n",
       "      <td>Mean years of schooling</td>\n",
       "      <td>NaN</td>\n",
       "      <td>Gross national income (GNI) per capita</td>\n",
       "      <td>NaN</td>\n",
       "      <td>GNI per capita rank minus HDI rank</td>\n",
       "      <td>NaN</td>\n",
       "      <td>HDI rank</td>\n",
       "    </tr>\n",
       "    <tr>\n",
       "      <th>4</th>\n",
       "      <td>HDI rank</td>\n",
       "      <td>Country</td>\n",
       "      <td>(index value)</td>\n",
       "      <td>NaN</td>\n",
       "      <td>(years)</td>\n",
       "      <td>NaN</td>\n",
       "      <td>(years)</td>\n",
       "      <td>NaN</td>\n",
       "      <td>(years)</td>\n",
       "      <td>NaN</td>\n",
       "      <td>(2011 PPP $)</td>\n",
       "      <td>NaN</td>\n",
       "      <td>NaN</td>\n",
       "      <td>NaN</td>\n",
       "      <td>NaN</td>\n",
       "    </tr>\n",
       "    <tr>\n",
       "      <th>5</th>\n",
       "      <td>NaN</td>\n",
       "      <td>NaN</td>\n",
       "      <td>2018.00</td>\n",
       "      <td>NaN</td>\n",
       "      <td>2018.00</td>\n",
       "      <td>NaN</td>\n",
       "      <td>2018.00</td>\n",
       "      <td>a</td>\n",
       "      <td>2018.00</td>\n",
       "      <td>a</td>\n",
       "      <td>2018.00</td>\n",
       "      <td>NaN</td>\n",
       "      <td>2018.00</td>\n",
       "      <td>NaN</td>\n",
       "      <td>2017.00</td>\n",
       "    </tr>\n",
       "    <tr>\n",
       "      <th>6</th>\n",
       "      <td>NaN</td>\n",
       "      <td>VERY HIGH HUMAN DEVELOPMENT</td>\n",
       "      <td>NaN</td>\n",
       "      <td>NaN</td>\n",
       "      <td>NaN</td>\n",
       "      <td>NaN</td>\n",
       "      <td>NaN</td>\n",
       "      <td>NaN</td>\n",
       "      <td>NaN</td>\n",
       "      <td>NaN</td>\n",
       "      <td>NaN</td>\n",
       "      <td>NaN</td>\n",
       "      <td>NaN</td>\n",
       "      <td>NaN</td>\n",
       "      <td>NaN</td>\n",
       "    </tr>\n",
       "    <tr>\n",
       "      <th>7</th>\n",
       "      <td>1</td>\n",
       "      <td>Norway</td>\n",
       "      <td>0.95</td>\n",
       "      <td>NaN</td>\n",
       "      <td>82.27</td>\n",
       "      <td>NaN</td>\n",
       "      <td>18.06</td>\n",
       "      <td>b</td>\n",
       "      <td>12.57</td>\n",
       "      <td>NaN</td>\n",
       "      <td>68058.62</td>\n",
       "      <td>NaN</td>\n",
       "      <td>5.00</td>\n",
       "      <td>NaN</td>\n",
       "      <td>1.00</td>\n",
       "    </tr>\n",
       "    <tr>\n",
       "      <th>8</th>\n",
       "      <td>2</td>\n",
       "      <td>Switzerland</td>\n",
       "      <td>0.95</td>\n",
       "      <td>NaN</td>\n",
       "      <td>83.63</td>\n",
       "      <td>NaN</td>\n",
       "      <td>16.21</td>\n",
       "      <td>NaN</td>\n",
       "      <td>13.38</td>\n",
       "      <td>NaN</td>\n",
       "      <td>59374.73</td>\n",
       "      <td>NaN</td>\n",
       "      <td>8.00</td>\n",
       "      <td>NaN</td>\n",
       "      <td>2.00</td>\n",
       "    </tr>\n",
       "    <tr>\n",
       "      <th>9</th>\n",
       "      <td>3</td>\n",
       "      <td>Ireland</td>\n",
       "      <td>0.94</td>\n",
       "      <td>NaN</td>\n",
       "      <td>82.10</td>\n",
       "      <td>NaN</td>\n",
       "      <td>18.79</td>\n",
       "      <td>b</td>\n",
       "      <td>12.53</td>\n",
       "      <td>c</td>\n",
       "      <td>55659.68</td>\n",
       "      <td>NaN</td>\n",
       "      <td>9.00</td>\n",
       "      <td>NaN</td>\n",
       "      <td>3.00</td>\n",
       "    </tr>\n",
       "  </tbody>\n",
       "</table>\n",
       "</div>"
      ],
      "text/plain": [
       "  Unnamed: 0  ... Unnamed: 14\n",
       "0        NaN  ...         NaN\n",
       "1        NaN  ...         NaN\n",
       "2        NaN  ...         NaN\n",
       "3        NaN  ...    HDI rank\n",
       "4   HDI rank  ...         NaN\n",
       "5        NaN  ...     2017.00\n",
       "6        NaN  ...         NaN\n",
       "7          1  ...        1.00\n",
       "8          2  ...        2.00\n",
       "9          3  ...        3.00\n",
       "\n",
       "[10 rows x 15 columns]"
      ]
     },
     "execution_count": 34,
     "metadata": {
      "tags": []
     },
     "output_type": "execute_result"
    }
   ],
   "source": [
    "# Is the header in the right place:\n",
    "hdi.head(10)"
   ]
  },
  {
   "cell_type": "markdown",
   "metadata": {
    "colab_type": "text",
    "id": "0qXTBnLUO5eT"
   },
   "source": [
    "Two problems:\n",
    "\n",
    "* The headers are in two different rows.\n",
    "* The data starts in below zero.\n",
    "\n",
    "Cleaning the top part:\n",
    "\n",
    "* Saving the headers:"
   ]
  },
  {
   "cell_type": "code",
   "execution_count": 35,
   "metadata": {
    "colab": {
     "base_uri": "https://localhost:8080/",
     "height": 35
    },
    "colab_type": "code",
    "executionInfo": {
     "elapsed": 1102,
     "status": "ok",
     "timestamp": 1580490683838,
     "user": {
      "displayName": "Jose Manuel Magallanes",
      "photoUrl": "https://lh3.googleusercontent.com/a-/AAuE7mCXsJWaI0Fauk0qdvkv46Br9ZNIbhNI2_qdmZt9=s64",
      "userId": "12963200192719698170"
     },
     "user_tz": 480
    },
    "id": "HiibwVl_O5eT",
    "outputId": "9b316341-946c-417e-d8a4-8426ff906615"
   },
   "outputs": [
    {
     "data": {
      "text/plain": [
       "['HDI rank', 'Country']"
      ]
     },
     "execution_count": 35,
     "metadata": {
      "tags": []
     },
     "output_type": "execute_result"
    }
   ],
   "source": [
    "# for the first two columns:\n",
    "hdi.iloc[4,:2].tolist()"
   ]
  },
  {
   "cell_type": "code",
   "execution_count": 36,
   "metadata": {
    "colab": {
     "base_uri": "https://localhost:8080/",
     "height": 243
    },
    "colab_type": "code",
    "executionInfo": {
     "elapsed": 1095,
     "status": "ok",
     "timestamp": 1580490683839,
     "user": {
      "displayName": "Jose Manuel Magallanes",
      "photoUrl": "https://lh3.googleusercontent.com/a-/AAuE7mCXsJWaI0Fauk0qdvkv46Br9ZNIbhNI2_qdmZt9=s64",
      "userId": "12963200192719698170"
     },
     "user_tz": 480
    },
    "id": "N3VWL2LAO5eV",
    "outputId": "f9c6a534-21af-479f-cfe0-cea31e8b97f6"
   },
   "outputs": [
    {
     "data": {
      "text/plain": [
       "['Human development index (HDI) ',\n",
       " nan,\n",
       " 'Life expectancy at birth',\n",
       " nan,\n",
       " 'Expected years of schooling',\n",
       " nan,\n",
       " 'Mean years of schooling',\n",
       " nan,\n",
       " 'Gross national income (GNI) per capita',\n",
       " nan,\n",
       " 'GNI per capita rank minus HDI rank',\n",
       " nan,\n",
       " 'HDI rank']"
      ]
     },
     "execution_count": 36,
     "metadata": {
      "tags": []
     },
     "output_type": "execute_result"
    }
   ],
   "source": [
    "# for the rest of columns columns:\n",
    "hdi.iloc[3,2:].tolist()"
   ]
  },
  {
   "cell_type": "code",
   "execution_count": 37,
   "metadata": {
    "colab": {
     "base_uri": "https://localhost:8080/",
     "height": 277
    },
    "colab_type": "code",
    "executionInfo": {
     "elapsed": 1087,
     "status": "ok",
     "timestamp": 1580490683839,
     "user": {
      "displayName": "Jose Manuel Magallanes",
      "photoUrl": "https://lh3.googleusercontent.com/a-/AAuE7mCXsJWaI0Fauk0qdvkv46Br9ZNIbhNI2_qdmZt9=s64",
      "userId": "12963200192719698170"
     },
     "user_tz": 480
    },
    "id": "zA6QS0UFO5eX",
    "outputId": "7f587d64-fe0e-4d3e-985d-c349d0a6d2dd"
   },
   "outputs": [
    {
     "data": {
      "text/plain": [
       "['HDI rank',\n",
       " 'Country',\n",
       " 'Human development index (HDI) ',\n",
       " nan,\n",
       " 'Life expectancy at birth',\n",
       " nan,\n",
       " 'Expected years of schooling',\n",
       " nan,\n",
       " 'Mean years of schooling',\n",
       " nan,\n",
       " 'Gross national income (GNI) per capita',\n",
       " nan,\n",
       " 'GNI per capita rank minus HDI rank',\n",
       " nan,\n",
       " 'HDI rank']"
      ]
     },
     "execution_count": 37,
     "metadata": {
      "tags": []
     },
     "output_type": "execute_result"
    }
   ],
   "source": [
    "# saving headers:\n",
    "CurrentHeaders=hdi.iloc[4,:2].tolist()+hdi.iloc[3,2:].tolist()\n",
    "\n",
    "# you saved this:\n",
    "CurrentHeaders"
   ]
  },
  {
   "cell_type": "markdown",
   "metadata": {
    "colab_type": "text",
    "id": "vvZOuwMuO5eZ"
   },
   "source": [
    "* Setting the begining of data:\n",
    "\n",
    "We need to get rid the top rows that are not part of the data frame:"
   ]
  },
  {
   "cell_type": "code",
   "execution_count": 38,
   "metadata": {
    "colab": {
     "base_uri": "https://localhost:8080/",
     "height": 834
    },
    "colab_type": "code",
    "executionInfo": {
     "elapsed": 1215,
     "status": "ok",
     "timestamp": 1580490683974,
     "user": {
      "displayName": "Jose Manuel Magallanes",
      "photoUrl": "https://lh3.googleusercontent.com/a-/AAuE7mCXsJWaI0Fauk0qdvkv46Br9ZNIbhNI2_qdmZt9=s64",
      "userId": "12963200192719698170"
     },
     "user_tz": 480
    },
    "id": "P47tIhD9O5ea",
    "outputId": "ec9a08c1-72ab-4685-f9ca-c3247b615442"
   },
   "outputs": [
    {
     "data": {
      "text/html": [
       "<div>\n",
       "<style scoped>\n",
       "    .dataframe tbody tr th:only-of-type {\n",
       "        vertical-align: middle;\n",
       "    }\n",
       "\n",
       "    .dataframe tbody tr th {\n",
       "        vertical-align: top;\n",
       "    }\n",
       "\n",
       "    .dataframe thead th {\n",
       "        text-align: right;\n",
       "    }\n",
       "</style>\n",
       "<table border=\"1\" class=\"dataframe\">\n",
       "  <thead>\n",
       "    <tr style=\"text-align: right;\">\n",
       "      <th></th>\n",
       "      <th>Unnamed: 0</th>\n",
       "      <th>Table 1. Human Development Index and its components</th>\n",
       "      <th>Unnamed: 2</th>\n",
       "      <th>Unnamed: 3</th>\n",
       "      <th>Unnamed: 4</th>\n",
       "      <th>Unnamed: 5</th>\n",
       "      <th>Unnamed: 6</th>\n",
       "      <th>Unnamed: 7</th>\n",
       "      <th>Unnamed: 8</th>\n",
       "      <th>Unnamed: 9</th>\n",
       "      <th>Unnamed: 10</th>\n",
       "      <th>Unnamed: 11</th>\n",
       "      <th>Unnamed: 12</th>\n",
       "      <th>Unnamed: 13</th>\n",
       "      <th>Unnamed: 14</th>\n",
       "    </tr>\n",
       "  </thead>\n",
       "  <tbody>\n",
       "    <tr>\n",
       "      <th>7</th>\n",
       "      <td>1</td>\n",
       "      <td>Norway</td>\n",
       "      <td>0.95</td>\n",
       "      <td>NaN</td>\n",
       "      <td>82.27</td>\n",
       "      <td>NaN</td>\n",
       "      <td>18.06</td>\n",
       "      <td>b</td>\n",
       "      <td>12.57</td>\n",
       "      <td>NaN</td>\n",
       "      <td>68058.62</td>\n",
       "      <td>NaN</td>\n",
       "      <td>5.00</td>\n",
       "      <td>NaN</td>\n",
       "      <td>1.00</td>\n",
       "    </tr>\n",
       "    <tr>\n",
       "      <th>8</th>\n",
       "      <td>2</td>\n",
       "      <td>Switzerland</td>\n",
       "      <td>0.95</td>\n",
       "      <td>NaN</td>\n",
       "      <td>83.63</td>\n",
       "      <td>NaN</td>\n",
       "      <td>16.21</td>\n",
       "      <td>NaN</td>\n",
       "      <td>13.38</td>\n",
       "      <td>NaN</td>\n",
       "      <td>59374.73</td>\n",
       "      <td>NaN</td>\n",
       "      <td>8.00</td>\n",
       "      <td>NaN</td>\n",
       "      <td>2.00</td>\n",
       "    </tr>\n",
       "    <tr>\n",
       "      <th>9</th>\n",
       "      <td>3</td>\n",
       "      <td>Ireland</td>\n",
       "      <td>0.94</td>\n",
       "      <td>NaN</td>\n",
       "      <td>82.10</td>\n",
       "      <td>NaN</td>\n",
       "      <td>18.79</td>\n",
       "      <td>b</td>\n",
       "      <td>12.53</td>\n",
       "      <td>c</td>\n",
       "      <td>55659.68</td>\n",
       "      <td>NaN</td>\n",
       "      <td>9.00</td>\n",
       "      <td>NaN</td>\n",
       "      <td>3.00</td>\n",
       "    </tr>\n",
       "    <tr>\n",
       "      <th>10</th>\n",
       "      <td>4</td>\n",
       "      <td>Germany</td>\n",
       "      <td>0.94</td>\n",
       "      <td>NaN</td>\n",
       "      <td>81.18</td>\n",
       "      <td>NaN</td>\n",
       "      <td>17.10</td>\n",
       "      <td>NaN</td>\n",
       "      <td>14.13</td>\n",
       "      <td>NaN</td>\n",
       "      <td>46945.95</td>\n",
       "      <td>NaN</td>\n",
       "      <td>15.00</td>\n",
       "      <td>NaN</td>\n",
       "      <td>4.00</td>\n",
       "    </tr>\n",
       "    <tr>\n",
       "      <th>11</th>\n",
       "      <td>4</td>\n",
       "      <td>Hong Kong, China (SAR)</td>\n",
       "      <td>0.94</td>\n",
       "      <td>NaN</td>\n",
       "      <td>84.69</td>\n",
       "      <td>NaN</td>\n",
       "      <td>16.51</td>\n",
       "      <td>NaN</td>\n",
       "      <td>12.04</td>\n",
       "      <td>NaN</td>\n",
       "      <td>60220.80</td>\n",
       "      <td>NaN</td>\n",
       "      <td>5.00</td>\n",
       "      <td>NaN</td>\n",
       "      <td>6.00</td>\n",
       "    </tr>\n",
       "    <tr>\n",
       "      <th>...</th>\n",
       "      <td>...</td>\n",
       "      <td>...</td>\n",
       "      <td>...</td>\n",
       "      <td>...</td>\n",
       "      <td>...</td>\n",
       "      <td>...</td>\n",
       "      <td>...</td>\n",
       "      <td>...</td>\n",
       "      <td>...</td>\n",
       "      <td>...</td>\n",
       "      <td>...</td>\n",
       "      <td>...</td>\n",
       "      <td>...</td>\n",
       "      <td>...</td>\n",
       "      <td>...</td>\n",
       "    </tr>\n",
       "    <tr>\n",
       "      <th>264</th>\n",
       "      <td>NaN</td>\n",
       "      <td>Column 2: UNDESA (2019b).</td>\n",
       "      <td>NaN</td>\n",
       "      <td>NaN</td>\n",
       "      <td>NaN</td>\n",
       "      <td>NaN</td>\n",
       "      <td>NaN</td>\n",
       "      <td>NaN</td>\n",
       "      <td>NaN</td>\n",
       "      <td>NaN</td>\n",
       "      <td>NaN</td>\n",
       "      <td>NaN</td>\n",
       "      <td>NaN</td>\n",
       "      <td>NaN</td>\n",
       "      <td>NaN</td>\n",
       "    </tr>\n",
       "    <tr>\n",
       "      <th>265</th>\n",
       "      <td>NaN</td>\n",
       "      <td>Column 3: UNESCO Institute for Statistics (201...</td>\n",
       "      <td>NaN</td>\n",
       "      <td>NaN</td>\n",
       "      <td>NaN</td>\n",
       "      <td>NaN</td>\n",
       "      <td>NaN</td>\n",
       "      <td>NaN</td>\n",
       "      <td>NaN</td>\n",
       "      <td>NaN</td>\n",
       "      <td>NaN</td>\n",
       "      <td>NaN</td>\n",
       "      <td>NaN</td>\n",
       "      <td>NaN</td>\n",
       "      <td>NaN</td>\n",
       "    </tr>\n",
       "    <tr>\n",
       "      <th>266</th>\n",
       "      <td>NaN</td>\n",
       "      <td>Column 4: UNESCO Institute for Statistics (201...</td>\n",
       "      <td>NaN</td>\n",
       "      <td>NaN</td>\n",
       "      <td>NaN</td>\n",
       "      <td>NaN</td>\n",
       "      <td>NaN</td>\n",
       "      <td>NaN</td>\n",
       "      <td>NaN</td>\n",
       "      <td>NaN</td>\n",
       "      <td>NaN</td>\n",
       "      <td>NaN</td>\n",
       "      <td>NaN</td>\n",
       "      <td>NaN</td>\n",
       "      <td>NaN</td>\n",
       "    </tr>\n",
       "    <tr>\n",
       "      <th>267</th>\n",
       "      <td>NaN</td>\n",
       "      <td>Column 5: World Bank (2019a), IMF (2019) and U...</td>\n",
       "      <td>NaN</td>\n",
       "      <td>NaN</td>\n",
       "      <td>NaN</td>\n",
       "      <td>NaN</td>\n",
       "      <td>NaN</td>\n",
       "      <td>NaN</td>\n",
       "      <td>NaN</td>\n",
       "      <td>NaN</td>\n",
       "      <td>NaN</td>\n",
       "      <td>NaN</td>\n",
       "      <td>NaN</td>\n",
       "      <td>NaN</td>\n",
       "      <td>NaN</td>\n",
       "    </tr>\n",
       "    <tr>\n",
       "      <th>268</th>\n",
       "      <td>NaN</td>\n",
       "      <td>Column 6: Calculated based on data in columns ...</td>\n",
       "      <td>NaN</td>\n",
       "      <td>NaN</td>\n",
       "      <td>NaN</td>\n",
       "      <td>NaN</td>\n",
       "      <td>NaN</td>\n",
       "      <td>NaN</td>\n",
       "      <td>NaN</td>\n",
       "      <td>NaN</td>\n",
       "      <td>NaN</td>\n",
       "      <td>NaN</td>\n",
       "      <td>NaN</td>\n",
       "      <td>NaN</td>\n",
       "      <td>NaN</td>\n",
       "    </tr>\n",
       "  </tbody>\n",
       "</table>\n",
       "<p>262 rows × 15 columns</p>\n",
       "</div>"
      ],
      "text/plain": [
       "    Unnamed: 0  ... Unnamed: 14\n",
       "7            1  ...        1.00\n",
       "8            2  ...        2.00\n",
       "9            3  ...        3.00\n",
       "10           4  ...        4.00\n",
       "11           4  ...        6.00\n",
       "..         ...  ...         ...\n",
       "264        NaN  ...         NaN\n",
       "265        NaN  ...         NaN\n",
       "266        NaN  ...         NaN\n",
       "267        NaN  ...         NaN\n",
       "268        NaN  ...         NaN\n",
       "\n",
       "[262 rows x 15 columns]"
      ]
     },
     "execution_count": 38,
     "metadata": {
      "tags": []
     },
     "output_type": "execute_result"
    }
   ],
   "source": [
    "# PREVIES: deleting rows, NORWAY should be the first row:\n",
    "hdi.drop(index=range(0,7)) #7 in range() will not be erased."
   ]
  },
  {
   "cell_type": "markdown",
   "metadata": {
    "colab_type": "text",
    "id": "WMG3zAQ1O5eb"
   },
   "source": [
    "Making effective the last code:"
   ]
  },
  {
   "cell_type": "code",
   "execution_count": null,
   "metadata": {
    "colab": {},
    "colab_type": "code",
    "id": "fbZ5UGRMO5ec"
   },
   "outputs": [],
   "source": [
    "hdi.drop(index=range(0,7),inplace=True)"
   ]
  },
  {
   "cell_type": "markdown",
   "metadata": {
    "colab_type": "text",
    "id": "v-3WdwnuO5ee"
   },
   "source": [
    "As soon as you delete rows, you should reset the indexes:"
   ]
  },
  {
   "cell_type": "code",
   "execution_count": null,
   "metadata": {
    "colab": {},
    "colab_type": "code",
    "id": "-IDf5HwxO5ee"
   },
   "outputs": [],
   "source": [
    "hdi.reset_index(drop=True,inplace=True)"
   ]
  },
  {
   "cell_type": "markdown",
   "metadata": {
    "colab_type": "text",
    "id": "as4Qbn1IO5eg"
   },
   "source": [
    "You can rename the columns now:"
   ]
  },
  {
   "cell_type": "code",
   "execution_count": null,
   "metadata": {
    "colab": {},
    "colab_type": "code",
    "id": "PVEzWuvSO5eg"
   },
   "outputs": [],
   "source": [
    "# rename columns\n",
    "hdi.columns=CurrentHeaders"
   ]
  },
  {
   "cell_type": "markdown",
   "metadata": {
    "colab_type": "text",
    "id": "gjZdpRQeO5ei"
   },
   "source": [
    "So far:"
   ]
  },
  {
   "cell_type": "code",
   "execution_count": 42,
   "metadata": {
    "colab": {
     "base_uri": "https://localhost:8080/",
     "height": 289
    },
    "colab_type": "code",
    "executionInfo": {
     "elapsed": 1194,
     "status": "ok",
     "timestamp": 1580490683977,
     "user": {
      "displayName": "Jose Manuel Magallanes",
      "photoUrl": "https://lh3.googleusercontent.com/a-/AAuE7mCXsJWaI0Fauk0qdvkv46Br9ZNIbhNI2_qdmZt9=s64",
      "userId": "12963200192719698170"
     },
     "user_tz": 480
    },
    "id": "DpE-Zs40O5ej",
    "outputId": "2653f6c8-34f7-4bda-84ec-690158c525eb"
   },
   "outputs": [
    {
     "data": {
      "text/html": [
       "<div>\n",
       "<style scoped>\n",
       "    .dataframe tbody tr th:only-of-type {\n",
       "        vertical-align: middle;\n",
       "    }\n",
       "\n",
       "    .dataframe tbody tr th {\n",
       "        vertical-align: top;\n",
       "    }\n",
       "\n",
       "    .dataframe thead th {\n",
       "        text-align: right;\n",
       "    }\n",
       "</style>\n",
       "<table border=\"1\" class=\"dataframe\">\n",
       "  <thead>\n",
       "    <tr style=\"text-align: right;\">\n",
       "      <th></th>\n",
       "      <th>HDI rank</th>\n",
       "      <th>Country</th>\n",
       "      <th>Human development index (HDI)</th>\n",
       "      <th>NaN</th>\n",
       "      <th>Life expectancy at birth</th>\n",
       "      <th>NaN</th>\n",
       "      <th>Expected years of schooling</th>\n",
       "      <th>NaN</th>\n",
       "      <th>Mean years of schooling</th>\n",
       "      <th>NaN</th>\n",
       "      <th>Gross national income (GNI) per capita</th>\n",
       "      <th>NaN</th>\n",
       "      <th>GNI per capita rank minus HDI rank</th>\n",
       "      <th>NaN</th>\n",
       "      <th>HDI rank</th>\n",
       "    </tr>\n",
       "  </thead>\n",
       "  <tbody>\n",
       "    <tr>\n",
       "      <th>0</th>\n",
       "      <td>1</td>\n",
       "      <td>Norway</td>\n",
       "      <td>0.95</td>\n",
       "      <td>NaN</td>\n",
       "      <td>82.27</td>\n",
       "      <td>NaN</td>\n",
       "      <td>18.06</td>\n",
       "      <td>b</td>\n",
       "      <td>12.57</td>\n",
       "      <td>NaN</td>\n",
       "      <td>68058.62</td>\n",
       "      <td>NaN</td>\n",
       "      <td>5.00</td>\n",
       "      <td>NaN</td>\n",
       "      <td>1.00</td>\n",
       "    </tr>\n",
       "    <tr>\n",
       "      <th>1</th>\n",
       "      <td>2</td>\n",
       "      <td>Switzerland</td>\n",
       "      <td>0.95</td>\n",
       "      <td>NaN</td>\n",
       "      <td>83.63</td>\n",
       "      <td>NaN</td>\n",
       "      <td>16.21</td>\n",
       "      <td>NaN</td>\n",
       "      <td>13.38</td>\n",
       "      <td>NaN</td>\n",
       "      <td>59374.73</td>\n",
       "      <td>NaN</td>\n",
       "      <td>8.00</td>\n",
       "      <td>NaN</td>\n",
       "      <td>2.00</td>\n",
       "    </tr>\n",
       "    <tr>\n",
       "      <th>2</th>\n",
       "      <td>3</td>\n",
       "      <td>Ireland</td>\n",
       "      <td>0.94</td>\n",
       "      <td>NaN</td>\n",
       "      <td>82.10</td>\n",
       "      <td>NaN</td>\n",
       "      <td>18.79</td>\n",
       "      <td>b</td>\n",
       "      <td>12.53</td>\n",
       "      <td>c</td>\n",
       "      <td>55659.68</td>\n",
       "      <td>NaN</td>\n",
       "      <td>9.00</td>\n",
       "      <td>NaN</td>\n",
       "      <td>3.00</td>\n",
       "    </tr>\n",
       "    <tr>\n",
       "      <th>3</th>\n",
       "      <td>4</td>\n",
       "      <td>Germany</td>\n",
       "      <td>0.94</td>\n",
       "      <td>NaN</td>\n",
       "      <td>81.18</td>\n",
       "      <td>NaN</td>\n",
       "      <td>17.10</td>\n",
       "      <td>NaN</td>\n",
       "      <td>14.13</td>\n",
       "      <td>NaN</td>\n",
       "      <td>46945.95</td>\n",
       "      <td>NaN</td>\n",
       "      <td>15.00</td>\n",
       "      <td>NaN</td>\n",
       "      <td>4.00</td>\n",
       "    </tr>\n",
       "    <tr>\n",
       "      <th>4</th>\n",
       "      <td>4</td>\n",
       "      <td>Hong Kong, China (SAR)</td>\n",
       "      <td>0.94</td>\n",
       "      <td>NaN</td>\n",
       "      <td>84.69</td>\n",
       "      <td>NaN</td>\n",
       "      <td>16.51</td>\n",
       "      <td>NaN</td>\n",
       "      <td>12.04</td>\n",
       "      <td>NaN</td>\n",
       "      <td>60220.80</td>\n",
       "      <td>NaN</td>\n",
       "      <td>5.00</td>\n",
       "      <td>NaN</td>\n",
       "      <td>6.00</td>\n",
       "    </tr>\n",
       "  </tbody>\n",
       "</table>\n",
       "</div>"
      ],
      "text/plain": [
       "   HDI rank                 Country  ... NaN  HDI rank\n",
       "0         1                  Norway  ... NaN      1.00\n",
       "1         2             Switzerland  ... NaN      2.00\n",
       "2         3                 Ireland  ... NaN      3.00\n",
       "3         4                 Germany  ... NaN      4.00\n",
       "4         4  Hong Kong, China (SAR)  ... NaN      6.00\n",
       "\n",
       "[5 rows x 15 columns]"
      ]
     },
     "execution_count": 42,
     "metadata": {
      "tags": []
     },
     "output_type": "execute_result"
    }
   ],
   "source": [
    "hdi.head()"
   ]
  },
  {
   "cell_type": "markdown",
   "metadata": {
    "colab_type": "text",
    "id": "NmbZRocFO5el"
   },
   "source": [
    "#### * Check last rows"
   ]
  },
  {
   "cell_type": "code",
   "execution_count": 43,
   "metadata": {
    "colab": {
     "base_uri": "https://localhost:8080/",
     "height": 710
    },
    "colab_type": "code",
    "executionInfo": {
     "elapsed": 1185,
     "status": "ok",
     "timestamp": 1580490683977,
     "user": {
      "displayName": "Jose Manuel Magallanes",
      "photoUrl": "https://lh3.googleusercontent.com/a-/AAuE7mCXsJWaI0Fauk0qdvkv46Br9ZNIbhNI2_qdmZt9=s64",
      "userId": "12963200192719698170"
     },
     "user_tz": 480
    },
    "id": "-PwXmQH0O5el",
    "outputId": "9850eaef-bee6-48c6-fe74-1215aa7feece"
   },
   "outputs": [
    {
     "data": {
      "text/html": [
       "<div>\n",
       "<style scoped>\n",
       "    .dataframe tbody tr th:only-of-type {\n",
       "        vertical-align: middle;\n",
       "    }\n",
       "\n",
       "    .dataframe tbody tr th {\n",
       "        vertical-align: top;\n",
       "    }\n",
       "\n",
       "    .dataframe thead th {\n",
       "        text-align: right;\n",
       "    }\n",
       "</style>\n",
       "<table border=\"1\" class=\"dataframe\">\n",
       "  <thead>\n",
       "    <tr style=\"text-align: right;\">\n",
       "      <th></th>\n",
       "      <th>HDI rank</th>\n",
       "      <th>Country</th>\n",
       "      <th>Human development index (HDI)</th>\n",
       "      <th>NaN</th>\n",
       "      <th>Life expectancy at birth</th>\n",
       "      <th>NaN</th>\n",
       "      <th>Expected years of schooling</th>\n",
       "      <th>NaN</th>\n",
       "      <th>Mean years of schooling</th>\n",
       "      <th>NaN</th>\n",
       "      <th>Gross national income (GNI) per capita</th>\n",
       "      <th>NaN</th>\n",
       "      <th>GNI per capita rank minus HDI rank</th>\n",
       "      <th>NaN</th>\n",
       "      <th>HDI rank</th>\n",
       "    </tr>\n",
       "  </thead>\n",
       "  <tbody>\n",
       "    <tr>\n",
       "      <th>197</th>\n",
       "      <td>..</td>\n",
       "      <td>Somalia</td>\n",
       "      <td>..</td>\n",
       "      <td>NaN</td>\n",
       "      <td>57.07</td>\n",
       "      <td>NaN</td>\n",
       "      <td>..</td>\n",
       "      <td>NaN</td>\n",
       "      <td>..</td>\n",
       "      <td>NaN</td>\n",
       "      <td>..</td>\n",
       "      <td>NaN</td>\n",
       "      <td>..</td>\n",
       "      <td>NaN</td>\n",
       "      <td>..</td>\n",
       "    </tr>\n",
       "    <tr>\n",
       "      <th>198</th>\n",
       "      <td>..</td>\n",
       "      <td>Tuvalu</td>\n",
       "      <td>..</td>\n",
       "      <td>NaN</td>\n",
       "      <td>..</td>\n",
       "      <td>NaN</td>\n",
       "      <td>12.31</td>\n",
       "      <td>NaN</td>\n",
       "      <td>..</td>\n",
       "      <td>NaN</td>\n",
       "      <td>5408.95</td>\n",
       "      <td>NaN</td>\n",
       "      <td>..</td>\n",
       "      <td>NaN</td>\n",
       "      <td>..</td>\n",
       "    </tr>\n",
       "    <tr>\n",
       "      <th>199</th>\n",
       "      <td>NaN</td>\n",
       "      <td>NaN</td>\n",
       "      <td>NaN</td>\n",
       "      <td>NaN</td>\n",
       "      <td>NaN</td>\n",
       "      <td>NaN</td>\n",
       "      <td>NaN</td>\n",
       "      <td>NaN</td>\n",
       "      <td>NaN</td>\n",
       "      <td>NaN</td>\n",
       "      <td>NaN</td>\n",
       "      <td>NaN</td>\n",
       "      <td>NaN</td>\n",
       "      <td>NaN</td>\n",
       "      <td>NaN</td>\n",
       "    </tr>\n",
       "    <tr>\n",
       "      <th>200</th>\n",
       "      <td>NaN</td>\n",
       "      <td>Human development groups</td>\n",
       "      <td>NaN</td>\n",
       "      <td>NaN</td>\n",
       "      <td>NaN</td>\n",
       "      <td>NaN</td>\n",
       "      <td>NaN</td>\n",
       "      <td>NaN</td>\n",
       "      <td>NaN</td>\n",
       "      <td>NaN</td>\n",
       "      <td>NaN</td>\n",
       "      <td>NaN</td>\n",
       "      <td>NaN</td>\n",
       "      <td>NaN</td>\n",
       "      <td>NaN</td>\n",
       "    </tr>\n",
       "    <tr>\n",
       "      <th>201</th>\n",
       "      <td>NaN</td>\n",
       "      <td>Very high human development</td>\n",
       "      <td>0.89</td>\n",
       "      <td>NaN</td>\n",
       "      <td>79.51</td>\n",
       "      <td>NaN</td>\n",
       "      <td>16.36</td>\n",
       "      <td>NaN</td>\n",
       "      <td>12.04</td>\n",
       "      <td>NaN</td>\n",
       "      <td>40111.57</td>\n",
       "      <td>NaN</td>\n",
       "      <td>—</td>\n",
       "      <td>NaN</td>\n",
       "      <td>—</td>\n",
       "    </tr>\n",
       "    <tr>\n",
       "      <th>...</th>\n",
       "      <td>...</td>\n",
       "      <td>...</td>\n",
       "      <td>...</td>\n",
       "      <td>...</td>\n",
       "      <td>...</td>\n",
       "      <td>...</td>\n",
       "      <td>...</td>\n",
       "      <td>...</td>\n",
       "      <td>...</td>\n",
       "      <td>...</td>\n",
       "      <td>...</td>\n",
       "      <td>...</td>\n",
       "      <td>...</td>\n",
       "      <td>...</td>\n",
       "      <td>...</td>\n",
       "    </tr>\n",
       "    <tr>\n",
       "      <th>257</th>\n",
       "      <td>NaN</td>\n",
       "      <td>Column 2: UNDESA (2019b).</td>\n",
       "      <td>NaN</td>\n",
       "      <td>NaN</td>\n",
       "      <td>NaN</td>\n",
       "      <td>NaN</td>\n",
       "      <td>NaN</td>\n",
       "      <td>NaN</td>\n",
       "      <td>NaN</td>\n",
       "      <td>NaN</td>\n",
       "      <td>NaN</td>\n",
       "      <td>NaN</td>\n",
       "      <td>NaN</td>\n",
       "      <td>NaN</td>\n",
       "      <td>NaN</td>\n",
       "    </tr>\n",
       "    <tr>\n",
       "      <th>258</th>\n",
       "      <td>NaN</td>\n",
       "      <td>Column 3: UNESCO Institute for Statistics (201...</td>\n",
       "      <td>NaN</td>\n",
       "      <td>NaN</td>\n",
       "      <td>NaN</td>\n",
       "      <td>NaN</td>\n",
       "      <td>NaN</td>\n",
       "      <td>NaN</td>\n",
       "      <td>NaN</td>\n",
       "      <td>NaN</td>\n",
       "      <td>NaN</td>\n",
       "      <td>NaN</td>\n",
       "      <td>NaN</td>\n",
       "      <td>NaN</td>\n",
       "      <td>NaN</td>\n",
       "    </tr>\n",
       "    <tr>\n",
       "      <th>259</th>\n",
       "      <td>NaN</td>\n",
       "      <td>Column 4: UNESCO Institute for Statistics (201...</td>\n",
       "      <td>NaN</td>\n",
       "      <td>NaN</td>\n",
       "      <td>NaN</td>\n",
       "      <td>NaN</td>\n",
       "      <td>NaN</td>\n",
       "      <td>NaN</td>\n",
       "      <td>NaN</td>\n",
       "      <td>NaN</td>\n",
       "      <td>NaN</td>\n",
       "      <td>NaN</td>\n",
       "      <td>NaN</td>\n",
       "      <td>NaN</td>\n",
       "      <td>NaN</td>\n",
       "    </tr>\n",
       "    <tr>\n",
       "      <th>260</th>\n",
       "      <td>NaN</td>\n",
       "      <td>Column 5: World Bank (2019a), IMF (2019) and U...</td>\n",
       "      <td>NaN</td>\n",
       "      <td>NaN</td>\n",
       "      <td>NaN</td>\n",
       "      <td>NaN</td>\n",
       "      <td>NaN</td>\n",
       "      <td>NaN</td>\n",
       "      <td>NaN</td>\n",
       "      <td>NaN</td>\n",
       "      <td>NaN</td>\n",
       "      <td>NaN</td>\n",
       "      <td>NaN</td>\n",
       "      <td>NaN</td>\n",
       "      <td>NaN</td>\n",
       "    </tr>\n",
       "    <tr>\n",
       "      <th>261</th>\n",
       "      <td>NaN</td>\n",
       "      <td>Column 6: Calculated based on data in columns ...</td>\n",
       "      <td>NaN</td>\n",
       "      <td>NaN</td>\n",
       "      <td>NaN</td>\n",
       "      <td>NaN</td>\n",
       "      <td>NaN</td>\n",
       "      <td>NaN</td>\n",
       "      <td>NaN</td>\n",
       "      <td>NaN</td>\n",
       "      <td>NaN</td>\n",
       "      <td>NaN</td>\n",
       "      <td>NaN</td>\n",
       "      <td>NaN</td>\n",
       "      <td>NaN</td>\n",
       "    </tr>\n",
       "  </tbody>\n",
       "</table>\n",
       "<p>65 rows × 15 columns</p>\n",
       "</div>"
      ],
      "text/plain": [
       "     HDI rank                                            Country  ... NaN  HDI rank\n",
       "197        ..                                            Somalia  ... NaN        ..\n",
       "198        ..                                             Tuvalu  ... NaN        ..\n",
       "199       NaN                                                NaN  ... NaN       NaN\n",
       "200       NaN                           Human development groups  ... NaN       NaN\n",
       "201       NaN                        Very high human development  ... NaN         —\n",
       "..        ...                                                ...  ...  ..       ...\n",
       "257       NaN                         Column 2: UNDESA (2019b).   ... NaN       NaN\n",
       "258       NaN  Column 3: UNESCO Institute for Statistics (201...  ... NaN       NaN\n",
       "259       NaN  Column 4: UNESCO Institute for Statistics (201...  ... NaN       NaN\n",
       "260       NaN  Column 5: World Bank (2019a), IMF (2019) and U...  ... NaN       NaN\n",
       "261       NaN  Column 6: Calculated based on data in columns ...  ... NaN       NaN\n",
       "\n",
       "[65 rows x 15 columns]"
      ]
     },
     "execution_count": 43,
     "metadata": {
      "tags": []
     },
     "output_type": "execute_result"
    }
   ],
   "source": [
    "hdi.tail(65) #change until you see last data row"
   ]
  },
  {
   "cell_type": "markdown",
   "metadata": {
    "colab_type": "text",
    "id": "H7I7UtQHO5en"
   },
   "source": [
    "Based on what is diSplayed, you should keep data up to Tuvalu country:"
   ]
  },
  {
   "cell_type": "code",
   "execution_count": 44,
   "metadata": {
    "colab": {
     "base_uri": "https://localhost:8080/",
     "height": 519
    },
    "colab_type": "code",
    "executionInfo": {
     "elapsed": 1486,
     "status": "ok",
     "timestamp": 1580490684287,
     "user": {
      "displayName": "Jose Manuel Magallanes",
      "photoUrl": "https://lh3.googleusercontent.com/a-/AAuE7mCXsJWaI0Fauk0qdvkv46Br9ZNIbhNI2_qdmZt9=s64",
      "userId": "12963200192719698170"
     },
     "user_tz": 480
    },
    "id": "woMLxjDpO5eo",
    "outputId": "c76159ab-479a-4557-b525-3f291be4beaf"
   },
   "outputs": [
    {
     "data": {
      "text/html": [
       "<div>\n",
       "<style scoped>\n",
       "    .dataframe tbody tr th:only-of-type {\n",
       "        vertical-align: middle;\n",
       "    }\n",
       "\n",
       "    .dataframe tbody tr th {\n",
       "        vertical-align: top;\n",
       "    }\n",
       "\n",
       "    .dataframe thead th {\n",
       "        text-align: right;\n",
       "    }\n",
       "</style>\n",
       "<table border=\"1\" class=\"dataframe\">\n",
       "  <thead>\n",
       "    <tr style=\"text-align: right;\">\n",
       "      <th></th>\n",
       "      <th>HDI rank</th>\n",
       "      <th>Country</th>\n",
       "      <th>Human development index (HDI)</th>\n",
       "      <th>NaN</th>\n",
       "      <th>Life expectancy at birth</th>\n",
       "      <th>NaN</th>\n",
       "      <th>Expected years of schooling</th>\n",
       "      <th>NaN</th>\n",
       "      <th>Mean years of schooling</th>\n",
       "      <th>NaN</th>\n",
       "      <th>Gross national income (GNI) per capita</th>\n",
       "      <th>NaN</th>\n",
       "      <th>GNI per capita rank minus HDI rank</th>\n",
       "      <th>NaN</th>\n",
       "      <th>HDI rank</th>\n",
       "    </tr>\n",
       "  </thead>\n",
       "  <tbody>\n",
       "    <tr>\n",
       "      <th>0</th>\n",
       "      <td>1</td>\n",
       "      <td>Norway</td>\n",
       "      <td>0.95</td>\n",
       "      <td>NaN</td>\n",
       "      <td>82.27</td>\n",
       "      <td>NaN</td>\n",
       "      <td>18.06</td>\n",
       "      <td>b</td>\n",
       "      <td>12.57</td>\n",
       "      <td>NaN</td>\n",
       "      <td>68058.62</td>\n",
       "      <td>NaN</td>\n",
       "      <td>5.00</td>\n",
       "      <td>NaN</td>\n",
       "      <td>1.00</td>\n",
       "    </tr>\n",
       "    <tr>\n",
       "      <th>1</th>\n",
       "      <td>2</td>\n",
       "      <td>Switzerland</td>\n",
       "      <td>0.95</td>\n",
       "      <td>NaN</td>\n",
       "      <td>83.63</td>\n",
       "      <td>NaN</td>\n",
       "      <td>16.21</td>\n",
       "      <td>NaN</td>\n",
       "      <td>13.38</td>\n",
       "      <td>NaN</td>\n",
       "      <td>59374.73</td>\n",
       "      <td>NaN</td>\n",
       "      <td>8.00</td>\n",
       "      <td>NaN</td>\n",
       "      <td>2.00</td>\n",
       "    </tr>\n",
       "    <tr>\n",
       "      <th>2</th>\n",
       "      <td>3</td>\n",
       "      <td>Ireland</td>\n",
       "      <td>0.94</td>\n",
       "      <td>NaN</td>\n",
       "      <td>82.10</td>\n",
       "      <td>NaN</td>\n",
       "      <td>18.79</td>\n",
       "      <td>b</td>\n",
       "      <td>12.53</td>\n",
       "      <td>c</td>\n",
       "      <td>55659.68</td>\n",
       "      <td>NaN</td>\n",
       "      <td>9.00</td>\n",
       "      <td>NaN</td>\n",
       "      <td>3.00</td>\n",
       "    </tr>\n",
       "    <tr>\n",
       "      <th>3</th>\n",
       "      <td>4</td>\n",
       "      <td>Germany</td>\n",
       "      <td>0.94</td>\n",
       "      <td>NaN</td>\n",
       "      <td>81.18</td>\n",
       "      <td>NaN</td>\n",
       "      <td>17.10</td>\n",
       "      <td>NaN</td>\n",
       "      <td>14.13</td>\n",
       "      <td>NaN</td>\n",
       "      <td>46945.95</td>\n",
       "      <td>NaN</td>\n",
       "      <td>15.00</td>\n",
       "      <td>NaN</td>\n",
       "      <td>4.00</td>\n",
       "    </tr>\n",
       "    <tr>\n",
       "      <th>4</th>\n",
       "      <td>4</td>\n",
       "      <td>Hong Kong, China (SAR)</td>\n",
       "      <td>0.94</td>\n",
       "      <td>NaN</td>\n",
       "      <td>84.69</td>\n",
       "      <td>NaN</td>\n",
       "      <td>16.51</td>\n",
       "      <td>NaN</td>\n",
       "      <td>12.04</td>\n",
       "      <td>NaN</td>\n",
       "      <td>60220.80</td>\n",
       "      <td>NaN</td>\n",
       "      <td>5.00</td>\n",
       "      <td>NaN</td>\n",
       "      <td>6.00</td>\n",
       "    </tr>\n",
       "    <tr>\n",
       "      <th>...</th>\n",
       "      <td>...</td>\n",
       "      <td>...</td>\n",
       "      <td>...</td>\n",
       "      <td>...</td>\n",
       "      <td>...</td>\n",
       "      <td>...</td>\n",
       "      <td>...</td>\n",
       "      <td>...</td>\n",
       "      <td>...</td>\n",
       "      <td>...</td>\n",
       "      <td>...</td>\n",
       "      <td>...</td>\n",
       "      <td>...</td>\n",
       "      <td>...</td>\n",
       "      <td>...</td>\n",
       "    </tr>\n",
       "    <tr>\n",
       "      <th>194</th>\n",
       "      <td>..</td>\n",
       "      <td>Monaco</td>\n",
       "      <td>..</td>\n",
       "      <td>NaN</td>\n",
       "      <td>..</td>\n",
       "      <td>NaN</td>\n",
       "      <td>..</td>\n",
       "      <td>NaN</td>\n",
       "      <td>..</td>\n",
       "      <td>NaN</td>\n",
       "      <td>..</td>\n",
       "      <td>NaN</td>\n",
       "      <td>..</td>\n",
       "      <td>NaN</td>\n",
       "      <td>..</td>\n",
       "    </tr>\n",
       "    <tr>\n",
       "      <th>195</th>\n",
       "      <td>..</td>\n",
       "      <td>Nauru</td>\n",
       "      <td>..</td>\n",
       "      <td>NaN</td>\n",
       "      <td>..</td>\n",
       "      <td>NaN</td>\n",
       "      <td>11.26</td>\n",
       "      <td>e</td>\n",
       "      <td>..</td>\n",
       "      <td>NaN</td>\n",
       "      <td>17312.59</td>\n",
       "      <td>NaN</td>\n",
       "      <td>..</td>\n",
       "      <td>NaN</td>\n",
       "      <td>..</td>\n",
       "    </tr>\n",
       "    <tr>\n",
       "      <th>196</th>\n",
       "      <td>..</td>\n",
       "      <td>San Marino</td>\n",
       "      <td>..</td>\n",
       "      <td>NaN</td>\n",
       "      <td>..</td>\n",
       "      <td>NaN</td>\n",
       "      <td>15.11</td>\n",
       "      <td>NaN</td>\n",
       "      <td>..</td>\n",
       "      <td>NaN</td>\n",
       "      <td>..</td>\n",
       "      <td>NaN</td>\n",
       "      <td>..</td>\n",
       "      <td>NaN</td>\n",
       "      <td>..</td>\n",
       "    </tr>\n",
       "    <tr>\n",
       "      <th>197</th>\n",
       "      <td>..</td>\n",
       "      <td>Somalia</td>\n",
       "      <td>..</td>\n",
       "      <td>NaN</td>\n",
       "      <td>57.07</td>\n",
       "      <td>NaN</td>\n",
       "      <td>..</td>\n",
       "      <td>NaN</td>\n",
       "      <td>..</td>\n",
       "      <td>NaN</td>\n",
       "      <td>..</td>\n",
       "      <td>NaN</td>\n",
       "      <td>..</td>\n",
       "      <td>NaN</td>\n",
       "      <td>..</td>\n",
       "    </tr>\n",
       "    <tr>\n",
       "      <th>198</th>\n",
       "      <td>..</td>\n",
       "      <td>Tuvalu</td>\n",
       "      <td>..</td>\n",
       "      <td>NaN</td>\n",
       "      <td>..</td>\n",
       "      <td>NaN</td>\n",
       "      <td>12.31</td>\n",
       "      <td>NaN</td>\n",
       "      <td>..</td>\n",
       "      <td>NaN</td>\n",
       "      <td>5408.95</td>\n",
       "      <td>NaN</td>\n",
       "      <td>..</td>\n",
       "      <td>NaN</td>\n",
       "      <td>..</td>\n",
       "    </tr>\n",
       "  </tbody>\n",
       "</table>\n",
       "<p>199 rows × 15 columns</p>\n",
       "</div>"
      ],
      "text/plain": [
       "     HDI rank                 Country  ... NaN  HDI rank\n",
       "0           1                  Norway  ... NaN      1.00\n",
       "1           2             Switzerland  ... NaN      2.00\n",
       "2           3                 Ireland  ... NaN      3.00\n",
       "3           4                 Germany  ... NaN      4.00\n",
       "4           4  Hong Kong, China (SAR)  ... NaN      6.00\n",
       "..        ...                     ...  ...  ..       ...\n",
       "194        ..                  Monaco  ... NaN        ..\n",
       "195        ..                   Nauru  ... NaN        ..\n",
       "196        ..              San Marino  ... NaN        ..\n",
       "197        ..                 Somalia  ... NaN        ..\n",
       "198        ..                  Tuvalu  ... NaN        ..\n",
       "\n",
       "[199 rows x 15 columns]"
      ]
     },
     "execution_count": 44,
     "metadata": {
      "tags": []
     },
     "output_type": "execute_result"
    }
   ],
   "source": [
    "# deleting: preview\n",
    "hdi.drop(index=range(199,262)) # rows starting from 199 will be erased"
   ]
  },
  {
   "cell_type": "markdown",
   "metadata": {
    "colab_type": "text",
    "id": "V3e3_NATO5et"
   },
   "source": [
    "Making effective the last code:"
   ]
  },
  {
   "cell_type": "code",
   "execution_count": null,
   "metadata": {
    "colab": {},
    "colab_type": "code",
    "id": "dT7w54yOO5eu"
   },
   "outputs": [],
   "source": [
    "hdi.drop(index=range(199,262),inplace=True) # should I reset indexes?"
   ]
  },
  {
   "cell_type": "markdown",
   "metadata": {
    "colab_type": "text",
    "id": "3FDk0-A7O5ev"
   },
   "source": [
    "So far:"
   ]
  },
  {
   "cell_type": "code",
   "execution_count": 46,
   "metadata": {
    "colab": {
     "base_uri": "https://localhost:8080/",
     "height": 519
    },
    "colab_type": "code",
    "executionInfo": {
     "elapsed": 1475,
     "status": "ok",
     "timestamp": 1580490684289,
     "user": {
      "displayName": "Jose Manuel Magallanes",
      "photoUrl": "https://lh3.googleusercontent.com/a-/AAuE7mCXsJWaI0Fauk0qdvkv46Br9ZNIbhNI2_qdmZt9=s64",
      "userId": "12963200192719698170"
     },
     "user_tz": 480
    },
    "id": "SZD7sDPzO5ew",
    "outputId": "c92969af-a958-47f0-977c-954ea99ef300"
   },
   "outputs": [
    {
     "data": {
      "text/html": [
       "<div>\n",
       "<style scoped>\n",
       "    .dataframe tbody tr th:only-of-type {\n",
       "        vertical-align: middle;\n",
       "    }\n",
       "\n",
       "    .dataframe tbody tr th {\n",
       "        vertical-align: top;\n",
       "    }\n",
       "\n",
       "    .dataframe thead th {\n",
       "        text-align: right;\n",
       "    }\n",
       "</style>\n",
       "<table border=\"1\" class=\"dataframe\">\n",
       "  <thead>\n",
       "    <tr style=\"text-align: right;\">\n",
       "      <th></th>\n",
       "      <th>HDI rank</th>\n",
       "      <th>Country</th>\n",
       "      <th>Human development index (HDI)</th>\n",
       "      <th>NaN</th>\n",
       "      <th>Life expectancy at birth</th>\n",
       "      <th>NaN</th>\n",
       "      <th>Expected years of schooling</th>\n",
       "      <th>NaN</th>\n",
       "      <th>Mean years of schooling</th>\n",
       "      <th>NaN</th>\n",
       "      <th>Gross national income (GNI) per capita</th>\n",
       "      <th>NaN</th>\n",
       "      <th>GNI per capita rank minus HDI rank</th>\n",
       "      <th>NaN</th>\n",
       "      <th>HDI rank</th>\n",
       "    </tr>\n",
       "  </thead>\n",
       "  <tbody>\n",
       "    <tr>\n",
       "      <th>0</th>\n",
       "      <td>1</td>\n",
       "      <td>Norway</td>\n",
       "      <td>0.95</td>\n",
       "      <td>NaN</td>\n",
       "      <td>82.27</td>\n",
       "      <td>NaN</td>\n",
       "      <td>18.06</td>\n",
       "      <td>b</td>\n",
       "      <td>12.57</td>\n",
       "      <td>NaN</td>\n",
       "      <td>68058.62</td>\n",
       "      <td>NaN</td>\n",
       "      <td>5.00</td>\n",
       "      <td>NaN</td>\n",
       "      <td>1.00</td>\n",
       "    </tr>\n",
       "    <tr>\n",
       "      <th>1</th>\n",
       "      <td>2</td>\n",
       "      <td>Switzerland</td>\n",
       "      <td>0.95</td>\n",
       "      <td>NaN</td>\n",
       "      <td>83.63</td>\n",
       "      <td>NaN</td>\n",
       "      <td>16.21</td>\n",
       "      <td>NaN</td>\n",
       "      <td>13.38</td>\n",
       "      <td>NaN</td>\n",
       "      <td>59374.73</td>\n",
       "      <td>NaN</td>\n",
       "      <td>8.00</td>\n",
       "      <td>NaN</td>\n",
       "      <td>2.00</td>\n",
       "    </tr>\n",
       "    <tr>\n",
       "      <th>2</th>\n",
       "      <td>3</td>\n",
       "      <td>Ireland</td>\n",
       "      <td>0.94</td>\n",
       "      <td>NaN</td>\n",
       "      <td>82.10</td>\n",
       "      <td>NaN</td>\n",
       "      <td>18.79</td>\n",
       "      <td>b</td>\n",
       "      <td>12.53</td>\n",
       "      <td>c</td>\n",
       "      <td>55659.68</td>\n",
       "      <td>NaN</td>\n",
       "      <td>9.00</td>\n",
       "      <td>NaN</td>\n",
       "      <td>3.00</td>\n",
       "    </tr>\n",
       "    <tr>\n",
       "      <th>3</th>\n",
       "      <td>4</td>\n",
       "      <td>Germany</td>\n",
       "      <td>0.94</td>\n",
       "      <td>NaN</td>\n",
       "      <td>81.18</td>\n",
       "      <td>NaN</td>\n",
       "      <td>17.10</td>\n",
       "      <td>NaN</td>\n",
       "      <td>14.13</td>\n",
       "      <td>NaN</td>\n",
       "      <td>46945.95</td>\n",
       "      <td>NaN</td>\n",
       "      <td>15.00</td>\n",
       "      <td>NaN</td>\n",
       "      <td>4.00</td>\n",
       "    </tr>\n",
       "    <tr>\n",
       "      <th>4</th>\n",
       "      <td>4</td>\n",
       "      <td>Hong Kong, China (SAR)</td>\n",
       "      <td>0.94</td>\n",
       "      <td>NaN</td>\n",
       "      <td>84.69</td>\n",
       "      <td>NaN</td>\n",
       "      <td>16.51</td>\n",
       "      <td>NaN</td>\n",
       "      <td>12.04</td>\n",
       "      <td>NaN</td>\n",
       "      <td>60220.80</td>\n",
       "      <td>NaN</td>\n",
       "      <td>5.00</td>\n",
       "      <td>NaN</td>\n",
       "      <td>6.00</td>\n",
       "    </tr>\n",
       "    <tr>\n",
       "      <th>...</th>\n",
       "      <td>...</td>\n",
       "      <td>...</td>\n",
       "      <td>...</td>\n",
       "      <td>...</td>\n",
       "      <td>...</td>\n",
       "      <td>...</td>\n",
       "      <td>...</td>\n",
       "      <td>...</td>\n",
       "      <td>...</td>\n",
       "      <td>...</td>\n",
       "      <td>...</td>\n",
       "      <td>...</td>\n",
       "      <td>...</td>\n",
       "      <td>...</td>\n",
       "      <td>...</td>\n",
       "    </tr>\n",
       "    <tr>\n",
       "      <th>194</th>\n",
       "      <td>..</td>\n",
       "      <td>Monaco</td>\n",
       "      <td>..</td>\n",
       "      <td>NaN</td>\n",
       "      <td>..</td>\n",
       "      <td>NaN</td>\n",
       "      <td>..</td>\n",
       "      <td>NaN</td>\n",
       "      <td>..</td>\n",
       "      <td>NaN</td>\n",
       "      <td>..</td>\n",
       "      <td>NaN</td>\n",
       "      <td>..</td>\n",
       "      <td>NaN</td>\n",
       "      <td>..</td>\n",
       "    </tr>\n",
       "    <tr>\n",
       "      <th>195</th>\n",
       "      <td>..</td>\n",
       "      <td>Nauru</td>\n",
       "      <td>..</td>\n",
       "      <td>NaN</td>\n",
       "      <td>..</td>\n",
       "      <td>NaN</td>\n",
       "      <td>11.26</td>\n",
       "      <td>e</td>\n",
       "      <td>..</td>\n",
       "      <td>NaN</td>\n",
       "      <td>17312.59</td>\n",
       "      <td>NaN</td>\n",
       "      <td>..</td>\n",
       "      <td>NaN</td>\n",
       "      <td>..</td>\n",
       "    </tr>\n",
       "    <tr>\n",
       "      <th>196</th>\n",
       "      <td>..</td>\n",
       "      <td>San Marino</td>\n",
       "      <td>..</td>\n",
       "      <td>NaN</td>\n",
       "      <td>..</td>\n",
       "      <td>NaN</td>\n",
       "      <td>15.11</td>\n",
       "      <td>NaN</td>\n",
       "      <td>..</td>\n",
       "      <td>NaN</td>\n",
       "      <td>..</td>\n",
       "      <td>NaN</td>\n",
       "      <td>..</td>\n",
       "      <td>NaN</td>\n",
       "      <td>..</td>\n",
       "    </tr>\n",
       "    <tr>\n",
       "      <th>197</th>\n",
       "      <td>..</td>\n",
       "      <td>Somalia</td>\n",
       "      <td>..</td>\n",
       "      <td>NaN</td>\n",
       "      <td>57.07</td>\n",
       "      <td>NaN</td>\n",
       "      <td>..</td>\n",
       "      <td>NaN</td>\n",
       "      <td>..</td>\n",
       "      <td>NaN</td>\n",
       "      <td>..</td>\n",
       "      <td>NaN</td>\n",
       "      <td>..</td>\n",
       "      <td>NaN</td>\n",
       "      <td>..</td>\n",
       "    </tr>\n",
       "    <tr>\n",
       "      <th>198</th>\n",
       "      <td>..</td>\n",
       "      <td>Tuvalu</td>\n",
       "      <td>..</td>\n",
       "      <td>NaN</td>\n",
       "      <td>..</td>\n",
       "      <td>NaN</td>\n",
       "      <td>12.31</td>\n",
       "      <td>NaN</td>\n",
       "      <td>..</td>\n",
       "      <td>NaN</td>\n",
       "      <td>5408.95</td>\n",
       "      <td>NaN</td>\n",
       "      <td>..</td>\n",
       "      <td>NaN</td>\n",
       "      <td>..</td>\n",
       "    </tr>\n",
       "  </tbody>\n",
       "</table>\n",
       "<p>199 rows × 15 columns</p>\n",
       "</div>"
      ],
      "text/plain": [
       "     HDI rank                 Country  ... NaN  HDI rank\n",
       "0           1                  Norway  ... NaN      1.00\n",
       "1           2             Switzerland  ... NaN      2.00\n",
       "2           3                 Ireland  ... NaN      3.00\n",
       "3           4                 Germany  ... NaN      4.00\n",
       "4           4  Hong Kong, China (SAR)  ... NaN      6.00\n",
       "..        ...                     ...  ...  ..       ...\n",
       "194        ..                  Monaco  ... NaN        ..\n",
       "195        ..                   Nauru  ... NaN        ..\n",
       "196        ..              San Marino  ... NaN        ..\n",
       "197        ..                 Somalia  ... NaN        ..\n",
       "198        ..                  Tuvalu  ... NaN        ..\n",
       "\n",
       "[199 rows x 15 columns]"
      ]
     },
     "execution_count": 46,
     "metadata": {
      "tags": []
     },
     "output_type": "execute_result"
    }
   ],
   "source": [
    "hdi"
   ]
  },
  {
   "cell_type": "markdown",
   "metadata": {
    "colab_type": "text",
    "id": "_BQFKYZ0O5ey"
   },
   "source": [
    "#### * Check the column names"
   ]
  },
  {
   "cell_type": "markdown",
   "metadata": {
    "colab_type": "text",
    "id": "pEDYyeS7O5e0"
   },
   "source": [
    "You have columns with names \"missing\", you want to avoid those:"
   ]
  },
  {
   "cell_type": "code",
   "execution_count": 47,
   "metadata": {
    "colab": {
     "base_uri": "https://localhost:8080/",
     "height": 173
    },
    "colab_type": "code",
    "executionInfo": {
     "elapsed": 1466,
     "status": "ok",
     "timestamp": 1580490684289,
     "user": {
      "displayName": "Jose Manuel Magallanes",
      "photoUrl": "https://lh3.googleusercontent.com/a-/AAuE7mCXsJWaI0Fauk0qdvkv46Br9ZNIbhNI2_qdmZt9=s64",
      "userId": "12963200192719698170"
     },
     "user_tz": 480
    },
    "id": "B7DpPZdmO5e1",
    "outputId": "f006a213-90fc-43f1-c54b-98e3dfd12ada"
   },
   "outputs": [
    {
     "data": {
      "text/plain": [
       "['HDI rank',\n",
       " 'Country',\n",
       " 'Human development index (HDI) ',\n",
       " 'Life expectancy at birth',\n",
       " 'Expected years of schooling',\n",
       " 'Mean years of schooling',\n",
       " 'Gross national income (GNI) per capita',\n",
       " 'GNI per capita rank minus HDI rank',\n",
       " 'HDI rank']"
      ]
     },
     "execution_count": 47,
     "metadata": {
      "tags": []
     },
     "output_type": "execute_result"
    }
   ],
   "source": [
    "# Get good columns\n",
    "\n",
    "GoodHeaders=[header for header in CurrentHeaders if str(header) != 'nan']\n",
    "#\n",
    "GoodHeaders"
   ]
  },
  {
   "cell_type": "markdown",
   "metadata": {
    "colab_type": "text",
    "id": "IA4ZExTsO5e2"
   },
   "source": [
    "The column **HDI rank** appears twice, because it appears twice in the data. Also, you have another rank **GNI per capita rank minus HDI rank'**. Ranks are repetitive because we have the scores. So, you can always get rid of them in this and other similar situations:"
   ]
  },
  {
   "cell_type": "code",
   "execution_count": 48,
   "metadata": {
    "colab": {
     "base_uri": "https://localhost:8080/",
     "height": 121
    },
    "colab_type": "code",
    "executionInfo": {
     "elapsed": 1459,
     "status": "ok",
     "timestamp": 1580490684290,
     "user": {
      "displayName": "Jose Manuel Magallanes",
      "photoUrl": "https://lh3.googleusercontent.com/a-/AAuE7mCXsJWaI0Fauk0qdvkv46Br9ZNIbhNI2_qdmZt9=s64",
      "userId": "12963200192719698170"
     },
     "user_tz": 480
    },
    "id": "qmTOm2qzO5e3",
    "outputId": "4a59d5f1-b3ef-4f29-cfe5-73c080f0a288"
   },
   "outputs": [
    {
     "data": {
      "text/plain": [
       "['Country',\n",
       " 'Human development index (HDI) ',\n",
       " 'Life expectancy at birth',\n",
       " 'Expected years of schooling',\n",
       " 'Mean years of schooling',\n",
       " 'Gross national income (GNI) per capita']"
      ]
     },
     "execution_count": 48,
     "metadata": {
      "tags": []
     },
     "output_type": "execute_result"
    }
   ],
   "source": [
    "FinalHeaders=[header for header in GoodHeaders if 'rank' not in header]\n",
    "# then\n",
    "FinalHeaders"
   ]
  },
  {
   "cell_type": "code",
   "execution_count": 49,
   "metadata": {
    "colab": {
     "base_uri": "https://localhost:8080/",
     "height": 450
    },
    "colab_type": "code",
    "executionInfo": {
     "elapsed": 1450,
     "status": "ok",
     "timestamp": 1580490684290,
     "user": {
      "displayName": "Jose Manuel Magallanes",
      "photoUrl": "https://lh3.googleusercontent.com/a-/AAuE7mCXsJWaI0Fauk0qdvkv46Br9ZNIbhNI2_qdmZt9=s64",
      "userId": "12963200192719698170"
     },
     "user_tz": 480
    },
    "id": "QtwUJ5DAO5e4",
    "outputId": "2064a2fb-78a4-46a6-daa1-a12c249d387b"
   },
   "outputs": [
    {
     "data": {
      "text/html": [
       "<div>\n",
       "<style scoped>\n",
       "    .dataframe tbody tr th:only-of-type {\n",
       "        vertical-align: middle;\n",
       "    }\n",
       "\n",
       "    .dataframe tbody tr th {\n",
       "        vertical-align: top;\n",
       "    }\n",
       "\n",
       "    .dataframe thead th {\n",
       "        text-align: right;\n",
       "    }\n",
       "</style>\n",
       "<table border=\"1\" class=\"dataframe\">\n",
       "  <thead>\n",
       "    <tr style=\"text-align: right;\">\n",
       "      <th></th>\n",
       "      <th>Country</th>\n",
       "      <th>Human development index (HDI)</th>\n",
       "      <th>Life expectancy at birth</th>\n",
       "      <th>Expected years of schooling</th>\n",
       "      <th>Mean years of schooling</th>\n",
       "      <th>Gross national income (GNI) per capita</th>\n",
       "    </tr>\n",
       "  </thead>\n",
       "  <tbody>\n",
       "    <tr>\n",
       "      <th>0</th>\n",
       "      <td>Norway</td>\n",
       "      <td>0.95</td>\n",
       "      <td>82.27</td>\n",
       "      <td>18.06</td>\n",
       "      <td>12.57</td>\n",
       "      <td>68058.62</td>\n",
       "    </tr>\n",
       "    <tr>\n",
       "      <th>1</th>\n",
       "      <td>Switzerland</td>\n",
       "      <td>0.95</td>\n",
       "      <td>83.63</td>\n",
       "      <td>16.21</td>\n",
       "      <td>13.38</td>\n",
       "      <td>59374.73</td>\n",
       "    </tr>\n",
       "    <tr>\n",
       "      <th>2</th>\n",
       "      <td>Ireland</td>\n",
       "      <td>0.94</td>\n",
       "      <td>82.10</td>\n",
       "      <td>18.79</td>\n",
       "      <td>12.53</td>\n",
       "      <td>55659.68</td>\n",
       "    </tr>\n",
       "    <tr>\n",
       "      <th>3</th>\n",
       "      <td>Germany</td>\n",
       "      <td>0.94</td>\n",
       "      <td>81.18</td>\n",
       "      <td>17.10</td>\n",
       "      <td>14.13</td>\n",
       "      <td>46945.95</td>\n",
       "    </tr>\n",
       "    <tr>\n",
       "      <th>4</th>\n",
       "      <td>Hong Kong, China (SAR)</td>\n",
       "      <td>0.94</td>\n",
       "      <td>84.69</td>\n",
       "      <td>16.51</td>\n",
       "      <td>12.04</td>\n",
       "      <td>60220.80</td>\n",
       "    </tr>\n",
       "    <tr>\n",
       "      <th>...</th>\n",
       "      <td>...</td>\n",
       "      <td>...</td>\n",
       "      <td>...</td>\n",
       "      <td>...</td>\n",
       "      <td>...</td>\n",
       "      <td>...</td>\n",
       "    </tr>\n",
       "    <tr>\n",
       "      <th>194</th>\n",
       "      <td>Monaco</td>\n",
       "      <td>..</td>\n",
       "      <td>..</td>\n",
       "      <td>..</td>\n",
       "      <td>..</td>\n",
       "      <td>..</td>\n",
       "    </tr>\n",
       "    <tr>\n",
       "      <th>195</th>\n",
       "      <td>Nauru</td>\n",
       "      <td>..</td>\n",
       "      <td>..</td>\n",
       "      <td>11.26</td>\n",
       "      <td>..</td>\n",
       "      <td>17312.59</td>\n",
       "    </tr>\n",
       "    <tr>\n",
       "      <th>196</th>\n",
       "      <td>San Marino</td>\n",
       "      <td>..</td>\n",
       "      <td>..</td>\n",
       "      <td>15.11</td>\n",
       "      <td>..</td>\n",
       "      <td>..</td>\n",
       "    </tr>\n",
       "    <tr>\n",
       "      <th>197</th>\n",
       "      <td>Somalia</td>\n",
       "      <td>..</td>\n",
       "      <td>57.07</td>\n",
       "      <td>..</td>\n",
       "      <td>..</td>\n",
       "      <td>..</td>\n",
       "    </tr>\n",
       "    <tr>\n",
       "      <th>198</th>\n",
       "      <td>Tuvalu</td>\n",
       "      <td>..</td>\n",
       "      <td>..</td>\n",
       "      <td>12.31</td>\n",
       "      <td>..</td>\n",
       "      <td>5408.95</td>\n",
       "    </tr>\n",
       "  </tbody>\n",
       "</table>\n",
       "<p>199 rows × 6 columns</p>\n",
       "</div>"
      ],
      "text/plain": [
       "                    Country  ... Gross national income (GNI) per capita\n",
       "0                    Norway  ...                               68058.62\n",
       "1               Switzerland  ...                               59374.73\n",
       "2                   Ireland  ...                               55659.68\n",
       "3                   Germany  ...                               46945.95\n",
       "4    Hong Kong, China (SAR)  ...                               60220.80\n",
       "..                      ...  ...                                    ...\n",
       "194                  Monaco  ...                                     ..\n",
       "195                   Nauru  ...                               17312.59\n",
       "196              San Marino  ...                                     ..\n",
       "197                 Somalia  ...                                     ..\n",
       "198                  Tuvalu  ...                                5408.95\n",
       "\n",
       "[199 rows x 6 columns]"
      ]
     },
     "execution_count": 49,
     "metadata": {
      "tags": []
     },
     "output_type": "execute_result"
    }
   ],
   "source": [
    "# remember loc works with names, not with positions:\n",
    "\n",
    "hdi.loc[:,FinalHeaders]"
   ]
  },
  {
   "cell_type": "markdown",
   "metadata": {
    "colab_type": "text",
    "id": "JRFmLAu8O5e6"
   },
   "source": [
    "Saving previous result:"
   ]
  },
  {
   "cell_type": "code",
   "execution_count": null,
   "metadata": {
    "colab": {},
    "colab_type": "code",
    "id": "EstCWoABO5e7"
   },
   "outputs": [],
   "source": [
    "hdi=hdi.loc[:,FinalHeaders]"
   ]
  },
  {
   "cell_type": "code",
   "execution_count": 51,
   "metadata": {
    "colab": {
     "base_uri": "https://localhost:8080/",
     "height": 237
    },
    "colab_type": "code",
    "executionInfo": {
     "elapsed": 1436,
     "status": "ok",
     "timestamp": 1580490684291,
     "user": {
      "displayName": "Jose Manuel Magallanes",
      "photoUrl": "https://lh3.googleusercontent.com/a-/AAuE7mCXsJWaI0Fauk0qdvkv46Br9ZNIbhNI2_qdmZt9=s64",
      "userId": "12963200192719698170"
     },
     "user_tz": 480
    },
    "id": "rwCwE8UKO5e9",
    "outputId": "9d469d6f-3383-4eb8-96bc-0b020fe80f21"
   },
   "outputs": [
    {
     "data": {
      "text/html": [
       "<div>\n",
       "<style scoped>\n",
       "    .dataframe tbody tr th:only-of-type {\n",
       "        vertical-align: middle;\n",
       "    }\n",
       "\n",
       "    .dataframe tbody tr th {\n",
       "        vertical-align: top;\n",
       "    }\n",
       "\n",
       "    .dataframe thead th {\n",
       "        text-align: right;\n",
       "    }\n",
       "</style>\n",
       "<table border=\"1\" class=\"dataframe\">\n",
       "  <thead>\n",
       "    <tr style=\"text-align: right;\">\n",
       "      <th></th>\n",
       "      <th>Country</th>\n",
       "      <th>Human development index (HDI)</th>\n",
       "      <th>Life expectancy at birth</th>\n",
       "      <th>Expected years of schooling</th>\n",
       "      <th>Mean years of schooling</th>\n",
       "      <th>Gross national income (GNI) per capita</th>\n",
       "    </tr>\n",
       "  </thead>\n",
       "  <tbody>\n",
       "    <tr>\n",
       "      <th>0</th>\n",
       "      <td>Norway</td>\n",
       "      <td>0.95</td>\n",
       "      <td>82.27</td>\n",
       "      <td>18.06</td>\n",
       "      <td>12.57</td>\n",
       "      <td>68058.62</td>\n",
       "    </tr>\n",
       "    <tr>\n",
       "      <th>1</th>\n",
       "      <td>Switzerland</td>\n",
       "      <td>0.95</td>\n",
       "      <td>83.63</td>\n",
       "      <td>16.21</td>\n",
       "      <td>13.38</td>\n",
       "      <td>59374.73</td>\n",
       "    </tr>\n",
       "    <tr>\n",
       "      <th>2</th>\n",
       "      <td>Ireland</td>\n",
       "      <td>0.94</td>\n",
       "      <td>82.10</td>\n",
       "      <td>18.79</td>\n",
       "      <td>12.53</td>\n",
       "      <td>55659.68</td>\n",
       "    </tr>\n",
       "    <tr>\n",
       "      <th>3</th>\n",
       "      <td>Germany</td>\n",
       "      <td>0.94</td>\n",
       "      <td>81.18</td>\n",
       "      <td>17.10</td>\n",
       "      <td>14.13</td>\n",
       "      <td>46945.95</td>\n",
       "    </tr>\n",
       "    <tr>\n",
       "      <th>4</th>\n",
       "      <td>Hong Kong, China (SAR)</td>\n",
       "      <td>0.94</td>\n",
       "      <td>84.69</td>\n",
       "      <td>16.51</td>\n",
       "      <td>12.04</td>\n",
       "      <td>60220.80</td>\n",
       "    </tr>\n",
       "  </tbody>\n",
       "</table>\n",
       "</div>"
      ],
      "text/plain": [
       "                  Country  ... Gross national income (GNI) per capita\n",
       "0                  Norway  ...                               68058.62\n",
       "1             Switzerland  ...                               59374.73\n",
       "2                 Ireland  ...                               55659.68\n",
       "3                 Germany  ...                               46945.95\n",
       "4  Hong Kong, China (SAR)  ...                               60220.80\n",
       "\n",
       "[5 rows x 6 columns]"
      ]
     },
     "execution_count": 51,
     "metadata": {
      "tags": []
     },
     "output_type": "execute_result"
    }
   ],
   "source": [
    "# you have:\n",
    "hdi.head()"
   ]
  },
  {
   "cell_type": "markdown",
   "metadata": {
    "colab_type": "text",
    "id": "8FXxL1coO5e-"
   },
   "source": [
    "The remaining column names need to improve:"
   ]
  },
  {
   "cell_type": "code",
   "execution_count": 52,
   "metadata": {
    "colab": {
     "base_uri": "https://localhost:8080/",
     "height": 87
    },
    "colab_type": "code",
    "executionInfo": {
     "elapsed": 1428,
     "status": "ok",
     "timestamp": 1580490684292,
     "user": {
      "displayName": "Jose Manuel Magallanes",
      "photoUrl": "https://lh3.googleusercontent.com/a-/AAuE7mCXsJWaI0Fauk0qdvkv46Br9ZNIbhNI2_qdmZt9=s64",
      "userId": "12963200192719698170"
     },
     "user_tz": 480
    },
    "id": "GYQEdx9pO5e_",
    "outputId": "b0d611ff-b39a-4751-b094-c0ab6a1b86a6"
   },
   "outputs": [
    {
     "data": {
      "text/plain": [
       "Index(['Country', 'Humandevelopmentindex(HDI)', 'Lifeexpectancyatbirth',\n",
       "       'Expectedyearsofschooling', 'Meanyearsofschooling',\n",
       "       'Grossnationalincome(GNI)percapita'],\n",
       "      dtype='object')"
      ]
     },
     "execution_count": 52,
     "metadata": {
      "tags": []
     },
     "output_type": "execute_result"
    }
   ],
   "source": [
    "# replace with '' (empty) the \"blanks\":\n",
    "hdi.columns.str.replace(\"\\s\",\"\") "
   ]
  },
  {
   "cell_type": "code",
   "execution_count": 53,
   "metadata": {
    "colab": {
     "base_uri": "https://localhost:8080/",
     "height": 87
    },
    "colab_type": "code",
    "executionInfo": {
     "elapsed": 1420,
     "status": "ok",
     "timestamp": 1580490684292,
     "user": {
      "displayName": "Jose Manuel Magallanes",
      "photoUrl": "https://lh3.googleusercontent.com/a-/AAuE7mCXsJWaI0Fauk0qdvkv46Br9ZNIbhNI2_qdmZt9=s64",
      "userId": "12963200192719698170"
     },
     "user_tz": 480
    },
    "id": "knrDTl27O5fA",
    "outputId": "800ff2e4-4750-4040-cceb-c51ae312dccd"
   },
   "outputs": [
    {
     "data": {
      "text/plain": [
       "Index(['Country', 'Human development index  ', 'Life expectancy at birth',\n",
       "       'Expected years of schooling', 'Mean years of schooling',\n",
       "       'Gross national income  per capita'],\n",
       "      dtype='object')"
      ]
     },
     "execution_count": 53,
     "metadata": {
      "tags": []
     },
     "output_type": "execute_result"
    }
   ],
   "source": [
    "# replace with '' (empty) consecutive word characters in parenthesis:\n",
    "hdi.columns.str.replace(\"\\(\\w+\\)\",\"\")"
   ]
  },
  {
   "cell_type": "code",
   "execution_count": 54,
   "metadata": {
    "colab": {
     "base_uri": "https://localhost:8080/",
     "height": 87
    },
    "colab_type": "code",
    "executionInfo": {
     "elapsed": 1408,
     "status": "ok",
     "timestamp": 1580490684293,
     "user": {
      "displayName": "Jose Manuel Magallanes",
      "photoUrl": "https://lh3.googleusercontent.com/a-/AAuE7mCXsJWaI0Fauk0qdvkv46Br9ZNIbhNI2_qdmZt9=s64",
      "userId": "12963200192719698170"
     },
     "user_tz": 480
    },
    "id": "BenmoBX5O5fB",
    "outputId": "a64b1c07-8579-4cf8-b505-dc6afdf5472f"
   },
   "outputs": [
    {
     "data": {
      "text/plain": [
       "Index(['Country', 'Humandevelopmentindex', 'Lifeexpectancyatbirth',\n",
       "       'Expectedyearsofschooling', 'Meanyearsofschooling',\n",
       "       'Grossnationalincomepercapita'],\n",
       "      dtype='object')"
      ]
     },
     "execution_count": 54,
     "metadata": {
      "tags": []
     },
     "output_type": "execute_result"
    }
   ],
   "source": [
    "#or all combines\n",
    "hdi.columns.str.replace(\"\\s+|\\(\\w+\\)\",\"\")"
   ]
  },
  {
   "cell_type": "markdown",
   "metadata": {
    "colab_type": "text",
    "id": "3kJ9w_1yO5fD"
   },
   "source": [
    "Saving result:"
   ]
  },
  {
   "cell_type": "code",
   "execution_count": null,
   "metadata": {
    "colab": {},
    "colab_type": "code",
    "id": "RehP2Vh0O5fE"
   },
   "outputs": [],
   "source": [
    "hdi.columns=hdi.columns.str.replace(\"\\s+|\\(\\w+\\)\",\"\")"
   ]
  },
  {
   "cell_type": "code",
   "execution_count": 56,
   "metadata": {
    "colab": {
     "base_uri": "https://localhost:8080/",
     "height": 219
    },
    "colab_type": "code",
    "executionInfo": {
     "elapsed": 1519,
     "status": "ok",
     "timestamp": 1580490684417,
     "user": {
      "displayName": "Jose Manuel Magallanes",
      "photoUrl": "https://lh3.googleusercontent.com/a-/AAuE7mCXsJWaI0Fauk0qdvkv46Br9ZNIbhNI2_qdmZt9=s64",
      "userId": "12963200192719698170"
     },
     "user_tz": 480
    },
    "id": "v5Ncdg0RO5fG",
    "outputId": "135b8e46-dfa8-448d-ccba-9a63b9ec30b7"
   },
   "outputs": [
    {
     "data": {
      "text/html": [
       "<div>\n",
       "<style scoped>\n",
       "    .dataframe tbody tr th:only-of-type {\n",
       "        vertical-align: middle;\n",
       "    }\n",
       "\n",
       "    .dataframe tbody tr th {\n",
       "        vertical-align: top;\n",
       "    }\n",
       "\n",
       "    .dataframe thead th {\n",
       "        text-align: right;\n",
       "    }\n",
       "</style>\n",
       "<table border=\"1\" class=\"dataframe\">\n",
       "  <thead>\n",
       "    <tr style=\"text-align: right;\">\n",
       "      <th></th>\n",
       "      <th>Country</th>\n",
       "      <th>Humandevelopmentindex</th>\n",
       "      <th>Lifeexpectancyatbirth</th>\n",
       "      <th>Expectedyearsofschooling</th>\n",
       "      <th>Meanyearsofschooling</th>\n",
       "      <th>Grossnationalincomepercapita</th>\n",
       "    </tr>\n",
       "  </thead>\n",
       "  <tbody>\n",
       "    <tr>\n",
       "      <th>0</th>\n",
       "      <td>Norway</td>\n",
       "      <td>0.95</td>\n",
       "      <td>82.27</td>\n",
       "      <td>18.06</td>\n",
       "      <td>12.57</td>\n",
       "      <td>68058.62</td>\n",
       "    </tr>\n",
       "    <tr>\n",
       "      <th>1</th>\n",
       "      <td>Switzerland</td>\n",
       "      <td>0.95</td>\n",
       "      <td>83.63</td>\n",
       "      <td>16.21</td>\n",
       "      <td>13.38</td>\n",
       "      <td>59374.73</td>\n",
       "    </tr>\n",
       "    <tr>\n",
       "      <th>2</th>\n",
       "      <td>Ireland</td>\n",
       "      <td>0.94</td>\n",
       "      <td>82.10</td>\n",
       "      <td>18.79</td>\n",
       "      <td>12.53</td>\n",
       "      <td>55659.68</td>\n",
       "    </tr>\n",
       "    <tr>\n",
       "      <th>3</th>\n",
       "      <td>Germany</td>\n",
       "      <td>0.94</td>\n",
       "      <td>81.18</td>\n",
       "      <td>17.10</td>\n",
       "      <td>14.13</td>\n",
       "      <td>46945.95</td>\n",
       "    </tr>\n",
       "    <tr>\n",
       "      <th>4</th>\n",
       "      <td>Hong Kong, China (SAR)</td>\n",
       "      <td>0.94</td>\n",
       "      <td>84.69</td>\n",
       "      <td>16.51</td>\n",
       "      <td>12.04</td>\n",
       "      <td>60220.80</td>\n",
       "    </tr>\n",
       "  </tbody>\n",
       "</table>\n",
       "</div>"
      ],
      "text/plain": [
       "                  Country  ... Grossnationalincomepercapita\n",
       "0                  Norway  ...                     68058.62\n",
       "1             Switzerland  ...                     59374.73\n",
       "2                 Ireland  ...                     55659.68\n",
       "3                 Germany  ...                     46945.95\n",
       "4  Hong Kong, China (SAR)  ...                     60220.80\n",
       "\n",
       "[5 rows x 6 columns]"
      ]
     },
     "execution_count": 56,
     "metadata": {
      "tags": []
     },
     "output_type": "execute_result"
    }
   ],
   "source": [
    "hdi.head()"
   ]
  },
  {
   "cell_type": "markdown",
   "metadata": {
    "colab_type": "text",
    "id": "dIPXdovlO5fH"
   },
   "source": [
    "#### * Check the cell values"
   ]
  },
  {
   "cell_type": "markdown",
   "metadata": {
    "colab_type": "text",
    "id": "6pj6vBrqO5fI"
   },
   "source": [
    "Find cells where all numeric data is missing, that is, a country with no data:"
   ]
  },
  {
   "cell_type": "code",
   "execution_count": 57,
   "metadata": {
    "colab": {
     "base_uri": "https://localhost:8080/",
     "height": 313
    },
    "colab_type": "code",
    "executionInfo": {
     "elapsed": 1511,
     "status": "ok",
     "timestamp": 1580490684417,
     "user": {
      "displayName": "Jose Manuel Magallanes",
      "photoUrl": "https://lh3.googleusercontent.com/a-/AAuE7mCXsJWaI0Fauk0qdvkv46Br9ZNIbhNI2_qdmZt9=s64",
      "userId": "12963200192719698170"
     },
     "user_tz": 480
    },
    "id": "eK1h26RNO5fI",
    "outputId": "1b775457-7381-4dfe-aa31-6d9a67daa893"
   },
   "outputs": [
    {
     "data": {
      "text/html": [
       "<div>\n",
       "<style scoped>\n",
       "    .dataframe tbody tr th:only-of-type {\n",
       "        vertical-align: middle;\n",
       "    }\n",
       "\n",
       "    .dataframe tbody tr th {\n",
       "        vertical-align: top;\n",
       "    }\n",
       "\n",
       "    .dataframe thead th {\n",
       "        text-align: right;\n",
       "    }\n",
       "</style>\n",
       "<table border=\"1\" class=\"dataframe\">\n",
       "  <thead>\n",
       "    <tr style=\"text-align: right;\">\n",
       "      <th></th>\n",
       "      <th>Country</th>\n",
       "      <th>Humandevelopmentindex</th>\n",
       "      <th>Lifeexpectancyatbirth</th>\n",
       "      <th>Expectedyearsofschooling</th>\n",
       "      <th>Meanyearsofschooling</th>\n",
       "      <th>Grossnationalincomepercapita</th>\n",
       "    </tr>\n",
       "  </thead>\n",
       "  <tbody>\n",
       "    <tr>\n",
       "      <th>62</th>\n",
       "      <td>HIGH HUMAN DEVELOPMENT</td>\n",
       "      <td>NaN</td>\n",
       "      <td>NaN</td>\n",
       "      <td>NaN</td>\n",
       "      <td>NaN</td>\n",
       "      <td>NaN</td>\n",
       "    </tr>\n",
       "    <tr>\n",
       "      <th>117</th>\n",
       "      <td>MEDIUM HUMAN DEVELOPMENT</td>\n",
       "      <td>NaN</td>\n",
       "      <td>NaN</td>\n",
       "      <td>NaN</td>\n",
       "      <td>NaN</td>\n",
       "      <td>NaN</td>\n",
       "    </tr>\n",
       "    <tr>\n",
       "      <th>155</th>\n",
       "      <td>LOW HUMAN DEVELOPMENT</td>\n",
       "      <td>NaN</td>\n",
       "      <td>NaN</td>\n",
       "      <td>NaN</td>\n",
       "      <td>NaN</td>\n",
       "      <td>NaN</td>\n",
       "    </tr>\n",
       "    <tr>\n",
       "      <th>192</th>\n",
       "      <td>OTHER COUNTRIES OR TERRITORIES</td>\n",
       "      <td>NaN</td>\n",
       "      <td>NaN</td>\n",
       "      <td>NaN</td>\n",
       "      <td>NaN</td>\n",
       "      <td>NaN</td>\n",
       "    </tr>\n",
       "  </tbody>\n",
       "</table>\n",
       "</div>"
      ],
      "text/plain": [
       "                            Country  ... Grossnationalincomepercapita\n",
       "62           HIGH HUMAN DEVELOPMENT  ...                          NaN\n",
       "117        MEDIUM HUMAN DEVELOPMENT  ...                          NaN\n",
       "155           LOW HUMAN DEVELOPMENT  ...                          NaN\n",
       "192  OTHER COUNTRIES OR TERRITORIES  ...                          NaN\n",
       "\n",
       "[4 rows x 6 columns]"
      ]
     },
     "execution_count": 57,
     "metadata": {
      "tags": []
     },
     "output_type": "execute_result"
    }
   ],
   "source": [
    "# check empty cells from second to last\n",
    "hdi[hdi.iloc[:,1:].isnull().all(axis=1)] #ALL"
   ]
  },
  {
   "cell_type": "markdown",
   "metadata": {
    "colab_type": "text",
    "id": "g7myeXtMO5fJ"
   },
   "source": [
    "These are no countries. They were subtitles for groups of countries. "
   ]
  },
  {
   "cell_type": "markdown",
   "metadata": {
    "colab_type": "text",
    "id": "tyUgrTglO5fK"
   },
   "source": [
    "You need the opposite to that:"
   ]
  },
  {
   "cell_type": "code",
   "execution_count": 58,
   "metadata": {
    "colab": {
     "base_uri": "https://localhost:8080/",
     "height": 487
    },
    "colab_type": "code",
    "executionInfo": {
     "elapsed": 1504,
     "status": "ok",
     "timestamp": 1580490684418,
     "user": {
      "displayName": "Jose Manuel Magallanes",
      "photoUrl": "https://lh3.googleusercontent.com/a-/AAuE7mCXsJWaI0Fauk0qdvkv46Br9ZNIbhNI2_qdmZt9=s64",
      "userId": "12963200192719698170"
     },
     "user_tz": 480
    },
    "id": "nxxu0yfjO5fK",
    "outputId": "63ead0b8-9463-45b2-8dc1-c6179c1a28f6"
   },
   "outputs": [
    {
     "data": {
      "text/html": [
       "<div>\n",
       "<style scoped>\n",
       "    .dataframe tbody tr th:only-of-type {\n",
       "        vertical-align: middle;\n",
       "    }\n",
       "\n",
       "    .dataframe tbody tr th {\n",
       "        vertical-align: top;\n",
       "    }\n",
       "\n",
       "    .dataframe thead th {\n",
       "        text-align: right;\n",
       "    }\n",
       "</style>\n",
       "<table border=\"1\" class=\"dataframe\">\n",
       "  <thead>\n",
       "    <tr style=\"text-align: right;\">\n",
       "      <th></th>\n",
       "      <th>Country</th>\n",
       "      <th>Humandevelopmentindex</th>\n",
       "      <th>Lifeexpectancyatbirth</th>\n",
       "      <th>Expectedyearsofschooling</th>\n",
       "      <th>Meanyearsofschooling</th>\n",
       "      <th>Grossnationalincomepercapita</th>\n",
       "    </tr>\n",
       "  </thead>\n",
       "  <tbody>\n",
       "    <tr>\n",
       "      <th>0</th>\n",
       "      <td>Norway</td>\n",
       "      <td>0.95</td>\n",
       "      <td>82.27</td>\n",
       "      <td>18.06</td>\n",
       "      <td>12.57</td>\n",
       "      <td>68058.62</td>\n",
       "    </tr>\n",
       "    <tr>\n",
       "      <th>1</th>\n",
       "      <td>Switzerland</td>\n",
       "      <td>0.95</td>\n",
       "      <td>83.63</td>\n",
       "      <td>16.21</td>\n",
       "      <td>13.38</td>\n",
       "      <td>59374.73</td>\n",
       "    </tr>\n",
       "    <tr>\n",
       "      <th>2</th>\n",
       "      <td>Ireland</td>\n",
       "      <td>0.94</td>\n",
       "      <td>82.10</td>\n",
       "      <td>18.79</td>\n",
       "      <td>12.53</td>\n",
       "      <td>55659.68</td>\n",
       "    </tr>\n",
       "    <tr>\n",
       "      <th>3</th>\n",
       "      <td>Germany</td>\n",
       "      <td>0.94</td>\n",
       "      <td>81.18</td>\n",
       "      <td>17.10</td>\n",
       "      <td>14.13</td>\n",
       "      <td>46945.95</td>\n",
       "    </tr>\n",
       "    <tr>\n",
       "      <th>4</th>\n",
       "      <td>Hong Kong, China (SAR)</td>\n",
       "      <td>0.94</td>\n",
       "      <td>84.69</td>\n",
       "      <td>16.51</td>\n",
       "      <td>12.04</td>\n",
       "      <td>60220.80</td>\n",
       "    </tr>\n",
       "    <tr>\n",
       "      <th>...</th>\n",
       "      <td>...</td>\n",
       "      <td>...</td>\n",
       "      <td>...</td>\n",
       "      <td>...</td>\n",
       "      <td>...</td>\n",
       "      <td>...</td>\n",
       "    </tr>\n",
       "    <tr>\n",
       "      <th>194</th>\n",
       "      <td>Monaco</td>\n",
       "      <td>..</td>\n",
       "      <td>..</td>\n",
       "      <td>..</td>\n",
       "      <td>..</td>\n",
       "      <td>..</td>\n",
       "    </tr>\n",
       "    <tr>\n",
       "      <th>195</th>\n",
       "      <td>Nauru</td>\n",
       "      <td>..</td>\n",
       "      <td>..</td>\n",
       "      <td>11.26</td>\n",
       "      <td>..</td>\n",
       "      <td>17312.59</td>\n",
       "    </tr>\n",
       "    <tr>\n",
       "      <th>196</th>\n",
       "      <td>San Marino</td>\n",
       "      <td>..</td>\n",
       "      <td>..</td>\n",
       "      <td>15.11</td>\n",
       "      <td>..</td>\n",
       "      <td>..</td>\n",
       "    </tr>\n",
       "    <tr>\n",
       "      <th>197</th>\n",
       "      <td>Somalia</td>\n",
       "      <td>..</td>\n",
       "      <td>57.07</td>\n",
       "      <td>..</td>\n",
       "      <td>..</td>\n",
       "      <td>..</td>\n",
       "    </tr>\n",
       "    <tr>\n",
       "      <th>198</th>\n",
       "      <td>Tuvalu</td>\n",
       "      <td>..</td>\n",
       "      <td>..</td>\n",
       "      <td>12.31</td>\n",
       "      <td>..</td>\n",
       "      <td>5408.95</td>\n",
       "    </tr>\n",
       "  </tbody>\n",
       "</table>\n",
       "<p>195 rows × 6 columns</p>\n",
       "</div>"
      ],
      "text/plain": [
       "                    Country  ... Grossnationalincomepercapita\n",
       "0                    Norway  ...                     68058.62\n",
       "1               Switzerland  ...                     59374.73\n",
       "2                   Ireland  ...                     55659.68\n",
       "3                   Germany  ...                     46945.95\n",
       "4    Hong Kong, China (SAR)  ...                     60220.80\n",
       "..                      ...  ...                          ...\n",
       "194                  Monaco  ...                           ..\n",
       "195                   Nauru  ...                     17312.59\n",
       "196              San Marino  ...                           ..\n",
       "197                 Somalia  ...                           ..\n",
       "198                  Tuvalu  ...                      5408.95\n",
       "\n",
       "[195 rows x 6 columns]"
      ]
     },
     "execution_count": 58,
     "metadata": {
      "tags": []
     },
     "output_type": "execute_result"
    }
   ],
   "source": [
    "# the opposite\n",
    "hdi[hdi.iloc[:,1:].notnull().all(axis=1)]"
   ]
  },
  {
   "cell_type": "markdown",
   "metadata": {
    "colab_type": "text",
    "id": "3MB6Tss-O5fM"
   },
   "source": [
    "Keepin what you need:"
   ]
  },
  {
   "cell_type": "code",
   "execution_count": null,
   "metadata": {
    "colab": {},
    "colab_type": "code",
    "id": "UsjO6p57O5fM"
   },
   "outputs": [],
   "source": [
    "hdi=hdi[hdi.iloc[:,1:].notnull().all(axis=1)]"
   ]
  },
  {
   "cell_type": "markdown",
   "metadata": {
    "colab_type": "text",
    "id": "dODQsHd9O5fO"
   },
   "source": [
    "The last code deleted rows, then indexes need to be reset:"
   ]
  },
  {
   "cell_type": "code",
   "execution_count": null,
   "metadata": {
    "colab": {},
    "colab_type": "code",
    "id": "u8QpfNxLO5fO"
   },
   "outputs": [],
   "source": [
    "hdi.reset_index(drop=True, inplace=True)"
   ]
  },
  {
   "cell_type": "markdown",
   "metadata": {
    "colab_type": "text",
    "id": "tXBHnW1BO5fQ"
   },
   "source": [
    "So far:"
   ]
  },
  {
   "cell_type": "code",
   "execution_count": 61,
   "metadata": {
    "colab": {
     "base_uri": "https://localhost:8080/",
     "height": 487
    },
    "colab_type": "code",
    "executionInfo": {
     "elapsed": 1488,
     "status": "ok",
     "timestamp": 1580490684420,
     "user": {
      "displayName": "Jose Manuel Magallanes",
      "photoUrl": "https://lh3.googleusercontent.com/a-/AAuE7mCXsJWaI0Fauk0qdvkv46Br9ZNIbhNI2_qdmZt9=s64",
      "userId": "12963200192719698170"
     },
     "user_tz": 480
    },
    "id": "aFhDfO5lO5fQ",
    "outputId": "8428c102-09da-469b-9afc-6ff0c3f08c94"
   },
   "outputs": [
    {
     "data": {
      "text/html": [
       "<div>\n",
       "<style scoped>\n",
       "    .dataframe tbody tr th:only-of-type {\n",
       "        vertical-align: middle;\n",
       "    }\n",
       "\n",
       "    .dataframe tbody tr th {\n",
       "        vertical-align: top;\n",
       "    }\n",
       "\n",
       "    .dataframe thead th {\n",
       "        text-align: right;\n",
       "    }\n",
       "</style>\n",
       "<table border=\"1\" class=\"dataframe\">\n",
       "  <thead>\n",
       "    <tr style=\"text-align: right;\">\n",
       "      <th></th>\n",
       "      <th>Country</th>\n",
       "      <th>Humandevelopmentindex</th>\n",
       "      <th>Lifeexpectancyatbirth</th>\n",
       "      <th>Expectedyearsofschooling</th>\n",
       "      <th>Meanyearsofschooling</th>\n",
       "      <th>Grossnationalincomepercapita</th>\n",
       "    </tr>\n",
       "  </thead>\n",
       "  <tbody>\n",
       "    <tr>\n",
       "      <th>0</th>\n",
       "      <td>Norway</td>\n",
       "      <td>0.95</td>\n",
       "      <td>82.27</td>\n",
       "      <td>18.06</td>\n",
       "      <td>12.57</td>\n",
       "      <td>68058.62</td>\n",
       "    </tr>\n",
       "    <tr>\n",
       "      <th>1</th>\n",
       "      <td>Switzerland</td>\n",
       "      <td>0.95</td>\n",
       "      <td>83.63</td>\n",
       "      <td>16.21</td>\n",
       "      <td>13.38</td>\n",
       "      <td>59374.73</td>\n",
       "    </tr>\n",
       "    <tr>\n",
       "      <th>2</th>\n",
       "      <td>Ireland</td>\n",
       "      <td>0.94</td>\n",
       "      <td>82.10</td>\n",
       "      <td>18.79</td>\n",
       "      <td>12.53</td>\n",
       "      <td>55659.68</td>\n",
       "    </tr>\n",
       "    <tr>\n",
       "      <th>3</th>\n",
       "      <td>Germany</td>\n",
       "      <td>0.94</td>\n",
       "      <td>81.18</td>\n",
       "      <td>17.10</td>\n",
       "      <td>14.13</td>\n",
       "      <td>46945.95</td>\n",
       "    </tr>\n",
       "    <tr>\n",
       "      <th>4</th>\n",
       "      <td>Hong Kong, China (SAR)</td>\n",
       "      <td>0.94</td>\n",
       "      <td>84.69</td>\n",
       "      <td>16.51</td>\n",
       "      <td>12.04</td>\n",
       "      <td>60220.80</td>\n",
       "    </tr>\n",
       "    <tr>\n",
       "      <th>...</th>\n",
       "      <td>...</td>\n",
       "      <td>...</td>\n",
       "      <td>...</td>\n",
       "      <td>...</td>\n",
       "      <td>...</td>\n",
       "      <td>...</td>\n",
       "    </tr>\n",
       "    <tr>\n",
       "      <th>190</th>\n",
       "      <td>Monaco</td>\n",
       "      <td>..</td>\n",
       "      <td>..</td>\n",
       "      <td>..</td>\n",
       "      <td>..</td>\n",
       "      <td>..</td>\n",
       "    </tr>\n",
       "    <tr>\n",
       "      <th>191</th>\n",
       "      <td>Nauru</td>\n",
       "      <td>..</td>\n",
       "      <td>..</td>\n",
       "      <td>11.26</td>\n",
       "      <td>..</td>\n",
       "      <td>17312.59</td>\n",
       "    </tr>\n",
       "    <tr>\n",
       "      <th>192</th>\n",
       "      <td>San Marino</td>\n",
       "      <td>..</td>\n",
       "      <td>..</td>\n",
       "      <td>15.11</td>\n",
       "      <td>..</td>\n",
       "      <td>..</td>\n",
       "    </tr>\n",
       "    <tr>\n",
       "      <th>193</th>\n",
       "      <td>Somalia</td>\n",
       "      <td>..</td>\n",
       "      <td>57.07</td>\n",
       "      <td>..</td>\n",
       "      <td>..</td>\n",
       "      <td>..</td>\n",
       "    </tr>\n",
       "    <tr>\n",
       "      <th>194</th>\n",
       "      <td>Tuvalu</td>\n",
       "      <td>..</td>\n",
       "      <td>..</td>\n",
       "      <td>12.31</td>\n",
       "      <td>..</td>\n",
       "      <td>5408.95</td>\n",
       "    </tr>\n",
       "  </tbody>\n",
       "</table>\n",
       "<p>195 rows × 6 columns</p>\n",
       "</div>"
      ],
      "text/plain": [
       "                    Country  ... Grossnationalincomepercapita\n",
       "0                    Norway  ...                     68058.62\n",
       "1               Switzerland  ...                     59374.73\n",
       "2                   Ireland  ...                     55659.68\n",
       "3                   Germany  ...                     46945.95\n",
       "4    Hong Kong, China (SAR)  ...                     60220.80\n",
       "..                      ...  ...                          ...\n",
       "190                  Monaco  ...                           ..\n",
       "191                   Nauru  ...                     17312.59\n",
       "192              San Marino  ...                           ..\n",
       "193                 Somalia  ...                           ..\n",
       "194                  Tuvalu  ...                      5408.95\n",
       "\n",
       "[195 rows x 6 columns]"
      ]
     },
     "execution_count": 61,
     "metadata": {
      "tags": []
     },
     "output_type": "execute_result"
    }
   ],
   "source": [
    "hdi"
   ]
  },
  {
   "cell_type": "markdown",
   "metadata": {
    "colab_type": "text",
    "id": "XjtGb2hOO5fR"
   },
   "source": [
    "#### * Check the cell values"
   ]
  },
  {
   "cell_type": "markdown",
   "metadata": {
    "colab_type": "text",
    "id": "bU4eqi0gO5fS"
   },
   "source": [
    "Above you see some characters that are not numbers, are they missing values:"
   ]
  },
  {
   "cell_type": "code",
   "execution_count": 62,
   "metadata": {
    "colab": {
     "base_uri": "https://localhost:8080/",
     "height": 49
    },
    "colab_type": "code",
    "executionInfo": {
     "elapsed": 1800,
     "status": "ok",
     "timestamp": 1580490684742,
     "user": {
      "displayName": "Jose Manuel Magallanes",
      "photoUrl": "https://lh3.googleusercontent.com/a-/AAuE7mCXsJWaI0Fauk0qdvkv46Br9ZNIbhNI2_qdmZt9=s64",
      "userId": "12963200192719698170"
     },
     "user_tz": 480
    },
    "id": "78R0azj0O5fT",
    "outputId": "b8ac7409-a7f9-4383-85f3-1a05cf3ff5d4"
   },
   "outputs": [
    {
     "data": {
      "text/html": [
       "<div>\n",
       "<style scoped>\n",
       "    .dataframe tbody tr th:only-of-type {\n",
       "        vertical-align: middle;\n",
       "    }\n",
       "\n",
       "    .dataframe tbody tr th {\n",
       "        vertical-align: top;\n",
       "    }\n",
       "\n",
       "    .dataframe thead th {\n",
       "        text-align: right;\n",
       "    }\n",
       "</style>\n",
       "<table border=\"1\" class=\"dataframe\">\n",
       "  <thead>\n",
       "    <tr style=\"text-align: right;\">\n",
       "      <th></th>\n",
       "      <th>Country</th>\n",
       "      <th>Humandevelopmentindex</th>\n",
       "      <th>Lifeexpectancyatbirth</th>\n",
       "      <th>Expectedyearsofschooling</th>\n",
       "      <th>Meanyearsofschooling</th>\n",
       "      <th>Grossnationalincomepercapita</th>\n",
       "    </tr>\n",
       "  </thead>\n",
       "  <tbody>\n",
       "  </tbody>\n",
       "</table>\n",
       "</div>"
      ],
      "text/plain": [
       "Empty DataFrame\n",
       "Columns: [Country, Humandevelopmentindex, Lifeexpectancyatbirth, Expectedyearsofschooling, Meanyearsofschooling, Grossnationalincomepercapita]\n",
       "Index: []"
      ]
     },
     "execution_count": 62,
     "metadata": {
      "tags": []
     },
     "output_type": "execute_result"
    }
   ],
   "source": [
    "hdi[hdi.iloc[:,1:].isnull().any(axis=1)] #ANY"
   ]
  },
  {
   "cell_type": "markdown",
   "metadata": {
    "colab_type": "text",
    "id": "u3Iop4nwO5fU"
   },
   "source": [
    "There are symbols that represent missing values, but they are not recognized so. We need to check what values in those **numeric** columns are not numbers:"
   ]
  },
  {
   "cell_type": "code",
   "execution_count": 63,
   "metadata": {
    "colab": {
     "base_uri": "https://localhost:8080/",
     "height": 35
    },
    "colab_type": "code",
    "executionInfo": {
     "elapsed": 1792,
     "status": "ok",
     "timestamp": 1580490684743,
     "user": {
      "displayName": "Jose Manuel Magallanes",
      "photoUrl": "https://lh3.googleusercontent.com/a-/AAuE7mCXsJWaI0Fauk0qdvkv46Br9ZNIbhNI2_qdmZt9=s64",
      "userId": "12963200192719698170"
     },
     "user_tz": 480
    },
    "id": "sffnBE84O5fU",
    "outputId": "5a0d2faf-681e-4a12-88ae-6ff6848f955b"
   },
   "outputs": [
    {
     "data": {
      "text/plain": [
       "['..']"
      ]
     },
     "execution_count": 63,
     "metadata": {
      "tags": []
     },
     "output_type": "execute_result"
    }
   ],
   "source": [
    "badHDISymbols=[] # list for bad symbols\n",
    "\n",
    "NumericColNames=hdi.iloc[:,1:].columns # save names of columns with numeric data\n",
    "\n",
    "for columnName in NumericColNames:# visit every column name\n",
    "    for cell in hdi[columnName]:# visit every cell for that column\n",
    "        try:\n",
    "            float(cell) # try this\n",
    "        except: # if not possible:            \n",
    "            if cell not in badHDISymbols:# if cell is not in the list                \n",
    "                badHDISymbols.append(cell)# add it to the list\n",
    "\n",
    "# you get:\n",
    "badHDISymbols"
   ]
  },
  {
   "cell_type": "markdown",
   "metadata": {
    "colab_type": "text",
    "id": "Px849UriO5fW"
   },
   "source": [
    "You need to replace that value in the numeric columns:"
   ]
  },
  {
   "cell_type": "code",
   "execution_count": null,
   "metadata": {
    "colab": {},
    "colab_type": "code",
    "id": "oYRy52a3O5fX"
   },
   "outputs": [],
   "source": [
    "import numpy as np\n",
    "\n",
    "hdi.replace(to_replace=badHDISymbols,value=np.nan,inplace=True)"
   ]
  },
  {
   "cell_type": "code",
   "execution_count": 65,
   "metadata": {
    "colab": {
     "base_uri": "https://localhost:8080/",
     "height": 487
    },
    "colab_type": "code",
    "executionInfo": {
     "elapsed": 1782,
     "status": "ok",
     "timestamp": 1580490684745,
     "user": {
      "displayName": "Jose Manuel Magallanes",
      "photoUrl": "https://lh3.googleusercontent.com/a-/AAuE7mCXsJWaI0Fauk0qdvkv46Br9ZNIbhNI2_qdmZt9=s64",
      "userId": "12963200192719698170"
     },
     "user_tz": 480
    },
    "id": "HedLzhGeO5fZ",
    "outputId": "1e252439-40e4-4ec7-da32-509d6f63ac1c"
   },
   "outputs": [
    {
     "data": {
      "text/html": [
       "<div>\n",
       "<style scoped>\n",
       "    .dataframe tbody tr th:only-of-type {\n",
       "        vertical-align: middle;\n",
       "    }\n",
       "\n",
       "    .dataframe tbody tr th {\n",
       "        vertical-align: top;\n",
       "    }\n",
       "\n",
       "    .dataframe thead th {\n",
       "        text-align: right;\n",
       "    }\n",
       "</style>\n",
       "<table border=\"1\" class=\"dataframe\">\n",
       "  <thead>\n",
       "    <tr style=\"text-align: right;\">\n",
       "      <th></th>\n",
       "      <th>Country</th>\n",
       "      <th>Humandevelopmentindex</th>\n",
       "      <th>Lifeexpectancyatbirth</th>\n",
       "      <th>Expectedyearsofschooling</th>\n",
       "      <th>Meanyearsofschooling</th>\n",
       "      <th>Grossnationalincomepercapita</th>\n",
       "    </tr>\n",
       "  </thead>\n",
       "  <tbody>\n",
       "    <tr>\n",
       "      <th>0</th>\n",
       "      <td>Norway</td>\n",
       "      <td>0.95</td>\n",
       "      <td>82.27</td>\n",
       "      <td>18.06</td>\n",
       "      <td>12.57</td>\n",
       "      <td>68058.62</td>\n",
       "    </tr>\n",
       "    <tr>\n",
       "      <th>1</th>\n",
       "      <td>Switzerland</td>\n",
       "      <td>0.95</td>\n",
       "      <td>83.63</td>\n",
       "      <td>16.21</td>\n",
       "      <td>13.38</td>\n",
       "      <td>59374.73</td>\n",
       "    </tr>\n",
       "    <tr>\n",
       "      <th>2</th>\n",
       "      <td>Ireland</td>\n",
       "      <td>0.94</td>\n",
       "      <td>82.10</td>\n",
       "      <td>18.79</td>\n",
       "      <td>12.53</td>\n",
       "      <td>55659.68</td>\n",
       "    </tr>\n",
       "    <tr>\n",
       "      <th>3</th>\n",
       "      <td>Germany</td>\n",
       "      <td>0.94</td>\n",
       "      <td>81.18</td>\n",
       "      <td>17.10</td>\n",
       "      <td>14.13</td>\n",
       "      <td>46945.95</td>\n",
       "    </tr>\n",
       "    <tr>\n",
       "      <th>4</th>\n",
       "      <td>Hong Kong, China (SAR)</td>\n",
       "      <td>0.94</td>\n",
       "      <td>84.69</td>\n",
       "      <td>16.51</td>\n",
       "      <td>12.04</td>\n",
       "      <td>60220.80</td>\n",
       "    </tr>\n",
       "    <tr>\n",
       "      <th>...</th>\n",
       "      <td>...</td>\n",
       "      <td>...</td>\n",
       "      <td>...</td>\n",
       "      <td>...</td>\n",
       "      <td>...</td>\n",
       "      <td>...</td>\n",
       "    </tr>\n",
       "    <tr>\n",
       "      <th>190</th>\n",
       "      <td>Monaco</td>\n",
       "      <td>NaN</td>\n",
       "      <td>NaN</td>\n",
       "      <td>NaN</td>\n",
       "      <td>NaN</td>\n",
       "      <td>NaN</td>\n",
       "    </tr>\n",
       "    <tr>\n",
       "      <th>191</th>\n",
       "      <td>Nauru</td>\n",
       "      <td>NaN</td>\n",
       "      <td>NaN</td>\n",
       "      <td>11.26</td>\n",
       "      <td>NaN</td>\n",
       "      <td>17312.59</td>\n",
       "    </tr>\n",
       "    <tr>\n",
       "      <th>192</th>\n",
       "      <td>San Marino</td>\n",
       "      <td>NaN</td>\n",
       "      <td>NaN</td>\n",
       "      <td>15.11</td>\n",
       "      <td>NaN</td>\n",
       "      <td>NaN</td>\n",
       "    </tr>\n",
       "    <tr>\n",
       "      <th>193</th>\n",
       "      <td>Somalia</td>\n",
       "      <td>NaN</td>\n",
       "      <td>57.07</td>\n",
       "      <td>NaN</td>\n",
       "      <td>NaN</td>\n",
       "      <td>NaN</td>\n",
       "    </tr>\n",
       "    <tr>\n",
       "      <th>194</th>\n",
       "      <td>Tuvalu</td>\n",
       "      <td>NaN</td>\n",
       "      <td>NaN</td>\n",
       "      <td>12.31</td>\n",
       "      <td>NaN</td>\n",
       "      <td>5408.95</td>\n",
       "    </tr>\n",
       "  </tbody>\n",
       "</table>\n",
       "<p>195 rows × 6 columns</p>\n",
       "</div>"
      ],
      "text/plain": [
       "                    Country  ... Grossnationalincomepercapita\n",
       "0                    Norway  ...                     68058.62\n",
       "1               Switzerland  ...                     59374.73\n",
       "2                   Ireland  ...                     55659.68\n",
       "3                   Germany  ...                     46945.95\n",
       "4    Hong Kong, China (SAR)  ...                     60220.80\n",
       "..                      ...  ...                          ...\n",
       "190                  Monaco  ...                          NaN\n",
       "191                   Nauru  ...                     17312.59\n",
       "192              San Marino  ...                          NaN\n",
       "193                 Somalia  ...                          NaN\n",
       "194                  Tuvalu  ...                      5408.95\n",
       "\n",
       "[195 rows x 6 columns]"
      ]
     },
     "execution_count": 65,
     "metadata": {
      "tags": []
     },
     "output_type": "execute_result"
    }
   ],
   "source": [
    "# you have:\n",
    "hdi"
   ]
  },
  {
   "cell_type": "markdown",
   "metadata": {
    "colab_type": "text",
    "id": "KoQvPGm1O5fa"
   },
   "source": [
    "When you have numbers in your columns, you can request statistical summaries:"
   ]
  },
  {
   "cell_type": "code",
   "execution_count": 66,
   "metadata": {
    "colab": {
     "base_uri": "https://localhost:8080/",
     "height": 191
    },
    "colab_type": "code",
    "executionInfo": {
     "elapsed": 1772,
     "status": "ok",
     "timestamp": 1580490684745,
     "user": {
      "displayName": "Jose Manuel Magallanes",
      "photoUrl": "https://lh3.googleusercontent.com/a-/AAuE7mCXsJWaI0Fauk0qdvkv46Br9ZNIbhNI2_qdmZt9=s64",
      "userId": "12963200192719698170"
     },
     "user_tz": 480
    },
    "id": "yZObvuRwO5fb",
    "outputId": "06558100-40dc-4c68-92d6-8be4bb06b299"
   },
   "outputs": [
    {
     "data": {
      "text/html": [
       "<div>\n",
       "<style scoped>\n",
       "    .dataframe tbody tr th:only-of-type {\n",
       "        vertical-align: middle;\n",
       "    }\n",
       "\n",
       "    .dataframe tbody tr th {\n",
       "        vertical-align: top;\n",
       "    }\n",
       "\n",
       "    .dataframe thead th {\n",
       "        text-align: right;\n",
       "    }\n",
       "</style>\n",
       "<table border=\"1\" class=\"dataframe\">\n",
       "  <thead>\n",
       "    <tr style=\"text-align: right;\">\n",
       "      <th></th>\n",
       "      <th>Country</th>\n",
       "      <th>Humandevelopmentindex</th>\n",
       "      <th>Lifeexpectancyatbirth</th>\n",
       "      <th>Expectedyearsofschooling</th>\n",
       "      <th>Meanyearsofschooling</th>\n",
       "      <th>Grossnationalincomepercapita</th>\n",
       "    </tr>\n",
       "  </thead>\n",
       "  <tbody>\n",
       "    <tr>\n",
       "      <th>count</th>\n",
       "      <td>195</td>\n",
       "      <td>189</td>\n",
       "      <td>191</td>\n",
       "      <td>193</td>\n",
       "      <td>189</td>\n",
       "      <td>191</td>\n",
       "    </tr>\n",
       "    <tr>\n",
       "      <th>unique</th>\n",
       "      <td>195</td>\n",
       "      <td>55</td>\n",
       "      <td>186</td>\n",
       "      <td>183</td>\n",
       "      <td>174</td>\n",
       "      <td>191</td>\n",
       "    </tr>\n",
       "    <tr>\n",
       "      <th>top</th>\n",
       "      <td>Gabon</td>\n",
       "      <td>0.76</td>\n",
       "      <td>80.10</td>\n",
       "      <td>12.69</td>\n",
       "      <td>9.67</td>\n",
       "      <td>12689.68</td>\n",
       "    </tr>\n",
       "    <tr>\n",
       "      <th>freq</th>\n",
       "      <td>1</td>\n",
       "      <td>10</td>\n",
       "      <td>2</td>\n",
       "      <td>3</td>\n",
       "      <td>3</td>\n",
       "      <td>1</td>\n",
       "    </tr>\n",
       "  </tbody>\n",
       "</table>\n",
       "</div>"
      ],
      "text/plain": [
       "       Country  ... Grossnationalincomepercapita\n",
       "count      195  ...                          191\n",
       "unique     195  ...                          191\n",
       "top      Gabon  ...                     12689.68\n",
       "freq         1  ...                            1\n",
       "\n",
       "[4 rows x 6 columns]"
      ]
     },
     "execution_count": 66,
     "metadata": {
      "tags": []
     },
     "output_type": "execute_result"
    }
   ],
   "source": [
    "hdi.describe(include='all')"
   ]
  },
  {
   "cell_type": "markdown",
   "metadata": {
    "colab_type": "text",
    "id": "cCInc58zO5fc"
   },
   "source": [
    "You are not getting those because they lack format."
   ]
  },
  {
   "cell_type": "markdown",
   "metadata": {
    "colab_type": "text",
    "id": "W1J5BJXgO5fd"
   },
   "source": [
    "### -  Formatting"
   ]
  },
  {
   "cell_type": "markdown",
   "metadata": {
    "colab_type": "text",
    "id": "dlHQ2aPYO5fd"
   },
   "source": [
    "Check the data types:"
   ]
  },
  {
   "cell_type": "code",
   "execution_count": 67,
   "metadata": {
    "colab": {
     "base_uri": "https://localhost:8080/",
     "height": 0
    },
    "colab_type": "code",
    "executionInfo": {
     "elapsed": 1766,
     "status": "ok",
     "timestamp": 1580490684746,
     "user": {
      "displayName": "Jose Manuel Magallanes",
      "photoUrl": "https://lh3.googleusercontent.com/a-/AAuE7mCXsJWaI0Fauk0qdvkv46Br9ZNIbhNI2_qdmZt9=s64",
      "userId": "12963200192719698170"
     },
     "user_tz": 480
    },
    "id": "NDaBTd1oO5fd",
    "outputId": "99816345-0541-4540-d422-8133a1e2b03e"
   },
   "outputs": [
    {
     "data": {
      "text/plain": [
       "Country                         object\n",
       "Humandevelopmentindex           object\n",
       "Lifeexpectancyatbirth           object\n",
       "Expectedyearsofschooling        object\n",
       "Meanyearsofschooling            object\n",
       "Grossnationalincomepercapita    object\n",
       "dtype: object"
      ]
     },
     "execution_count": 67,
     "metadata": {
      "tags": []
     },
     "output_type": "execute_result"
    }
   ],
   "source": [
    "hdi.dtypes"
   ]
  },
  {
   "cell_type": "markdown",
   "metadata": {
    "colab_type": "text",
    "id": "sgvMyM0zO5ff"
   },
   "source": [
    "Country can remain as an object (text), but not the rest."
   ]
  },
  {
   "cell_type": "markdown",
   "metadata": {
    "colab_type": "text",
    "id": "PAfIQhg5O5ff"
   },
   "source": [
    "* **Formatting into numeric type**:"
   ]
  },
  {
   "cell_type": "code",
   "execution_count": null,
   "metadata": {
    "colab": {},
    "colab_type": "code",
    "id": "JcG7rreSO5fg"
   },
   "outputs": [],
   "source": [
    "# as easy as:\n",
    "\n",
    "hdi[NumericColNames]=hdi.loc[:,NumericColNames].apply(pd.to_numeric)"
   ]
  },
  {
   "cell_type": "code",
   "execution_count": 69,
   "metadata": {
    "colab": {
     "base_uri": "https://localhost:8080/",
     "height": 0
    },
    "colab_type": "code",
    "executionInfo": {
     "elapsed": 1888,
     "status": "ok",
     "timestamp": 1580490684877,
     "user": {
      "displayName": "Jose Manuel Magallanes",
      "photoUrl": "https://lh3.googleusercontent.com/a-/AAuE7mCXsJWaI0Fauk0qdvkv46Br9ZNIbhNI2_qdmZt9=s64",
      "userId": "12963200192719698170"
     },
     "user_tz": 480
    },
    "id": "W4U7x-lnO5fi",
    "outputId": "bff90af3-c4fe-40be-b840-2f053190fbef"
   },
   "outputs": [
    {
     "data": {
      "text/plain": [
       "Country                          object\n",
       "Humandevelopmentindex           float64\n",
       "Lifeexpectancyatbirth           float64\n",
       "Expectedyearsofschooling        float64\n",
       "Meanyearsofschooling            float64\n",
       "Grossnationalincomepercapita    float64\n",
       "dtype: object"
      ]
     },
     "execution_count": 69,
     "metadata": {
      "tags": []
     },
     "output_type": "execute_result"
    }
   ],
   "source": [
    "#recheck\n",
    "hdi.dtypes"
   ]
  },
  {
   "cell_type": "code",
   "execution_count": 70,
   "metadata": {
    "colab": {
     "base_uri": "https://localhost:8080/",
     "height": 0
    },
    "colab_type": "code",
    "executionInfo": {
     "elapsed": 1885,
     "status": "ok",
     "timestamp": 1580490684878,
     "user": {
      "displayName": "Jose Manuel Magallanes",
      "photoUrl": "https://lh3.googleusercontent.com/a-/AAuE7mCXsJWaI0Fauk0qdvkv46Br9ZNIbhNI2_qdmZt9=s64",
      "userId": "12963200192719698170"
     },
     "user_tz": 480
    },
    "id": "-bBU2VleO5fj",
    "outputId": "0e6463c5-c63b-42b3-8806-d154d6c98337"
   },
   "outputs": [
    {
     "data": {
      "text/html": [
       "<div>\n",
       "<style scoped>\n",
       "    .dataframe tbody tr th:only-of-type {\n",
       "        vertical-align: middle;\n",
       "    }\n",
       "\n",
       "    .dataframe tbody tr th {\n",
       "        vertical-align: top;\n",
       "    }\n",
       "\n",
       "    .dataframe thead th {\n",
       "        text-align: right;\n",
       "    }\n",
       "</style>\n",
       "<table border=\"1\" class=\"dataframe\">\n",
       "  <thead>\n",
       "    <tr style=\"text-align: right;\">\n",
       "      <th></th>\n",
       "      <th>Country</th>\n",
       "      <th>Humandevelopmentindex</th>\n",
       "      <th>Lifeexpectancyatbirth</th>\n",
       "      <th>Expectedyearsofschooling</th>\n",
       "      <th>Meanyearsofschooling</th>\n",
       "      <th>Grossnationalincomepercapita</th>\n",
       "    </tr>\n",
       "  </thead>\n",
       "  <tbody>\n",
       "    <tr>\n",
       "      <th>count</th>\n",
       "      <td>195</td>\n",
       "      <td>189.000000</td>\n",
       "      <td>191.000000</td>\n",
       "      <td>193.000000</td>\n",
       "      <td>189.000000</td>\n",
       "      <td>191.000000</td>\n",
       "    </tr>\n",
       "    <tr>\n",
       "      <th>unique</th>\n",
       "      <td>195</td>\n",
       "      <td>NaN</td>\n",
       "      <td>NaN</td>\n",
       "      <td>NaN</td>\n",
       "      <td>NaN</td>\n",
       "      <td>NaN</td>\n",
       "    </tr>\n",
       "    <tr>\n",
       "      <th>top</th>\n",
       "      <td>Gabon</td>\n",
       "      <td>NaN</td>\n",
       "      <td>NaN</td>\n",
       "      <td>NaN</td>\n",
       "      <td>NaN</td>\n",
       "      <td>NaN</td>\n",
       "    </tr>\n",
       "    <tr>\n",
       "      <th>freq</th>\n",
       "      <td>1</td>\n",
       "      <td>NaN</td>\n",
       "      <td>NaN</td>\n",
       "      <td>NaN</td>\n",
       "      <td>NaN</td>\n",
       "      <td>NaN</td>\n",
       "    </tr>\n",
       "    <tr>\n",
       "      <th>mean</th>\n",
       "      <td>NaN</td>\n",
       "      <td>0.713598</td>\n",
       "      <td>72.414660</td>\n",
       "      <td>13.212073</td>\n",
       "      <td>8.613228</td>\n",
       "      <td>18368.072461</td>\n",
       "    </tr>\n",
       "    <tr>\n",
       "      <th>std</th>\n",
       "      <td>NaN</td>\n",
       "      <td>0.150813</td>\n",
       "      <td>7.509694</td>\n",
       "      <td>2.935116</td>\n",
       "      <td>3.082296</td>\n",
       "      <td>19627.352304</td>\n",
       "    </tr>\n",
       "    <tr>\n",
       "      <th>min</th>\n",
       "      <td>NaN</td>\n",
       "      <td>0.380000</td>\n",
       "      <td>52.810000</td>\n",
       "      <td>5.000000</td>\n",
       "      <td>1.590000</td>\n",
       "      <td>659.730000</td>\n",
       "    </tr>\n",
       "    <tr>\n",
       "      <th>25%</th>\n",
       "      <td>NaN</td>\n",
       "      <td>0.600000</td>\n",
       "      <td>67.225000</td>\n",
       "      <td>11.300000</td>\n",
       "      <td>6.350000</td>\n",
       "      <td>4009.435000</td>\n",
       "    </tr>\n",
       "    <tr>\n",
       "      <th>50%</th>\n",
       "      <td>NaN</td>\n",
       "      <td>0.730000</td>\n",
       "      <td>73.750000</td>\n",
       "      <td>13.070000</td>\n",
       "      <td>9.020000</td>\n",
       "      <td>11610.910000</td>\n",
       "    </tr>\n",
       "    <tr>\n",
       "      <th>75%</th>\n",
       "      <td>NaN</td>\n",
       "      <td>0.830000</td>\n",
       "      <td>77.700000</td>\n",
       "      <td>15.230000</td>\n",
       "      <td>11.290000</td>\n",
       "      <td>26535.420000</td>\n",
       "    </tr>\n",
       "    <tr>\n",
       "      <th>max</th>\n",
       "      <td>NaN</td>\n",
       "      <td>0.950000</td>\n",
       "      <td>84.690000</td>\n",
       "      <td>22.100000</td>\n",
       "      <td>14.130000</td>\n",
       "      <td>110488.740000</td>\n",
       "    </tr>\n",
       "  </tbody>\n",
       "</table>\n",
       "</div>"
      ],
      "text/plain": [
       "       Country  ...  Grossnationalincomepercapita\n",
       "count      195  ...                    191.000000\n",
       "unique     195  ...                           NaN\n",
       "top      Gabon  ...                           NaN\n",
       "freq         1  ...                           NaN\n",
       "mean       NaN  ...                  18368.072461\n",
       "std        NaN  ...                  19627.352304\n",
       "min        NaN  ...                    659.730000\n",
       "25%        NaN  ...                   4009.435000\n",
       "50%        NaN  ...                  11610.910000\n",
       "75%        NaN  ...                  26535.420000\n",
       "max        NaN  ...                 110488.740000\n",
       "\n",
       "[11 rows x 6 columns]"
      ]
     },
     "execution_count": 70,
     "metadata": {
      "tags": []
     },
     "output_type": "execute_result"
    }
   ],
   "source": [
    "# recheck\n",
    "hdi.describe(include='all')"
   ]
  },
  {
   "cell_type": "markdown",
   "metadata": {
    "colab_type": "text",
    "id": "8BCs1dHpO5fn"
   },
   "source": [
    "Some more information:"
   ]
  },
  {
   "cell_type": "code",
   "execution_count": 71,
   "metadata": {
    "colab": {
     "base_uri": "https://localhost:8080/",
     "height": 0
    },
    "colab_type": "code",
    "executionInfo": {
     "elapsed": 1878,
     "status": "ok",
     "timestamp": 1580490684878,
     "user": {
      "displayName": "Jose Manuel Magallanes",
      "photoUrl": "https://lh3.googleusercontent.com/a-/AAuE7mCXsJWaI0Fauk0qdvkv46Br9ZNIbhNI2_qdmZt9=s64",
      "userId": "12963200192719698170"
     },
     "user_tz": 480
    },
    "id": "CFmew-7PO5fn",
    "outputId": "ac965c3a-9560-4cec-d7b4-18411b19780b"
   },
   "outputs": [
    {
     "name": "stdout",
     "output_type": "stream",
     "text": [
      "<class 'pandas.core.frame.DataFrame'>\n",
      "RangeIndex: 195 entries, 0 to 194\n",
      "Data columns (total 6 columns):\n",
      "Country                         195 non-null object\n",
      "Humandevelopmentindex           189 non-null float64\n",
      "Lifeexpectancyatbirth           191 non-null float64\n",
      "Expectedyearsofschooling        193 non-null float64\n",
      "Meanyearsofschooling            189 non-null float64\n",
      "Grossnationalincomepercapita    191 non-null float64\n",
      "dtypes: float64(5), object(1)\n",
      "memory usage: 9.3+ KB\n"
     ]
    }
   ],
   "source": [
    "hdi.info()"
   ]
  },
  {
   "cell_type": "markdown",
   "metadata": {
    "colab_type": "text",
    "id": "cHcaRPQiO5fp"
   },
   "source": [
    "## CASE 2: DEMOCRACY INDEX"
   ]
  },
  {
   "cell_type": "markdown",
   "metadata": {
    "colab_type": "text",
    "id": "N1jOFaAJO5fq"
   },
   "source": [
    "Link to use:"
   ]
  },
  {
   "cell_type": "code",
   "execution_count": null,
   "metadata": {
    "colab": {},
    "colab_type": "code",
    "id": "JpQfJOoNO5fq"
   },
   "outputs": [],
   "source": [
    "link2 = \"https://en.wikipedia.org/wiki/Democracy_Index\" "
   ]
  },
  {
   "cell_type": "code",
   "execution_count": null,
   "metadata": {
    "colab": {},
    "colab_type": "code",
    "id": "dop19bnkO5fr"
   },
   "outputs": [],
   "source": [
    "# import pandas as pd\n",
    "# maybe you need: pip install beautifulsoup4\n",
    "#collection\n",
    "demodex=pd.read_html(link2,\n",
    "                     header=0,\n",
    "                     flavor='bs4',\n",
    "                     attrs={'class': 'wikitable sortable'})[0]"
   ]
  },
  {
   "cell_type": "markdown",
   "metadata": {
    "colab_type": "text",
    "id": "8ZYH6RIxO5ft"
   },
   "source": [
    "## - Cleaning"
   ]
  },
  {
   "cell_type": "markdown",
   "metadata": {
    "colab_type": "text",
    "id": "ukt-8x8SO5ft"
   },
   "source": [
    "* First rows:"
   ]
  },
  {
   "cell_type": "code",
   "execution_count": 74,
   "metadata": {
    "colab": {
     "base_uri": "https://localhost:8080/",
     "height": 563
    },
    "colab_type": "code",
    "executionInfo": {
     "elapsed": 2821,
     "status": "ok",
     "timestamp": 1580490685838,
     "user": {
      "displayName": "Jose Manuel Magallanes",
      "photoUrl": "https://lh3.googleusercontent.com/a-/AAuE7mCXsJWaI0Fauk0qdvkv46Br9ZNIbhNI2_qdmZt9=s64",
      "userId": "12963200192719698170"
     },
     "user_tz": 480
    },
    "id": "9yOAr5AjO5fu",
    "outputId": "94dd5a7e-f64f-4329-f18f-96e85b751bde"
   },
   "outputs": [
    {
     "data": {
      "text/html": [
       "<div>\n",
       "<style scoped>\n",
       "    .dataframe tbody tr th:only-of-type {\n",
       "        vertical-align: middle;\n",
       "    }\n",
       "\n",
       "    .dataframe tbody tr th {\n",
       "        vertical-align: top;\n",
       "    }\n",
       "\n",
       "    .dataframe thead th {\n",
       "        text-align: right;\n",
       "    }\n",
       "</style>\n",
       "<table border=\"1\" class=\"dataframe\">\n",
       "  <thead>\n",
       "    <tr style=\"text-align: right;\">\n",
       "      <th></th>\n",
       "      <th>Rank</th>\n",
       "      <th>Country</th>\n",
       "      <th>Score</th>\n",
       "      <th>Electoral processand pluralism</th>\n",
       "      <th>Functioning ofgovernment</th>\n",
       "      <th>Politicalparticipation</th>\n",
       "      <th>Politicalculture</th>\n",
       "      <th>Civilliberties</th>\n",
       "      <th>Regimetype</th>\n",
       "      <th>Continent</th>\n",
       "    </tr>\n",
       "  </thead>\n",
       "  <tbody>\n",
       "    <tr>\n",
       "      <th>0</th>\n",
       "      <td>1</td>\n",
       "      <td>Norway</td>\n",
       "      <td>9.87</td>\n",
       "      <td>10.00</td>\n",
       "      <td>9.64</td>\n",
       "      <td>10.00</td>\n",
       "      <td>10.00</td>\n",
       "      <td>9.71</td>\n",
       "      <td>Full democracy</td>\n",
       "      <td>Europe</td>\n",
       "    </tr>\n",
       "    <tr>\n",
       "      <th>1</th>\n",
       "      <td>2</td>\n",
       "      <td>Iceland</td>\n",
       "      <td>9.58</td>\n",
       "      <td>10.00</td>\n",
       "      <td>9.29</td>\n",
       "      <td>8.89</td>\n",
       "      <td>10.00</td>\n",
       "      <td>9.71</td>\n",
       "      <td>Full democracy</td>\n",
       "      <td>Europe</td>\n",
       "    </tr>\n",
       "    <tr>\n",
       "      <th>2</th>\n",
       "      <td>3</td>\n",
       "      <td>Sweden</td>\n",
       "      <td>9.39</td>\n",
       "      <td>9.58</td>\n",
       "      <td>9.64</td>\n",
       "      <td>8.33</td>\n",
       "      <td>10.00</td>\n",
       "      <td>9.41</td>\n",
       "      <td>Full democracy</td>\n",
       "      <td>Europe</td>\n",
       "    </tr>\n",
       "    <tr>\n",
       "      <th>3</th>\n",
       "      <td>4</td>\n",
       "      <td>New Zealand</td>\n",
       "      <td>9.26</td>\n",
       "      <td>10.00</td>\n",
       "      <td>9.29</td>\n",
       "      <td>8.89</td>\n",
       "      <td>8.13</td>\n",
       "      <td>10.00</td>\n",
       "      <td>Full democracy</td>\n",
       "      <td>Oceania</td>\n",
       "    </tr>\n",
       "    <tr>\n",
       "      <th>4</th>\n",
       "      <td>5</td>\n",
       "      <td>Finland</td>\n",
       "      <td>9.25</td>\n",
       "      <td>10.00</td>\n",
       "      <td>8.93</td>\n",
       "      <td>8.89</td>\n",
       "      <td>8.75</td>\n",
       "      <td>9.71</td>\n",
       "      <td>Full democracy</td>\n",
       "      <td>Europe</td>\n",
       "    </tr>\n",
       "    <tr>\n",
       "      <th>5</th>\n",
       "      <td>6</td>\n",
       "      <td>Ireland</td>\n",
       "      <td>9.24</td>\n",
       "      <td>10.00</td>\n",
       "      <td>7.86</td>\n",
       "      <td>8.33</td>\n",
       "      <td>10.00</td>\n",
       "      <td>10.00</td>\n",
       "      <td>Full democracy</td>\n",
       "      <td>Europe</td>\n",
       "    </tr>\n",
       "    <tr>\n",
       "      <th>6</th>\n",
       "      <td>7</td>\n",
       "      <td>Denmark</td>\n",
       "      <td>9.22</td>\n",
       "      <td>10.00</td>\n",
       "      <td>9.29</td>\n",
       "      <td>8.33</td>\n",
       "      <td>9.38</td>\n",
       "      <td>9.12</td>\n",
       "      <td>Full democracy</td>\n",
       "      <td>Europe</td>\n",
       "    </tr>\n",
       "    <tr>\n",
       "      <th>7</th>\n",
       "      <td>7</td>\n",
       "      <td>Canada</td>\n",
       "      <td>9.22</td>\n",
       "      <td>9.58</td>\n",
       "      <td>9.64</td>\n",
       "      <td>7.78</td>\n",
       "      <td>9.38</td>\n",
       "      <td>9.71</td>\n",
       "      <td>Full democracy</td>\n",
       "      <td>North America</td>\n",
       "    </tr>\n",
       "    <tr>\n",
       "      <th>8</th>\n",
       "      <td>9</td>\n",
       "      <td>Australia</td>\n",
       "      <td>9.09</td>\n",
       "      <td>10.00</td>\n",
       "      <td>8.93</td>\n",
       "      <td>7.78</td>\n",
       "      <td>8.75</td>\n",
       "      <td>10.00</td>\n",
       "      <td>Full democracy</td>\n",
       "      <td>Oceania</td>\n",
       "    </tr>\n",
       "    <tr>\n",
       "      <th>9</th>\n",
       "      <td>10</td>\n",
       "      <td>Switzerland</td>\n",
       "      <td>9.03</td>\n",
       "      <td>9.58</td>\n",
       "      <td>9.29</td>\n",
       "      <td>7.78</td>\n",
       "      <td>9.38</td>\n",
       "      <td>9.12</td>\n",
       "      <td>Full democracy</td>\n",
       "      <td>Europe</td>\n",
       "    </tr>\n",
       "  </tbody>\n",
       "</table>\n",
       "</div>"
      ],
      "text/plain": [
       "  Rank      Country Score  ... Civilliberties      Regimetype      Continent\n",
       "0    1       Norway  9.87  ...           9.71  Full democracy         Europe\n",
       "1    2      Iceland  9.58  ...           9.71  Full democracy         Europe\n",
       "2    3       Sweden  9.39  ...           9.41  Full democracy         Europe\n",
       "3    4  New Zealand  9.26  ...          10.00  Full democracy        Oceania\n",
       "4    5      Finland  9.25  ...           9.71  Full democracy         Europe\n",
       "5    6      Ireland  9.24  ...          10.00  Full democracy         Europe\n",
       "6    7      Denmark  9.22  ...           9.12  Full democracy         Europe\n",
       "7    7       Canada  9.22  ...           9.71  Full democracy  North America\n",
       "8    9    Australia  9.09  ...          10.00  Full democracy        Oceania\n",
       "9   10  Switzerland  9.03  ...           9.12  Full democracy         Europe\n",
       "\n",
       "[10 rows x 10 columns]"
      ]
     },
     "execution_count": 74,
     "metadata": {
      "tags": []
     },
     "output_type": "execute_result"
    }
   ],
   "source": [
    "# what's on top?\n",
    "# names? weird symbols? more links?\n",
    "demodex.head(10)"
   ]
  },
  {
   "cell_type": "markdown",
   "metadata": {
    "colab_type": "text",
    "id": "WgnB_6GuO5fv"
   },
   "source": [
    "* Last rows:"
   ]
  },
  {
   "cell_type": "code",
   "execution_count": 75,
   "metadata": {
    "colab": {
     "base_uri": "https://localhost:8080/",
     "height": 511
    },
    "colab_type": "code",
    "executionInfo": {
     "elapsed": 2805,
     "status": "ok",
     "timestamp": 1580490685838,
     "user": {
      "displayName": "Jose Manuel Magallanes",
      "photoUrl": "https://lh3.googleusercontent.com/a-/AAuE7mCXsJWaI0Fauk0qdvkv46Br9ZNIbhNI2_qdmZt9=s64",
      "userId": "12963200192719698170"
     },
     "user_tz": 480
    },
    "id": "o3QNwJKzO5fw",
    "outputId": "1987d5ae-2b0c-4ede-b8cc-022ce661dd28"
   },
   "outputs": [
    {
     "data": {
      "text/html": [
       "<div>\n",
       "<style scoped>\n",
       "    .dataframe tbody tr th:only-of-type {\n",
       "        vertical-align: middle;\n",
       "    }\n",
       "\n",
       "    .dataframe tbody tr th {\n",
       "        vertical-align: top;\n",
       "    }\n",
       "\n",
       "    .dataframe thead th {\n",
       "        text-align: right;\n",
       "    }\n",
       "</style>\n",
       "<table border=\"1\" class=\"dataframe\">\n",
       "  <thead>\n",
       "    <tr style=\"text-align: right;\">\n",
       "      <th></th>\n",
       "      <th>Rank</th>\n",
       "      <th>Country</th>\n",
       "      <th>Score</th>\n",
       "      <th>Electoral processand pluralism</th>\n",
       "      <th>Functioning ofgovernment</th>\n",
       "      <th>Politicalparticipation</th>\n",
       "      <th>Politicalculture</th>\n",
       "      <th>Civilliberties</th>\n",
       "      <th>Regimetype</th>\n",
       "      <th>Continent</th>\n",
       "    </tr>\n",
       "  </thead>\n",
       "  <tbody>\n",
       "    <tr>\n",
       "      <th>158</th>\n",
       "      <td>159</td>\n",
       "      <td>Saudi Arabia</td>\n",
       "      <td>1.93</td>\n",
       "      <td>0.00</td>\n",
       "      <td>2.86</td>\n",
       "      <td>2.22</td>\n",
       "      <td>3.13</td>\n",
       "      <td>1.47</td>\n",
       "      <td>Authoritarian</td>\n",
       "      <td>Asia</td>\n",
       "    </tr>\n",
       "    <tr>\n",
       "      <th>159</th>\n",
       "      <td>159</td>\n",
       "      <td>Tajikistan</td>\n",
       "      <td>1.93</td>\n",
       "      <td>0.08</td>\n",
       "      <td>0.79</td>\n",
       "      <td>1.67</td>\n",
       "      <td>6.25</td>\n",
       "      <td>0.88</td>\n",
       "      <td>Authoritarian</td>\n",
       "      <td>Asia</td>\n",
       "    </tr>\n",
       "    <tr>\n",
       "      <th>160</th>\n",
       "      <td>161</td>\n",
       "      <td>Equatorial Guinea</td>\n",
       "      <td>1.92</td>\n",
       "      <td>0.00</td>\n",
       "      <td>0.43</td>\n",
       "      <td>3.33</td>\n",
       "      <td>4.38</td>\n",
       "      <td>1.47</td>\n",
       "      <td>Authoritarian</td>\n",
       "      <td>Africa</td>\n",
       "    </tr>\n",
       "    <tr>\n",
       "      <th>161</th>\n",
       "      <td>162</td>\n",
       "      <td>Turkmenistan</td>\n",
       "      <td>1.72</td>\n",
       "      <td>0.00</td>\n",
       "      <td>0.79</td>\n",
       "      <td>2.22</td>\n",
       "      <td>5.00</td>\n",
       "      <td>0.59</td>\n",
       "      <td>Authoritarian</td>\n",
       "      <td>Asia</td>\n",
       "    </tr>\n",
       "    <tr>\n",
       "      <th>162</th>\n",
       "      <td>163</td>\n",
       "      <td>Chad</td>\n",
       "      <td>1.61</td>\n",
       "      <td>0.00</td>\n",
       "      <td>0.00</td>\n",
       "      <td>1.67</td>\n",
       "      <td>3.75</td>\n",
       "      <td>2.65</td>\n",
       "      <td>Authoritarian</td>\n",
       "      <td>Africa</td>\n",
       "    </tr>\n",
       "    <tr>\n",
       "      <th>163</th>\n",
       "      <td>164</td>\n",
       "      <td>Syria</td>\n",
       "      <td>1.43</td>\n",
       "      <td>0.00</td>\n",
       "      <td>0.00</td>\n",
       "      <td>2.78</td>\n",
       "      <td>4.38</td>\n",
       "      <td>0.00</td>\n",
       "      <td>Authoritarian</td>\n",
       "      <td>Asia</td>\n",
       "    </tr>\n",
       "    <tr>\n",
       "      <th>164</th>\n",
       "      <td>165</td>\n",
       "      <td>Central African Republic</td>\n",
       "      <td>1.32</td>\n",
       "      <td>1.25</td>\n",
       "      <td>0.00</td>\n",
       "      <td>1.11</td>\n",
       "      <td>1.88</td>\n",
       "      <td>2.35</td>\n",
       "      <td>Authoritarian</td>\n",
       "      <td>Africa</td>\n",
       "    </tr>\n",
       "    <tr>\n",
       "      <th>165</th>\n",
       "      <td>166</td>\n",
       "      <td>Democratic Republic of the Congo</td>\n",
       "      <td>1.13</td>\n",
       "      <td>0.00</td>\n",
       "      <td>0.00</td>\n",
       "      <td>1.67</td>\n",
       "      <td>3.13</td>\n",
       "      <td>0.88</td>\n",
       "      <td>Authoritarian</td>\n",
       "      <td>Africa</td>\n",
       "    </tr>\n",
       "    <tr>\n",
       "      <th>166</th>\n",
       "      <td>167</td>\n",
       "      <td>North Korea</td>\n",
       "      <td>1.08</td>\n",
       "      <td>0.00</td>\n",
       "      <td>2.50</td>\n",
       "      <td>1.67</td>\n",
       "      <td>1.25</td>\n",
       "      <td>0.00</td>\n",
       "      <td>Authoritarian</td>\n",
       "      <td>Asia</td>\n",
       "    </tr>\n",
       "    <tr>\n",
       "      <th>167</th>\n",
       "      <td>Rank</td>\n",
       "      <td>Country</td>\n",
       "      <td>Score</td>\n",
       "      <td>Electoral processand pluralism</td>\n",
       "      <td>Functioning ofgovernment</td>\n",
       "      <td>Politicalparticipation</td>\n",
       "      <td>Politicalculture</td>\n",
       "      <td>Civilliberties</td>\n",
       "      <td>Regimetype</td>\n",
       "      <td>Continent</td>\n",
       "    </tr>\n",
       "  </tbody>\n",
       "</table>\n",
       "</div>"
      ],
      "text/plain": [
       "     Rank                           Country  ...     Regimetype  Continent\n",
       "158   159                      Saudi Arabia  ...  Authoritarian       Asia\n",
       "159   159                        Tajikistan  ...  Authoritarian       Asia\n",
       "160   161                 Equatorial Guinea  ...  Authoritarian     Africa\n",
       "161   162                      Turkmenistan  ...  Authoritarian       Asia\n",
       "162   163                              Chad  ...  Authoritarian     Africa\n",
       "163   164                             Syria  ...  Authoritarian       Asia\n",
       "164   165          Central African Republic  ...  Authoritarian     Africa\n",
       "165   166  Democratic Republic of the Congo  ...  Authoritarian     Africa\n",
       "166   167                       North Korea  ...  Authoritarian       Asia\n",
       "167  Rank                           Country  ...     Regimetype  Continent\n",
       "\n",
       "[10 rows x 10 columns]"
      ]
     },
     "execution_count": 75,
     "metadata": {
      "tags": []
     },
     "output_type": "execute_result"
    }
   ],
   "source": [
    "# what's at the bottom?\n",
    "# note? credits? extra info?\n",
    "\n",
    "demodex.tail(10)"
   ]
  },
  {
   "cell_type": "markdown",
   "metadata": {
    "colab_type": "text",
    "id": "57vhp_PYO5fx"
   },
   "source": [
    "\n",
    "From what I saw, I will get rid of the _Score_ and the _Rank_, an also of the last row (it is the repetition of the headers):"
   ]
  },
  {
   "cell_type": "code",
   "execution_count": null,
   "metadata": {
    "colab": {},
    "colab_type": "code",
    "id": "L8k1l-urO5fx"
   },
   "outputs": [],
   "source": [
    "#bye row 167, and two columns\n",
    "demClean=demodex.drop(index=167,columns=['Rank']).copy()"
   ]
  },
  {
   "cell_type": "code",
   "execution_count": 77,
   "metadata": {
    "colab": {
     "base_uri": "https://localhost:8080/",
     "height": 589
    },
    "colab_type": "code",
    "executionInfo": {
     "elapsed": 2787,
     "status": "ok",
     "timestamp": 1580490685840,
     "user": {
      "displayName": "Jose Manuel Magallanes",
      "photoUrl": "https://lh3.googleusercontent.com/a-/AAuE7mCXsJWaI0Fauk0qdvkv46Br9ZNIbhNI2_qdmZt9=s64",
      "userId": "12963200192719698170"
     },
     "user_tz": 480
    },
    "id": "iSqorcwIO5fy",
    "outputId": "0d5dd850-cac1-451b-99fc-142f5fc21a6d"
   },
   "outputs": [
    {
     "data": {
      "text/html": [
       "<div>\n",
       "<style scoped>\n",
       "    .dataframe tbody tr th:only-of-type {\n",
       "        vertical-align: middle;\n",
       "    }\n",
       "\n",
       "    .dataframe tbody tr th {\n",
       "        vertical-align: top;\n",
       "    }\n",
       "\n",
       "    .dataframe thead th {\n",
       "        text-align: right;\n",
       "    }\n",
       "</style>\n",
       "<table border=\"1\" class=\"dataframe\">\n",
       "  <thead>\n",
       "    <tr style=\"text-align: right;\">\n",
       "      <th></th>\n",
       "      <th>Country</th>\n",
       "      <th>Score</th>\n",
       "      <th>Electoral processand pluralism</th>\n",
       "      <th>Functioning ofgovernment</th>\n",
       "      <th>Politicalparticipation</th>\n",
       "      <th>Politicalculture</th>\n",
       "      <th>Civilliberties</th>\n",
       "      <th>Regimetype</th>\n",
       "      <th>Continent</th>\n",
       "    </tr>\n",
       "  </thead>\n",
       "  <tbody>\n",
       "    <tr>\n",
       "      <th>0</th>\n",
       "      <td>Norway</td>\n",
       "      <td>9.87</td>\n",
       "      <td>10.00</td>\n",
       "      <td>9.64</td>\n",
       "      <td>10.00</td>\n",
       "      <td>10.00</td>\n",
       "      <td>9.71</td>\n",
       "      <td>Full democracy</td>\n",
       "      <td>Europe</td>\n",
       "    </tr>\n",
       "    <tr>\n",
       "      <th>1</th>\n",
       "      <td>Iceland</td>\n",
       "      <td>9.58</td>\n",
       "      <td>10.00</td>\n",
       "      <td>9.29</td>\n",
       "      <td>8.89</td>\n",
       "      <td>10.00</td>\n",
       "      <td>9.71</td>\n",
       "      <td>Full democracy</td>\n",
       "      <td>Europe</td>\n",
       "    </tr>\n",
       "    <tr>\n",
       "      <th>2</th>\n",
       "      <td>Sweden</td>\n",
       "      <td>9.39</td>\n",
       "      <td>9.58</td>\n",
       "      <td>9.64</td>\n",
       "      <td>8.33</td>\n",
       "      <td>10.00</td>\n",
       "      <td>9.41</td>\n",
       "      <td>Full democracy</td>\n",
       "      <td>Europe</td>\n",
       "    </tr>\n",
       "    <tr>\n",
       "      <th>3</th>\n",
       "      <td>New Zealand</td>\n",
       "      <td>9.26</td>\n",
       "      <td>10.00</td>\n",
       "      <td>9.29</td>\n",
       "      <td>8.89</td>\n",
       "      <td>8.13</td>\n",
       "      <td>10.00</td>\n",
       "      <td>Full democracy</td>\n",
       "      <td>Oceania</td>\n",
       "    </tr>\n",
       "    <tr>\n",
       "      <th>4</th>\n",
       "      <td>Finland</td>\n",
       "      <td>9.25</td>\n",
       "      <td>10.00</td>\n",
       "      <td>8.93</td>\n",
       "      <td>8.89</td>\n",
       "      <td>8.75</td>\n",
       "      <td>9.71</td>\n",
       "      <td>Full democracy</td>\n",
       "      <td>Europe</td>\n",
       "    </tr>\n",
       "    <tr>\n",
       "      <th>...</th>\n",
       "      <td>...</td>\n",
       "      <td>...</td>\n",
       "      <td>...</td>\n",
       "      <td>...</td>\n",
       "      <td>...</td>\n",
       "      <td>...</td>\n",
       "      <td>...</td>\n",
       "      <td>...</td>\n",
       "      <td>...</td>\n",
       "    </tr>\n",
       "    <tr>\n",
       "      <th>162</th>\n",
       "      <td>Chad</td>\n",
       "      <td>1.61</td>\n",
       "      <td>0.00</td>\n",
       "      <td>0.00</td>\n",
       "      <td>1.67</td>\n",
       "      <td>3.75</td>\n",
       "      <td>2.65</td>\n",
       "      <td>Authoritarian</td>\n",
       "      <td>Africa</td>\n",
       "    </tr>\n",
       "    <tr>\n",
       "      <th>163</th>\n",
       "      <td>Syria</td>\n",
       "      <td>1.43</td>\n",
       "      <td>0.00</td>\n",
       "      <td>0.00</td>\n",
       "      <td>2.78</td>\n",
       "      <td>4.38</td>\n",
       "      <td>0.00</td>\n",
       "      <td>Authoritarian</td>\n",
       "      <td>Asia</td>\n",
       "    </tr>\n",
       "    <tr>\n",
       "      <th>164</th>\n",
       "      <td>Central African Republic</td>\n",
       "      <td>1.32</td>\n",
       "      <td>1.25</td>\n",
       "      <td>0.00</td>\n",
       "      <td>1.11</td>\n",
       "      <td>1.88</td>\n",
       "      <td>2.35</td>\n",
       "      <td>Authoritarian</td>\n",
       "      <td>Africa</td>\n",
       "    </tr>\n",
       "    <tr>\n",
       "      <th>165</th>\n",
       "      <td>Democratic Republic of the Congo</td>\n",
       "      <td>1.13</td>\n",
       "      <td>0.00</td>\n",
       "      <td>0.00</td>\n",
       "      <td>1.67</td>\n",
       "      <td>3.13</td>\n",
       "      <td>0.88</td>\n",
       "      <td>Authoritarian</td>\n",
       "      <td>Africa</td>\n",
       "    </tr>\n",
       "    <tr>\n",
       "      <th>166</th>\n",
       "      <td>North Korea</td>\n",
       "      <td>1.08</td>\n",
       "      <td>0.00</td>\n",
       "      <td>2.50</td>\n",
       "      <td>1.67</td>\n",
       "      <td>1.25</td>\n",
       "      <td>0.00</td>\n",
       "      <td>Authoritarian</td>\n",
       "      <td>Asia</td>\n",
       "    </tr>\n",
       "  </tbody>\n",
       "</table>\n",
       "<p>167 rows × 9 columns</p>\n",
       "</div>"
      ],
      "text/plain": [
       "                              Country Score  ...      Regimetype Continent\n",
       "0                              Norway  9.87  ...  Full democracy    Europe\n",
       "1                             Iceland  9.58  ...  Full democracy    Europe\n",
       "2                              Sweden  9.39  ...  Full democracy    Europe\n",
       "3                         New Zealand  9.26  ...  Full democracy   Oceania\n",
       "4                             Finland  9.25  ...  Full democracy    Europe\n",
       "..                                ...   ...  ...             ...       ...\n",
       "162                              Chad  1.61  ...   Authoritarian    Africa\n",
       "163                             Syria  1.43  ...   Authoritarian      Asia\n",
       "164          Central African Republic  1.32  ...   Authoritarian    Africa\n",
       "165  Democratic Republic of the Congo  1.13  ...   Authoritarian    Africa\n",
       "166                       North Korea  1.08  ...   Authoritarian      Asia\n",
       "\n",
       "[167 rows x 9 columns]"
      ]
     },
     "execution_count": 77,
     "metadata": {
      "tags": []
     },
     "output_type": "execute_result"
    }
   ],
   "source": [
    "demClean"
   ]
  },
  {
   "cell_type": "markdown",
   "metadata": {
    "colab_type": "text",
    "id": "CYuPb7WNO5f0"
   },
   "source": [
    "As there are few names, we can change to smaller sizes:"
   ]
  },
  {
   "cell_type": "code",
   "execution_count": null,
   "metadata": {
    "colab": {},
    "colab_type": "code",
    "id": "b38Nj03zO5f0"
   },
   "outputs": [],
   "source": [
    "newNames=['pluralism','effectiveness','participation','culture','liberties']\n",
    "\n"
   ]
  },
  {
   "cell_type": "code",
   "execution_count": 80,
   "metadata": {
    "colab": {
     "base_uri": "https://localhost:8080/",
     "height": 69
    },
    "colab_type": "code",
    "executionInfo": {
     "elapsed": 277,
     "status": "ok",
     "timestamp": 1580490708575,
     "user": {
      "displayName": "Jose Manuel Magallanes",
      "photoUrl": "https://lh3.googleusercontent.com/a-/AAuE7mCXsJWaI0Fauk0qdvkv46Br9ZNIbhNI2_qdmZt9=s64",
      "userId": "12963200192719698170"
     },
     "user_tz": 480
    },
    "id": "uLYulWLqljmm",
    "outputId": "cbc16138-3c31-4a8b-d290-e5ffbf9a924a"
   },
   "outputs": [
    {
     "data": {
      "text/plain": [
       "Index(['Score', 'Electoral processand pluralism', 'Functioning ofgovernment',\n",
       "       'Politicalparticipation', 'Politicalculture', 'Civilliberties'],\n",
       "      dtype='object')"
      ]
     },
     "execution_count": 80,
     "metadata": {
      "tags": []
     },
     "output_type": "execute_result"
    }
   ],
   "source": [
    "demClean.columns[1:-2]"
   ]
  },
  {
   "cell_type": "code",
   "execution_count": 79,
   "metadata": {
    "colab": {
     "base_uri": "https://localhost:8080/",
     "height": 104
    },
    "colab_type": "code",
    "executionInfo": {
     "elapsed": 341,
     "status": "ok",
     "timestamp": 1580490691158,
     "user": {
      "displayName": "Jose Manuel Magallanes",
      "photoUrl": "https://lh3.googleusercontent.com/a-/AAuE7mCXsJWaI0Fauk0qdvkv46Br9ZNIbhNI2_qdmZt9=s64",
      "userId": "12963200192719698170"
     },
     "user_tz": 480
    },
    "id": "EHe-NK8MXQBP",
    "outputId": "ef5fdfac-4302-4a0e-a18a-7e7fcf88c4fb"
   },
   "outputs": [
    {
     "data": {
      "text/plain": [
       "{'Electoral processand pluralism': 'effectiveness',\n",
       " 'Functioning ofgovernment': 'participation',\n",
       " 'Politicalculture': 'liberties',\n",
       " 'Politicalparticipation': 'culture',\n",
       " 'Score': 'pluralism'}"
      ]
     },
     "execution_count": 79,
     "metadata": {
      "tags": []
     },
     "output_type": "execute_result"
    }
   ],
   "source": [
    "# names from the second and before the last one '[1:-1]':\n",
    "newMapper={old:new for old,new in zip(demClean.columns[1:-2],newNames)}\n",
    "newMapper"
   ]
  },
  {
   "cell_type": "code",
   "execution_count": null,
   "metadata": {
    "colab": {},
    "colab_type": "code",
    "id": "uIh0gHwSXWxv"
   },
   "outputs": [],
   "source": [
    "demClean.rename(columns=newMapper,inplace=True)"
   ]
  },
  {
   "cell_type": "code",
   "execution_count": null,
   "metadata": {
    "colab": {
     "base_uri": "https://localhost:8080/",
     "height": 202
    },
    "colab_type": "code",
    "executionInfo": {
     "elapsed": 575,
     "status": "ok",
     "timestamp": 1579899821785,
     "user": {
      "displayName": "Jose Manuel Magallanes",
      "photoUrl": "https://lh3.googleusercontent.com/a-/AAuE7mCXsJWaI0Fauk0qdvkv46Br9ZNIbhNI2_qdmZt9=s64",
      "userId": "12963200192719698170"
     },
     "user_tz": 480
    },
    "id": "3XmZihwaO5f4",
    "outputId": "04dbfe40-aecf-4bf1-e71e-7e69bdcf4b7d"
   },
   "outputs": [
    {
     "data": {
      "text/html": [
       "<div>\n",
       "<style scoped>\n",
       "    .dataframe tbody tr th:only-of-type {\n",
       "        vertical-align: middle;\n",
       "    }\n",
       "\n",
       "    .dataframe tbody tr th {\n",
       "        vertical-align: top;\n",
       "    }\n",
       "\n",
       "    .dataframe thead th {\n",
       "        text-align: right;\n",
       "    }\n",
       "</style>\n",
       "<table border=\"1\" class=\"dataframe\">\n",
       "  <thead>\n",
       "    <tr style=\"text-align: right;\">\n",
       "      <th></th>\n",
       "      <th>Country</th>\n",
       "      <th>pluralism</th>\n",
       "      <th>effectiveness</th>\n",
       "      <th>participation</th>\n",
       "      <th>culture</th>\n",
       "      <th>liberties</th>\n",
       "      <th>Regimetype</th>\n",
       "      <th>Continent</th>\n",
       "    </tr>\n",
       "  </thead>\n",
       "  <tbody>\n",
       "    <tr>\n",
       "      <th>0</th>\n",
       "      <td>Norway</td>\n",
       "      <td>10.00</td>\n",
       "      <td>9.64</td>\n",
       "      <td>10.00</td>\n",
       "      <td>10.00</td>\n",
       "      <td>9.71</td>\n",
       "      <td>Full democracy</td>\n",
       "      <td>Europe</td>\n",
       "    </tr>\n",
       "    <tr>\n",
       "      <th>1</th>\n",
       "      <td>Iceland</td>\n",
       "      <td>10.00</td>\n",
       "      <td>9.29</td>\n",
       "      <td>8.89</td>\n",
       "      <td>10.00</td>\n",
       "      <td>9.71</td>\n",
       "      <td>Full democracy</td>\n",
       "      <td>Europe</td>\n",
       "    </tr>\n",
       "    <tr>\n",
       "      <th>2</th>\n",
       "      <td>Sweden</td>\n",
       "      <td>9.58</td>\n",
       "      <td>9.64</td>\n",
       "      <td>8.33</td>\n",
       "      <td>10.00</td>\n",
       "      <td>9.41</td>\n",
       "      <td>Full democracy</td>\n",
       "      <td>Europe</td>\n",
       "    </tr>\n",
       "    <tr>\n",
       "      <th>3</th>\n",
       "      <td>New Zealand</td>\n",
       "      <td>10.00</td>\n",
       "      <td>9.29</td>\n",
       "      <td>8.89</td>\n",
       "      <td>8.13</td>\n",
       "      <td>10.00</td>\n",
       "      <td>Full democracy</td>\n",
       "      <td>Oceania</td>\n",
       "    </tr>\n",
       "    <tr>\n",
       "      <th>4</th>\n",
       "      <td>Denmark</td>\n",
       "      <td>10.00</td>\n",
       "      <td>9.29</td>\n",
       "      <td>8.33</td>\n",
       "      <td>9.38</td>\n",
       "      <td>9.12</td>\n",
       "      <td>Full democracy</td>\n",
       "      <td>Europe</td>\n",
       "    </tr>\n",
       "  </tbody>\n",
       "</table>\n",
       "</div>"
      ],
      "text/plain": [
       "       Country pluralism effectiveness  ... liberties      Regimetype Continent\n",
       "0       Norway     10.00          9.64  ...      9.71  Full democracy    Europe\n",
       "1      Iceland     10.00          9.29  ...      9.71  Full democracy    Europe\n",
       "2       Sweden      9.58          9.64  ...      9.41  Full democracy    Europe\n",
       "3  New Zealand     10.00          9.29  ...     10.00  Full democracy   Oceania\n",
       "4      Denmark     10.00          9.29  ...      9.12  Full democracy    Europe\n",
       "\n",
       "[5 rows x 8 columns]"
      ]
     },
     "execution_count": 90,
     "metadata": {
      "tags": []
     },
     "output_type": "execute_result"
    }
   ],
   "source": [
    "# this is what we have so far:\n",
    "demClean.head()"
   ]
  },
  {
   "cell_type": "markdown",
   "metadata": {
    "colab_type": "text",
    "id": "dHwSnk7aO5f5"
   },
   "source": [
    "Let me check if there is any rare character in the numbers:"
   ]
  },
  {
   "cell_type": "code",
   "execution_count": null,
   "metadata": {
    "colab": {
     "base_uri": "https://localhost:8080/",
     "height": 35
    },
    "colab_type": "code",
    "executionInfo": {
     "elapsed": 1005,
     "status": "ok",
     "timestamp": 1579899828655,
     "user": {
      "displayName": "Jose Manuel Magallanes",
      "photoUrl": "https://lh3.googleusercontent.com/a-/AAuE7mCXsJWaI0Fauk0qdvkv46Br9ZNIbhNI2_qdmZt9=s64",
      "userId": "12963200192719698170"
     },
     "user_tz": 480
    },
    "id": "rn7d7-wnO5f6",
    "outputId": "b1dced01-dba1-4465-d2be-3f4982a987f8"
   },
   "outputs": [
    {
     "data": {
      "text/plain": [
       "[]"
      ]
     },
     "execution_count": 91,
     "metadata": {
      "tags": []
     },
     "output_type": "execute_result"
    }
   ],
   "source": [
    "badDemoSymbols=[] # list for bad symbols\n",
    "\n",
    "NumericColNames=demClean.iloc[:,1:-2].columns # save names of columns with numeric data\n",
    "\n",
    "for columnName in NumericColNames:# visit every column name\n",
    "    for cell in demClean[columnName]:# visit every cell for that column\n",
    "        try:\n",
    "            float(cell) # try this\n",
    "        except: # if not possible:            \n",
    "            if cell not in badDemoSymbols:# if cell is not in the list                \n",
    "                badDemoSymbols.append(cell)# add it to the list\n",
    "\n",
    "# you get:\n",
    "badDemoSymbols"
   ]
  },
  {
   "cell_type": "markdown",
   "metadata": {
    "colab_type": "text",
    "id": "Yu8XuzJrO5f7"
   },
   "source": [
    "The last two columns are categories, we should check if the categories are consistent:"
   ]
  },
  {
   "cell_type": "code",
   "execution_count": null,
   "metadata": {
    "colab": {
     "base_uri": "https://localhost:8080/",
     "height": 69
    },
    "colab_type": "code",
    "executionInfo": {
     "elapsed": 489,
     "status": "ok",
     "timestamp": 1579899874465,
     "user": {
      "displayName": "Jose Manuel Magallanes",
      "photoUrl": "https://lh3.googleusercontent.com/a-/AAuE7mCXsJWaI0Fauk0qdvkv46Br9ZNIbhNI2_qdmZt9=s64",
      "userId": "12963200192719698170"
     },
     "user_tz": 480
    },
    "id": "vVBde0YaO5f8",
    "outputId": "bbaf0da5-1df5-41b4-b7e1-9b180aa0731d"
   },
   "outputs": [
    {
     "data": {
      "text/plain": [
       "Regimetype    {Flawed democracy, Authoritarian, Full democra...\n",
       "Continent     {Europe/Asia, Europe, Africa, South America, O...\n",
       "dtype: object"
      ]
     },
     "execution_count": 92,
     "metadata": {
      "tags": []
     },
     "output_type": "execute_result"
    }
   ],
   "source": [
    "# get unique values in each column:\n",
    "demClean.iloc[:,-2:].apply(set)"
   ]
  },
  {
   "cell_type": "code",
   "execution_count": null,
   "metadata": {
    "colab": {
     "base_uri": "https://localhost:8080/",
     "height": 156
    },
    "colab_type": "code",
    "executionInfo": {
     "elapsed": 570,
     "status": "ok",
     "timestamp": 1579899877407,
     "user": {
      "displayName": "Jose Manuel Magallanes",
      "photoUrl": "https://lh3.googleusercontent.com/a-/AAuE7mCXsJWaI0Fauk0qdvkv46Br9ZNIbhNI2_qdmZt9=s64",
      "userId": "12963200192719698170"
     },
     "user_tz": 480
    },
    "id": "5KouwMMKO5f9",
    "outputId": "28f38dab-cfdd-4c42-e106-4d04564428c9"
   },
   "outputs": [
    {
     "data": {
      "text/plain": [
       "[{'Authoritarian', 'Flawed democracy', 'Full democracy', 'Hybrid regime'},\n",
       " {'Africa',\n",
       "  'Asia',\n",
       "  'Europe',\n",
       "  'Europe/Asia',\n",
       "  'North America',\n",
       "  'Oceania',\n",
       "  'South America'}]"
      ]
     },
     "execution_count": 93,
     "metadata": {
      "tags": []
     },
     "output_type": "execute_result"
    }
   ],
   "source": [
    "# easier to see:\n",
    "demClean.iloc[:,-2:].apply(set).to_list()"
   ]
  },
  {
   "cell_type": "markdown",
   "metadata": {
    "colab_type": "text",
    "id": "HkU2qgBNO5f_"
   },
   "source": [
    "It looks good so far. Let's go to formatting.\n",
    "\n",
    "## - Formatting\n"
   ]
  },
  {
   "cell_type": "code",
   "execution_count": null,
   "metadata": {
    "colab": {
     "base_uri": "https://localhost:8080/",
     "height": 173
    },
    "colab_type": "code",
    "executionInfo": {
     "elapsed": 620,
     "status": "ok",
     "timestamp": 1579899942170,
     "user": {
      "displayName": "Jose Manuel Magallanes",
      "photoUrl": "https://lh3.googleusercontent.com/a-/AAuE7mCXsJWaI0Fauk0qdvkv46Br9ZNIbhNI2_qdmZt9=s64",
      "userId": "12963200192719698170"
     },
     "user_tz": 480
    },
    "id": "U_xdS4IMO5f_",
    "outputId": "e3f87620-e48f-4944-ef0c-9898502c0d71"
   },
   "outputs": [
    {
     "data": {
      "text/plain": [
       "Country          object\n",
       "pluralism        object\n",
       "effectiveness    object\n",
       "participation    object\n",
       "culture          object\n",
       "liberties        object\n",
       "Regimetype       object\n",
       "Continent        object\n",
       "dtype: object"
      ]
     },
     "execution_count": 94,
     "metadata": {
      "tags": []
     },
     "output_type": "execute_result"
    }
   ],
   "source": [
    "# checking data types:\n",
    "demClean.dtypes"
   ]
  },
  {
   "cell_type": "markdown",
   "metadata": {
    "colab_type": "text",
    "id": "fEquJ1XNO5gC"
   },
   "source": [
    "* **Formatting into numeric**"
   ]
  },
  {
   "cell_type": "code",
   "execution_count": null,
   "metadata": {
    "colab": {},
    "colab_type": "code",
    "id": "vL6Jz5yLO5gD"
   },
   "outputs": [],
   "source": [
    "demClean[NumericColNames]=demClean[NumericColNames].apply(pd.to_numeric)"
   ]
  },
  {
   "cell_type": "markdown",
   "metadata": {
    "colab_type": "text",
    "id": "huNJVQ_-O5gE"
   },
   "source": [
    "* **Formatting into nominal**"
   ]
  },
  {
   "cell_type": "code",
   "execution_count": null,
   "metadata": {
    "colab": {},
    "colab_type": "code",
    "id": "dFtRi6jtO5gE"
   },
   "outputs": [],
   "source": [
    "demClean.Continent=pd.Categorical(demClean.Continent)"
   ]
  },
  {
   "cell_type": "markdown",
   "metadata": {
    "colab_type": "text",
    "id": "XCRDsJfJO5gF"
   },
   "source": [
    "* **Formatting into ordinal**"
   ]
  },
  {
   "cell_type": "code",
   "execution_count": null,
   "metadata": {
    "colab": {
     "base_uri": "https://localhost:8080/",
     "height": 35
    },
    "colab_type": "code",
    "executionInfo": {
     "elapsed": 1096,
     "status": "ok",
     "timestamp": 1579900029236,
     "user": {
      "displayName": "Jose Manuel Magallanes",
      "photoUrl": "https://lh3.googleusercontent.com/a-/AAuE7mCXsJWaI0Fauk0qdvkv46Br9ZNIbhNI2_qdmZt9=s64",
      "userId": "12963200192719698170"
     },
     "user_tz": 480
    },
    "id": "EFo5Uf7pO5gG",
    "outputId": "8e0c8d40-5bb2-46c3-8b21-75c22044df5a"
   },
   "outputs": [
    {
     "data": {
      "text/plain": [
       "['Full democracy', 'Flawed democracy', 'Hybrid regime', 'Authoritarian']"
      ]
     },
     "execution_count": 98,
     "metadata": {
      "tags": []
     },
     "output_type": "execute_result"
    }
   ],
   "source": [
    "# Check current levels:\n",
    "pd.unique(demClean.Regimetype).tolist()"
   ]
  },
  {
   "cell_type": "code",
   "execution_count": null,
   "metadata": {
    "colab": {},
    "colab_type": "code",
    "id": "Tm6Tq1ZXO5gH"
   },
   "outputs": [],
   "source": [
    "#rewrite the levels in order:\n",
    "correctLevels=['Authoritarian', 'Hybrid regime', 'Flawed democracy','Full democracy']"
   ]
  },
  {
   "cell_type": "code",
   "execution_count": null,
   "metadata": {
    "colab": {},
    "colab_type": "code",
    "id": "2iHFTaw5O5gI"
   },
   "outputs": [],
   "source": [
    "#format as ordinal:\n",
    "demClean.Regimetype=pd.Categorical(demClean.Regimetype,categories=correctLevels,ordered=True)"
   ]
  },
  {
   "cell_type": "markdown",
   "metadata": {
    "colab_type": "text",
    "id": "xAAStQ8jO5gK"
   },
   "source": [
    "The data types have changed:"
   ]
  },
  {
   "cell_type": "code",
   "execution_count": null,
   "metadata": {
    "colab": {
     "base_uri": "https://localhost:8080/",
     "height": 173
    },
    "colab_type": "code",
    "executionInfo": {
     "elapsed": 1035,
     "status": "ok",
     "timestamp": 1579900065771,
     "user": {
      "displayName": "Jose Manuel Magallanes",
      "photoUrl": "https://lh3.googleusercontent.com/a-/AAuE7mCXsJWaI0Fauk0qdvkv46Br9ZNIbhNI2_qdmZt9=s64",
      "userId": "12963200192719698170"
     },
     "user_tz": 480
    },
    "id": "NVAhfp7uO5gK",
    "outputId": "e222e087-fe93-40c5-8721-c116c4e3f57e"
   },
   "outputs": [
    {
     "data": {
      "text/plain": [
       "Country            object\n",
       "pluralism         float64\n",
       "effectiveness     float64\n",
       "participation     float64\n",
       "culture           float64\n",
       "liberties         float64\n",
       "Regimetype       category\n",
       "Continent        category\n",
       "dtype: object"
      ]
     },
     "execution_count": 101,
     "metadata": {
      "tags": []
     },
     "output_type": "execute_result"
    }
   ],
   "source": [
    "#then\n",
    "demClean.dtypes"
   ]
  },
  {
   "cell_type": "markdown",
   "metadata": {
    "colab_type": "text",
    "id": "AcmA40oKO5gL"
   },
   "source": [
    "For more detail:"
   ]
  },
  {
   "cell_type": "code",
   "execution_count": null,
   "metadata": {
    "colab": {
     "base_uri": "https://localhost:8080/",
     "height": 35
    },
    "colab_type": "code",
    "executionInfo": {
     "elapsed": 924,
     "status": "ok",
     "timestamp": 1579900100014,
     "user": {
      "displayName": "Jose Manuel Magallanes",
      "photoUrl": "https://lh3.googleusercontent.com/a-/AAuE7mCXsJWaI0Fauk0qdvkv46Br9ZNIbhNI2_qdmZt9=s64",
      "userId": "12963200192719698170"
     },
     "user_tz": 480
    },
    "id": "QR4knKTbO5gM",
    "outputId": "6cc13905-50ae-47ba-d4c6-f83fd37d54e6"
   },
   "outputs": [
    {
     "data": {
      "text/plain": [
       "True"
      ]
     },
     "execution_count": 104,
     "metadata": {
      "tags": []
     },
     "output_type": "execute_result"
    }
   ],
   "source": [
    "demClean.Regimetype.cat.ordered"
   ]
  },
  {
   "cell_type": "code",
   "execution_count": null,
   "metadata": {
    "colab": {
     "base_uri": "https://localhost:8080/",
     "height": 235
    },
    "colab_type": "code",
    "executionInfo": {
     "elapsed": 3885,
     "status": "ok",
     "timestamp": 1579834358822,
     "user": {
      "displayName": "Jose Manuel Magallanes",
      "photoUrl": "https://lh3.googleusercontent.com/a-/AAuE7mCXsJWaI0Fauk0qdvkv46Br9ZNIbhNI2_qdmZt9=s64",
      "userId": "12963200192719698170"
     },
     "user_tz": 480
    },
    "id": "ZFa-byjiO5gN",
    "outputId": "9e5cc2c3-ee8f-44dd-83e9-8e3dbe8ec7b4"
   },
   "outputs": [
    {
     "name": "stdout",
     "output_type": "stream",
     "text": [
      "<class 'pandas.core.frame.DataFrame'>\n",
      "Int64Index: 167 entries, 0 to 166\n",
      "Data columns (total 8 columns):\n",
      "Country          167 non-null object\n",
      "pluralism        167 non-null float64\n",
      "effectiveness    167 non-null float64\n",
      "participation    167 non-null float64\n",
      "culture          167 non-null float64\n",
      "liberties        167 non-null float64\n",
      "Regimetype       167 non-null category\n",
      "Continent        167 non-null category\n",
      "dtypes: category(2), float64(5), object(1)\n",
      "memory usage: 10.0+ KB\n"
     ]
    }
   ],
   "source": [
    "# checking missing values\n",
    "demClean.info()"
   ]
  },
  {
   "cell_type": "markdown",
   "metadata": {
    "colab_type": "text",
    "id": "mw-oalmFO5gO"
   },
   "source": [
    "## Case 3: Integrating and Saving"
   ]
  },
  {
   "cell_type": "markdown",
   "metadata": {
    "colab_type": "text",
    "id": "ZDhOf8xtO5gO"
   },
   "source": [
    "This should be an easy step:"
   ]
  },
  {
   "cell_type": "code",
   "execution_count": null,
   "metadata": {
    "colab": {
     "base_uri": "https://localhost:8080/",
     "height": 556
    },
    "colab_type": "code",
    "executionInfo": {
     "elapsed": 3878,
     "status": "ok",
     "timestamp": 1579834358823,
     "user": {
      "displayName": "Jose Manuel Magallanes",
      "photoUrl": "https://lh3.googleusercontent.com/a-/AAuE7mCXsJWaI0Fauk0qdvkv46Br9ZNIbhNI2_qdmZt9=s64",
      "userId": "12963200192719698170"
     },
     "user_tz": 480
    },
    "id": "DjAhZUmSO5gP",
    "outputId": "9d28ce25-d171-4eca-f2bb-e1d309774683"
   },
   "outputs": [
    {
     "data": {
      "text/html": [
       "<div>\n",
       "<style scoped>\n",
       "    .dataframe tbody tr th:only-of-type {\n",
       "        vertical-align: middle;\n",
       "    }\n",
       "\n",
       "    .dataframe tbody tr th {\n",
       "        vertical-align: top;\n",
       "    }\n",
       "\n",
       "    .dataframe thead th {\n",
       "        text-align: right;\n",
       "    }\n",
       "</style>\n",
       "<table border=\"1\" class=\"dataframe\">\n",
       "  <thead>\n",
       "    <tr style=\"text-align: right;\">\n",
       "      <th></th>\n",
       "      <th>Country</th>\n",
       "      <th>Humandevelopmentindex</th>\n",
       "      <th>Lifeexpectancyatbirth</th>\n",
       "      <th>Expectedyearsofschooling</th>\n",
       "      <th>Meanyearsofschooling</th>\n",
       "      <th>Grossnationalincomepercapita</th>\n",
       "      <th>pluralism</th>\n",
       "      <th>effectiveness</th>\n",
       "      <th>participation</th>\n",
       "      <th>culture</th>\n",
       "      <th>liberties</th>\n",
       "      <th>Regimetype</th>\n",
       "      <th>Continent</th>\n",
       "    </tr>\n",
       "  </thead>\n",
       "  <tbody>\n",
       "    <tr>\n",
       "      <th>0</th>\n",
       "      <td>Norway</td>\n",
       "      <td>0.95</td>\n",
       "      <td>82.27</td>\n",
       "      <td>18.06</td>\n",
       "      <td>12.57</td>\n",
       "      <td>68058.62</td>\n",
       "      <td>10.00</td>\n",
       "      <td>9.64</td>\n",
       "      <td>10.00</td>\n",
       "      <td>10.00</td>\n",
       "      <td>9.71</td>\n",
       "      <td>Full democracy</td>\n",
       "      <td>Europe</td>\n",
       "    </tr>\n",
       "    <tr>\n",
       "      <th>1</th>\n",
       "      <td>Switzerland</td>\n",
       "      <td>0.95</td>\n",
       "      <td>83.63</td>\n",
       "      <td>16.21</td>\n",
       "      <td>13.38</td>\n",
       "      <td>59374.73</td>\n",
       "      <td>9.58</td>\n",
       "      <td>9.29</td>\n",
       "      <td>7.78</td>\n",
       "      <td>9.38</td>\n",
       "      <td>9.12</td>\n",
       "      <td>Full democracy</td>\n",
       "      <td>Europe</td>\n",
       "    </tr>\n",
       "    <tr>\n",
       "      <th>2</th>\n",
       "      <td>Ireland</td>\n",
       "      <td>0.94</td>\n",
       "      <td>82.10</td>\n",
       "      <td>18.79</td>\n",
       "      <td>12.53</td>\n",
       "      <td>55659.68</td>\n",
       "      <td>9.58</td>\n",
       "      <td>7.86</td>\n",
       "      <td>8.33</td>\n",
       "      <td>10.00</td>\n",
       "      <td>10.00</td>\n",
       "      <td>Full democracy</td>\n",
       "      <td>Europe</td>\n",
       "    </tr>\n",
       "    <tr>\n",
       "      <th>3</th>\n",
       "      <td>Germany</td>\n",
       "      <td>0.94</td>\n",
       "      <td>81.18</td>\n",
       "      <td>17.10</td>\n",
       "      <td>14.13</td>\n",
       "      <td>46945.95</td>\n",
       "      <td>9.58</td>\n",
       "      <td>8.57</td>\n",
       "      <td>8.33</td>\n",
       "      <td>7.50</td>\n",
       "      <td>9.41</td>\n",
       "      <td>Full democracy</td>\n",
       "      <td>Europe</td>\n",
       "    </tr>\n",
       "    <tr>\n",
       "      <th>4</th>\n",
       "      <td>Australia</td>\n",
       "      <td>0.94</td>\n",
       "      <td>83.28</td>\n",
       "      <td>22.10</td>\n",
       "      <td>12.68</td>\n",
       "      <td>44097.02</td>\n",
       "      <td>10.00</td>\n",
       "      <td>8.93</td>\n",
       "      <td>7.78</td>\n",
       "      <td>8.75</td>\n",
       "      <td>10.00</td>\n",
       "      <td>Full democracy</td>\n",
       "      <td>Oceania</td>\n",
       "    </tr>\n",
       "    <tr>\n",
       "      <th>...</th>\n",
       "      <td>...</td>\n",
       "      <td>...</td>\n",
       "      <td>...</td>\n",
       "      <td>...</td>\n",
       "      <td>...</td>\n",
       "      <td>...</td>\n",
       "      <td>...</td>\n",
       "      <td>...</td>\n",
       "      <td>...</td>\n",
       "      <td>...</td>\n",
       "      <td>...</td>\n",
       "      <td>...</td>\n",
       "      <td>...</td>\n",
       "    </tr>\n",
       "    <tr>\n",
       "      <th>142</th>\n",
       "      <td>Mali</td>\n",
       "      <td>0.43</td>\n",
       "      <td>58.89</td>\n",
       "      <td>7.60</td>\n",
       "      <td>2.35</td>\n",
       "      <td>1965.39</td>\n",
       "      <td>7.42</td>\n",
       "      <td>3.93</td>\n",
       "      <td>3.89</td>\n",
       "      <td>5.63</td>\n",
       "      <td>6.18</td>\n",
       "      <td>Hybrid regime</td>\n",
       "      <td>Africa</td>\n",
       "    </tr>\n",
       "    <tr>\n",
       "      <th>143</th>\n",
       "      <td>Burundi</td>\n",
       "      <td>0.42</td>\n",
       "      <td>61.25</td>\n",
       "      <td>11.30</td>\n",
       "      <td>3.12</td>\n",
       "      <td>659.73</td>\n",
       "      <td>0.00</td>\n",
       "      <td>0.43</td>\n",
       "      <td>3.89</td>\n",
       "      <td>5.00</td>\n",
       "      <td>2.35</td>\n",
       "      <td>Authoritarian</td>\n",
       "      <td>Africa</td>\n",
       "    </tr>\n",
       "    <tr>\n",
       "      <th>144</th>\n",
       "      <td>Chad</td>\n",
       "      <td>0.40</td>\n",
       "      <td>53.98</td>\n",
       "      <td>7.47</td>\n",
       "      <td>2.41</td>\n",
       "      <td>1715.57</td>\n",
       "      <td>0.00</td>\n",
       "      <td>0.00</td>\n",
       "      <td>1.67</td>\n",
       "      <td>3.75</td>\n",
       "      <td>2.65</td>\n",
       "      <td>Authoritarian</td>\n",
       "      <td>Africa</td>\n",
       "    </tr>\n",
       "    <tr>\n",
       "      <th>145</th>\n",
       "      <td>Central African Republic</td>\n",
       "      <td>0.38</td>\n",
       "      <td>52.81</td>\n",
       "      <td>7.57</td>\n",
       "      <td>4.28</td>\n",
       "      <td>776.68</td>\n",
       "      <td>2.25</td>\n",
       "      <td>0.00</td>\n",
       "      <td>1.11</td>\n",
       "      <td>1.88</td>\n",
       "      <td>2.35</td>\n",
       "      <td>Authoritarian</td>\n",
       "      <td>Africa</td>\n",
       "    </tr>\n",
       "    <tr>\n",
       "      <th>146</th>\n",
       "      <td>Niger</td>\n",
       "      <td>0.38</td>\n",
       "      <td>62.02</td>\n",
       "      <td>6.47</td>\n",
       "      <td>2.03</td>\n",
       "      <td>912.04</td>\n",
       "      <td>5.25</td>\n",
       "      <td>1.14</td>\n",
       "      <td>3.33</td>\n",
       "      <td>4.38</td>\n",
       "      <td>4.71</td>\n",
       "      <td>Authoritarian</td>\n",
       "      <td>Africa</td>\n",
       "    </tr>\n",
       "  </tbody>\n",
       "</table>\n",
       "<p>147 rows × 13 columns</p>\n",
       "</div>"
      ],
      "text/plain": [
       "                      Country  Humandevelopmentindex  ...      Regimetype  Continent\n",
       "0                      Norway                   0.95  ...  Full democracy     Europe\n",
       "1                 Switzerland                   0.95  ...  Full democracy     Europe\n",
       "2                     Ireland                   0.94  ...  Full democracy     Europe\n",
       "3                     Germany                   0.94  ...  Full democracy     Europe\n",
       "4                   Australia                   0.94  ...  Full democracy    Oceania\n",
       "..                        ...                    ...  ...             ...        ...\n",
       "142                      Mali                   0.43  ...   Hybrid regime     Africa\n",
       "143                   Burundi                   0.42  ...   Authoritarian     Africa\n",
       "144                      Chad                   0.40  ...   Authoritarian     Africa\n",
       "145  Central African Republic                   0.38  ...   Authoritarian     Africa\n",
       "146                     Niger                   0.38  ...   Authoritarian     Africa\n",
       "\n",
       "[147 rows x 13 columns]"
      ]
     },
     "execution_count": 61,
     "metadata": {
      "tags": []
     },
     "output_type": "execute_result"
    }
   ],
   "source": [
    "hdi.merge(demClean)"
   ]
  },
  {
   "cell_type": "markdown",
   "metadata": {
    "colab_type": "text",
    "id": "qQUISUK4O5gQ"
   },
   "source": [
    "Notice you have lost countries:"
   ]
  },
  {
   "cell_type": "code",
   "execution_count": null,
   "metadata": {
    "colab": {
     "base_uri": "https://localhost:8080/",
     "height": 34
    },
    "colab_type": "code",
    "executionInfo": {
     "elapsed": 3871,
     "status": "ok",
     "timestamp": 1579834358824,
     "user": {
      "displayName": "Jose Manuel Magallanes",
      "photoUrl": "https://lh3.googleusercontent.com/a-/AAuE7mCXsJWaI0Fauk0qdvkv46Br9ZNIbhNI2_qdmZt9=s64",
      "userId": "12963200192719698170"
     },
     "user_tz": 480
    },
    "id": "svfx0XvWO5gR",
    "outputId": "453750d1-f5d4-4f99-df42-266e51197c8a"
   },
   "outputs": [
    {
     "data": {
      "text/plain": [
       "(167, 195)"
      ]
     },
     "execution_count": 62,
     "metadata": {
      "tags": []
     },
     "output_type": "execute_result"
    }
   ],
   "source": [
    "len(demClean),len(hdi)"
   ]
  },
  {
   "cell_type": "code",
   "execution_count": null,
   "metadata": {
    "colab": {
     "base_uri": "https://localhost:8080/",
     "height": 590
    },
    "colab_type": "code",
    "executionInfo": {
     "elapsed": 4076,
     "status": "ok",
     "timestamp": 1579834359036,
     "user": {
      "displayName": "Jose Manuel Magallanes",
      "photoUrl": "https://lh3.googleusercontent.com/a-/AAuE7mCXsJWaI0Fauk0qdvkv46Br9ZNIbhNI2_qdmZt9=s64",
      "userId": "12963200192719698170"
     },
     "user_tz": 480
    },
    "id": "i7qKHYgbO5gS",
    "outputId": "7ed35f7c-2248-44c0-b51a-f838464fd281"
   },
   "outputs": [
    {
     "data": {
      "text/html": [
       "<div>\n",
       "<style scoped>\n",
       "    .dataframe tbody tr th:only-of-type {\n",
       "        vertical-align: middle;\n",
       "    }\n",
       "\n",
       "    .dataframe tbody tr th {\n",
       "        vertical-align: top;\n",
       "    }\n",
       "\n",
       "    .dataframe thead th {\n",
       "        text-align: right;\n",
       "    }\n",
       "</style>\n",
       "<table border=\"1\" class=\"dataframe\">\n",
       "  <thead>\n",
       "    <tr style=\"text-align: right;\">\n",
       "      <th></th>\n",
       "      <th>Country</th>\n",
       "      <th>Humandevelopmentindex</th>\n",
       "      <th>Lifeexpectancyatbirth</th>\n",
       "      <th>Expectedyearsofschooling</th>\n",
       "      <th>Meanyearsofschooling</th>\n",
       "      <th>Grossnationalincomepercapita</th>\n",
       "      <th>pluralism</th>\n",
       "      <th>effectiveness</th>\n",
       "      <th>participation</th>\n",
       "      <th>culture</th>\n",
       "      <th>liberties</th>\n",
       "      <th>Regimetype</th>\n",
       "      <th>Continent</th>\n",
       "      <th>_merge</th>\n",
       "    </tr>\n",
       "  </thead>\n",
       "  <tbody>\n",
       "    <tr>\n",
       "      <th>0</th>\n",
       "      <td>Norway</td>\n",
       "      <td>0.95</td>\n",
       "      <td>82.27</td>\n",
       "      <td>18.06</td>\n",
       "      <td>12.57</td>\n",
       "      <td>68058.62</td>\n",
       "      <td>10.00</td>\n",
       "      <td>9.64</td>\n",
       "      <td>10.00</td>\n",
       "      <td>10.00</td>\n",
       "      <td>9.71</td>\n",
       "      <td>Full democracy</td>\n",
       "      <td>Europe</td>\n",
       "      <td>both</td>\n",
       "    </tr>\n",
       "    <tr>\n",
       "      <th>1</th>\n",
       "      <td>Switzerland</td>\n",
       "      <td>0.95</td>\n",
       "      <td>83.63</td>\n",
       "      <td>16.21</td>\n",
       "      <td>13.38</td>\n",
       "      <td>59374.73</td>\n",
       "      <td>9.58</td>\n",
       "      <td>9.29</td>\n",
       "      <td>7.78</td>\n",
       "      <td>9.38</td>\n",
       "      <td>9.12</td>\n",
       "      <td>Full democracy</td>\n",
       "      <td>Europe</td>\n",
       "      <td>both</td>\n",
       "    </tr>\n",
       "    <tr>\n",
       "      <th>2</th>\n",
       "      <td>Ireland</td>\n",
       "      <td>0.94</td>\n",
       "      <td>82.10</td>\n",
       "      <td>18.79</td>\n",
       "      <td>12.53</td>\n",
       "      <td>55659.68</td>\n",
       "      <td>9.58</td>\n",
       "      <td>7.86</td>\n",
       "      <td>8.33</td>\n",
       "      <td>10.00</td>\n",
       "      <td>10.00</td>\n",
       "      <td>Full democracy</td>\n",
       "      <td>Europe</td>\n",
       "      <td>both</td>\n",
       "    </tr>\n",
       "    <tr>\n",
       "      <th>3</th>\n",
       "      <td>Germany</td>\n",
       "      <td>0.94</td>\n",
       "      <td>81.18</td>\n",
       "      <td>17.10</td>\n",
       "      <td>14.13</td>\n",
       "      <td>46945.95</td>\n",
       "      <td>9.58</td>\n",
       "      <td>8.57</td>\n",
       "      <td>8.33</td>\n",
       "      <td>7.50</td>\n",
       "      <td>9.41</td>\n",
       "      <td>Full democracy</td>\n",
       "      <td>Europe</td>\n",
       "      <td>both</td>\n",
       "    </tr>\n",
       "    <tr>\n",
       "      <th>4</th>\n",
       "      <td>Hong Kong, China (SAR)</td>\n",
       "      <td>0.94</td>\n",
       "      <td>84.69</td>\n",
       "      <td>16.51</td>\n",
       "      <td>12.04</td>\n",
       "      <td>60220.80</td>\n",
       "      <td>NaN</td>\n",
       "      <td>NaN</td>\n",
       "      <td>NaN</td>\n",
       "      <td>NaN</td>\n",
       "      <td>NaN</td>\n",
       "      <td>NaN</td>\n",
       "      <td>NaN</td>\n",
       "      <td>left_only</td>\n",
       "    </tr>\n",
       "    <tr>\n",
       "      <th>...</th>\n",
       "      <td>...</td>\n",
       "      <td>...</td>\n",
       "      <td>...</td>\n",
       "      <td>...</td>\n",
       "      <td>...</td>\n",
       "      <td>...</td>\n",
       "      <td>...</td>\n",
       "      <td>...</td>\n",
       "      <td>...</td>\n",
       "      <td>...</td>\n",
       "      <td>...</td>\n",
       "      <td>...</td>\n",
       "      <td>...</td>\n",
       "      <td>...</td>\n",
       "    </tr>\n",
       "    <tr>\n",
       "      <th>210</th>\n",
       "      <td>Iran</td>\n",
       "      <td>NaN</td>\n",
       "      <td>NaN</td>\n",
       "      <td>NaN</td>\n",
       "      <td>NaN</td>\n",
       "      <td>NaN</td>\n",
       "      <td>0.00</td>\n",
       "      <td>3.21</td>\n",
       "      <td>4.44</td>\n",
       "      <td>3.13</td>\n",
       "      <td>1.47</td>\n",
       "      <td>Authoritarian</td>\n",
       "      <td>Asia</td>\n",
       "      <td>right_only</td>\n",
       "    </tr>\n",
       "    <tr>\n",
       "      <th>211</th>\n",
       "      <td>Laos</td>\n",
       "      <td>NaN</td>\n",
       "      <td>NaN</td>\n",
       "      <td>NaN</td>\n",
       "      <td>NaN</td>\n",
       "      <td>NaN</td>\n",
       "      <td>0.83</td>\n",
       "      <td>2.86</td>\n",
       "      <td>1.67</td>\n",
       "      <td>5.00</td>\n",
       "      <td>1.47</td>\n",
       "      <td>Authoritarian</td>\n",
       "      <td>Asia</td>\n",
       "      <td>right_only</td>\n",
       "    </tr>\n",
       "    <tr>\n",
       "      <th>212</th>\n",
       "      <td>Democratic Republic of the Congo</td>\n",
       "      <td>NaN</td>\n",
       "      <td>NaN</td>\n",
       "      <td>NaN</td>\n",
       "      <td>NaN</td>\n",
       "      <td>NaN</td>\n",
       "      <td>0.50</td>\n",
       "      <td>0.71</td>\n",
       "      <td>2.22</td>\n",
       "      <td>3.13</td>\n",
       "      <td>0.88</td>\n",
       "      <td>Authoritarian</td>\n",
       "      <td>Africa</td>\n",
       "      <td>right_only</td>\n",
       "    </tr>\n",
       "    <tr>\n",
       "      <th>213</th>\n",
       "      <td>Syria</td>\n",
       "      <td>NaN</td>\n",
       "      <td>NaN</td>\n",
       "      <td>NaN</td>\n",
       "      <td>NaN</td>\n",
       "      <td>NaN</td>\n",
       "      <td>0.00</td>\n",
       "      <td>0.00</td>\n",
       "      <td>2.78</td>\n",
       "      <td>4.38</td>\n",
       "      <td>0.00</td>\n",
       "      <td>Authoritarian</td>\n",
       "      <td>Asia</td>\n",
       "      <td>right_only</td>\n",
       "    </tr>\n",
       "    <tr>\n",
       "      <th>214</th>\n",
       "      <td>North Korea</td>\n",
       "      <td>NaN</td>\n",
       "      <td>NaN</td>\n",
       "      <td>NaN</td>\n",
       "      <td>NaN</td>\n",
       "      <td>NaN</td>\n",
       "      <td>0.00</td>\n",
       "      <td>2.50</td>\n",
       "      <td>1.67</td>\n",
       "      <td>1.25</td>\n",
       "      <td>0.00</td>\n",
       "      <td>Authoritarian</td>\n",
       "      <td>Asia</td>\n",
       "      <td>right_only</td>\n",
       "    </tr>\n",
       "  </tbody>\n",
       "</table>\n",
       "<p>215 rows × 14 columns</p>\n",
       "</div>"
      ],
      "text/plain": [
       "                              Country  ...      _merge\n",
       "0                              Norway  ...        both\n",
       "1                         Switzerland  ...        both\n",
       "2                             Ireland  ...        both\n",
       "3                             Germany  ...        both\n",
       "4              Hong Kong, China (SAR)  ...   left_only\n",
       "..                                ...  ...         ...\n",
       "210                              Iran  ...  right_only\n",
       "211                              Laos  ...  right_only\n",
       "212  Democratic Republic of the Congo  ...  right_only\n",
       "213                             Syria  ...  right_only\n",
       "214                       North Korea  ...  right_only\n",
       "\n",
       "[215 rows x 14 columns]"
      ]
     },
     "execution_count": 63,
     "metadata": {
      "tags": []
     },
     "output_type": "execute_result"
    }
   ],
   "source": [
    "hdi.merge(demClean,how='outer',indicator=True) # see last column"
   ]
  },
  {
   "cell_type": "markdown",
   "metadata": {
    "colab_type": "text",
    "id": "NWakVGkKO5gV"
   },
   "source": [
    "Let me save previous result:"
   ]
  },
  {
   "cell_type": "code",
   "execution_count": null,
   "metadata": {
    "colab": {},
    "colab_type": "code",
    "id": "kOzYMw5qO5gV"
   },
   "outputs": [],
   "source": [
    "test=hdi.merge(demClean,how='outer',indicator=True) "
   ]
  },
  {
   "cell_type": "code",
   "execution_count": null,
   "metadata": {
    "colab": {
     "base_uri": "https://localhost:8080/",
     "height": 840
    },
    "colab_type": "code",
    "executionInfo": {
     "elapsed": 4067,
     "status": "ok",
     "timestamp": 1579834359038,
     "user": {
      "displayName": "Jose Manuel Magallanes",
      "photoUrl": "https://lh3.googleusercontent.com/a-/AAuE7mCXsJWaI0Fauk0qdvkv46Br9ZNIbhNI2_qdmZt9=s64",
      "userId": "12963200192719698170"
     },
     "user_tz": 480
    },
    "id": "WyKHRy-IO5gW",
    "outputId": "6c733aec-afe6-472c-d594-9419c3651efe"
   },
   "outputs": [
    {
     "data": {
      "text/plain": [
       "4                   Hong Kong, China (SAR)\n",
       "17                           Liechtenstein\n",
       "22                     Korea (Republic of)\n",
       "25                                 Czechia\n",
       "35                                 Andorra\n",
       "42                       Brunei Darussalam\n",
       "48                      Russian Federation\n",
       "54                                   Palau\n",
       "55                                Barbados\n",
       "59                                 Bahamas\n",
       "61                              Seychelles\n",
       "64              Iran (Islamic Republic of)\n",
       "72                   Saint Kitts and Nevis\n",
       "73                     Antigua and Barbuda\n",
       "77                                 Grenada\n",
       "89                             Saint Lucia\n",
       "94        Saint Vincent and the Grenadines\n",
       "96      Venezuela (Bolivarian Republic of)\n",
       "97                                Dominica\n",
       "102                                 Belize\n",
       "103                               Maldives\n",
       "104                                  Tonga\n",
       "106                  Moldova (Republic of)\n",
       "111                                  Samoa\n",
       "113       Bolivia (Plurinational State of)\n",
       "116                       Marshall Islands\n",
       "117                               Viet Nam\n",
       "118                    Palestine, State of\n",
       "125                             Cabo Verde\n",
       "132                               Kiribati\n",
       "135       Micronesia (Federated States of)\n",
       "136                  Sao Tome and Principe\n",
       "137                                  Congo\n",
       "138                  Eswatini (Kingdom of)\n",
       "139       Lao People's Democratic Republic\n",
       "140                                Vanuatu\n",
       "152                        Solomon Islands\n",
       "153                   Syrian Arab Republic\n",
       "158          Tanzania (United Republic of)\n",
       "164                          Côte d'Ivoire\n",
       "178     Congo (Democratic Republic of the)\n",
       "185                            South Sudan\n",
       "189    Korea (Democratic People's Rep. of)\n",
       "190                                 Monaco\n",
       "191                                  Nauru\n",
       "192                             San Marino\n",
       "193                                Somalia\n",
       "194                                 Tuvalu\n",
       "Name: Country, dtype: object"
      ]
     },
     "execution_count": 65,
     "metadata": {
      "tags": []
     },
     "output_type": "execute_result"
    }
   ],
   "source": [
    "# in hdi only\n",
    "test.loc[test['_merge']=='left_only',\"Country\"]"
   ]
  },
  {
   "cell_type": "code",
   "execution_count": null,
   "metadata": {
    "colab": {
     "base_uri": "https://localhost:8080/",
     "height": 370
    },
    "colab_type": "code",
    "executionInfo": {
     "elapsed": 4059,
     "status": "ok",
     "timestamp": 1579834359038,
     "user": {
      "displayName": "Jose Manuel Magallanes",
      "photoUrl": "https://lh3.googleusercontent.com/a-/AAuE7mCXsJWaI0Fauk0qdvkv46Br9ZNIbhNI2_qdmZt9=s64",
      "userId": "12963200192719698170"
     },
     "user_tz": 480
    },
    "id": "HnbWOdRCO5gX",
    "outputId": "bb707331-9d3e-48a7-e8fe-3b4341ba4e6f"
   },
   "outputs": [
    {
     "data": {
      "text/plain": [
       "195                    South Korea[n 1]\n",
       "196                          Cape Verde\n",
       "197                              Taiwan\n",
       "198                      Czech Republic\n",
       "199                           Hong Kong\n",
       "200                             Moldova\n",
       "201                             Bolivia\n",
       "202                            Tanzania\n",
       "203                           Palestine\n",
       "204                         Ivory Coast\n",
       "205               Republic of the Congo\n",
       "206                           Venezuela\n",
       "207                             Vietnam\n",
       "208                            Eswatini\n",
       "209                              Russia\n",
       "210                                Iran\n",
       "211                                Laos\n",
       "212    Democratic Republic of the Congo\n",
       "213                               Syria\n",
       "214                         North Korea\n",
       "Name: Country, dtype: object"
      ]
     },
     "execution_count": 66,
     "metadata": {
      "tags": []
     },
     "output_type": "execute_result"
    }
   ],
   "source": [
    "# in demClean only\n",
    "test.loc[test['_merge']=='right_only',\"Country\"]"
   ]
  },
  {
   "cell_type": "code",
   "execution_count": null,
   "metadata": {
    "colab": {},
    "colab_type": "code",
    "id": "H_YX9BsiO5gY"
   },
   "outputs": [],
   "source": [
    "# you need to change the original\n",
    "\n",
    "#dictionary of replacements:\n",
    "replacements={'South Korea[n 1]': 'Korea (Republic of)', \n",
    "              'Cape Verde':'Cabo Verde',\n",
    "              'Czech Republic':'Czechia',\n",
    "              'Hong Kong':'Hong Kong, China (SAR)',\n",
    "              'Moldova':'Moldova (Republic of)',\n",
    "              'Bolivia':'Bolivia (Plurinational State of)',\n",
    "              'Tanzania':'Tanzania (United Republic of)',\n",
    "              'Palestine':'Palestine, State of',\n",
    "              'Ivory Coast':\"Côte d'Ivoire\",\n",
    "              'Republic of the Congo':'Congo',\n",
    "              'Venezuela':'Venezuela (Bolivarian Republic of)',\n",
    "              'Vietnam':'Viet Nam',\n",
    "              'Eswatini':'Eswatini (Kingdom of)',              \n",
    "              'Russia':'Russian Federation',\n",
    "              'Iran':'Iran (Islamic Republic of)',\n",
    "              'Laos':\"Lao People's Democratic Republic\",\n",
    "              'Democratic Republic of the Congo':'Congo (Democratic Republic of the)',\n",
    "              'Syria':'Syrian Arab Republic',\n",
    "              'North Korea': \"Korea (Democratic People's Rep. of)\" #check \"\"\n",
    "             }\n",
    "\n",
    "# replacing\n",
    "demClean.Country.replace(replacements,inplace=True)"
   ]
  },
  {
   "cell_type": "markdown",
   "metadata": {
    "colab_type": "text",
    "id": "3uJzGApQO5ga"
   },
   "source": [
    "The merge should give more rows:"
   ]
  },
  {
   "cell_type": "code",
   "execution_count": null,
   "metadata": {
    "colab": {
     "base_uri": "https://localhost:8080/",
     "height": 606
    },
    "colab_type": "code",
    "executionInfo": {
     "elapsed": 4050,
     "status": "ok",
     "timestamp": 1579834359039,
     "user": {
      "displayName": "Jose Manuel Magallanes",
      "photoUrl": "https://lh3.googleusercontent.com/a-/AAuE7mCXsJWaI0Fauk0qdvkv46Br9ZNIbhNI2_qdmZt9=s64",
      "userId": "12963200192719698170"
     },
     "user_tz": 480
    },
    "id": "igk7skx7O5ga",
    "outputId": "60b3b73a-8f89-4483-f53d-2e2b1d44c4c1"
   },
   "outputs": [
    {
     "data": {
      "text/html": [
       "<div>\n",
       "<style scoped>\n",
       "    .dataframe tbody tr th:only-of-type {\n",
       "        vertical-align: middle;\n",
       "    }\n",
       "\n",
       "    .dataframe tbody tr th {\n",
       "        vertical-align: top;\n",
       "    }\n",
       "\n",
       "    .dataframe thead th {\n",
       "        text-align: right;\n",
       "    }\n",
       "</style>\n",
       "<table border=\"1\" class=\"dataframe\">\n",
       "  <thead>\n",
       "    <tr style=\"text-align: right;\">\n",
       "      <th></th>\n",
       "      <th>Country</th>\n",
       "      <th>Humandevelopmentindex</th>\n",
       "      <th>Lifeexpectancyatbirth</th>\n",
       "      <th>Expectedyearsofschooling</th>\n",
       "      <th>Meanyearsofschooling</th>\n",
       "      <th>Grossnationalincomepercapita</th>\n",
       "      <th>pluralism</th>\n",
       "      <th>effectiveness</th>\n",
       "      <th>participation</th>\n",
       "      <th>culture</th>\n",
       "      <th>liberties</th>\n",
       "      <th>Regimetype</th>\n",
       "      <th>Continent</th>\n",
       "    </tr>\n",
       "  </thead>\n",
       "  <tbody>\n",
       "    <tr>\n",
       "      <th>0</th>\n",
       "      <td>Norway</td>\n",
       "      <td>0.95</td>\n",
       "      <td>82.27</td>\n",
       "      <td>18.06</td>\n",
       "      <td>12.57</td>\n",
       "      <td>68058.62</td>\n",
       "      <td>10.00</td>\n",
       "      <td>9.64</td>\n",
       "      <td>10.00</td>\n",
       "      <td>10.00</td>\n",
       "      <td>9.71</td>\n",
       "      <td>Full democracy</td>\n",
       "      <td>Europe</td>\n",
       "    </tr>\n",
       "    <tr>\n",
       "      <th>1</th>\n",
       "      <td>Switzerland</td>\n",
       "      <td>0.95</td>\n",
       "      <td>83.63</td>\n",
       "      <td>16.21</td>\n",
       "      <td>13.38</td>\n",
       "      <td>59374.73</td>\n",
       "      <td>9.58</td>\n",
       "      <td>9.29</td>\n",
       "      <td>7.78</td>\n",
       "      <td>9.38</td>\n",
       "      <td>9.12</td>\n",
       "      <td>Full democracy</td>\n",
       "      <td>Europe</td>\n",
       "    </tr>\n",
       "    <tr>\n",
       "      <th>2</th>\n",
       "      <td>Ireland</td>\n",
       "      <td>0.94</td>\n",
       "      <td>82.10</td>\n",
       "      <td>18.79</td>\n",
       "      <td>12.53</td>\n",
       "      <td>55659.68</td>\n",
       "      <td>9.58</td>\n",
       "      <td>7.86</td>\n",
       "      <td>8.33</td>\n",
       "      <td>10.00</td>\n",
       "      <td>10.00</td>\n",
       "      <td>Full democracy</td>\n",
       "      <td>Europe</td>\n",
       "    </tr>\n",
       "    <tr>\n",
       "      <th>3</th>\n",
       "      <td>Germany</td>\n",
       "      <td>0.94</td>\n",
       "      <td>81.18</td>\n",
       "      <td>17.10</td>\n",
       "      <td>14.13</td>\n",
       "      <td>46945.95</td>\n",
       "      <td>9.58</td>\n",
       "      <td>8.57</td>\n",
       "      <td>8.33</td>\n",
       "      <td>7.50</td>\n",
       "      <td>9.41</td>\n",
       "      <td>Full democracy</td>\n",
       "      <td>Europe</td>\n",
       "    </tr>\n",
       "    <tr>\n",
       "      <th>4</th>\n",
       "      <td>Hong Kong, China (SAR)</td>\n",
       "      <td>0.94</td>\n",
       "      <td>84.69</td>\n",
       "      <td>16.51</td>\n",
       "      <td>12.04</td>\n",
       "      <td>60220.80</td>\n",
       "      <td>3.08</td>\n",
       "      <td>6.07</td>\n",
       "      <td>5.56</td>\n",
       "      <td>7.50</td>\n",
       "      <td>8.53</td>\n",
       "      <td>Flawed democracy</td>\n",
       "      <td>Asia</td>\n",
       "    </tr>\n",
       "    <tr>\n",
       "      <th>...</th>\n",
       "      <td>...</td>\n",
       "      <td>...</td>\n",
       "      <td>...</td>\n",
       "      <td>...</td>\n",
       "      <td>...</td>\n",
       "      <td>...</td>\n",
       "      <td>...</td>\n",
       "      <td>...</td>\n",
       "      <td>...</td>\n",
       "      <td>...</td>\n",
       "      <td>...</td>\n",
       "      <td>...</td>\n",
       "      <td>...</td>\n",
       "    </tr>\n",
       "    <tr>\n",
       "      <th>161</th>\n",
       "      <td>Burundi</td>\n",
       "      <td>0.42</td>\n",
       "      <td>61.25</td>\n",
       "      <td>11.30</td>\n",
       "      <td>3.12</td>\n",
       "      <td>659.73</td>\n",
       "      <td>0.00</td>\n",
       "      <td>0.43</td>\n",
       "      <td>3.89</td>\n",
       "      <td>5.00</td>\n",
       "      <td>2.35</td>\n",
       "      <td>Authoritarian</td>\n",
       "      <td>Africa</td>\n",
       "    </tr>\n",
       "    <tr>\n",
       "      <th>162</th>\n",
       "      <td>Chad</td>\n",
       "      <td>0.40</td>\n",
       "      <td>53.98</td>\n",
       "      <td>7.47</td>\n",
       "      <td>2.41</td>\n",
       "      <td>1715.57</td>\n",
       "      <td>0.00</td>\n",
       "      <td>0.00</td>\n",
       "      <td>1.67</td>\n",
       "      <td>3.75</td>\n",
       "      <td>2.65</td>\n",
       "      <td>Authoritarian</td>\n",
       "      <td>Africa</td>\n",
       "    </tr>\n",
       "    <tr>\n",
       "      <th>163</th>\n",
       "      <td>Central African Republic</td>\n",
       "      <td>0.38</td>\n",
       "      <td>52.81</td>\n",
       "      <td>7.57</td>\n",
       "      <td>4.28</td>\n",
       "      <td>776.68</td>\n",
       "      <td>2.25</td>\n",
       "      <td>0.00</td>\n",
       "      <td>1.11</td>\n",
       "      <td>1.88</td>\n",
       "      <td>2.35</td>\n",
       "      <td>Authoritarian</td>\n",
       "      <td>Africa</td>\n",
       "    </tr>\n",
       "    <tr>\n",
       "      <th>164</th>\n",
       "      <td>Niger</td>\n",
       "      <td>0.38</td>\n",
       "      <td>62.02</td>\n",
       "      <td>6.47</td>\n",
       "      <td>2.03</td>\n",
       "      <td>912.04</td>\n",
       "      <td>5.25</td>\n",
       "      <td>1.14</td>\n",
       "      <td>3.33</td>\n",
       "      <td>4.38</td>\n",
       "      <td>4.71</td>\n",
       "      <td>Authoritarian</td>\n",
       "      <td>Africa</td>\n",
       "    </tr>\n",
       "    <tr>\n",
       "      <th>165</th>\n",
       "      <td>Korea (Democratic People's Rep. of)</td>\n",
       "      <td>NaN</td>\n",
       "      <td>72.10</td>\n",
       "      <td>10.84</td>\n",
       "      <td>NaN</td>\n",
       "      <td>NaN</td>\n",
       "      <td>0.00</td>\n",
       "      <td>2.50</td>\n",
       "      <td>1.67</td>\n",
       "      <td>1.25</td>\n",
       "      <td>0.00</td>\n",
       "      <td>Authoritarian</td>\n",
       "      <td>Asia</td>\n",
       "    </tr>\n",
       "  </tbody>\n",
       "</table>\n",
       "<p>166 rows × 13 columns</p>\n",
       "</div>"
      ],
      "text/plain": [
       "                                 Country  ...  Continent\n",
       "0                                 Norway  ...     Europe\n",
       "1                            Switzerland  ...     Europe\n",
       "2                                Ireland  ...     Europe\n",
       "3                                Germany  ...     Europe\n",
       "4                 Hong Kong, China (SAR)  ...       Asia\n",
       "..                                   ...  ...        ...\n",
       "161                              Burundi  ...     Africa\n",
       "162                                 Chad  ...     Africa\n",
       "163             Central African Republic  ...     Africa\n",
       "164                                Niger  ...     Africa\n",
       "165  Korea (Democratic People's Rep. of)  ...       Asia\n",
       "\n",
       "[166 rows x 13 columns]"
      ]
     },
     "execution_count": 68,
     "metadata": {
      "tags": []
     },
     "output_type": "execute_result"
    }
   ],
   "source": [
    "hdidem=hdi.merge(demClean)\n",
    "# result:\n",
    "hdidem"
   ]
  },
  {
   "cell_type": "markdown",
   "metadata": {
    "colab_type": "text",
    "id": "OhCXVPHoO5gb"
   },
   "source": [
    "____\n",
    "____\n",
    "\n",
    "\n",
    "### <font color=\"red\">Saving File to Disk</font>"
   ]
  },
  {
   "cell_type": "markdown",
   "metadata": {
    "colab_type": "text",
    "id": "BTgyZOq5O5gb"
   },
   "source": [
    "#### For future use in Python:"
   ]
  },
  {
   "cell_type": "code",
   "execution_count": null,
   "metadata": {
    "colab": {},
    "colab_type": "code",
    "id": "qZ8ly-luO5gc"
   },
   "outputs": [],
   "source": [
    "hdidem.to_pickle(\"hdidemocia.pkl\")\n",
    "# you will need: DF=pd.read_pickle(\"hdidemocia.pkl\")\n",
    "# or:\n",
    "# from urllib.request import urlopen\n",
    "# DF=pd.read_pickle(urlopen(\"https://...../hdidemocia.pkl\"),compression=None)"
   ]
  },
  {
   "cell_type": "markdown",
   "metadata": {
    "colab_type": "text",
    "id": "N_sytY4AO5gd"
   },
   "source": [
    "#### For future  use in R:"
   ]
  },
  {
   "cell_type": "code",
   "execution_count": null,
   "metadata": {
    "colab": {
     "base_uri": "https://localhost:8080/",
     "height": 34
    },
    "colab_type": "code",
    "executionInfo": {
     "elapsed": 1735,
     "status": "ok",
     "timestamp": 1579834376998,
     "user": {
      "displayName": "Jose Manuel Magallanes",
      "photoUrl": "https://lh3.googleusercontent.com/a-/AAuE7mCXsJWaI0Fauk0qdvkv46Br9ZNIbhNI2_qdmZt9=s64",
      "userId": "12963200192719698170"
     },
     "user_tz": 480
    },
    "id": "N90TcDE9O5gd",
    "outputId": "4c03883a-9498-417b-d255-7a3edbdf8f54"
   },
   "outputs": [
    {
     "data": {
      "text/plain": [
       "rpy2.rinterface.NULL"
      ]
     },
     "execution_count": 70,
     "metadata": {
      "tags": []
     },
     "output_type": "execute_result"
    }
   ],
   "source": [
    "from rpy2.robjects import pandas2ri\n",
    "pandas2ri.activate()\n",
    "\n",
    "from rpy2.robjects.packages import importr\n",
    "\n",
    "base = importr('base')\n",
    "base.saveRDS(hdidem,file=\"hdidem.RDS\")\n",
    "\n",
    "#In R, you call it with: DF = readRDS(\"hdidem.RDS\")\n",
    "#or, if iyou read from cloud: DF = readRDS(url(\"https://...../hdidem.RDS\")"
   ]
  },
  {
   "cell_type": "markdown",
   "metadata": {
    "colab_type": "text",
    "id": "HrR4H71lU9pd"
   },
   "source": [
    "Important code to interact with your local machine:"
   ]
  },
  {
   "cell_type": "code",
   "execution_count": null,
   "metadata": {
    "colab": {},
    "colab_type": "code",
    "id": "OtcKOcm8O5gf"
   },
   "outputs": [],
   "source": [
    "from google.colab import files\n",
    "files.download('hdidemocia.pkl')"
   ]
  },
  {
   "cell_type": "code",
   "execution_count": null,
   "metadata": {
    "colab": {},
    "colab_type": "code",
    "id": "p8Kv4Zi-R6X2"
   },
   "outputs": [],
   "source": [
    "files.download('hdidem.RDS')"
   ]
  },
  {
   "cell_type": "code",
   "execution_count": null,
   "metadata": {
    "colab": {},
    "colab_type": "code",
    "id": "xGxC3Cx5SF_V"
   },
   "outputs": [],
   "source": [
    "uploaded = files.upload()"
   ]
  },
  {
   "cell_type": "code",
   "execution_count": null,
   "metadata": {
    "colab": {},
    "colab_type": "code",
    "id": "gsBjhtOjU4J2"
   },
   "outputs": [],
   "source": []
  }
 ],
 "metadata": {
  "colab": {
   "name": "Exercises.ipynb",
   "provenance": []
  },
  "hide_input": false,
  "kernelspec": {
   "display_name": "Python 3",
   "language": "python",
   "name": "python3"
  },
  "language_info": {
   "codemirror_mode": {
    "name": "ipython",
    "version": 3
   },
   "file_extension": ".py",
   "mimetype": "text/x-python",
   "name": "python",
   "nbconvert_exporter": "python",
   "pygments_lexer": "ipython3",
   "version": "3.7.2"
  }
 },
 "nbformat": 4,
 "nbformat_minor": 2
}
