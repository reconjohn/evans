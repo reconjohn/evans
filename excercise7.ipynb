{
 "cells": [
  {
   "cell_type": "markdown",
   "metadata": {},
   "source": [
    "* Since there are rows that needs to be removed, picking up only data part from the dataframe and making objects with the picked data (there are 5 data sets, \"very high\", \"high\", \"medium\", \"low\", and \"other\")\n",
    "* Remove the unnecessary columns\n",
    "* Since the header has three rows, it is necessary to join them all into one row\n",
    "* Make another object having the joined header\n",
    "* Combine the header and data\n",
    "* Reset the index "
   ]
  },
  {
   "cell_type": "code",
   "execution_count": null,
   "metadata": {},
   "outputs": [],
   "source": []
  }
 ],
 "metadata": {
  "kernelspec": {
   "display_name": "Python 3",
   "language": "python",
   "name": "python3"
  },
  "language_info": {
   "codemirror_mode": {
    "name": "ipython",
    "version": 3
   },
   "file_extension": ".py",
   "mimetype": "text/x-python",
   "name": "python",
   "nbconvert_exporter": "python",
   "pygments_lexer": "ipython3",
   "version": "3.7.2"
  }
 },
 "nbformat": 4,
 "nbformat_minor": 2
}
