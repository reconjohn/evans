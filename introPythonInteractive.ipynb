{
 "cells": [
  {
   "cell_type": "markdown",
   "metadata": {
    "colab_type": "text",
    "id": "wrqlp71rtWgf"
   },
   "source": [
    "<br> \n",
    "<center><img src=\"https://i.imgur.com/hkb7Bq7.png\" width=\"500\"></center>\n",
    "\n",
    "\n",
    "### Prof. José Manuel Magallanes, PhD\n",
    "\n",
    "* Associate Professor, Departamento de Ciencias Sociales, Pontificia Universidad Católica del Perú, [jmagallanes@pucp.edu.pe](mailto:jmagallanes@pucp.edu.pe)\n",
    "\n",
    "* Visiting Associate Professor, Evans School of Public Policy and Governance / Senior Data Science Fellow, eScience Institute, University of Washington, [magajm@uw.edu](mailto:magajm@uw.edu)\n",
    "_____\n",
    "\n",
    "_____"
   ]
  },
  {
   "cell_type": "markdown",
   "metadata": {
    "colab_type": "text",
    "id": "Bb5P9oBJtWgi"
   },
   "source": [
    "\n",
    "# Session 1: Introduction to Python"
   ]
  },
  {
   "cell_type": "markdown",
   "metadata": {
    "colab_type": "text",
    "id": "u87DCtFrtWgj"
   },
   "source": [
    "# 1.  Data Structures"
   ]
  },
  {
   "cell_type": "markdown",
   "metadata": {
    "colab_type": "text",
    "id": "Hw3Ii-nNtWgk"
   },
   "source": [
    "Python has basic native structures, like lists, tuples and dictionaries."
   ]
  },
  {
   "cell_type": "markdown",
   "metadata": {
    "colab_type": "text",
    "id": "TAPIk0H0tWgl"
   },
   "source": [
    "## A.  **LISTS** \n",
    "\n",
    "Lists are the most flexible structure to save or contain data elements."
   ]
  },
  {
   "cell_type": "code",
   "execution_count": 2,
   "metadata": {
    "colab": {},
    "colab_type": "code",
    "id": "GHJeUsWetWgm"
   },
   "outputs": [],
   "source": [
    "names=[\"Qing\", \"Françoise\", \"Raúl\", \"Bjork\",\"Marie\"]\n",
    "ages=[32,33,28,30,29]\n",
    "country=[\"China\", \"Senegal\", \"España\", \"Norway\",\"Korea\"]\n",
    "education=[\"Bach\", \"Bach\", \"Master\", \"PhD\",\"PhD\"]"
   ]
  },
  {
   "cell_type": "markdown",
   "metadata": {
    "colab_type": "text",
    "id": "vedwE_sAtWgq"
   },
   "source": [
    "Above we have created some lists. Lists can contain any values. Lists support different operations:"
   ]
  },
  {
   "cell_type": "markdown",
   "metadata": {
    "colab_type": "text",
    "id": "_y7hce_8tWgr"
   },
   "source": [
    "* **Accessing**:\n",
    "\n",
    "Keep in mind the positions in Python start in **0**."
   ]
  },
  {
   "cell_type": "code",
   "execution_count": 3,
   "metadata": {
    "colab": {
     "base_uri": "https://localhost:8080/",
     "height": 35
    },
    "colab_type": "code",
    "executionInfo": {
     "elapsed": 525,
     "status": "ok",
     "timestamp": 1579889461578,
     "user": {
      "displayName": "Jose Manuel Magallanes",
      "photoUrl": "https://lh3.googleusercontent.com/a-/AAuE7mCXsJWaI0Fauk0qdvkv46Br9ZNIbhNI2_qdmZt9=s64",
      "userId": "12963200192719698170"
     },
     "user_tz": 480
    },
    "id": "Hp4CogsCtWgr",
    "outputId": "b4c1f454-4366-42f5-9273-22f3650c6d2e"
   },
   "outputs": [
    {
     "data": {
      "text/plain": [
       "29"
      ]
     },
     "execution_count": 3,
     "metadata": {},
     "output_type": "execute_result"
    }
   ],
   "source": [
    "# one element\n",
    "ages[-1]"
   ]
  },
  {
   "cell_type": "code",
   "execution_count": 4,
   "metadata": {
    "colab": {
     "base_uri": "https://localhost:8080/",
     "height": 35
    },
    "colab_type": "code",
    "executionInfo": {
     "elapsed": 562,
     "status": "ok",
     "timestamp": 1579889483806,
     "user": {
      "displayName": "Jose Manuel Magallanes",
      "photoUrl": "https://lh3.googleusercontent.com/a-/AAuE7mCXsJWaI0Fauk0qdvkv46Br9ZNIbhNI2_qdmZt9=s64",
      "userId": "12963200192719698170"
     },
     "user_tz": 480
    },
    "id": "pa7c_1M1tWgv",
    "outputId": "9ba4d0eb-203a-484b-ffd2-316ff8394693"
   },
   "outputs": [
    {
     "data": {
      "text/plain": [
       "[33, 28, 30, 29]"
      ]
     },
     "execution_count": 4,
     "metadata": {},
     "output_type": "execute_result"
    }
   ],
   "source": [
    "# several, using slices:\n",
    "ages[1::] #second to before last"
   ]
  },
  {
   "cell_type": "code",
   "execution_count": 5,
   "metadata": {
    "colab": {
     "base_uri": "https://localhost:8080/",
     "height": 35
    },
    "colab_type": "code",
    "executionInfo": {
     "elapsed": 776,
     "status": "ok",
     "timestamp": 1579889298396,
     "user": {
      "displayName": "Jose Manuel Magallanes",
      "photoUrl": "https://lh3.googleusercontent.com/a-/AAuE7mCXsJWaI0Fauk0qdvkv46Br9ZNIbhNI2_qdmZt9=s64",
      "userId": "12963200192719698170"
     },
     "user_tz": 480
    },
    "id": "9zWFntm5tWgy",
    "outputId": "b2c600f4-7b0a-4ba8-ad29-87d8a5c9d70d"
   },
   "outputs": [
    {
     "data": {
      "text/plain": [
       "[32, 33, 28]"
      ]
     },
     "execution_count": 5,
     "metadata": {},
     "output_type": "execute_result"
    }
   ],
   "source": [
    "# several, using slices:\n",
    "ages[:-2] #all but two last ones"
   ]
  },
  {
   "cell_type": "code",
   "execution_count": 6,
   "metadata": {
    "colab": {
     "base_uri": "https://localhost:8080/",
     "height": 35
    },
    "colab_type": "code",
    "executionInfo": {
     "elapsed": 616,
     "status": "ok",
     "timestamp": 1579889596115,
     "user": {
      "displayName": "Jose Manuel Magallanes",
      "photoUrl": "https://lh3.googleusercontent.com/a-/AAuE7mCXsJWaI0Fauk0qdvkv46Br9ZNIbhNI2_qdmZt9=s64",
      "userId": "12963200192719698170"
     },
     "user_tz": 480
    },
    "id": "p8h88eUjtWg1",
    "outputId": "748eb2cc-ae2f-4208-b04c-08fe5cea634a"
   },
   "outputs": [
    {
     "data": {
      "text/plain": [
       "[32, 28, 30]"
      ]
     },
     "execution_count": 6,
     "metadata": {},
     "output_type": "execute_result"
    }
   ],
   "source": [
    "# non consecutive\n",
    "from operator import itemgetter\n",
    "list(itemgetter(0,2,3)(ages))"
   ]
  },
  {
   "cell_type": "code",
   "execution_count": 7,
   "metadata": {
    "colab": {
     "base_uri": "https://localhost:8080/",
     "height": 35
    },
    "colab_type": "code",
    "executionInfo": {
     "elapsed": 718,
     "status": "ok",
     "timestamp": 1579889739119,
     "user": {
      "displayName": "Jose Manuel Magallanes",
      "photoUrl": "https://lh3.googleusercontent.com/a-/AAuE7mCXsJWaI0Fauk0qdvkv46Br9ZNIbhNI2_qdmZt9=s64",
      "userId": "12963200192719698170"
     },
     "user_tz": 480
    },
    "id": "_0W9SiHdtWg4",
    "outputId": "591bc6a0-f4bc-43dc-c801-c34f7ea7aa4e"
   },
   "outputs": [
    {
     "data": {
      "text/plain": [
       "[32, 28, 30]"
      ]
     },
     "execution_count": 7,
     "metadata": {},
     "output_type": "execute_result"
    }
   ],
   "source": [
    "# difficul to understand?\n",
    "ages[0:4:2] + [ages[3]]"
   ]
  },
  {
   "cell_type": "code",
   "execution_count": 13,
   "metadata": {},
   "outputs": [
    {
     "data": {
      "text/plain": [
       "[32, 28]"
      ]
     },
     "execution_count": 13,
     "metadata": {},
     "output_type": "execute_result"
    }
   ],
   "source": [
    "ages[0:4:2]"
   ]
  },
  {
   "cell_type": "markdown",
   "metadata": {
    "colab_type": "text",
    "id": "3HdLpDektWg6"
   },
   "source": [
    "* **Modifying**:"
   ]
  },
  {
   "cell_type": "code",
   "execution_count": 16,
   "metadata": {
    "colab": {
     "base_uri": "https://localhost:8080/",
     "height": 35
    },
    "colab_type": "code",
    "executionInfo": {
     "elapsed": 534,
     "status": "ok",
     "timestamp": 1579890115210,
     "user": {
      "displayName": "Jose Manuel Magallanes",
      "photoUrl": "https://lh3.googleusercontent.com/a-/AAuE7mCXsJWaI0Fauk0qdvkv46Br9ZNIbhNI2_qdmZt9=s64",
      "userId": "12963200192719698170"
     },
     "user_tz": 480
    },
    "id": "Q5mtP1j8tWg7",
    "outputId": "25aff70b-5623-4d20-c549-f7c34dd04627"
   },
   "outputs": [
    {
     "data": {
      "text/plain": [
       "['China', 'Senegal', 'Spain', 'Norway', 'Korea']"
      ]
     },
     "execution_count": 16,
     "metadata": {},
     "output_type": "execute_result"
    }
   ],
   "source": [
    "# by position\n",
    "country[2]=\"Spain\"\n",
    "\n",
    "# list changed:\n",
    "country"
   ]
  },
  {
   "cell_type": "code",
   "execution_count": 17,
   "metadata": {
    "colab": {
     "base_uri": "https://localhost:8080/",
     "height": 35
    },
    "colab_type": "code",
    "executionInfo": {
     "elapsed": 592,
     "status": "ok",
     "timestamp": 1579890448532,
     "user": {
      "displayName": "Jose Manuel Magallanes",
      "photoUrl": "https://lh3.googleusercontent.com/a-/AAuE7mCXsJWaI0Fauk0qdvkv46Br9ZNIbhNI2_qdmZt9=s64",
      "userId": "12963200192719698170"
     },
     "user_tz": 480
    },
    "id": "7-eDE0iStWg_",
    "outputId": "31764999-985c-466a-c9d8-50c66120ef2e"
   },
   "outputs": [
    {
     "data": {
      "text/plain": [
       "['PR China', 'Senegal', 'Spain', 'Norway', 'Korea']"
      ]
     },
     "execution_count": 17,
     "metadata": {},
     "output_type": "execute_result"
    }
   ],
   "source": [
    "# by value\n",
    "country=[\"PR China\" if x == \"China\" else x for x in country]\n",
    "\n",
    "# list changed:\n",
    "country"
   ]
  },
  {
   "cell_type": "markdown",
   "metadata": {
    "colab_type": "text",
    "id": "_CF8wYu0tWhH"
   },
   "source": [
    "* **Deleting**"
   ]
  },
  {
   "cell_type": "code",
   "execution_count": 18,
   "metadata": {
    "colab": {
     "base_uri": "https://localhost:8080/",
     "height": 35
    },
    "colab_type": "code",
    "executionInfo": {
     "elapsed": 808,
     "status": "ok",
     "timestamp": 1579890463953,
     "user": {
      "displayName": "Jose Manuel Magallanes",
      "photoUrl": "https://lh3.googleusercontent.com/a-/AAuE7mCXsJWaI0Fauk0qdvkv46Br9ZNIbhNI2_qdmZt9=s64",
      "userId": "12963200192719698170"
     },
     "user_tz": 480
    },
    "id": "ghWSnmzftWhH",
    "outputId": "470d4af4-e6d2-4d7d-e6e5-45bfc0629c43"
   },
   "outputs": [
    {
     "data": {
      "text/plain": [
       "['PR China', 'Senegal', 'Spain', 'Norway']"
      ]
     },
     "execution_count": 18,
     "metadata": {},
     "output_type": "execute_result"
    }
   ],
   "source": [
    "# by position\n",
    "del country[-1] #last value\n",
    "\n",
    "# list changed:\n",
    "country"
   ]
  },
  {
   "cell_type": "code",
   "execution_count": 19,
   "metadata": {
    "colab": {
     "base_uri": "https://localhost:8080/",
     "height": 35
    },
    "colab_type": "code",
    "executionInfo": {
     "elapsed": 1260,
     "status": "ok",
     "timestamp": 1579890540040,
     "user": {
      "displayName": "Jose Manuel Magallanes",
      "photoUrl": "https://lh3.googleusercontent.com/a-/AAuE7mCXsJWaI0Fauk0qdvkv46Br9ZNIbhNI2_qdmZt9=s64",
      "userId": "12963200192719698170"
     },
     "user_tz": 480
    },
    "id": "nPUBJ-URtWhK",
    "outputId": "00096ec2-6db9-479c-a072-07ac0962030b"
   },
   "outputs": [
    {
     "data": {
      "text/plain": [
       "['Qing', 'Françoise', 'Raúl', 'Bjork']"
      ]
     },
     "execution_count": 19,
     "metadata": {},
     "output_type": "execute_result"
    }
   ],
   "source": [
    "# by position\n",
    "names.pop() #last value by default\n",
    "\n",
    "# list changed:\n",
    "names"
   ]
  },
  {
   "cell_type": "code",
   "execution_count": 20,
   "metadata": {
    "colab": {
     "base_uri": "https://localhost:8080/",
     "height": 35
    },
    "colab_type": "code",
    "executionInfo": {
     "elapsed": 560,
     "status": "ok",
     "timestamp": 1579890662725,
     "user": {
      "displayName": "Jose Manuel Magallanes",
      "photoUrl": "https://lh3.googleusercontent.com/a-/AAuE7mCXsJWaI0Fauk0qdvkv46Br9ZNIbhNI2_qdmZt9=s64",
      "userId": "12963200192719698170"
     },
     "user_tz": 480
    },
    "id": "EVla5Ov2tWhM",
    "outputId": "abe68d5e-9d72-463c-d22c-ffd4148aef06"
   },
   "outputs": [
    {
     "data": {
      "text/plain": [
       "[1, 4, 5, 6]"
      ]
     },
     "execution_count": 20,
     "metadata": {},
     "output_type": "execute_result"
    }
   ],
   "source": [
    "# only 'del' works for several positions\n",
    "\n",
    "lista=[1,2,3,4,5,6]\n",
    "del lista[1:3]\n",
    "\n",
    "#now:\n",
    "lista"
   ]
  },
  {
   "cell_type": "code",
   "execution_count": 21,
   "metadata": {
    "colab": {
     "base_uri": "https://localhost:8080/",
     "height": 35
    },
    "colab_type": "code",
    "executionInfo": {
     "elapsed": 539,
     "status": "ok",
     "timestamp": 1579890704221,
     "user": {
      "displayName": "Jose Manuel Magallanes",
      "photoUrl": "https://lh3.googleusercontent.com/a-/AAuE7mCXsJWaI0Fauk0qdvkv46Br9ZNIbhNI2_qdmZt9=s64",
      "userId": "12963200192719698170"
     },
     "user_tz": 480
    },
    "id": "kQCwXCw3tWhO",
    "outputId": "4247bdbe-14a0-4a09-e845-2704781d9291"
   },
   "outputs": [
    {
     "name": "stdout",
     "output_type": "stream",
     "text": [
      "[32, 33, 28, 30, 29]\n"
     ]
    },
    {
     "data": {
      "text/plain": [
       "[32, 33, 28, 30]"
      ]
     },
     "execution_count": 21,
     "metadata": {},
     "output_type": "execute_result"
    }
   ],
   "source": [
    "# by value\n",
    "print(ages)\n",
    "ages.remove(29) \n",
    "\n",
    "# list changed:\n",
    "ages # just first ocurrence of value!!"
   ]
  },
  {
   "cell_type": "code",
   "execution_count": 22,
   "metadata": {
    "colab": {
     "base_uri": "https://localhost:8080/",
     "height": 35
    },
    "colab_type": "code",
    "executionInfo": {
     "elapsed": 623,
     "status": "ok",
     "timestamp": 1579890730518,
     "user": {
      "displayName": "Jose Manuel Magallanes",
      "photoUrl": "https://lh3.googleusercontent.com/a-/AAuE7mCXsJWaI0Fauk0qdvkv46Br9ZNIbhNI2_qdmZt9=s64",
      "userId": "12963200192719698170"
     },
     "user_tz": 480
    },
    "id": "LIw6gKV7tWhR",
    "outputId": "15850a47-ddab-4a10-ad32-a3e3ea5eccdf"
   },
   "outputs": [
    {
     "name": "stdout",
     "output_type": "stream",
     "text": [
      "['Bach', 'Bach', 'Master', 'PhD', 'PhD']\n"
     ]
    },
    {
     "data": {
      "text/plain": [
       "['Bach', 'Bach', 'Master', 'PhD']"
      ]
     },
     "execution_count": 22,
     "metadata": {},
     "output_type": "execute_result"
    }
   ],
   "source": [
    "# by value\n",
    "print(education)\n",
    "education.remove('PhD') \n",
    "\n",
    "# list changed:\n",
    "education # just first ocurrence!!"
   ]
  },
  {
   "cell_type": "code",
   "execution_count": 23,
   "metadata": {
    "colab": {
     "base_uri": "https://localhost:8080/",
     "height": 35
    },
    "colab_type": "code",
    "executionInfo": {
     "elapsed": 716,
     "status": "ok",
     "timestamp": 1579891022460,
     "user": {
      "displayName": "Jose Manuel Magallanes",
      "photoUrl": "https://lh3.googleusercontent.com/a-/AAuE7mCXsJWaI0Fauk0qdvkv46Br9ZNIbhNI2_qdmZt9=s64",
      "userId": "12963200192719698170"
     },
     "user_tz": 480
    },
    "id": "GUi3v8hqtWhU",
    "outputId": "619dcef3-6712-4b4e-a15d-64f04e99f911"
   },
   "outputs": [
    {
     "data": {
      "text/plain": [
       "[1, 45, 'b']"
      ]
     },
     "execution_count": 23,
     "metadata": {},
     "output_type": "execute_result"
    }
   ],
   "source": [
    "# deleting every  value:\n",
    "\n",
    "lista=[1,'a',45,'b','a']\n",
    "lista=[x for x in lista if x!='a']\n",
    "\n",
    "# you get:\n",
    "lista"
   ]
  },
  {
   "cell_type": "markdown",
   "metadata": {
    "colab_type": "text",
    "id": "JzcKbpXptWhX"
   },
   "source": [
    "* **Inserting values**"
   ]
  },
  {
   "cell_type": "code",
   "execution_count": 24,
   "metadata": {
    "colab": {
     "base_uri": "https://localhost:8080/",
     "height": 35
    },
    "colab_type": "code",
    "executionInfo": {
     "elapsed": 523,
     "status": "ok",
     "timestamp": 1579891291463,
     "user": {
      "displayName": "Jose Manuel Magallanes",
      "photoUrl": "https://lh3.googleusercontent.com/a-/AAuE7mCXsJWaI0Fauk0qdvkv46Br9ZNIbhNI2_qdmZt9=s64",
      "userId": "12963200192719698170"
     },
     "user_tz": 480
    },
    "id": "or5OmtestWhY",
    "outputId": "8163b5f0-b473-4dcc-dab6-4c702b5c4bc0"
   },
   "outputs": [
    {
     "data": {
      "text/plain": [
       "[1, 45, 'b', 'abc']"
      ]
     },
     "execution_count": 24,
     "metadata": {},
     "output_type": "execute_result"
    }
   ],
   "source": [
    "# at the end\n",
    "lista.append(\"abc\")\n",
    "lista"
   ]
  },
  {
   "cell_type": "code",
   "execution_count": 25,
   "metadata": {
    "colab": {
     "base_uri": "https://localhost:8080/",
     "height": 35
    },
    "colab_type": "code",
    "executionInfo": {
     "elapsed": 701,
     "status": "ok",
     "timestamp": 1579891335524,
     "user": {
      "displayName": "Jose Manuel Magallanes",
      "photoUrl": "https://lh3.googleusercontent.com/a-/AAuE7mCXsJWaI0Fauk0qdvkv46Br9ZNIbhNI2_qdmZt9=s64",
      "userId": "12963200192719698170"
     },
     "user_tz": 480
    },
    "id": "4KacegIntWha",
    "outputId": "bba1d440-d86c-422f-c450-5e796134846e"
   },
   "outputs": [
    {
     "name": "stdout",
     "output_type": "stream",
     "text": [
      "['Bach', 'Bach', 'Master', 'PhD']\n"
     ]
    },
    {
     "data": {
      "text/plain": [
       "['Bach', 'Bach', 'PhD']"
      ]
     },
     "execution_count": 25,
     "metadata": {},
     "output_type": "execute_result"
    }
   ],
   "source": [
    "# PART ONE:\n",
    "# first delete a position\n",
    "print(education)\n",
    "education.pop(2)\n",
    "education"
   ]
  },
  {
   "cell_type": "code",
   "execution_count": 26,
   "metadata": {
    "colab": {
     "base_uri": "https://localhost:8080/",
     "height": 35
    },
    "colab_type": "code",
    "executionInfo": {
     "elapsed": 765,
     "status": "ok",
     "timestamp": 1579891339947,
     "user": {
      "displayName": "Jose Manuel Magallanes",
      "photoUrl": "https://lh3.googleusercontent.com/a-/AAuE7mCXsJWaI0Fauk0qdvkv46Br9ZNIbhNI2_qdmZt9=s64",
      "userId": "12963200192719698170"
     },
     "user_tz": 480
    },
    "id": "2B4JkCMotWhd",
    "outputId": "0b8b032c-bc70-4449-cb58-6eb44148522c"
   },
   "outputs": [
    {
     "data": {
      "text/plain": [
       "['Bach', 'Bach', 'Master', 'PhD']"
      ]
     },
     "execution_count": 26,
     "metadata": {},
     "output_type": "execute_result"
    }
   ],
   "source": [
    "# PART TWO:\n",
    "# now insert in that position\n",
    "education.insert(2,\"Master\")\n",
    "education"
   ]
  },
  {
   "cell_type": "markdown",
   "metadata": {
    "colab_type": "text",
    "id": "6TqYtxaftWhf"
   },
   "source": [
    "## B.  **TUPLES**\n",
    "\n",
    "Tuples are inmutable structures in Python, they look like lists but do not share much of their functionality:"
   ]
  },
  {
   "cell_type": "code",
   "execution_count": 27,
   "metadata": {
    "colab": {},
    "colab_type": "code",
    "id": "xcBxNtLDtWhg"
   },
   "outputs": [],
   "source": [
    "# new list:\n",
    "weekend=\"Friday\", \"Saturday\", \"Sunday\""
   ]
  },
  {
   "cell_type": "markdown",
   "metadata": {
    "colab_type": "text",
    "id": "ii6lRXlZtWhj"
   },
   "source": [
    "You can access:"
   ]
  },
  {
   "cell_type": "code",
   "execution_count": 29,
   "metadata": {
    "colab": {
     "base_uri": "https://localhost:8080/",
     "height": 35
    },
    "colab_type": "code",
    "executionInfo": {
     "elapsed": 568,
     "status": "ok",
     "timestamp": 1579891542304,
     "user": {
      "displayName": "Jose Manuel Magallanes",
      "photoUrl": "https://lh3.googleusercontent.com/a-/AAuE7mCXsJWaI0Fauk0qdvkv46Br9ZNIbhNI2_qdmZt9=s64",
      "userId": "12963200192719698170"
     },
     "user_tz": 480
    },
    "id": "QtVsil3CtWhj",
    "outputId": "ef67d684-8a5b-4767-8826-b67561262e1a"
   },
   "outputs": [
    {
     "name": "stdout",
     "output_type": "stream",
     "text": [
      "('Friday', 'Saturday', 'Sunday')\n"
     ]
    },
    {
     "data": {
      "text/plain": [
       "'Friday'"
      ]
     },
     "execution_count": 29,
     "metadata": {},
     "output_type": "execute_result"
    }
   ],
   "source": [
    "print(weekend)\n",
    "weekend[0]"
   ]
  },
  {
   "cell_type": "markdown",
   "metadata": {
    "colab_type": "text",
    "id": "9VyDiWG0tWhn"
   },
   "source": [
    "But no other operation is allowed."
   ]
  },
  {
   "cell_type": "markdown",
   "metadata": {
    "colab_type": "text",
    "id": "ke9n1ohXtWho"
   },
   "source": [
    "Python itself uses tuples as output of some important functions:"
   ]
  },
  {
   "cell_type": "code",
   "execution_count": 30,
   "metadata": {
    "colab": {
     "base_uri": "https://localhost:8080/",
     "height": 35
    },
    "colab_type": "code",
    "executionInfo": {
     "elapsed": 510,
     "status": "ok",
     "timestamp": 1579891597779,
     "user": {
      "displayName": "Jose Manuel Magallanes",
      "photoUrl": "https://lh3.googleusercontent.com/a-/AAuE7mCXsJWaI0Fauk0qdvkv46Br9ZNIbhNI2_qdmZt9=s64",
      "userId": "12963200192719698170"
     },
     "user_tz": 480
    },
    "id": "C3hV0krUtWhp",
    "outputId": "6a5c73e9-e8ff-4498-c6ec-42e98ac2883e"
   },
   "outputs": [
    {
     "data": {
      "text/plain": [
       "<zip at 0x199e1f92b08>"
      ]
     },
     "execution_count": 30,
     "metadata": {},
     "output_type": "execute_result"
    }
   ],
   "source": [
    "zip(names,ages)"
   ]
  },
  {
   "cell_type": "markdown",
   "metadata": {
    "colab_type": "text",
    "id": "H_pYMRZ9tWhr"
   },
   "source": [
    "The **zip** functions creates tuples, by combining in parallel. You can see it if you turn the result into a list:"
   ]
  },
  {
   "cell_type": "code",
   "execution_count": 31,
   "metadata": {
    "colab": {
     "base_uri": "https://localhost:8080/",
     "height": 35
    },
    "colab_type": "code",
    "executionInfo": {
     "elapsed": 660,
     "status": "ok",
     "timestamp": 1579891668982,
     "user": {
      "displayName": "Jose Manuel Magallanes",
      "photoUrl": "https://lh3.googleusercontent.com/a-/AAuE7mCXsJWaI0Fauk0qdvkv46Br9ZNIbhNI2_qdmZt9=s64",
      "userId": "12963200192719698170"
     },
     "user_tz": 480
    },
    "id": "jnonV5XStWhs",
    "outputId": "ed4bb1d3-d970-4797-808a-e233bcbe0449"
   },
   "outputs": [
    {
     "data": {
      "text/plain": [
       "[('Qing', 32), ('Françoise', 33), ('Raúl', 28), ('Bjork', 30)]"
      ]
     },
     "execution_count": 31,
     "metadata": {},
     "output_type": "execute_result"
    }
   ],
   "source": [
    "list(zip(names,ages))  # a list of tuples"
   ]
  },
  {
   "cell_type": "markdown",
   "metadata": {
    "colab_type": "text",
    "id": "OkEAWa_OtWhu"
   },
   "source": [
    "## C. **DICTIONARIES**  \n",
    "\n",
    "*Dicts* work in a more sophisticated way, as they have a **'key'**:**'value'** structure:"
   ]
  },
  {
   "cell_type": "code",
   "execution_count": 32,
   "metadata": {
    "colab": {
     "base_uri": "https://localhost:8080/",
     "height": 69
    },
    "colab_type": "code",
    "executionInfo": {
     "elapsed": 1264,
     "status": "ok",
     "timestamp": 1579891904143,
     "user": {
      "displayName": "Jose Manuel Magallanes",
      "photoUrl": "https://lh3.googleusercontent.com/a-/AAuE7mCXsJWaI0Fauk0qdvkv46Br9ZNIbhNI2_qdmZt9=s64",
      "userId": "12963200192719698170"
     },
     "user_tz": 480
    },
    "id": "dYdelN2ItWhv",
    "outputId": "8a257fec-fcee-434a-b216-087bc6f835fc"
   },
   "outputs": [
    {
     "data": {
      "text/plain": [
       "{'student': ['Qing', 'Françoise', 'Raúl', 'Bjork'],\n",
       " 'age': [32, 33, 28, 30],\n",
       " 'edu': ['Bach', 'Bach', 'Master', 'PhD']}"
      ]
     },
     "execution_count": 32,
     "metadata": {},
     "output_type": "execute_result"
    }
   ],
   "source": [
    "classroom={'student':names,'age':ages,'edu':education}\n",
    "# see it:\n",
    "\n",
    "classroom"
   ]
  },
  {
   "cell_type": "markdown",
   "metadata": {
    "colab_type": "text",
    "id": "q2U3mQdgtWhx"
   },
   "source": [
    "Dicts do not use indexes to access values:"
   ]
  },
  {
   "cell_type": "code",
   "execution_count": 33,
   "metadata": {
    "colab": {
     "base_uri": "https://localhost:8080/",
     "height": 167
    },
    "colab_type": "code",
    "executionInfo": {
     "elapsed": 1250,
     "status": "error",
     "timestamp": 1579892412898,
     "user": {
      "displayName": "Jose Manuel Magallanes",
      "photoUrl": "https://lh3.googleusercontent.com/a-/AAuE7mCXsJWaI0Fauk0qdvkv46Br9ZNIbhNI2_qdmZt9=s64",
      "userId": "12963200192719698170"
     },
     "user_tz": 480
    },
    "id": "wvFN0us8tWhy",
    "outputId": "e9aa4b88-584f-4ae9-d0b4-354e42d54d4e"
   },
   "outputs": [
    {
     "ename": "KeyError",
     "evalue": "0",
     "output_type": "error",
     "traceback": [
      "\u001b[1;31m---------------------------------------------------------------------------\u001b[0m",
      "\u001b[1;31mKeyError\u001b[0m                                  Traceback (most recent call last)",
      "\u001b[1;32m<ipython-input-33-7457433b012b>\u001b[0m in \u001b[0;36m<module>\u001b[1;34m()\u001b[0m\n\u001b[1;32m----> 1\u001b[1;33m \u001b[0mclassroom\u001b[0m\u001b[1;33m[\u001b[0m\u001b[1;36m0\u001b[0m\u001b[1;33m]\u001b[0m\u001b[1;33m\u001b[0m\u001b[1;33m\u001b[0m\u001b[0m\n\u001b[0m",
      "\u001b[1;31mKeyError\u001b[0m: 0"
     ]
    }
   ],
   "source": [
    "classroom[0]"
   ]
  },
  {
   "cell_type": "markdown",
   "metadata": {
    "colab_type": "text",
    "id": "uIeWlzr8tWh0"
   },
   "source": [
    "Dicts use keys:"
   ]
  },
  {
   "cell_type": "code",
   "execution_count": 34,
   "metadata": {
    "colab": {
     "base_uri": "https://localhost:8080/",
     "height": 35
    },
    "colab_type": "code",
    "executionInfo": {
     "elapsed": 763,
     "status": "ok",
     "timestamp": 1579892151014,
     "user": {
      "displayName": "Jose Manuel Magallanes",
      "photoUrl": "https://lh3.googleusercontent.com/a-/AAuE7mCXsJWaI0Fauk0qdvkv46Br9ZNIbhNI2_qdmZt9=s64",
      "userId": "12963200192719698170"
     },
     "user_tz": 480
    },
    "id": "cmxEJ5ertWh1",
    "outputId": "be20882b-6d57-4e95-c5f1-92e8bd8f4555"
   },
   "outputs": [
    {
     "data": {
      "text/plain": [
       "['Qing', 'Françoise', 'Raúl', 'Bjork']"
      ]
     },
     "execution_count": 34,
     "metadata": {},
     "output_type": "execute_result"
    }
   ],
   "source": [
    "classroom['student']"
   ]
  },
  {
   "cell_type": "markdown",
   "metadata": {
    "colab_type": "text",
    "id": "bB15jDQ_tWh4"
   },
   "source": [
    "Notice I created a dictionary where the value is not ONE but a LIST of values."
   ]
  },
  {
   "cell_type": "markdown",
   "metadata": {
    "colab_type": "text",
    "id": "J2p1UJTatWh8"
   },
   "source": [
    "Once you access a value, you can modify it. You can also use _pop_ or _del_ using the **keys**. But you can not use _append_ to add an element, you need **update**:"
   ]
  },
  {
   "cell_type": "code",
   "execution_count": 35,
   "metadata": {
    "colab": {
     "base_uri": "https://localhost:8080/",
     "height": 87
    },
    "colab_type": "code",
    "executionInfo": {
     "elapsed": 1232,
     "status": "ok",
     "timestamp": 1579891989005,
     "user": {
      "displayName": "Jose Manuel Magallanes",
      "photoUrl": "https://lh3.googleusercontent.com/a-/AAuE7mCXsJWaI0Fauk0qdvkv46Br9ZNIbhNI2_qdmZt9=s64",
      "userId": "12963200192719698170"
     },
     "user_tz": 480
    },
    "id": "9P2SbDimtWh9",
    "outputId": "5e5685dd-b984-42c3-a136-d8a7a751c1d5"
   },
   "outputs": [
    {
     "data": {
      "text/plain": [
       "{'student': ['Qing', 'Françoise', 'Raúl', 'Bjork'],\n",
       " 'age': [32, 33, 28, 30],\n",
       " 'edu': ['Bach', 'Bach', 'Master', 'PhD'],\n",
       " 'country': ['PR China', 'Senegal', 'Spain', 'Norway']}"
      ]
     },
     "execution_count": 35,
     "metadata": {},
     "output_type": "execute_result"
    }
   ],
   "source": [
    "classroom.update({'country':country})\n",
    "# now:\n",
    "classroom"
   ]
  },
  {
   "cell_type": "markdown",
   "metadata": {
    "colab_type": "text",
    "id": "ymPHFNEttWh_"
   },
   "source": [
    "## D. DATA FRAMES"
   ]
  },
  {
   "cell_type": "markdown",
   "metadata": {
    "colab_type": "text",
    "id": "lAgZDJ0FtWiB"
   },
   "source": [
    "**Data frames**  are more complex containers of values. The most common analogy is a spreadsheet. To create a data frame, we need to call **pandas**:"
   ]
  },
  {
   "cell_type": "code",
   "execution_count": 36,
   "metadata": {
    "colab": {},
    "colab_type": "code",
    "id": "bBT7Zz7NtWiB"
   },
   "outputs": [],
   "source": [
    "import pandas"
   ]
  },
  {
   "cell_type": "markdown",
   "metadata": {
    "colab_type": "text",
    "id": "SU8vR2B-tWiE"
   },
   "source": [
    "We can prepare a data frame from a dictionary immediately, but ONLY if you have the same amount of elements in each list representing a column."
   ]
  },
  {
   "cell_type": "code",
   "execution_count": 37,
   "metadata": {
    "colab": {
     "base_uri": "https://localhost:8080/",
     "height": 171
    },
    "colab_type": "code",
    "executionInfo": {
     "elapsed": 559,
     "status": "ok",
     "timestamp": 1579892561603,
     "user": {
      "displayName": "Jose Manuel Magallanes",
      "photoUrl": "https://lh3.googleusercontent.com/a-/AAuE7mCXsJWaI0Fauk0qdvkv46Br9ZNIbhNI2_qdmZt9=s64",
      "userId": "12963200192719698170"
     },
     "user_tz": 480
    },
    "id": "I0OLw2KZtWiE",
    "outputId": "d81cfd8a-0d1c-4d73-a928-6086e35ec875"
   },
   "outputs": [
    {
     "data": {
      "text/html": [
       "<div>\n",
       "<style scoped>\n",
       "    .dataframe tbody tr th:only-of-type {\n",
       "        vertical-align: middle;\n",
       "    }\n",
       "\n",
       "    .dataframe tbody tr th {\n",
       "        vertical-align: top;\n",
       "    }\n",
       "\n",
       "    .dataframe thead th {\n",
       "        text-align: right;\n",
       "    }\n",
       "</style>\n",
       "<table border=\"1\" class=\"dataframe\">\n",
       "  <thead>\n",
       "    <tr style=\"text-align: right;\">\n",
       "      <th></th>\n",
       "      <th>student</th>\n",
       "      <th>age</th>\n",
       "      <th>edu</th>\n",
       "      <th>country</th>\n",
       "    </tr>\n",
       "  </thead>\n",
       "  <tbody>\n",
       "    <tr>\n",
       "      <th>0</th>\n",
       "      <td>Qing</td>\n",
       "      <td>32</td>\n",
       "      <td>Bach</td>\n",
       "      <td>PR China</td>\n",
       "    </tr>\n",
       "    <tr>\n",
       "      <th>1</th>\n",
       "      <td>Françoise</td>\n",
       "      <td>33</td>\n",
       "      <td>Bach</td>\n",
       "      <td>Senegal</td>\n",
       "    </tr>\n",
       "    <tr>\n",
       "      <th>2</th>\n",
       "      <td>Raúl</td>\n",
       "      <td>28</td>\n",
       "      <td>Master</td>\n",
       "      <td>Spain</td>\n",
       "    </tr>\n",
       "    <tr>\n",
       "      <th>3</th>\n",
       "      <td>Bjork</td>\n",
       "      <td>30</td>\n",
       "      <td>PhD</td>\n",
       "      <td>Norway</td>\n",
       "    </tr>\n",
       "  </tbody>\n",
       "</table>\n",
       "</div>"
      ],
      "text/plain": [
       "     student  age     edu   country\n",
       "0       Qing   32    Bach  PR China\n",
       "1  Françoise   33    Bach   Senegal\n",
       "2       Raúl   28  Master     Spain\n",
       "3      Bjork   30     PhD    Norway"
      ]
     },
     "execution_count": 37,
     "metadata": {},
     "output_type": "execute_result"
    }
   ],
   "source": [
    "# our data frame:\n",
    "students=pandas.DataFrame(classroom)\n",
    "## see it:\n",
    "students"
   ]
  },
  {
   "cell_type": "markdown",
   "metadata": {
    "colab_type": "text",
    "id": "8okDnNjAtWiG"
   },
   "source": [
    "But, let me update the dictionary with: "
   ]
  },
  {
   "cell_type": "code",
   "execution_count": 38,
   "metadata": {
    "colab": {
     "base_uri": "https://localhost:8080/",
     "height": 87
    },
    "colab_type": "code",
    "executionInfo": {
     "elapsed": 1416,
     "status": "ok",
     "timestamp": 1579892665455,
     "user": {
      "displayName": "Jose Manuel Magallanes",
      "photoUrl": "https://lh3.googleusercontent.com/a-/AAuE7mCXsJWaI0Fauk0qdvkv46Br9ZNIbhNI2_qdmZt9=s64",
      "userId": "12963200192719698170"
     },
     "user_tz": 480
    },
    "id": "oqktPSAbtWiH",
    "outputId": "a416a483-7524-4b02-9ff2-88507e7ee59a"
   },
   "outputs": [
    {
     "data": {
      "text/plain": [
       "{'student': ['Qing', 'Françoise', 'Raúl', 'Bjork', 'Marie'],\n",
       " 'age': [32, 33, 28, 30],\n",
       " 'edu': ['Bach', 'Bach', 'Master', 'PhD'],\n",
       " 'country': ['PR China', 'Senegal', 'Spain', 'Norway']}"
      ]
     },
     "execution_count": 38,
     "metadata": {},
     "output_type": "execute_result"
    }
   ],
   "source": [
    "names=[\"Qing\", \"Françoise\", \"Raúl\", \"Bjork\",\"Marie\"]\n",
    "#\n",
    "classroom.update({'student':names})\n",
    "#\n",
    "classroom"
   ]
  },
  {
   "cell_type": "markdown",
   "metadata": {
    "colab_type": "text",
    "id": "nzswy2L-tWiJ"
   },
   "source": [
    "We have five students, but only data for four of them. Then this does not work:"
   ]
  },
  {
   "cell_type": "code",
   "execution_count": 39,
   "metadata": {
    "colab": {
     "base_uri": "https://localhost:8080/",
     "height": 312
    },
    "colab_type": "code",
    "executionInfo": {
     "elapsed": 1204,
     "status": "error",
     "timestamp": 1579892718773,
     "user": {
      "displayName": "Jose Manuel Magallanes",
      "photoUrl": "https://lh3.googleusercontent.com/a-/AAuE7mCXsJWaI0Fauk0qdvkv46Br9ZNIbhNI2_qdmZt9=s64",
      "userId": "12963200192719698170"
     },
     "user_tz": 480
    },
    "id": "t2gKd3ABtWiJ",
    "outputId": "026a2111-213f-4ac8-9cb0-fd885d87eb5b"
   },
   "outputs": [
    {
     "ename": "ValueError",
     "evalue": "arrays must all be same length",
     "output_type": "error",
     "traceback": [
      "\u001b[1;31m---------------------------------------------------------------------------\u001b[0m",
      "\u001b[1;31mValueError\u001b[0m                                Traceback (most recent call last)",
      "\u001b[1;32m<ipython-input-39-742ac7948f6c>\u001b[0m in \u001b[0;36m<module>\u001b[1;34m()\u001b[0m\n\u001b[1;32m----> 1\u001b[1;33m \u001b[0mpandas\u001b[0m\u001b[1;33m.\u001b[0m\u001b[0mDataFrame\u001b[0m\u001b[1;33m(\u001b[0m\u001b[0mclassroom\u001b[0m\u001b[1;33m)\u001b[0m\u001b[1;33m\u001b[0m\u001b[1;33m\u001b[0m\u001b[0m\n\u001b[0m",
      "\u001b[1;32m~\\Anaconda3\\lib\\site-packages\\pandas\\core\\frame.py\u001b[0m in \u001b[0;36m__init__\u001b[1;34m(self, data, index, columns, dtype, copy)\u001b[0m\n\u001b[0;32m    409\u001b[0m             )\n\u001b[0;32m    410\u001b[0m         \u001b[1;32melif\u001b[0m \u001b[0misinstance\u001b[0m\u001b[1;33m(\u001b[0m\u001b[0mdata\u001b[0m\u001b[1;33m,\u001b[0m \u001b[0mdict\u001b[0m\u001b[1;33m)\u001b[0m\u001b[1;33m:\u001b[0m\u001b[1;33m\u001b[0m\u001b[1;33m\u001b[0m\u001b[0m\n\u001b[1;32m--> 411\u001b[1;33m             \u001b[0mmgr\u001b[0m \u001b[1;33m=\u001b[0m \u001b[0minit_dict\u001b[0m\u001b[1;33m(\u001b[0m\u001b[0mdata\u001b[0m\u001b[1;33m,\u001b[0m \u001b[0mindex\u001b[0m\u001b[1;33m,\u001b[0m \u001b[0mcolumns\u001b[0m\u001b[1;33m,\u001b[0m \u001b[0mdtype\u001b[0m\u001b[1;33m=\u001b[0m\u001b[0mdtype\u001b[0m\u001b[1;33m)\u001b[0m\u001b[1;33m\u001b[0m\u001b[1;33m\u001b[0m\u001b[0m\n\u001b[0m\u001b[0;32m    412\u001b[0m         \u001b[1;32melif\u001b[0m \u001b[0misinstance\u001b[0m\u001b[1;33m(\u001b[0m\u001b[0mdata\u001b[0m\u001b[1;33m,\u001b[0m \u001b[0mma\u001b[0m\u001b[1;33m.\u001b[0m\u001b[0mMaskedArray\u001b[0m\u001b[1;33m)\u001b[0m\u001b[1;33m:\u001b[0m\u001b[1;33m\u001b[0m\u001b[1;33m\u001b[0m\u001b[0m\n\u001b[0;32m    413\u001b[0m             \u001b[1;32mimport\u001b[0m \u001b[0mnumpy\u001b[0m\u001b[1;33m.\u001b[0m\u001b[0mma\u001b[0m\u001b[1;33m.\u001b[0m\u001b[0mmrecords\u001b[0m \u001b[1;32mas\u001b[0m \u001b[0mmrecords\u001b[0m\u001b[1;33m\u001b[0m\u001b[1;33m\u001b[0m\u001b[0m\n",
      "\u001b[1;32m~\\Anaconda3\\lib\\site-packages\\pandas\\core\\internals\\construction.py\u001b[0m in \u001b[0;36minit_dict\u001b[1;34m(data, index, columns, dtype)\u001b[0m\n\u001b[0;32m    255\u001b[0m             \u001b[0marr\u001b[0m \u001b[1;32mif\u001b[0m \u001b[1;32mnot\u001b[0m \u001b[0mis_datetime64tz_dtype\u001b[0m\u001b[1;33m(\u001b[0m\u001b[0marr\u001b[0m\u001b[1;33m)\u001b[0m \u001b[1;32melse\u001b[0m \u001b[0marr\u001b[0m\u001b[1;33m.\u001b[0m\u001b[0mcopy\u001b[0m\u001b[1;33m(\u001b[0m\u001b[1;33m)\u001b[0m \u001b[1;32mfor\u001b[0m \u001b[0marr\u001b[0m \u001b[1;32min\u001b[0m \u001b[0marrays\u001b[0m\u001b[1;33m\u001b[0m\u001b[1;33m\u001b[0m\u001b[0m\n\u001b[0;32m    256\u001b[0m         ]\n\u001b[1;32m--> 257\u001b[1;33m     \u001b[1;32mreturn\u001b[0m \u001b[0marrays_to_mgr\u001b[0m\u001b[1;33m(\u001b[0m\u001b[0marrays\u001b[0m\u001b[1;33m,\u001b[0m \u001b[0mdata_names\u001b[0m\u001b[1;33m,\u001b[0m \u001b[0mindex\u001b[0m\u001b[1;33m,\u001b[0m \u001b[0mcolumns\u001b[0m\u001b[1;33m,\u001b[0m \u001b[0mdtype\u001b[0m\u001b[1;33m=\u001b[0m\u001b[0mdtype\u001b[0m\u001b[1;33m)\u001b[0m\u001b[1;33m\u001b[0m\u001b[1;33m\u001b[0m\u001b[0m\n\u001b[0m\u001b[0;32m    258\u001b[0m \u001b[1;33m\u001b[0m\u001b[0m\n\u001b[0;32m    259\u001b[0m \u001b[1;33m\u001b[0m\u001b[0m\n",
      "\u001b[1;32m~\\Anaconda3\\lib\\site-packages\\pandas\\core\\internals\\construction.py\u001b[0m in \u001b[0;36marrays_to_mgr\u001b[1;34m(arrays, arr_names, index, columns, dtype)\u001b[0m\n\u001b[0;32m     75\u001b[0m     \u001b[1;31m# figure out the index, if necessary\u001b[0m\u001b[1;33m\u001b[0m\u001b[1;33m\u001b[0m\u001b[1;33m\u001b[0m\u001b[0m\n\u001b[0;32m     76\u001b[0m     \u001b[1;32mif\u001b[0m \u001b[0mindex\u001b[0m \u001b[1;32mis\u001b[0m \u001b[1;32mNone\u001b[0m\u001b[1;33m:\u001b[0m\u001b[1;33m\u001b[0m\u001b[1;33m\u001b[0m\u001b[0m\n\u001b[1;32m---> 77\u001b[1;33m         \u001b[0mindex\u001b[0m \u001b[1;33m=\u001b[0m \u001b[0mextract_index\u001b[0m\u001b[1;33m(\u001b[0m\u001b[0marrays\u001b[0m\u001b[1;33m)\u001b[0m\u001b[1;33m\u001b[0m\u001b[1;33m\u001b[0m\u001b[0m\n\u001b[0m\u001b[0;32m     78\u001b[0m     \u001b[1;32melse\u001b[0m\u001b[1;33m:\u001b[0m\u001b[1;33m\u001b[0m\u001b[1;33m\u001b[0m\u001b[0m\n\u001b[0;32m     79\u001b[0m         \u001b[0mindex\u001b[0m \u001b[1;33m=\u001b[0m \u001b[0mensure_index\u001b[0m\u001b[1;33m(\u001b[0m\u001b[0mindex\u001b[0m\u001b[1;33m)\u001b[0m\u001b[1;33m\u001b[0m\u001b[1;33m\u001b[0m\u001b[0m\n",
      "\u001b[1;32m~\\Anaconda3\\lib\\site-packages\\pandas\\core\\internals\\construction.py\u001b[0m in \u001b[0;36mextract_index\u001b[1;34m(data)\u001b[0m\n\u001b[0;32m    366\u001b[0m             \u001b[0mlengths\u001b[0m \u001b[1;33m=\u001b[0m \u001b[0mlist\u001b[0m\u001b[1;33m(\u001b[0m\u001b[0mset\u001b[0m\u001b[1;33m(\u001b[0m\u001b[0mraw_lengths\u001b[0m\u001b[1;33m)\u001b[0m\u001b[1;33m)\u001b[0m\u001b[1;33m\u001b[0m\u001b[1;33m\u001b[0m\u001b[0m\n\u001b[0;32m    367\u001b[0m             \u001b[1;32mif\u001b[0m \u001b[0mlen\u001b[0m\u001b[1;33m(\u001b[0m\u001b[0mlengths\u001b[0m\u001b[1;33m)\u001b[0m \u001b[1;33m>\u001b[0m \u001b[1;36m1\u001b[0m\u001b[1;33m:\u001b[0m\u001b[1;33m\u001b[0m\u001b[1;33m\u001b[0m\u001b[0m\n\u001b[1;32m--> 368\u001b[1;33m                 \u001b[1;32mraise\u001b[0m \u001b[0mValueError\u001b[0m\u001b[1;33m(\u001b[0m\u001b[1;34m\"arrays must all be same length\"\u001b[0m\u001b[1;33m)\u001b[0m\u001b[1;33m\u001b[0m\u001b[1;33m\u001b[0m\u001b[0m\n\u001b[0m\u001b[0;32m    369\u001b[0m \u001b[1;33m\u001b[0m\u001b[0m\n\u001b[0;32m    370\u001b[0m             \u001b[1;32mif\u001b[0m \u001b[0mhave_dicts\u001b[0m\u001b[1;33m:\u001b[0m\u001b[1;33m\u001b[0m\u001b[1;33m\u001b[0m\u001b[0m\n",
      "\u001b[1;31mValueError\u001b[0m: arrays must all be same length"
     ]
    }
   ],
   "source": [
    "pandas.DataFrame(classroom)"
   ]
  },
  {
   "cell_type": "markdown",
   "metadata": {
    "colab_type": "text",
    "id": "iikHbXq8tWiM"
   },
   "source": [
    "In that case, you need this:"
   ]
  },
  {
   "cell_type": "code",
   "execution_count": 40,
   "metadata": {
    "colab": {
     "base_uri": "https://localhost:8080/",
     "height": 202
    },
    "colab_type": "code",
    "executionInfo": {
     "elapsed": 768,
     "status": "ok",
     "timestamp": 1579892835200,
     "user": {
      "displayName": "Jose Manuel Magallanes",
      "photoUrl": "https://lh3.googleusercontent.com/a-/AAuE7mCXsJWaI0Fauk0qdvkv46Br9ZNIbhNI2_qdmZt9=s64",
      "userId": "12963200192719698170"
     },
     "user_tz": 480
    },
    "id": "Edrmaq98tWiN",
    "outputId": "df4bcac3-84e7-4ce6-da92-c4fd3daa9259"
   },
   "outputs": [
    {
     "data": {
      "text/html": [
       "<div>\n",
       "<style scoped>\n",
       "    .dataframe tbody tr th:only-of-type {\n",
       "        vertical-align: middle;\n",
       "    }\n",
       "\n",
       "    .dataframe tbody tr th {\n",
       "        vertical-align: top;\n",
       "    }\n",
       "\n",
       "    .dataframe thead th {\n",
       "        text-align: right;\n",
       "    }\n",
       "</style>\n",
       "<table border=\"1\" class=\"dataframe\">\n",
       "  <thead>\n",
       "    <tr style=\"text-align: right;\">\n",
       "      <th></th>\n",
       "      <th>student</th>\n",
       "      <th>age</th>\n",
       "      <th>edu</th>\n",
       "      <th>country</th>\n",
       "    </tr>\n",
       "  </thead>\n",
       "  <tbody>\n",
       "    <tr>\n",
       "      <th>0</th>\n",
       "      <td>Qing</td>\n",
       "      <td>32.0</td>\n",
       "      <td>Bach</td>\n",
       "      <td>PR China</td>\n",
       "    </tr>\n",
       "    <tr>\n",
       "      <th>1</th>\n",
       "      <td>Françoise</td>\n",
       "      <td>33.0</td>\n",
       "      <td>Bach</td>\n",
       "      <td>Senegal</td>\n",
       "    </tr>\n",
       "    <tr>\n",
       "      <th>2</th>\n",
       "      <td>Raúl</td>\n",
       "      <td>28.0</td>\n",
       "      <td>Master</td>\n",
       "      <td>Spain</td>\n",
       "    </tr>\n",
       "    <tr>\n",
       "      <th>3</th>\n",
       "      <td>Bjork</td>\n",
       "      <td>30.0</td>\n",
       "      <td>PhD</td>\n",
       "      <td>Norway</td>\n",
       "    </tr>\n",
       "    <tr>\n",
       "      <th>4</th>\n",
       "      <td>Marie</td>\n",
       "      <td>NaN</td>\n",
       "      <td>NaN</td>\n",
       "      <td>NaN</td>\n",
       "    </tr>\n",
       "  </tbody>\n",
       "</table>\n",
       "</div>"
      ],
      "text/plain": [
       "     student   age     edu   country\n",
       "0       Qing  32.0    Bach  PR China\n",
       "1  Françoise  33.0    Bach   Senegal\n",
       "2       Raúl  28.0  Master     Spain\n",
       "3      Bjork  30.0     PhD    Norway\n",
       "4      Marie   NaN     NaN       NaN"
      ]
     },
     "execution_count": 40,
     "metadata": {},
     "output_type": "execute_result"
    }
   ],
   "source": [
    "#then\n",
    "students=pandas.DataFrame({key:pandas.Series(value) for key, value in classroom.items()})\n",
    "\n",
    "# seeing it:\n",
    "students"
   ]
  },
  {
   "cell_type": "markdown",
   "metadata": {
    "colab_type": "text",
    "id": "fCVvlO7OtWiP"
   },
   "source": [
    "Sometimes, Python users code like this:"
   ]
  },
  {
   "cell_type": "code",
   "execution_count": 41,
   "metadata": {
    "colab": {
     "base_uri": "https://localhost:8080/",
     "height": 202
    },
    "colab_type": "code",
    "executionInfo": {
     "elapsed": 547,
     "status": "ok",
     "timestamp": 1579892964949,
     "user": {
      "displayName": "Jose Manuel Magallanes",
      "photoUrl": "https://lh3.googleusercontent.com/a-/AAuE7mCXsJWaI0Fauk0qdvkv46Br9ZNIbhNI2_qdmZt9=s64",
      "userId": "12963200192719698170"
     },
     "user_tz": 480
    },
    "id": "ZWKRUh67tWiP",
    "outputId": "d9fb7f6c-19a4-4120-f12b-3905b1eedec6"
   },
   "outputs": [
    {
     "data": {
      "text/html": [
       "<div>\n",
       "<style scoped>\n",
       "    .dataframe tbody tr th:only-of-type {\n",
       "        vertical-align: middle;\n",
       "    }\n",
       "\n",
       "    .dataframe tbody tr th {\n",
       "        vertical-align: top;\n",
       "    }\n",
       "\n",
       "    .dataframe thead th {\n",
       "        text-align: right;\n",
       "    }\n",
       "</style>\n",
       "<table border=\"1\" class=\"dataframe\">\n",
       "  <thead>\n",
       "    <tr style=\"text-align: right;\">\n",
       "      <th></th>\n",
       "      <th>student</th>\n",
       "      <th>age</th>\n",
       "      <th>edu</th>\n",
       "      <th>country</th>\n",
       "    </tr>\n",
       "  </thead>\n",
       "  <tbody>\n",
       "    <tr>\n",
       "      <th>0</th>\n",
       "      <td>Qing</td>\n",
       "      <td>32.0</td>\n",
       "      <td>Bach</td>\n",
       "      <td>PR China</td>\n",
       "    </tr>\n",
       "    <tr>\n",
       "      <th>1</th>\n",
       "      <td>Françoise</td>\n",
       "      <td>33.0</td>\n",
       "      <td>Bach</td>\n",
       "      <td>Senegal</td>\n",
       "    </tr>\n",
       "    <tr>\n",
       "      <th>2</th>\n",
       "      <td>Raúl</td>\n",
       "      <td>28.0</td>\n",
       "      <td>Master</td>\n",
       "      <td>Spain</td>\n",
       "    </tr>\n",
       "    <tr>\n",
       "      <th>3</th>\n",
       "      <td>Bjork</td>\n",
       "      <td>30.0</td>\n",
       "      <td>PhD</td>\n",
       "      <td>Norway</td>\n",
       "    </tr>\n",
       "    <tr>\n",
       "      <th>4</th>\n",
       "      <td>Marie</td>\n",
       "      <td>NaN</td>\n",
       "      <td>NaN</td>\n",
       "      <td>NaN</td>\n",
       "    </tr>\n",
       "  </tbody>\n",
       "</table>\n",
       "</div>"
      ],
      "text/plain": [
       "     student   age     edu   country\n",
       "0       Qing  32.0    Bach  PR China\n",
       "1  Françoise  33.0    Bach   Senegal\n",
       "2       Raúl  28.0  Master     Spain\n",
       "3      Bjork  30.0     PhD    Norway\n",
       "4      Marie   NaN     NaN       NaN"
      ]
     },
     "execution_count": 41,
     "metadata": {},
     "output_type": "execute_result"
    }
   ],
   "source": [
    "import pandas as pd # renaming the library\n",
    "\n",
    "students=pd.DataFrame({key:pd.Series(value) for key, value in classroom.items()})\n",
    "students"
   ]
  },
  {
   "cell_type": "markdown",
   "metadata": {
    "colab_type": "text",
    "id": "R13g85HDtWiR"
   },
   "source": [
    "### Data frame basic operations"
   ]
  },
  {
   "cell_type": "code",
   "execution_count": 42,
   "metadata": {
    "colab": {
     "base_uri": "https://localhost:8080/",
     "height": 35
    },
    "colab_type": "code",
    "executionInfo": {
     "elapsed": 635,
     "status": "ok",
     "timestamp": 1579892971094,
     "user": {
      "displayName": "Jose Manuel Magallanes",
      "photoUrl": "https://lh3.googleusercontent.com/a-/AAuE7mCXsJWaI0Fauk0qdvkv46Br9ZNIbhNI2_qdmZt9=s64",
      "userId": "12963200192719698170"
     },
     "user_tz": 480
    },
    "id": "VRaEn3gptWiR",
    "outputId": "4cb0e251-933a-453d-b54b-5d288b5a805c"
   },
   "outputs": [
    {
     "data": {
      "text/plain": [
       "pandas.core.frame.DataFrame"
      ]
     },
     "execution_count": 42,
     "metadata": {},
     "output_type": "execute_result"
    }
   ],
   "source": [
    "# data of structure: list? tuple? dataframe?\n",
    "type(students)"
   ]
  },
  {
   "cell_type": "code",
   "execution_count": 43,
   "metadata": {
    "colab": {
     "base_uri": "https://localhost:8080/",
     "height": 104
    },
    "colab_type": "code",
    "executionInfo": {
     "elapsed": 606,
     "status": "ok",
     "timestamp": 1579892973961,
     "user": {
      "displayName": "Jose Manuel Magallanes",
      "photoUrl": "https://lh3.googleusercontent.com/a-/AAuE7mCXsJWaI0Fauk0qdvkv46Br9ZNIbhNI2_qdmZt9=s64",
      "userId": "12963200192719698170"
     },
     "user_tz": 480
    },
    "id": "G1MRSmdetWiV",
    "outputId": "e5643e94-6384-4b4f-a71d-ee3f9d5f2ddb"
   },
   "outputs": [
    {
     "data": {
      "text/plain": [
       "student     object\n",
       "age        float64\n",
       "edu         object\n",
       "country     object\n",
       "dtype: object"
      ]
     },
     "execution_count": 43,
     "metadata": {},
     "output_type": "execute_result"
    }
   ],
   "source": [
    "# type of data in data frame column\n",
    "students.dtypes"
   ]
  },
  {
   "cell_type": "code",
   "execution_count": 44,
   "metadata": {
    "colab": {
     "base_uri": "https://localhost:8080/",
     "height": 173
    },
    "colab_type": "code",
    "executionInfo": {
     "elapsed": 531,
     "status": "ok",
     "timestamp": 1579893159898,
     "user": {
      "displayName": "Jose Manuel Magallanes",
      "photoUrl": "https://lh3.googleusercontent.com/a-/AAuE7mCXsJWaI0Fauk0qdvkv46Br9ZNIbhNI2_qdmZt9=s64",
      "userId": "12963200192719698170"
     },
     "user_tz": 480
    },
    "id": "XU7LZVYitWiZ",
    "outputId": "c4833fcd-153d-4287-ca27-f66a58f25f9f"
   },
   "outputs": [
    {
     "name": "stdout",
     "output_type": "stream",
     "text": [
      "<class 'pandas.core.frame.DataFrame'>\n",
      "RangeIndex: 5 entries, 0 to 4\n",
      "Data columns (total 4 columns):\n",
      "student    5 non-null object\n",
      "age        4 non-null float64\n",
      "edu        4 non-null object\n",
      "country    4 non-null object\n",
      "dtypes: float64(1), object(3)\n",
      "memory usage: 288.0+ bytes\n"
     ]
    }
   ],
   "source": [
    "# details of data frame\n",
    "students.info()"
   ]
  },
  {
   "cell_type": "code",
   "execution_count": 45,
   "metadata": {
    "colab": {
     "base_uri": "https://localhost:8080/",
     "height": 35
    },
    "colab_type": "code",
    "executionInfo": {
     "elapsed": 624,
     "status": "ok",
     "timestamp": 1579893179289,
     "user": {
      "displayName": "Jose Manuel Magallanes",
      "photoUrl": "https://lh3.googleusercontent.com/a-/AAuE7mCXsJWaI0Fauk0qdvkv46Br9ZNIbhNI2_qdmZt9=s64",
      "userId": "12963200192719698170"
     },
     "user_tz": 480
    },
    "id": "RBT60oJvtWid",
    "outputId": "e9e4ef4b-622e-48af-9fe0-6bf1a2ffb8de"
   },
   "outputs": [
    {
     "data": {
      "text/plain": [
       "(5, 4)"
      ]
     },
     "execution_count": 45,
     "metadata": {},
     "output_type": "execute_result"
    }
   ],
   "source": [
    "# number of rows and columns\n",
    "students.shape "
   ]
  },
  {
   "cell_type": "code",
   "execution_count": 46,
   "metadata": {
    "colab": {
     "base_uri": "https://localhost:8080/",
     "height": 35
    },
    "colab_type": "code",
    "executionInfo": {
     "elapsed": 655,
     "status": "ok",
     "timestamp": 1579893185332,
     "user": {
      "displayName": "Jose Manuel Magallanes",
      "photoUrl": "https://lh3.googleusercontent.com/a-/AAuE7mCXsJWaI0Fauk0qdvkv46Br9ZNIbhNI2_qdmZt9=s64",
      "userId": "12963200192719698170"
     },
     "user_tz": 480
    },
    "id": "EaA4xitwtWif",
    "outputId": "50d4ecce-1c7d-47e9-eed9-9ce364f98fc3"
   },
   "outputs": [
    {
     "data": {
      "text/plain": [
       "5"
      ]
     },
     "execution_count": 46,
     "metadata": {},
     "output_type": "execute_result"
    }
   ],
   "source": [
    "# number of rows:\n",
    "len(students) "
   ]
  },
  {
   "cell_type": "code",
   "execution_count": 47,
   "metadata": {
    "colab": {
     "base_uri": "https://localhost:8080/",
     "height": 110
    },
    "colab_type": "code",
    "executionInfo": {
     "elapsed": 651,
     "status": "ok",
     "timestamp": 1579893214888,
     "user": {
      "displayName": "Jose Manuel Magallanes",
      "photoUrl": "https://lh3.googleusercontent.com/a-/AAuE7mCXsJWaI0Fauk0qdvkv46Br9ZNIbhNI2_qdmZt9=s64",
      "userId": "12963200192719698170"
     },
     "user_tz": 480
    },
    "id": "9Vpvd-7RtWij",
    "outputId": "4674b2bb-6dc3-43b6-fba0-ca633bac1fce"
   },
   "outputs": [
    {
     "data": {
      "text/html": [
       "<div>\n",
       "<style scoped>\n",
       "    .dataframe tbody tr th:only-of-type {\n",
       "        vertical-align: middle;\n",
       "    }\n",
       "\n",
       "    .dataframe tbody tr th {\n",
       "        vertical-align: top;\n",
       "    }\n",
       "\n",
       "    .dataframe thead th {\n",
       "        text-align: right;\n",
       "    }\n",
       "</style>\n",
       "<table border=\"1\" class=\"dataframe\">\n",
       "  <thead>\n",
       "    <tr style=\"text-align: right;\">\n",
       "      <th></th>\n",
       "      <th>student</th>\n",
       "      <th>age</th>\n",
       "      <th>edu</th>\n",
       "      <th>country</th>\n",
       "    </tr>\n",
       "  </thead>\n",
       "  <tbody>\n",
       "    <tr>\n",
       "      <th>0</th>\n",
       "      <td>Qing</td>\n",
       "      <td>32.0</td>\n",
       "      <td>Bach</td>\n",
       "      <td>PR China</td>\n",
       "    </tr>\n",
       "    <tr>\n",
       "      <th>1</th>\n",
       "      <td>Françoise</td>\n",
       "      <td>33.0</td>\n",
       "      <td>Bach</td>\n",
       "      <td>Senegal</td>\n",
       "    </tr>\n",
       "  </tbody>\n",
       "</table>\n",
       "</div>"
      ],
      "text/plain": [
       "     student   age   edu   country\n",
       "0       Qing  32.0  Bach  PR China\n",
       "1  Françoise  33.0  Bach   Senegal"
      ]
     },
     "execution_count": 47,
     "metadata": {},
     "output_type": "execute_result"
    }
   ],
   "source": [
    "# first rows\n",
    "students.head(2) # compare with: students.tail(2)"
   ]
  },
  {
   "cell_type": "code",
   "execution_count": 48,
   "metadata": {
    "colab": {
     "base_uri": "https://localhost:8080/",
     "height": 35
    },
    "colab_type": "code",
    "executionInfo": {
     "elapsed": 582,
     "status": "ok",
     "timestamp": 1579893224360,
     "user": {
      "displayName": "Jose Manuel Magallanes",
      "photoUrl": "https://lh3.googleusercontent.com/a-/AAuE7mCXsJWaI0Fauk0qdvkv46Br9ZNIbhNI2_qdmZt9=s64",
      "userId": "12963200192719698170"
     },
     "user_tz": 480
    },
    "id": "QHsnwLhgtWik",
    "outputId": "5984e684-94bc-4619-cfed-2f3b80971294"
   },
   "outputs": [
    {
     "data": {
      "text/plain": [
       "Index(['student', 'age', 'edu', 'country'], dtype='object')"
      ]
     },
     "execution_count": 48,
     "metadata": {},
     "output_type": "execute_result"
    }
   ],
   "source": [
    "# name of columns\n",
    "students.columns"
   ]
  },
  {
   "cell_type": "markdown",
   "metadata": {
    "colab_type": "text",
    "id": "PYUn1UzStWim"
   },
   "source": [
    "If you needed the column names as a list:"
   ]
  },
  {
   "cell_type": "code",
   "execution_count": 49,
   "metadata": {
    "colab": {
     "base_uri": "https://localhost:8080/",
     "height": 35
    },
    "colab_type": "code",
    "executionInfo": {
     "elapsed": 588,
     "status": "ok",
     "timestamp": 1579893266312,
     "user": {
      "displayName": "Jose Manuel Magallanes",
      "photoUrl": "https://lh3.googleusercontent.com/a-/AAuE7mCXsJWaI0Fauk0qdvkv46Br9ZNIbhNI2_qdmZt9=s64",
      "userId": "12963200192719698170"
     },
     "user_tz": 480
    },
    "id": "QVGLzxjmtWim",
    "outputId": "0977afd6-0878-4dea-f6a7-ecea50033220"
   },
   "outputs": [
    {
     "data": {
      "text/plain": [
       "['student', 'age', 'edu', 'country']"
      ]
     },
     "execution_count": 49,
     "metadata": {},
     "output_type": "execute_result"
    }
   ],
   "source": [
    "students.columns.tolist()# or simply: list(students)"
   ]
  },
  {
   "cell_type": "markdown",
   "metadata": {
    "colab_type": "text",
    "id": "ndNNVLyHtWiq"
   },
   "source": [
    "If you needed a column values as a list:"
   ]
  },
  {
   "cell_type": "code",
   "execution_count": 50,
   "metadata": {
    "colab": {
     "base_uri": "https://localhost:8080/",
     "height": 35
    },
    "colab_type": "code",
    "executionInfo": {
     "elapsed": 628,
     "status": "ok",
     "timestamp": 1579893309756,
     "user": {
      "displayName": "Jose Manuel Magallanes",
      "photoUrl": "https://lh3.googleusercontent.com/a-/AAuE7mCXsJWaI0Fauk0qdvkv46Br9ZNIbhNI2_qdmZt9=s64",
      "userId": "12963200192719698170"
     },
     "user_tz": 480
    },
    "id": "TI39yMyitWiq",
    "outputId": "d5557155-9f6b-40e9-f171-5cde124b83aa"
   },
   "outputs": [
    {
     "data": {
      "text/plain": [
       "[32.0, 33.0, 28.0, 30.0, nan]"
      ]
     },
     "execution_count": 50,
     "metadata": {},
     "output_type": "execute_result"
    }
   ],
   "source": [
    "students.age.tolist()# list(students.ages)"
   ]
  },
  {
   "cell_type": "markdown",
   "metadata": {
    "colab_type": "text",
    "id": "b9h0lXRWtWis"
   },
   "source": [
    "### Accesing elements in DF:\n",
    "\n",
    "The data frames in pandas behave much like in R:"
   ]
  },
  {
   "cell_type": "code",
   "execution_count": 51,
   "metadata": {
    "colab": {
     "base_uri": "https://localhost:8080/",
     "height": 121
    },
    "colab_type": "code",
    "executionInfo": {
     "elapsed": 756,
     "status": "ok",
     "timestamp": 1579893324093,
     "user": {
      "displayName": "Jose Manuel Magallanes",
      "photoUrl": "https://lh3.googleusercontent.com/a-/AAuE7mCXsJWaI0Fauk0qdvkv46Br9ZNIbhNI2_qdmZt9=s64",
      "userId": "12963200192719698170"
     },
     "user_tz": 480
    },
    "id": "C6sfEKkXtWit",
    "outputId": "e5aa3430-fb3f-432f-8542-76b193dc531e"
   },
   "outputs": [
    {
     "data": {
      "text/plain": [
       "0         Qing\n",
       "1    Françoise\n",
       "2         Raúl\n",
       "3        Bjork\n",
       "4        Marie\n",
       "Name: student, dtype: object"
      ]
     },
     "execution_count": 51,
     "metadata": {},
     "output_type": "execute_result"
    }
   ],
   "source": [
    "#one particular column\n",
    "students.student"
   ]
  },
  {
   "cell_type": "code",
   "execution_count": 52,
   "metadata": {
    "colab": {
     "base_uri": "https://localhost:8080/",
     "height": 121
    },
    "colab_type": "code",
    "executionInfo": {
     "elapsed": 636,
     "status": "ok",
     "timestamp": 1579893336616,
     "user": {
      "displayName": "Jose Manuel Magallanes",
      "photoUrl": "https://lh3.googleusercontent.com/a-/AAuE7mCXsJWaI0Fauk0qdvkv46Br9ZNIbhNI2_qdmZt9=s64",
      "userId": "12963200192719698170"
     },
     "user_tz": 480
    },
    "id": "3U6QFqArtWiv",
    "outputId": "78f5744e-a699-4b5f-f123-430a0e589ab7"
   },
   "outputs": [
    {
     "data": {
      "text/plain": [
       "0         Qing\n",
       "1    Françoise\n",
       "2         Raúl\n",
       "3        Bjork\n",
       "4        Marie\n",
       "Name: student, dtype: object"
      ]
     },
     "execution_count": 52,
     "metadata": {},
     "output_type": "execute_result"
    }
   ],
   "source": [
    "# or\n",
    "students['student'] "
   ]
  },
  {
   "cell_type": "code",
   "execution_count": 53,
   "metadata": {
    "colab": {
     "base_uri": "https://localhost:8080/",
     "height": 202
    },
    "colab_type": "code",
    "executionInfo": {
     "elapsed": 537,
     "status": "ok",
     "timestamp": 1579893348390,
     "user": {
      "displayName": "Jose Manuel Magallanes",
      "photoUrl": "https://lh3.googleusercontent.com/a-/AAuE7mCXsJWaI0Fauk0qdvkv46Br9ZNIbhNI2_qdmZt9=s64",
      "userId": "12963200192719698170"
     },
     "user_tz": 480
    },
    "id": "-IfqC90CtWix",
    "outputId": "08c71dab-183e-4497-cfa9-1758431d8985"
   },
   "outputs": [
    {
     "data": {
      "text/html": [
       "<div>\n",
       "<style scoped>\n",
       "    .dataframe tbody tr th:only-of-type {\n",
       "        vertical-align: middle;\n",
       "    }\n",
       "\n",
       "    .dataframe tbody tr th {\n",
       "        vertical-align: top;\n",
       "    }\n",
       "\n",
       "    .dataframe thead th {\n",
       "        text-align: right;\n",
       "    }\n",
       "</style>\n",
       "<table border=\"1\" class=\"dataframe\">\n",
       "  <thead>\n",
       "    <tr style=\"text-align: right;\">\n",
       "      <th></th>\n",
       "      <th>student</th>\n",
       "    </tr>\n",
       "  </thead>\n",
       "  <tbody>\n",
       "    <tr>\n",
       "      <th>0</th>\n",
       "      <td>Qing</td>\n",
       "    </tr>\n",
       "    <tr>\n",
       "      <th>1</th>\n",
       "      <td>Françoise</td>\n",
       "    </tr>\n",
       "    <tr>\n",
       "      <th>2</th>\n",
       "      <td>Raúl</td>\n",
       "    </tr>\n",
       "    <tr>\n",
       "      <th>3</th>\n",
       "      <td>Bjork</td>\n",
       "    </tr>\n",
       "    <tr>\n",
       "      <th>4</th>\n",
       "      <td>Marie</td>\n",
       "    </tr>\n",
       "  </tbody>\n",
       "</table>\n",
       "</div>"
      ],
      "text/plain": [
       "     student\n",
       "0       Qing\n",
       "1  Françoise\n",
       "2       Raúl\n",
       "3      Bjork\n",
       "4      Marie"
      ]
     },
     "execution_count": 53,
     "metadata": {},
     "output_type": "execute_result"
    }
   ],
   "source": [
    "# it is not the same as: \n",
    "students[['student']] # a data frame, not a column (or series)"
   ]
  },
  {
   "cell_type": "code",
   "execution_count": 54,
   "metadata": {
    "colab": {
     "base_uri": "https://localhost:8080/",
     "height": 202
    },
    "colab_type": "code",
    "executionInfo": {
     "elapsed": 566,
     "status": "ok",
     "timestamp": 1579893449952,
     "user": {
      "displayName": "Jose Manuel Magallanes",
      "photoUrl": "https://lh3.googleusercontent.com/a-/AAuE7mCXsJWaI0Fauk0qdvkv46Br9ZNIbhNI2_qdmZt9=s64",
      "userId": "12963200192719698170"
     },
     "user_tz": 480
    },
    "id": "Fr1xJM-ptWiy",
    "outputId": "be56c379-ef74-4a6e-c6c6-fb91521d0b02"
   },
   "outputs": [
    {
     "data": {
      "text/html": [
       "<div>\n",
       "<style scoped>\n",
       "    .dataframe tbody tr th:only-of-type {\n",
       "        vertical-align: middle;\n",
       "    }\n",
       "\n",
       "    .dataframe tbody tr th {\n",
       "        vertical-align: top;\n",
       "    }\n",
       "\n",
       "    .dataframe thead th {\n",
       "        text-align: right;\n",
       "    }\n",
       "</style>\n",
       "<table border=\"1\" class=\"dataframe\">\n",
       "  <thead>\n",
       "    <tr style=\"text-align: right;\">\n",
       "      <th></th>\n",
       "      <th>country</th>\n",
       "      <th>student</th>\n",
       "    </tr>\n",
       "  </thead>\n",
       "  <tbody>\n",
       "    <tr>\n",
       "      <th>0</th>\n",
       "      <td>PR China</td>\n",
       "      <td>Qing</td>\n",
       "    </tr>\n",
       "    <tr>\n",
       "      <th>1</th>\n",
       "      <td>Senegal</td>\n",
       "      <td>Françoise</td>\n",
       "    </tr>\n",
       "    <tr>\n",
       "      <th>2</th>\n",
       "      <td>Spain</td>\n",
       "      <td>Raúl</td>\n",
       "    </tr>\n",
       "    <tr>\n",
       "      <th>3</th>\n",
       "      <td>Norway</td>\n",
       "      <td>Bjork</td>\n",
       "    </tr>\n",
       "    <tr>\n",
       "      <th>4</th>\n",
       "      <td>NaN</td>\n",
       "      <td>Marie</td>\n",
       "    </tr>\n",
       "  </tbody>\n",
       "</table>\n",
       "</div>"
      ],
      "text/plain": [
       "    country    student\n",
       "0  PR China       Qing\n",
       "1   Senegal  Françoise\n",
       "2     Spain       Raúl\n",
       "3    Norway      Bjork\n",
       "4       NaN      Marie"
      ]
     },
     "execution_count": 54,
     "metadata": {},
     "output_type": "execute_result"
    }
   ],
   "source": [
    "# this is also a DF\n",
    "students[['country','student']]"
   ]
  },
  {
   "cell_type": "code",
   "execution_count": 55,
   "metadata": {
    "colab": {
     "base_uri": "https://localhost:8080/",
     "height": 202
    },
    "colab_type": "code",
    "executionInfo": {
     "elapsed": 557,
     "status": "ok",
     "timestamp": 1579893532199,
     "user": {
      "displayName": "Jose Manuel Magallanes",
      "photoUrl": "https://lh3.googleusercontent.com/a-/AAuE7mCXsJWaI0Fauk0qdvkv46Br9ZNIbhNI2_qdmZt9=s64",
      "userId": "12963200192719698170"
     },
     "user_tz": 480
    },
    "id": "VrCT9MLOtWi0",
    "outputId": "ec91baad-1049-4032-f343-a7cc6bafebdc"
   },
   "outputs": [
    {
     "data": {
      "text/html": [
       "<div>\n",
       "<style scoped>\n",
       "    .dataframe tbody tr th:only-of-type {\n",
       "        vertical-align: middle;\n",
       "    }\n",
       "\n",
       "    .dataframe tbody tr th {\n",
       "        vertical-align: top;\n",
       "    }\n",
       "\n",
       "    .dataframe thead th {\n",
       "        text-align: right;\n",
       "    }\n",
       "</style>\n",
       "<table border=\"1\" class=\"dataframe\">\n",
       "  <thead>\n",
       "    <tr style=\"text-align: right;\">\n",
       "      <th></th>\n",
       "      <th>country</th>\n",
       "      <th>student</th>\n",
       "    </tr>\n",
       "  </thead>\n",
       "  <tbody>\n",
       "    <tr>\n",
       "      <th>0</th>\n",
       "      <td>PR China</td>\n",
       "      <td>Qing</td>\n",
       "    </tr>\n",
       "    <tr>\n",
       "      <th>1</th>\n",
       "      <td>Senegal</td>\n",
       "      <td>Françoise</td>\n",
       "    </tr>\n",
       "    <tr>\n",
       "      <th>2</th>\n",
       "      <td>Spain</td>\n",
       "      <td>Raúl</td>\n",
       "    </tr>\n",
       "    <tr>\n",
       "      <th>3</th>\n",
       "      <td>Norway</td>\n",
       "      <td>Bjork</td>\n",
       "    </tr>\n",
       "    <tr>\n",
       "      <th>4</th>\n",
       "      <td>NaN</td>\n",
       "      <td>Marie</td>\n",
       "    </tr>\n",
       "  </tbody>\n",
       "</table>\n",
       "</div>"
      ],
      "text/plain": [
       "    country    student\n",
       "0  PR China       Qing\n",
       "1   Senegal  Françoise\n",
       "2     Spain       Raúl\n",
       "3    Norway      Bjork\n",
       "4       NaN      Marie"
      ]
     },
     "execution_count": 55,
     "metadata": {},
     "output_type": "execute_result"
    }
   ],
   "source": [
    "# and this, using loc:\n",
    "columnNames=['country','student']\n",
    "students.loc[:,columnNames]"
   ]
  },
  {
   "cell_type": "code",
   "execution_count": 56,
   "metadata": {
    "colab": {
     "base_uri": "https://localhost:8080/",
     "height": 202
    },
    "colab_type": "code",
    "executionInfo": {
     "elapsed": 861,
     "status": "ok",
     "timestamp": 1579893533034,
     "user": {
      "displayName": "Jose Manuel Magallanes",
      "photoUrl": "https://lh3.googleusercontent.com/a-/AAuE7mCXsJWaI0Fauk0qdvkv46Br9ZNIbhNI2_qdmZt9=s64",
      "userId": "12963200192719698170"
     },
     "user_tz": 480
    },
    "id": "CRacTQCEtWi4",
    "outputId": "5ab64b5e-3efe-4329-c1d7-bfd1ae72b069"
   },
   "outputs": [
    {
     "data": {
      "text/html": [
       "<div>\n",
       "<style scoped>\n",
       "    .dataframe tbody tr th:only-of-type {\n",
       "        vertical-align: middle;\n",
       "    }\n",
       "\n",
       "    .dataframe tbody tr th {\n",
       "        vertical-align: top;\n",
       "    }\n",
       "\n",
       "    .dataframe thead th {\n",
       "        text-align: right;\n",
       "    }\n",
       "</style>\n",
       "<table border=\"1\" class=\"dataframe\">\n",
       "  <thead>\n",
       "    <tr style=\"text-align: right;\">\n",
       "      <th></th>\n",
       "      <th>age</th>\n",
       "      <th>country</th>\n",
       "      <th>student</th>\n",
       "    </tr>\n",
       "  </thead>\n",
       "  <tbody>\n",
       "    <tr>\n",
       "      <th>0</th>\n",
       "      <td>32.0</td>\n",
       "      <td>PR China</td>\n",
       "      <td>Qing</td>\n",
       "    </tr>\n",
       "    <tr>\n",
       "      <th>1</th>\n",
       "      <td>33.0</td>\n",
       "      <td>Senegal</td>\n",
       "      <td>Françoise</td>\n",
       "    </tr>\n",
       "    <tr>\n",
       "      <th>2</th>\n",
       "      <td>28.0</td>\n",
       "      <td>Spain</td>\n",
       "      <td>Raúl</td>\n",
       "    </tr>\n",
       "    <tr>\n",
       "      <th>3</th>\n",
       "      <td>30.0</td>\n",
       "      <td>Norway</td>\n",
       "      <td>Bjork</td>\n",
       "    </tr>\n",
       "    <tr>\n",
       "      <th>4</th>\n",
       "      <td>NaN</td>\n",
       "      <td>NaN</td>\n",
       "      <td>Marie</td>\n",
       "    </tr>\n",
       "  </tbody>\n",
       "</table>\n",
       "</div>"
      ],
      "text/plain": [
       "    age   country    student\n",
       "0  32.0  PR China       Qing\n",
       "1  33.0   Senegal  Françoise\n",
       "2  28.0     Spain       Raúl\n",
       "3  30.0    Norway      Bjork\n",
       "4   NaN       NaN      Marie"
      ]
     },
     "execution_count": 56,
     "metadata": {},
     "output_type": "execute_result"
    }
   ],
   "source": [
    "## Using positions is very common:\n",
    "columnPositions=[1,3,0]\n",
    "students.iloc[:,columnPositions] "
   ]
  },
  {
   "cell_type": "markdown",
   "metadata": {
    "colab_type": "text",
    "id": "i_KtHfFgtWi6"
   },
   "source": [
    "### Changing values\n",
    "\n",
    "If you have a position, you can update values:"
   ]
  },
  {
   "cell_type": "code",
   "execution_count": 57,
   "metadata": {
    "colab": {
     "base_uri": "https://localhost:8080/",
     "height": 202
    },
    "colab_type": "code",
    "executionInfo": {
     "elapsed": 537,
     "status": "ok",
     "timestamp": 1579893559191,
     "user": {
      "displayName": "Jose Manuel Magallanes",
      "photoUrl": "https://lh3.googleusercontent.com/a-/AAuE7mCXsJWaI0Fauk0qdvkv46Br9ZNIbhNI2_qdmZt9=s64",
      "userId": "12963200192719698170"
     },
     "user_tz": 480
    },
    "id": "bSAoVzagtWi7",
    "outputId": "31ca87c7-cb16-41ca-c5c0-3e03c7c70218"
   },
   "outputs": [
    {
     "data": {
      "text/html": [
       "<div>\n",
       "<style scoped>\n",
       "    .dataframe tbody tr th:only-of-type {\n",
       "        vertical-align: middle;\n",
       "    }\n",
       "\n",
       "    .dataframe tbody tr th {\n",
       "        vertical-align: top;\n",
       "    }\n",
       "\n",
       "    .dataframe thead th {\n",
       "        text-align: right;\n",
       "    }\n",
       "</style>\n",
       "<table border=\"1\" class=\"dataframe\">\n",
       "  <thead>\n",
       "    <tr style=\"text-align: right;\">\n",
       "      <th></th>\n",
       "      <th>student</th>\n",
       "      <th>age</th>\n",
       "      <th>edu</th>\n",
       "      <th>country</th>\n",
       "    </tr>\n",
       "  </thead>\n",
       "  <tbody>\n",
       "    <tr>\n",
       "      <th>0</th>\n",
       "      <td>Qing</td>\n",
       "      <td>32.0</td>\n",
       "      <td>Bach</td>\n",
       "      <td>PR China</td>\n",
       "    </tr>\n",
       "    <tr>\n",
       "      <th>1</th>\n",
       "      <td>Françoise</td>\n",
       "      <td>33.0</td>\n",
       "      <td>Bach</td>\n",
       "      <td>Senegal</td>\n",
       "    </tr>\n",
       "    <tr>\n",
       "      <th>2</th>\n",
       "      <td>Raúl</td>\n",
       "      <td>28.0</td>\n",
       "      <td>Master</td>\n",
       "      <td>Spain</td>\n",
       "    </tr>\n",
       "    <tr>\n",
       "      <th>3</th>\n",
       "      <td>Bjork</td>\n",
       "      <td>30.0</td>\n",
       "      <td>PhD</td>\n",
       "      <td>Norway</td>\n",
       "    </tr>\n",
       "    <tr>\n",
       "      <th>4</th>\n",
       "      <td>Marie</td>\n",
       "      <td>23.0</td>\n",
       "      <td>NaN</td>\n",
       "      <td>NaN</td>\n",
       "    </tr>\n",
       "  </tbody>\n",
       "</table>\n",
       "</div>"
      ],
      "text/plain": [
       "     student   age     edu   country\n",
       "0       Qing  32.0    Bach  PR China\n",
       "1  Françoise  33.0    Bach   Senegal\n",
       "2       Raúl  28.0  Master     Spain\n",
       "3      Bjork  30.0     PhD    Norway\n",
       "4      Marie  23.0     NaN       NaN"
      ]
     },
     "execution_count": 57,
     "metadata": {},
     "output_type": "execute_result"
    }
   ],
   "source": [
    "students.iloc[4,1]=23 # change is immediate! (no warning)\n",
    "students"
   ]
  },
  {
   "cell_type": "markdown",
   "metadata": {
    "colab_type": "text",
    "id": "umb6K9uytWi8"
   },
   "source": [
    "### Deleting columns"
   ]
  },
  {
   "cell_type": "markdown",
   "metadata": {
    "colab_type": "text",
    "id": "-DZnUPrktWi9"
   },
   "source": [
    "You can modify any values in a data frame, but let me create a **deep** copy of this data frame to play with:"
   ]
  },
  {
   "cell_type": "code",
   "execution_count": 58,
   "metadata": {
    "colab": {
     "base_uri": "https://localhost:8080/",
     "height": 202
    },
    "colab_type": "code",
    "executionInfo": {
     "elapsed": 588,
     "status": "ok",
     "timestamp": 1579893605748,
     "user": {
      "displayName": "Jose Manuel Magallanes",
      "photoUrl": "https://lh3.googleusercontent.com/a-/AAuE7mCXsJWaI0Fauk0qdvkv46Br9ZNIbhNI2_qdmZt9=s64",
      "userId": "12963200192719698170"
     },
     "user_tz": 480
    },
    "id": "oyIToeDjtWi9",
    "outputId": "de5fa9d5-5068-41a4-959a-d988a8d76218"
   },
   "outputs": [
    {
     "data": {
      "text/html": [
       "<div>\n",
       "<style scoped>\n",
       "    .dataframe tbody tr th:only-of-type {\n",
       "        vertical-align: middle;\n",
       "    }\n",
       "\n",
       "    .dataframe tbody tr th {\n",
       "        vertical-align: top;\n",
       "    }\n",
       "\n",
       "    .dataframe thead th {\n",
       "        text-align: right;\n",
       "    }\n",
       "</style>\n",
       "<table border=\"1\" class=\"dataframe\">\n",
       "  <thead>\n",
       "    <tr style=\"text-align: right;\">\n",
       "      <th></th>\n",
       "      <th>student</th>\n",
       "      <th>age</th>\n",
       "      <th>edu</th>\n",
       "      <th>country</th>\n",
       "    </tr>\n",
       "  </thead>\n",
       "  <tbody>\n",
       "    <tr>\n",
       "      <th>0</th>\n",
       "      <td>Qing</td>\n",
       "      <td>32.0</td>\n",
       "      <td>Bach</td>\n",
       "      <td>PR China</td>\n",
       "    </tr>\n",
       "    <tr>\n",
       "      <th>1</th>\n",
       "      <td>Françoise</td>\n",
       "      <td>33.0</td>\n",
       "      <td>Bach</td>\n",
       "      <td>Senegal</td>\n",
       "    </tr>\n",
       "    <tr>\n",
       "      <th>2</th>\n",
       "      <td>Raúl</td>\n",
       "      <td>28.0</td>\n",
       "      <td>Master</td>\n",
       "      <td>Spain</td>\n",
       "    </tr>\n",
       "    <tr>\n",
       "      <th>3</th>\n",
       "      <td>Bjork</td>\n",
       "      <td>30.0</td>\n",
       "      <td>PhD</td>\n",
       "      <td>Norway</td>\n",
       "    </tr>\n",
       "    <tr>\n",
       "      <th>4</th>\n",
       "      <td>Marie</td>\n",
       "      <td>23.0</td>\n",
       "      <td>NaN</td>\n",
       "      <td>NaN</td>\n",
       "    </tr>\n",
       "  </tbody>\n",
       "</table>\n",
       "</div>"
      ],
      "text/plain": [
       "     student   age     edu   country\n",
       "0       Qing  32.0    Bach  PR China\n",
       "1  Françoise  33.0    Bach   Senegal\n",
       "2       Raúl  28.0  Master     Spain\n",
       "3      Bjork  30.0     PhD    Norway\n",
       "4      Marie  23.0     NaN       NaN"
      ]
     },
     "execution_count": 58,
     "metadata": {},
     "output_type": "execute_result"
    }
   ],
   "source": [
    "studentsCopy=students.copy()\n",
    "studentsCopy"
   ]
  },
  {
   "cell_type": "code",
   "execution_count": 59,
   "metadata": {
    "colab": {
     "base_uri": "https://localhost:8080/",
     "height": 202
    },
    "colab_type": "code",
    "executionInfo": {
     "elapsed": 782,
     "status": "ok",
     "timestamp": 1579893608687,
     "user": {
      "displayName": "Jose Manuel Magallanes",
      "photoUrl": "https://lh3.googleusercontent.com/a-/AAuE7mCXsJWaI0Fauk0qdvkv46Br9ZNIbhNI2_qdmZt9=s64",
      "userId": "12963200192719698170"
     },
     "user_tz": 480
    },
    "id": "f5wrE0oNtWi_",
    "outputId": "b6be0618-98ee-422c-f6e3-fc7be131d088"
   },
   "outputs": [
    {
     "data": {
      "text/html": [
       "<div>\n",
       "<style scoped>\n",
       "    .dataframe tbody tr th:only-of-type {\n",
       "        vertical-align: middle;\n",
       "    }\n",
       "\n",
       "    .dataframe tbody tr th {\n",
       "        vertical-align: top;\n",
       "    }\n",
       "\n",
       "    .dataframe thead th {\n",
       "        text-align: right;\n",
       "    }\n",
       "</style>\n",
       "<table border=\"1\" class=\"dataframe\">\n",
       "  <thead>\n",
       "    <tr style=\"text-align: right;\">\n",
       "      <th></th>\n",
       "      <th>student</th>\n",
       "      <th>age</th>\n",
       "      <th>country</th>\n",
       "    </tr>\n",
       "  </thead>\n",
       "  <tbody>\n",
       "    <tr>\n",
       "      <th>0</th>\n",
       "      <td>Qing</td>\n",
       "      <td>32.0</td>\n",
       "      <td>PR China</td>\n",
       "    </tr>\n",
       "    <tr>\n",
       "      <th>1</th>\n",
       "      <td>Françoise</td>\n",
       "      <td>33.0</td>\n",
       "      <td>Senegal</td>\n",
       "    </tr>\n",
       "    <tr>\n",
       "      <th>2</th>\n",
       "      <td>Raúl</td>\n",
       "      <td>28.0</td>\n",
       "      <td>Spain</td>\n",
       "    </tr>\n",
       "    <tr>\n",
       "      <th>3</th>\n",
       "      <td>Bjork</td>\n",
       "      <td>30.0</td>\n",
       "      <td>Norway</td>\n",
       "    </tr>\n",
       "    <tr>\n",
       "      <th>4</th>\n",
       "      <td>Marie</td>\n",
       "      <td>23.0</td>\n",
       "      <td>NaN</td>\n",
       "    </tr>\n",
       "  </tbody>\n",
       "</table>\n",
       "</div>"
      ],
      "text/plain": [
       "     student   age   country\n",
       "0       Qing  32.0  PR China\n",
       "1  Françoise  33.0   Senegal\n",
       "2       Raúl  28.0     Spain\n",
       "3      Bjork  30.0    Norway\n",
       "4      Marie  23.0       NaN"
      ]
     },
     "execution_count": 59,
     "metadata": {},
     "output_type": "execute_result"
    }
   ],
   "source": [
    "# This is what you want get rid of:\n",
    "byeColumns=['edu'] # you can delete more than one\n",
    "\n",
    "#this is the result\n",
    "studentsCopy.drop(columns=byeColumns)"
   ]
  },
  {
   "cell_type": "markdown",
   "metadata": {
    "colab_type": "text",
    "id": "EfRVv6eItWjA"
   },
   "source": [
    "Notice you do not have saved the previous result:"
   ]
  },
  {
   "cell_type": "code",
   "execution_count": 76,
   "metadata": {
    "colab": {
     "base_uri": "https://localhost:8080/",
     "height": 202
    },
    "colab_type": "code",
    "executionInfo": {
     "elapsed": 639,
     "status": "ok",
     "timestamp": 1579893747651,
     "user": {
      "displayName": "Jose Manuel Magallanes",
      "photoUrl": "https://lh3.googleusercontent.com/a-/AAuE7mCXsJWaI0Fauk0qdvkv46Br9ZNIbhNI2_qdmZt9=s64",
      "userId": "12963200192719698170"
     },
     "user_tz": 480
    },
    "id": "6dRLOcYBtWjB",
    "outputId": "f133e83a-8d95-4dbc-d002-7166a77056fa"
   },
   "outputs": [
    {
     "data": {
      "text/html": [
       "<div>\n",
       "<style scoped>\n",
       "    .dataframe tbody tr th:only-of-type {\n",
       "        vertical-align: middle;\n",
       "    }\n",
       "\n",
       "    .dataframe tbody tr th {\n",
       "        vertical-align: top;\n",
       "    }\n",
       "\n",
       "    .dataframe thead th {\n",
       "        text-align: right;\n",
       "    }\n",
       "</style>\n",
       "<table border=\"1\" class=\"dataframe\">\n",
       "  <thead>\n",
       "    <tr style=\"text-align: right;\">\n",
       "      <th></th>\n",
       "      <th>student</th>\n",
       "      <th>age</th>\n",
       "      <th>edu</th>\n",
       "      <th>country</th>\n",
       "    </tr>\n",
       "  </thead>\n",
       "  <tbody>\n",
       "    <tr>\n",
       "      <th>0</th>\n",
       "      <td>Qing</td>\n",
       "      <td>32.0</td>\n",
       "      <td>Bach</td>\n",
       "      <td>PR China</td>\n",
       "    </tr>\n",
       "    <tr>\n",
       "      <th>1</th>\n",
       "      <td>Françoise</td>\n",
       "      <td>33.0</td>\n",
       "      <td>Bach</td>\n",
       "      <td>Senegal</td>\n",
       "    </tr>\n",
       "    <tr>\n",
       "      <th>2</th>\n",
       "      <td>Raúl</td>\n",
       "      <td>28.0</td>\n",
       "      <td>Master</td>\n",
       "      <td>Spain</td>\n",
       "    </tr>\n",
       "    <tr>\n",
       "      <th>3</th>\n",
       "      <td>Bjork</td>\n",
       "      <td>30.0</td>\n",
       "      <td>PhD</td>\n",
       "      <td>Norway</td>\n",
       "    </tr>\n",
       "    <tr>\n",
       "      <th>4</th>\n",
       "      <td>Marie</td>\n",
       "      <td>23.0</td>\n",
       "      <td>NaN</td>\n",
       "      <td>NaN</td>\n",
       "    </tr>\n",
       "  </tbody>\n",
       "</table>\n",
       "</div>"
      ],
      "text/plain": [
       "     student   age     edu   country\n",
       "0       Qing  32.0    Bach  PR China\n",
       "1  Françoise  33.0    Bach   Senegal\n",
       "2       Raúl  28.0  Master     Spain\n",
       "3      Bjork  30.0     PhD    Norway\n",
       "4      Marie  23.0     NaN       NaN"
      ]
     },
     "execution_count": 76,
     "metadata": {
      "tags": []
     },
     "output_type": "execute_result"
    }
   ],
   "source": [
    "studentsCopy"
   ]
  },
  {
   "cell_type": "code",
   "execution_count": null,
   "metadata": {
    "colab": {},
    "colab_type": "code",
    "id": "eBFWu77ctWjE"
   },
   "outputs": [],
   "source": [
    "#NOW we do\n",
    "studentsCopy.drop(columns=byeColumns,inplace=True)"
   ]
  },
  {
   "cell_type": "code",
   "execution_count": 78,
   "metadata": {
    "colab": {
     "base_uri": "https://localhost:8080/",
     "height": 202
    },
    "colab_type": "code",
    "executionInfo": {
     "elapsed": 518,
     "status": "ok",
     "timestamp": 1579893774708,
     "user": {
      "displayName": "Jose Manuel Magallanes",
      "photoUrl": "https://lh3.googleusercontent.com/a-/AAuE7mCXsJWaI0Fauk0qdvkv46Br9ZNIbhNI2_qdmZt9=s64",
      "userId": "12963200192719698170"
     },
     "user_tz": 480
    },
    "id": "SFOLaDyotWjF",
    "outputId": "cd02ae03-9ff3-49c1-e5b7-988abfda0bd5"
   },
   "outputs": [
    {
     "data": {
      "text/html": [
       "<div>\n",
       "<style scoped>\n",
       "    .dataframe tbody tr th:only-of-type {\n",
       "        vertical-align: middle;\n",
       "    }\n",
       "\n",
       "    .dataframe tbody tr th {\n",
       "        vertical-align: top;\n",
       "    }\n",
       "\n",
       "    .dataframe thead th {\n",
       "        text-align: right;\n",
       "    }\n",
       "</style>\n",
       "<table border=\"1\" class=\"dataframe\">\n",
       "  <thead>\n",
       "    <tr style=\"text-align: right;\">\n",
       "      <th></th>\n",
       "      <th>student</th>\n",
       "      <th>age</th>\n",
       "      <th>country</th>\n",
       "    </tr>\n",
       "  </thead>\n",
       "  <tbody>\n",
       "    <tr>\n",
       "      <th>0</th>\n",
       "      <td>Qing</td>\n",
       "      <td>32.0</td>\n",
       "      <td>PR China</td>\n",
       "    </tr>\n",
       "    <tr>\n",
       "      <th>1</th>\n",
       "      <td>Françoise</td>\n",
       "      <td>33.0</td>\n",
       "      <td>Senegal</td>\n",
       "    </tr>\n",
       "    <tr>\n",
       "      <th>2</th>\n",
       "      <td>Raúl</td>\n",
       "      <td>28.0</td>\n",
       "      <td>Spain</td>\n",
       "    </tr>\n",
       "    <tr>\n",
       "      <th>3</th>\n",
       "      <td>Bjork</td>\n",
       "      <td>30.0</td>\n",
       "      <td>Norway</td>\n",
       "    </tr>\n",
       "    <tr>\n",
       "      <th>4</th>\n",
       "      <td>Marie</td>\n",
       "      <td>23.0</td>\n",
       "      <td>NaN</td>\n",
       "    </tr>\n",
       "  </tbody>\n",
       "</table>\n",
       "</div>"
      ],
      "text/plain": [
       "     student   age   country\n",
       "0       Qing  32.0  PR China\n",
       "1  Françoise  33.0   Senegal\n",
       "2       Raúl  28.0     Spain\n",
       "3      Bjork  30.0    Norway\n",
       "4      Marie  23.0       NaN"
      ]
     },
     "execution_count": 78,
     "metadata": {
      "tags": []
     },
     "output_type": "execute_result"
    }
   ],
   "source": [
    "#then:\n",
    "studentsCopy"
   ]
  },
  {
   "cell_type": "markdown",
   "metadata": {
    "colab_type": "text",
    "id": "kNZPGMXCtWjH"
   },
   "source": [
    "### Deleting a row\n",
    "\n",
    "Let me delete a row:"
   ]
  },
  {
   "cell_type": "code",
   "execution_count": 79,
   "metadata": {
    "colab": {
     "base_uri": "https://localhost:8080/",
     "height": 171
    },
    "colab_type": "code",
    "executionInfo": {
     "elapsed": 966,
     "status": "ok",
     "timestamp": 1579893882318,
     "user": {
      "displayName": "Jose Manuel Magallanes",
      "photoUrl": "https://lh3.googleusercontent.com/a-/AAuE7mCXsJWaI0Fauk0qdvkv46Br9ZNIbhNI2_qdmZt9=s64",
      "userId": "12963200192719698170"
     },
     "user_tz": 480
    },
    "id": "z-DeQOPatWjH",
    "outputId": "3905266e-02ad-4661-89dd-d041ab51eaad"
   },
   "outputs": [
    {
     "data": {
      "text/html": [
       "<div>\n",
       "<style scoped>\n",
       "    .dataframe tbody tr th:only-of-type {\n",
       "        vertical-align: middle;\n",
       "    }\n",
       "\n",
       "    .dataframe tbody tr th {\n",
       "        vertical-align: top;\n",
       "    }\n",
       "\n",
       "    .dataframe thead th {\n",
       "        text-align: right;\n",
       "    }\n",
       "</style>\n",
       "<table border=\"1\" class=\"dataframe\">\n",
       "  <thead>\n",
       "    <tr style=\"text-align: right;\">\n",
       "      <th></th>\n",
       "      <th>student</th>\n",
       "      <th>age</th>\n",
       "      <th>country</th>\n",
       "    </tr>\n",
       "  </thead>\n",
       "  <tbody>\n",
       "    <tr>\n",
       "      <th>0</th>\n",
       "      <td>Qing</td>\n",
       "      <td>32.0</td>\n",
       "      <td>PR China</td>\n",
       "    </tr>\n",
       "    <tr>\n",
       "      <th>1</th>\n",
       "      <td>Françoise</td>\n",
       "      <td>33.0</td>\n",
       "      <td>Senegal</td>\n",
       "    </tr>\n",
       "    <tr>\n",
       "      <th>3</th>\n",
       "      <td>Bjork</td>\n",
       "      <td>30.0</td>\n",
       "      <td>Norway</td>\n",
       "    </tr>\n",
       "    <tr>\n",
       "      <th>4</th>\n",
       "      <td>Marie</td>\n",
       "      <td>23.0</td>\n",
       "      <td>NaN</td>\n",
       "    </tr>\n",
       "  </tbody>\n",
       "</table>\n",
       "</div>"
      ],
      "text/plain": [
       "     student   age   country\n",
       "0       Qing  32.0  PR China\n",
       "1  Françoise  33.0   Senegal\n",
       "3      Bjork  30.0    Norway\n",
       "4      Marie  23.0       NaN"
      ]
     },
     "execution_count": 79,
     "metadata": {
      "tags": []
     },
     "output_type": "execute_result"
    }
   ],
   "source": [
    "# axis 0 is delete by row\n",
    "studentsCopy.drop(index=2,inplace=True) \n",
    "studentsCopy"
   ]
  },
  {
   "cell_type": "markdown",
   "metadata": {
    "colab_type": "text",
    "id": "F_CZVds5tWjJ"
   },
   "source": [
    "As you see, the index dissapeared. Then, you should reset the indexes:"
   ]
  },
  {
   "cell_type": "code",
   "execution_count": 80,
   "metadata": {
    "colab": {
     "base_uri": "https://localhost:8080/",
     "height": 171
    },
    "colab_type": "code",
    "executionInfo": {
     "elapsed": 851,
     "status": "ok",
     "timestamp": 1579893923280,
     "user": {
      "displayName": "Jose Manuel Magallanes",
      "photoUrl": "https://lh3.googleusercontent.com/a-/AAuE7mCXsJWaI0Fauk0qdvkv46Br9ZNIbhNI2_qdmZt9=s64",
      "userId": "12963200192719698170"
     },
     "user_tz": 480
    },
    "id": "6jfrFl1LtWjJ",
    "outputId": "ad9c1169-b5c3-491b-bbec-97343335830e"
   },
   "outputs": [
    {
     "data": {
      "text/html": [
       "<div>\n",
       "<style scoped>\n",
       "    .dataframe tbody tr th:only-of-type {\n",
       "        vertical-align: middle;\n",
       "    }\n",
       "\n",
       "    .dataframe tbody tr th {\n",
       "        vertical-align: top;\n",
       "    }\n",
       "\n",
       "    .dataframe thead th {\n",
       "        text-align: right;\n",
       "    }\n",
       "</style>\n",
       "<table border=\"1\" class=\"dataframe\">\n",
       "  <thead>\n",
       "    <tr style=\"text-align: right;\">\n",
       "      <th></th>\n",
       "      <th>student</th>\n",
       "      <th>age</th>\n",
       "      <th>country</th>\n",
       "    </tr>\n",
       "  </thead>\n",
       "  <tbody>\n",
       "    <tr>\n",
       "      <th>0</th>\n",
       "      <td>Qing</td>\n",
       "      <td>32.0</td>\n",
       "      <td>PR China</td>\n",
       "    </tr>\n",
       "    <tr>\n",
       "      <th>1</th>\n",
       "      <td>Françoise</td>\n",
       "      <td>33.0</td>\n",
       "      <td>Senegal</td>\n",
       "    </tr>\n",
       "    <tr>\n",
       "      <th>2</th>\n",
       "      <td>Bjork</td>\n",
       "      <td>30.0</td>\n",
       "      <td>Norway</td>\n",
       "    </tr>\n",
       "    <tr>\n",
       "      <th>3</th>\n",
       "      <td>Marie</td>\n",
       "      <td>23.0</td>\n",
       "      <td>NaN</td>\n",
       "    </tr>\n",
       "  </tbody>\n",
       "</table>\n",
       "</div>"
      ],
      "text/plain": [
       "     student   age   country\n",
       "0       Qing  32.0  PR China\n",
       "1  Françoise  33.0   Senegal\n",
       "2      Bjork  30.0    Norway\n",
       "3      Marie  23.0       NaN"
      ]
     },
     "execution_count": 80,
     "metadata": {
      "tags": []
     },
     "output_type": "execute_result"
    }
   ],
   "source": [
    "studentsCopy.reset_index(drop=True,inplace=True)\n",
    "studentsCopy"
   ]
  },
  {
   "cell_type": "markdown",
   "metadata": {
    "colab_type": "text",
    "id": "WWxHlJ3wtWjL"
   },
   "source": [
    "----\n",
    "_____\n",
    "\n",
    "<a id='part2'></a>\n",
    "\n",
    "\n",
    "## 2.  Data Pre processing"
   ]
  },
  {
   "cell_type": "markdown",
   "metadata": {
    "colab_type": "text",
    "id": "BaiuikVCtWjM"
   },
   "source": [
    "<a id='beginning'></a>\n",
    "\n",
    "Preprocessing includes three stages:\n",
    "\n",
    "1. **Cleaning**: Cleaning requires that every cell has the right value, and that the dataframe has only the contents needed. Having a clean data frame means:\n",
    "\n",
    "    a. Verify that headers are well read, well written and are at the top of data frame.\n",
    "\n",
    "    b. Verify that the last lines of the data frame are just data.\n",
    "\n",
    "    c. Verify that every row speaks of the unit of analysis.\n",
    "\n",
    "    d. Verify that each cell has a category or a number well written.\n",
    "    <br>\n",
    "    \n",
    "2. **Formatting**: Formatting requires that the clean values are coded in the rigth data type:\n",
    "\n",
    "    a. Categorical: Ordinal or Nominal.\n",
    "    \n",
    "    b. Numerical.\n",
    "    \n",
    "    c. Text.\n",
    "    \n",
    "    d. Date.\n",
    "    \n",
    "    It also requires that the data frame has the rigth shape.\n",
    "    \n",
    "    <br>\n",
    "    \n",
    "3. **Integrating and Saving**: It is process of combining several dataframes in one, and saving it into a file that can be the input of future processes."
   ]
  },
  {
   "cell_type": "markdown",
   "metadata": {
    "colab_type": "text",
    "id": "Ky7kjLsUtWjM"
   },
   "source": [
    "\n",
    "<a id='part2'></a>\n",
    "\n",
    "## Cleaning"
   ]
  },
  {
   "cell_type": "markdown",
   "metadata": {
    "colab_type": "text",
    "id": "d4ztWB55tWjO"
   },
   "source": [
    "Cleaning requires that every cell has the right value, and that the dataframe has only the contents needed."
   ]
  },
  {
   "cell_type": "markdown",
   "metadata": {
    "colab_type": "text",
    "id": "fx8MT9P7tWjO"
   },
   "source": []
  },
  {
   "cell_type": "markdown",
   "metadata": {
    "colab_type": "text",
    "id": "fSNJ0TJstWjP"
   },
   "source": [
    "## Exercise 1:\n",
    "\n",
    "* Go to this [website](http://hdr.undp.org/en/content/table-1-human-development-index-and-its-components-1) and download the CSV file about Human Develeopment Index and its components.\n",
    "* Go to your gmail account and create a new GoogleSheet.\n",
    "* Import the file into the GoogleSheet.\n",
    "* Make sure commas do not appear in thousands.\n",
    "* Create a CSV link to that data from Google.\n",
    "* Make a plan to have a clean data frame.\n",
    "* Execute the plan in Python.\n",
    "* Give data the rigth format.\n",
    "\n",
    "\n",
    "## Exercise 2:\n",
    "\n",
    "* Go to this [website](https://en.wikipedia.org/wiki/Democracy_Index) and scrape the table with all the countries.\n",
    "* Verify the data type returned.\n",
    "* Make a plan to have a clean data collected.\n",
    "* Execute the plan in Python.\n",
    "* Give data the rigth format.\n",
    "\n",
    "## Exercise 3:\n",
    "* Integrate those data frames into one, and save it for R."
   ]
  }
 ],
 "metadata": {
  "anaconda-cloud": {
   "attach-environment": true,
   "summary": "test"
  },
  "colab": {
   "name": "introPythonInteractive.ipynb",
   "provenance": [
    {
     "file_id": "https://github.com/eScienceUW-WinterSchool-2020/PythonSession/blob/master/introPython.ipynb",
     "timestamp": 1579838731668
    }
   ]
  },
  "hide_input": false,
  "kernelspec": {
   "display_name": "Python 3",
   "language": "python",
   "name": "python3"
  },
  "language_info": {
   "codemirror_mode": {
    "name": "ipython",
    "version": 3
   },
   "file_extension": ".py",
   "mimetype": "text/x-python",
   "name": "python",
   "nbconvert_exporter": "python",
   "pygments_lexer": "ipython3",
   "version": "3.7.2"
  }
 },
 "nbformat": 4,
 "nbformat_minor": 2
}
